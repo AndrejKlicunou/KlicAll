{
 "cells": [
  {
   "cell_type": "markdown",
   "metadata": {},
   "source": [
    "# Стандарт Unicode\n",
    "Автоматическая обработка текстов - 2017, семинар 1"
   ]
  },
  {
   "cell_type": "markdown",
   "metadata": {},
   "source": [
    "## Unicode"
   ]
  },
  {
   "cell_type": "markdown",
   "metadata": {},
   "source": [
    "У каждого символа в Unicode есть свойства (property), которые могут сообщить нам много полезной информации о символе. Попробуем с ними немного поиграться.\n",
    "\n",
    "1. Определите, к какой категории относятся цифры в различных письменностях.\n",
    "2. Найдите их все, сохраните в словарь {character: value} и выведите на экран.\n",
    "3. Напишите функцию, распознающую числа, состоящие из цифр различных письменностей, и распознайте **8٥۵९७੩૧**."
   ]
  },
  {
   "cell_type": "code",
   "execution_count": 8,
   "metadata": {
    "scrolled": true
   },
   "outputs": [
    {
     "name": "stdout",
     "output_type": "stream",
     "text": [
      "8559731\n"
     ]
    }
   ],
   "source": [
    "import unicodedata\n",
    "\n",
    "### YOUR CODE HERE\n",
    "# Print different digits in this section and create dictionary\n",
    "mapping = {}\n",
    "### END YOUR CODE\n",
    "\n",
    "def decode_digits(string):\n",
    "    result = []\n",
    "    for i in string:\n",
    "        result.append(str(unicodedata.digit(i)))\n",
    "    return ''.join(result)\n",
    "    ### YOUR CODE HERE\n",
    "#    return ''\n",
    "    ### END YOUR CODE\n",
    "\n",
    "print(decode_digits('8٥۵९७੩૧'))"
   ]
  },
  {
   "cell_type": "code",
   "execution_count": null,
   "metadata": {
    "collapsed": true
   },
   "outputs": [],
   "source": []
  },
  {
   "cell_type": "code",
   "execution_count": 35,
   "metadata": {},
   "outputs": [
    {
     "name": "stdout",
     "output_type": "stream",
     "text": [
      "FULL STOP\n"
     ]
    }
   ],
   "source": []
  },
  {
   "cell_type": "code",
   "execution_count": null,
   "metadata": {
    "collapsed": true
   },
   "outputs": [],
   "source": []
  },
  {
   "cell_type": "code",
   "execution_count": null,
   "metadata": {
    "collapsed": true
   },
   "outputs": [],
   "source": []
  },
  {
   "cell_type": "markdown",
   "metadata": {},
   "source": [
    "Поработаем с арабским алфавитом. Возможно, для этого вам понадобится знать хотя бы одну арабскую букву. К примеру, возьмем следующую **ع**.\n",
    "\n",
    "1. Напишите функцию, находящую все арабские буквы с огласовками и без.  \n",
    "_Подсказка_: воспользуйтесь функцией name.\n",
    "2. Напишите функцию, находящую все арабские буквы без огласовок (обычно в name, когда буква с огласовкой, пишут \"WITH ...\")."
   ]
  },
  {
   "cell_type": "code",
   "execution_count": null,
   "metadata": {
    "collapsed": true
   },
   "outputs": [],
   "source": [
    "print()"
   ]
  },
  {
   "cell_type": "code",
   "execution_count": 48,
   "metadata": {},
   "outputs": [],
   "source": [
    "def get_arabic_letters():\n",
    "    arabic_letters = []\n",
    "    for i in range(0x110000):\n",
    "        name = unicodedata.name(chr(i), None)\n",
    "        if name is not None and name.startswith('ARABIC LETTER'):\n",
    "            arabic_letters.append(chr(i))\n",
    "    return arabic_letters\n",
    "\n",
    "def get_clean_arabic_letters():\n",
    "    clean_arabic_letters = []\n",
    "    for i in range(0x110000):\n",
    "        name = unicodedata.name(chr(i), None)\n",
    "        if name is not None and name.startswith('ARABIC LETTER'):\n",
    "            words = name.split(' ')\n",
    "            if not 'WITH' in words:\n",
    "                clean_arabic_letters.append(chr(i))\n",
    "    return clean_arabic_letters"
   ]
  },
  {
   "cell_type": "code",
   "execution_count": 50,
   "metadata": {},
   "outputs": [
    {
     "name": "stdout",
     "output_type": "stream",
     "text": [
      "309\n"
     ]
    }
   ],
   "source": [
    "x = len(get_clean_arabic_letters())\n",
    "print(x)"
   ]
  },
  {
   "cell_type": "code",
   "execution_count": 43,
   "metadata": {},
   "outputs": [
    {
     "name": "stdout",
     "output_type": "stream",
     "text": [
      "463\n"
     ]
    }
   ],
   "source": []
  },
  {
   "cell_type": "code",
   "execution_count": null,
   "metadata": {
    "collapsed": true
   },
   "outputs": [],
   "source": []
  },
  {
   "cell_type": "code",
   "execution_count": null,
   "metadata": {
    "collapsed": true
   },
   "outputs": [],
   "source": []
  },
  {
   "cell_type": "markdown",
   "metadata": {},
   "source": [
    "Попробуйте нормализовать арабские символы при помощью различных нормализаторов и проверьте, склеются ли какие-нибудь символы, или нет?"
   ]
  },
  {
   "cell_type": "code",
   "execution_count": null,
   "metadata": {},
   "outputs": [],
   "source": [
    "### YOUR CODE HERE\n",
    "\n",
    "### END YOUR CODE"
   ]
  },
  {
   "cell_type": "markdown",
   "metadata": {},
   "source": [
    "Напишите функцию по удалению диакритики из текста."
   ]
  },
  {
   "cell_type": "code",
   "execution_count": 52,
   "metadata": {},
   "outputs": [
    {
     "name": "stdout",
     "output_type": "stream",
     "text": [
      "Клевыи иетти разжег костер из березы, елки и клена.\n"
     ]
    }
   ],
   "source": [
    "sent = 'Клёвый йетти разжёг костёр из берёзы, ёлки и клёна.'\n",
    "\n",
    "def delete_diacritic(sent):\n",
    "    result = []\n",
    "    for i in sent:\n",
    "        result.append(unicodedata.normalize('NFD', i)[0])\n",
    "    return ''.join(result)\n",
    "    ### END YOUR CODE\n",
    "\n",
    "print(delete_diacritic(sent))"
   ]
  },
  {
   "cell_type": "markdown",
   "metadata": {},
   "source": [
    "## Как сдавать\n",
    "\n",
    "В Яндекс.Контест вам нужно будет сдать файл ***.py**, в котором будут функции *decode_digits*, *get_arabic_letters*, *get_clean_arabic_letters* и *delete_diacritic*.\n",
    "\n",
    "В контесте будет три теста: на распознавание цифр, на арабские буквы и на снятие диакритики."
   ]
  }
 ],
 "metadata": {
  "kernelspec": {
   "display_name": "Python 3",
   "language": "python",
   "name": "python3"
  },
  "language_info": {
   "codemirror_mode": {
    "name": "ipython",
    "version": 3
   },
   "file_extension": ".py",
   "mimetype": "text/x-python",
   "name": "python",
   "nbconvert_exporter": "python",
   "pygments_lexer": "ipython3",
   "version": "3.5.2"
  }
 },
 "nbformat": 4,
 "nbformat_minor": 1
}

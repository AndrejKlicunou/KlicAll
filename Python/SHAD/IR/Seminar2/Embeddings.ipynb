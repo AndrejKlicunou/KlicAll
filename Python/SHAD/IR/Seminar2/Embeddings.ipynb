{
 "cells": [
  {
   "cell_type": "markdown",
   "metadata": {},
   "source": [
    "**Сначала на основе обучающей выборки строятся эмбеддинги, используя fasttext. Для каждого названия организации строится один вектор, равный сумме эмбеддингов слов, из которых состоит название. Каждому роду занятий ставится в соответствие номер, который и должна предсказывать модель. Т.е. получаем задачу, где вектор признаков объекта - его эмбеддинг, а метка класса - номер рода деятельности. Названия родов деятельности добавлены о обучающую выборку. По обучающей выборке обучаем knn c k=5, полученная модель делает предсказание.**"
   ]
  },
  {
   "cell_type": "code",
   "execution_count": 1,
   "metadata": {},
   "outputs": [],
   "source": [
    "file = open('names_and_rubrics_learn.tsv', 'r')\n",
    "train = [line.strip().split('\\t') for line in file]\n",
    "file.close()"
   ]
  },
  {
   "cell_type": "code",
   "execution_count": 2,
   "metadata": {},
   "outputs": [],
   "source": [
    "import fasttext"
   ]
  },
  {
   "cell_type": "code",
   "execution_count": 3,
   "metadata": {},
   "outputs": [],
   "source": [
    "#model = fasttext.skipgram('names_and_rubrics_learn.tsv', 'model')\n",
    "model = fasttext.load_model('model.bin')"
   ]
  },
  {
   "cell_type": "code",
   "execution_count": 4,
   "metadata": {},
   "outputs": [],
   "source": [
    "file2 = open('names_and_rubrics_test_no_rubric.tsv', 'r')\n",
    "test = [line.strip() for line in file2]\n",
    "file2.close()"
   ]
  },
  {
   "cell_type": "code",
   "execution_count": 7,
   "metadata": {},
   "outputs": [],
   "source": [
    "import numpy as np"
   ]
  },
  {
   "cell_type": "code",
   "execution_count": 8,
   "metadata": {},
   "outputs": [],
   "source": [
    "from collections import defaultdict\n",
    "rubric_id = defaultdict()\n",
    "id_rubric = defaultdict()\n",
    "id_ = 0\n",
    "for i in range(len(train)):\n",
    "    if train[i][1] not in rubric_id:\n",
    "        rubric_id[train[i][1]] = id_\n",
    "        id_rubric[id_] = train[i][1]\n",
    "        id_ += 1"
   ]
  },
  {
   "cell_type": "code",
   "execution_count": 9,
   "metadata": {},
   "outputs": [],
   "source": [
    "train_X = np.zeros((len(train) + len(rubric_id), len(model['hello'])))"
   ]
  },
  {
   "cell_type": "code",
   "execution_count": 10,
   "metadata": {},
   "outputs": [],
   "source": [
    "for i in range(len(train)):\n",
    "    x_words = train[i][0].split(' ')\n",
    "    for x_w in x_words:\n",
    "        train_X[i, :] += np.array(model[x_w])\n",
    "for i in range(len(id_rubric)):\n",
    "    x_words = id_rubric[i].split(' ')\n",
    "    for x_w in x_words:\n",
    "        train_X[i + len(train), :] += np.array(model[x_w])"
   ]
  },
  {
   "cell_type": "code",
   "execution_count": 11,
   "metadata": {},
   "outputs": [],
   "source": [
    "test_X = np.zeros((len(test), len(model['hello'])))\n",
    "for i in range(len(test)):\n",
    "    test_words = test[i].split(' ')\n",
    "    for x_w in test_words:\n",
    "        test_X[i, :] += np.array(model[x_w])"
   ]
  },
  {
   "cell_type": "code",
   "execution_count": 12,
   "metadata": {},
   "outputs": [],
   "source": [
    "train_y = np.zeros(len(train) + len(id_rubric), dtype='int')\n",
    "for i in range(len(train)):\n",
    "    train_y[i] = rubric_id[train[i][1]]\n",
    "for i in range(len(id_rubric)):\n",
    "    train_y[i + len(train)] = i"
   ]
  },
  {
   "cell_type": "code",
   "execution_count": 13,
   "metadata": {},
   "outputs": [],
   "source": [
    "import xgboost\n",
    "from sklearn.ensemble import RandomForestClassifier, AdaBoostClassifier\n",
    "\n",
    "from sklearn.neighbors import KNeighborsClassifier\n",
    "\n",
    "clf = KNeighborsClassifier(n_jobs = -1)\n",
    "#clf = xgboost.XGBClassifier(n_jobs=-1)\n",
    "#clf = RandomForestClassifier(n_estimators=100, max_depth = 5, verbose=2, n_jobs=-1)\n",
    "#clf = AdaBoostClassifier(n_estimators=5)"
   ]
  },
  {
   "cell_type": "code",
   "execution_count": 14,
   "metadata": {},
   "outputs": [],
   "source": [
    "del model\n",
    "del test\n",
    "del train"
   ]
  },
  {
   "cell_type": "code",
   "execution_count": 15,
   "metadata": {},
   "outputs": [
    {
     "data": {
      "text/plain": [
       "KNeighborsClassifier(algorithm='auto', leaf_size=30, metric='minkowski',\n",
       "           metric_params=None, n_jobs=-1, n_neighbors=5, p=2,\n",
       "           weights='uniform')"
      ]
     },
     "execution_count": 15,
     "metadata": {},
     "output_type": "execute_result"
    }
   ],
   "source": [
    "clf.fit(train_X, train_y)"
   ]
  },
  {
   "cell_type": "code",
   "execution_count": 16,
   "metadata": {},
   "outputs": [],
   "source": [
    "pred = clf.predict(test_X)\n",
    "out = open('prediction.tsv', 'w')\n",
    "for i in pred:\n",
    "    out.write(id_rubric[i] + '\\n')\n",
    "out.close()"
   ]
  },
  {
   "cell_type": "code",
   "execution_count": 17,
   "metadata": {},
   "outputs": [],
   "source": [
    "del pred"
   ]
  },
  {
   "cell_type": "code",
   "execution_count": 18,
   "metadata": {},
   "outputs": [
    {
     "name": "stdout",
     "output_type": "stream",
     "text": [
      "Accuracy on train set 0.5196797333767083\n"
     ]
    }
   ],
   "source": [
    "train_pred = clf.predict(train_X)\n",
    "from sklearn.metrics import accuracy_score\n",
    "print('Accuracy on train set', accuracy_score(train_pred, train_y))"
   ]
  }
 ],
 "metadata": {
  "kernelspec": {
   "display_name": "Python 3",
   "language": "python",
   "name": "python3"
  },
  "language_info": {
   "codemirror_mode": {
    "name": "ipython",
    "version": 3
   },
   "file_extension": ".py",
   "mimetype": "text/x-python",
   "name": "python",
   "nbconvert_exporter": "python",
   "pygments_lexer": "ipython3",
   "version": "3.5.2"
  }
 },
 "nbformat": 4,
 "nbformat_minor": 2
}

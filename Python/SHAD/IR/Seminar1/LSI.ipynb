{
 "cells": [
  {
   "cell_type": "code",
   "execution_count": 1,
   "metadata": {},
   "outputs": [],
   "source": [
    "from os import listdir\n",
    "from os.path import isfile, join\n",
    "mypath = 'txt/'\n",
    "\n",
    "onlyfiles = [f for f in listdir(mypath) if isfile(join(mypath, f))]"
   ]
  },
  {
   "cell_type": "code",
   "execution_count": 2,
   "metadata": {},
   "outputs": [],
   "source": [
    "names = open('names.txt', 'w')\n",
    "for name in onlyfiles:\n",
    "    names.write(name + '\\n')\n",
    "names.close()"
   ]
  },
  {
   "cell_type": "code",
   "execution_count": 3,
   "metadata": {},
   "outputs": [],
   "source": [
    "from collections import defaultdict\n",
    "\n",
    "ind = defaultdict()\n",
    "\n",
    "for i in range(len(onlyfiles)):\n",
    "    ind[onlyfiles[i]] = i\n",
    "    \n",
    "files = []\n",
    "for path in onlyfiles:\n",
    "    file = open(mypath + path, 'r').read()\n",
    "    files.append(file)\n",
    "    \n",
    "words = []\n",
    "for file in files:\n",
    "    words.append(file.split(' '))\n",
    "    \n",
    "all_words = []\n",
    "for w in words:\n",
    "    all_words.extend(w)\n",
    "all_words_set = list(set(all_words))\n",
    "\n",
    "ind_word = defaultdict()\n",
    "for i in range(len(all_words_set)):\n",
    "    ind_word[all_words_set[i]] = i"
   ]
  },
  {
   "cell_type": "code",
   "execution_count": 4,
   "metadata": {},
   "outputs": [],
   "source": [
    "import numpy as np\n",
    "A = np.zeros((len(all_words_set), len(files)))\n",
    "for i in range(len(words)):\n",
    "    for j in range(len(words[i])):\n",
    "        A[ind_word[words[i][j]], i] += 1\n",
    "        \n",
    "full_counts = np.sum(A, axis=1)\n",
    "P = (A.T / full_counts).T\n",
    "\n",
    "P[P==0] = 1e-100\n",
    "\n",
    "log_P = np.log(P)\n",
    "log_P = log_P / np.log(len(words))\n",
    "g = np.sum(P * log_P, axis = 1)\n",
    "A_norm = (np.log(A+1).T * g).T"
   ]
  },
  {
   "cell_type": "code",
   "execution_count": 5,
   "metadata": {},
   "outputs": [],
   "source": [
    "from scipy.linalg import svd\n",
    "\n",
    "T, s, D = svd(A_norm, full_matrices=False)"
   ]
  },
  {
   "cell_type": "code",
   "execution_count": 6,
   "metadata": {},
   "outputs": [],
   "source": [
    "r = 300\n",
    "T_my = T[:, :r]\n",
    "s_my = s[:r]"
   ]
  },
  {
   "cell_type": "code",
   "execution_count": 7,
   "metadata": {},
   "outputs": [],
   "source": [
    "s_my = 1 / s_my"
   ]
  },
  {
   "cell_type": "code",
   "execution_count": 8,
   "metadata": {},
   "outputs": [],
   "source": [
    "trans = T_my.dot(np.diag(s_my))"
   ]
  },
  {
   "cell_type": "code",
   "execution_count": 9,
   "metadata": {},
   "outputs": [],
   "source": [
    "vects = A_norm.T.dot(trans)"
   ]
  },
  {
   "cell_type": "code",
   "execution_count": 10,
   "metadata": {},
   "outputs": [],
   "source": [
    "result = np.zeros((len(words), len(words)))"
   ]
  },
  {
   "cell_type": "code",
   "execution_count": 11,
   "metadata": {},
   "outputs": [],
   "source": [
    "for i in range(len(words)):\n",
    "    for j in range(len(words)):\n",
    "        result[i, j] = np.sum(vects[i,:] * vects[j,:]) / \\\n",
    "        np.sqrt(np.sum(vects[i,:]* vects[i,:]) * np.sum(vects[j,:] * vects[j,:]))"
   ]
  },
  {
   "cell_type": "code",
   "execution_count": 12,
   "metadata": {},
   "outputs": [],
   "source": [
    "file = open('table.tsv', 'w')\n",
    "for i in range(len(words)):\n",
    "    for j in range(len(words)):\n",
    "        if j != len(words)-1:\n",
    "            file.write(str(result[i, j]) + '\\t')\n",
    "        else:\n",
    "            file.write(str(result[i, j]))\n",
    "    file.write('\\n')\n",
    "file.close()"
   ]
  },
  {
   "cell_type": "code",
   "execution_count": 13,
   "metadata": {},
   "outputs": [],
   "source": [
    "import pandas as pd\n",
    "matr = pd.read_csv('table.tsv', header=None, sep='\\t')"
   ]
  },
  {
   "cell_type": "code",
   "execution_count": 15,
   "metadata": {},
   "outputs": [],
   "source": [
    "top_ind = (result * -1).argsort(axis = 1)"
   ]
  },
  {
   "cell_type": "code",
   "execution_count": 16,
   "metadata": {},
   "outputs": [],
   "source": [
    "tops = open('tops.txt', 'w')\n",
    "for i in range(len(onlyfiles)):\n",
    "    tops.write('file number: ' + onlyfiles[i][:4] + '; ')\n",
    "    tops.write('top-5 numbers: ')\n",
    "    for j in top_ind[i,1:6]:\n",
    "        tops.write(onlyfiles[j][:4] + ' ')\n",
    "    tops.write('\\n')\n",
    "tops.close()"
   ]
  }
 ],
 "metadata": {
  "kernelspec": {
   "display_name": "Python 3",
   "language": "python",
   "name": "python3"
  },
  "language_info": {
   "codemirror_mode": {
    "name": "ipython",
    "version": 3
   },
   "file_extension": ".py",
   "mimetype": "text/x-python",
   "name": "python",
   "nbconvert_exporter": "python",
   "pygments_lexer": "ipython3",
   "version": "3.6.4"
  }
 },
 "nbformat": 4,
 "nbformat_minor": 2
}

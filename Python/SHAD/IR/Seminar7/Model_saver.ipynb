{
 "cells": [
  {
   "cell_type": "code",
   "execution_count": 1,
   "metadata": {},
   "outputs": [],
   "source": [
    "urls = open('urls.txt', 'r').read().split('\\n')\n",
    "url_id = {urls[i] : i for i in range(len(urls))}"
   ]
  },
  {
   "cell_type": "code",
   "execution_count": 52,
   "metadata": {},
   "outputs": [
    {
     "data": {
      "text/plain": [
       "34"
      ]
     },
     "execution_count": 52,
     "metadata": {},
     "output_type": "execute_result"
    }
   ],
   "source": [
    "from os import listdir\n",
    "from os.path import isfile, join\n",
    "\n",
    "prefix = 'https://simple.wikipedia.org/wiki/'\n",
    "\"\"\"mypath='links/'\n",
    "names = sorted([f for f in listdir(mypath) if isfile(join(mypath, f))])\n",
    "categ_names = sorted([f for f in listdir(mypath + 'Categories/') if isfile(join(mypath + 'Categories/', f))])\n",
    "real_urls = [prefix + name[:-4] for name in names]\n",
    "real_urls_categ = [prefix + 'Category:' + name[10:-4] for name in categ_names]\"\"\"\n",
    "len(prefix)"
   ]
  },
  {
   "cell_type": "code",
   "execution_count": 54,
   "metadata": {},
   "outputs": [],
   "source": [
    "link_graph = dict()\n",
    "for i in range(len(urls)):\n",
    "    link_graph[i] = []\n",
    "    if urls[i][len(prefix):len(prefix) + 9] != 'Category:':\n",
    "        links = open('links/' + urls[i][len(prefix):] + '.txt', \n",
    "                     'r').read().strip().split('\\n')\n",
    "    else:\n",
    "        links = open('links/Categories/_Category_' + urls[i][len(prefix) + 9:] + '.txt', \n",
    "                     'r').read().strip().split('\\n')\n",
    "    for link in links:\n",
    "        if (link != ''):\n",
    "            link_graph[i].append(url_id[link])"
   ]
  },
  {
   "cell_type": "code",
   "execution_count": 44,
   "metadata": {},
   "outputs": [],
   "source": [
    "import pickle\n",
    "\n",
    "pickle.dump(link_graph, open('graph.pkl', 'wb'))"
   ]
  }
 ],
 "metadata": {
  "kernelspec": {
   "display_name": "Python 3",
   "language": "python",
   "name": "python3"
  },
  "language_info": {
   "codemirror_mode": {
    "name": "ipython",
    "version": 3
   },
   "file_extension": ".py",
   "mimetype": "text/x-python",
   "name": "python",
   "nbconvert_exporter": "python",
   "pygments_lexer": "ipython3",
   "version": "3.6.4"
  }
 },
 "nbformat": 4,
 "nbformat_minor": 2
}

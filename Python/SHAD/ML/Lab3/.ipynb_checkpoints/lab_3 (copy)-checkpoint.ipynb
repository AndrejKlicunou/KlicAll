{
 "cells": [
  {
   "cell_type": "markdown",
   "metadata": {},
   "source": [
    "# Лабораторная работа 3. Нейронные сети\n",
    "\n",
    "Результат лабораторной работы − отчет. Мы предпочитаем принимать отчеты в формате ноутбуков IPython (ipynb-файл). Постарайтесь сделать ваш отчет интересным рассказом, последовательно отвечающим на вопросы из заданий. Помимо ответов на вопросы, в отчете так же должен быть код, однако чем меньше кода, тем лучше всем: нам − меньше проверять, вам — проще найти ошибку или дополнить эксперимент. При проверке оценивается четкость ответов на вопросы, аккуратность отчета и кода.\n",
    "\n",
    "### Оценивание и штрафы\n",
    "Каждая из задач имеет определенную «стоимость» (указана в скобках около задачи). Максимально допустимая оценка за работу — 15 баллов. Сдавать задание после указанного срока сдачи нельзя. «Похожие» решения считаются плагиатом и все задействованные студенты (в том числе те, у кого списали) не могут получить за него больше 0 баллов и понижают карму (подробнее о плагиате см. на странице курса). Если вы нашли решение какого-то из заданий в открытом источнике, необходимо прислать ссылку на этот источник (скорее всего вы будете не единственным, кто это нашел, поэтому чтобы исключить подозрение в плагиате, нам необходима ссылка на источник).\n",
    "\n",
    "Обратите внимание, что мы не ставим оценку за просто написанный код, корректная работоспособность которого не подтверждена экспериментами. Работы, в которых удалены формулировки заданий, проверять сложнее, поэтому за решения без формулировок заданий мы будем снижать баллы в два раза.\n",
    "\n",
    "### Правила сдачи\n",
    "Выполненную работу следует отправить в систему Anytask. Более подробно о системе можно почитать на странице курса. Название отправляемого файла должно иметь следующий формат: Surname_Name_Group_NN.ipynb, где NN — номер лабораторной работы. Например, Kozlova_Anna_CS_03.ipynb."
   ]
  },
  {
   "cell_type": "markdown",
   "metadata": {},
   "source": [
    "## Алгоритм обратного распространения ошибки"
   ]
  },
  {
   "cell_type": "markdown",
   "metadata": {},
   "source": [
    "Реализуйте небольшую библиотеку для обучения полносвязных нейронных сетей в рамках задачи классификации.\n",
    "\n",
    "<img src=\"http://www.asimovinstitute.org/wp-content/uploads/2016/09/cnn.png\" width=500></img>\n",
    "\n",
    "Библиотека должна поддерживать описанный ниже набор базовых слоев и функций потерь. Обучение сети должно происходить методом стохастического градиентного спуска с подсчетом градиентов с помощью обратного распространения ошибки. На вход каждому слою передается вектор $x\\in\\mathbb{R}^n$.\n",
    "\n",
    "### Поддерживаемые слои\n",
    "\n",
    " - Полносвязный (*Dense*) слой с заданием количества выходных нейронов $k$:\n",
    " \n",
    " $$\\mathrm{Dense} \\equiv \\textbf{W}\\textbf{x}+\\textbf{b},$$\n",
    " \n",
    " где $\\textbf{W}\\in\\mathbb{R}^{(k,n)}$ — матрица весов слоя, $\\textbf{b}\\in\\mathbb{R}^k$ — вектор смещений (bias) слоя.\n",
    " \n",
    " \n",
    " - Слой логистической нелинейности (*Sigmoid*), который применяется поэлементно ко всем входам:\n",
    " \n",
    "  $$\\mathrm{Sigmoid} \\equiv \\frac{1}{1+e^{-\\textbf{x}}}$$\n",
    "  \n",
    " - Обобщение логистической функции для многомерного случая (*Softmax*). Позволяет моделировать распределение вероятностей над дискретным набором классов:\n",
    "  \n",
    "  $$\\mathrm{Softmax} \\equiv \\frac{e^{-\\textbf{x}_i}}{\\sum\\limits_{j = 1\\dots k} e^{-\\textbf{x}_j}}$$\n",
    "  \n",
    " - [Dropout](https://www.cs.toronto.edu/~hinton/absps/JMLRdropout.pdf) слой с заданием вероятности выключения нейрона ($d$). Dropout слой ведет себя по разному в фазай обучения и применения. \n",
    "  \n",
    "  В фазе обучения независимо для каждого обучающего примера сэмплируется случайная бинарная маска $\\textbf{m}$, которая будет определять какие нейроны окажутся выключенными:\n",
    "  \n",
    "    $$\\mathrm{Dropout_{train}} \\equiv \\textbf{m}\\odot\\textbf{x}$$\n",
    "    $$\\textbf{m} \\in \\left\\{0,1\\right\\}^{n}$$\n",
    "    $$p\\left(m_{i}=0\\right)=d$$\n",
    "   \n",
    "  В фазе применения входные значения масштабируются, чтобы сохранить уровень активности, поступающий на следующий слой:\n",
    "  \n",
    "      $$\\mathrm{Dropout_{test}}\\equiv \\left(1-d\\right)\\textbf{x}$$\n",
    "      \n",
    "#### Требования к реализации\n",
    "\n",
    "Каждый из слоев должен быть написан в виде отдельного класса, с методами *fprop* (прямой просчет выходов сети) и *bprop* (обратный прогон сети с нахождением градиентов весовых коэффициентов):\n",
    "\n",
    "    class Layer:\n",
    "        def fprop(self, inputs, pass_type='train'):\n",
    "            pass\n",
    "            \n",
    "        def bprop(self, outputs_deriv)\n",
    "            pass\n",
    "            \n",
    "- В метод <i>bprop</i> должен передаваться градиент по выходам данного слоя. Для слоя softmax на вход (в переменной inputs) должны подаваться не только выходы предыдщего слоя, но и метки классов.\n",
    "\n",
    "- При создании Dense слоя весовые коэффициенты должны инициализироваться из распределения $U(-0.01,0.01)$."
   ]
  },
  {
   "cell_type": "code",
   "execution_count": 1,
   "metadata": {},
   "outputs": [],
   "source": [
    "import numpy as np"
   ]
  },
  {
   "cell_type": "code",
   "execution_count": 66,
   "metadata": {},
   "outputs": [],
   "source": [
    "class DenseLayer:\n",
    "    def __init__(self, k, n):\n",
    "        self.weights = np.random.uniform(-0.01, 0.01, (k, n))\n",
    "        self.up_weights = self.weights.copy()\n",
    "        self.bias = np.zeros((k,))\n",
    "    \n",
    "    def fprop(self, inputs, pass_type='train'):\n",
    "        return self.weights.dot(inputs) + self.bias\n",
    "    \n",
    "    def bprop(self, outputs_deriv, fprop_inputs, learning_rate):\n",
    "        self.up_weights -= learning_rate * np.dot(outputs_deriv.reshape(outputs_deriv.shape[0], 1), \n",
    "                                               fprop_inputs.reshape((1, fprop_inputs.shape[0])))\n",
    "        return outputs_deriv.dot(self.weights)\n",
    "    \n",
    "    def new_mask(self):\n",
    "        pass\n",
    "    \n",
    "    def new_weights(self):\n",
    "        self.weights = self.up_weights.copy()\n",
    "\n",
    "\n",
    "class SigmoidLayer:\n",
    "    def fprop(self, inputs, pass_type='train'):\n",
    "        return 1 / (1 + np.exp(-inputs))\n",
    "    \n",
    "    def bprop(self, outputs_deriv, fprop_inputs, learning_rate):\n",
    "        exxp = np.exp(fprop_inputs)\n",
    "        return outputs_deriv * exxp / ((1 + exxp) ** 2)\n",
    "    \n",
    "    def new_mask(self):\n",
    "        pass\n",
    "\n",
    "    def new_weights(self):\n",
    "        pass\n",
    "    \n",
    "    \n",
    "class SoftmaxLayer:\n",
    "    def fprop(self, inputs, pass_type='train'):\n",
    "        exxp = np.exp(-inputs)\n",
    "        return exxp / np.sum(exxp)\n",
    "    \n",
    "    def bprop(self, outputs_deriv, fprop_inputs, learning_rate):\n",
    "        exxp = np.exp(-fprop_inputs)\n",
    "        exp_sum = np.sum(exxp)\n",
    "        return -outputs_deriv * exxp * (exp_sum - exxp) / (exp_sum ** 2)\n",
    "    \n",
    "    def new_mask(self):\n",
    "        pass\n",
    "    \n",
    "    def new_weights(self):\n",
    "        pass\n",
    "    \n",
    "    \n",
    "class DropoutLayer:\n",
    "    def __init__(self, n, d):\n",
    "        self.d = d\n",
    "        self.mask = np.random.uniform(0, 1, n)\n",
    "        \n",
    "    def fprop(self, inputs, pass_type='train'):\n",
    "        if (pass_type == 'train'):\n",
    "            m = (self.mask > self.d).astype(float)\n",
    "            return m * inputs\n",
    "        else:\n",
    "            return (1 - self.d) * inputs\n",
    "        \n",
    "    def bprop(self, outputs_deriv, fprop_inputs, learning_rate):\n",
    "        return outputs_deriv  * (self.mask > self.d).astype(float) * fprop_inputs\n",
    "    \n",
    "    def new_mask(self):\n",
    "        n = self.mask.shape\n",
    "        self.mask = np.random.uniform(0, 1, n)\n",
    "        \n",
    "    def new_weights(self):\n",
    "        pass"
   ]
  },
  {
   "cell_type": "code",
   "execution_count": null,
   "metadata": {},
   "outputs": [],
   "source": []
  },
  {
   "cell_type": "code",
   "execution_count": 64,
   "metadata": {},
   "outputs": [
    {
     "name": "stdout",
     "output_type": "stream",
     "text": [
      "[ 11.  12.  13.  14.  15.]\n",
      "[-80. -80. -80. -80. -80. -80. -80. -80. -80. -80.]\n",
      "[-190. -190. -190. -190. -190. -190. -190. -190. -190. -190.]\n",
      "[-300. -300. -300. -300. -300. -300. -300. -300. -300. -300.]\n",
      "[ -19.  -48.  -77. -106. -135.]\n"
     ]
    }
   ],
   "source": [
    "tmp_layer = DenseLayer(5, 10)\n",
    "tmp_layer.weights = np.ones((5, 10))\n",
    "tmp_layer.bias = np.array([1, 2, 3, 4, 5])\n",
    "tmp_inputs = np.ones((10, ))\n",
    "print(tmp_layer.fprop(tmp_inputs))\n",
    "print(tmp_layer.bprop(np.array([1, 2, 3, 4, 5]) * 2, tmp_inputs, 0.5))\n",
    "print(tmp_layer.bprop(np.array([1, 2, 3, 4, 5]) * 2, tmp_inputs, 0.5))\n",
    "print(tmp_layer.bprop(np.array([1, 2, 3, 4, 5]) * 2, tmp_inputs, 0.5))\n",
    "print(tmp_layer.fprop(tmp_inputs))"
   ]
  },
  {
   "cell_type": "code",
   "execution_count": 72,
   "metadata": {},
   "outputs": [],
   "source": [
    "def mse(logits, labels):\n",
    "    return np.mean((logits - labels) ** 2)\n",
    "\n",
    "def cross_entropy(labels, logits):\n",
    "    return -(np.mean(labels * np.log(logits) + (1 - labels) * np.log(1 - logits)))\n",
    "\n",
    "def mse_deriv(logits, labels):\n",
    "    return 2 * (logits - labels) / logits.shape[0]\n",
    "\n",
    "def cross_entropy_deriv(labels, logits):\n",
    "    return (logits - labels) / logits / (1 - logits) / logits.shape[0]"
   ]
  },
  {
   "cell_type": "markdown",
   "metadata": {},
   "source": [
    "### Поддерживаемые функции потерь\n",
    "\n",
    " - Средний квадрат ошибки (*MSE*):\n",
    " \n",
    "      $$\\mathrm{L(y, \\hat{y})} = \\frac{1}{N} \\sum\\limits_{i=1}^N (\\hat{y}_i - y_i)^2$$\n",
    "\n",
    " - Обобщение логистической регрессии на случай множества классов (*Cross-entropy*): \n",
    "     \n",
    "     $$\\mathrm{L(y, \\hat{y})} = - \\frac{1}{N} \\sum\\limits_{i=1}^N (y_i \\log \\hat{y}_i + (1-y_i) \\log (1-\\hat{y}_i))$$"
   ]
  },
  {
   "cell_type": "markdown",
   "metadata": {},
   "source": [
    "### Общие требования к реализации библиотеки\n",
    "\n",
    "Необходимо реализовать класс нейронной сети, который должен позволять конструировать сети из любой последовательности вышеназванных классов и обучаться на входной выборке. Класс нейронной сети должен хранить в себе упорядоченный список слоев.\n",
    "\n",
    "    class NeuralNet:\n",
    "        def add(self, layer):\n",
    "            pass\n",
    "    \n",
    "        def fit(self, X_train, y_train, batch_size, lr, num_epochs):\n",
    "            pass\n",
    "            \n",
    "        def predict(self, X):\n",
    "            pass\n",
    "            \n",
    " - Обучение должно происходить методом стохастического градиентного спуска с задаваемыми параметрами размера батча $K$ и шага обучения $\\eta$:\n",
    "$$\\textbf{W} \\leftarrow \\textbf{W}-\\eta \\sum_{k=1}^{K}{\\nabla_{\\textbf{W}}L\\left(\\textbf{x}^k\\right)}$$ \n",
    "(под батчем понимается группа примеров, которая обрабатывается одновременно без обновления весов; последний батч в эпохе может быть неполным)\n",
    " - В процессе обучения должен осуществляться подсчет как значения функции потерь, так и ошибки классификации. Эти ошибки должны выводиться один раз в эпоху. \n",
    " - Методы *predict* и *fit* должны принимать на вход numpy матрицу, в строках которой содержатся обучающие примеры.\n",
    " - Все вычисления в описанных методах должны быть реализованы в матричной форме.\n",
    "\n",
    "**Обратите внимание**, что в процессе написания библиотеки вам понадобится добавлять различные вспомогательные функции в исходный шаблон."
   ]
  },
  {
   "cell_type": "code",
   "execution_count": 83,
   "metadata": {},
   "outputs": [],
   "source": [
    "class NeuralNet:\n",
    "    def __init__(self, loss_function, loss_deriv):\n",
    "        self.layers = []\n",
    "        self.loss_function = loss_function\n",
    "        self.loss_deriv = loss_deriv\n",
    "    \n",
    "    def add(self, layer):\n",
    "        self.layers.append(layer)\n",
    "    \n",
    "    def fit(self, X_train, y_train, batch_size, lr, num_epochs, verbose = True):\n",
    "        for i in range(num_epochs):\n",
    "            for layer in self.layers:\n",
    "                layer.new_mask()\n",
    "            ind = np.arange(X_train.shape[0])\n",
    "            np.random.shuffle(ind)\n",
    "            for left in range(0, X_train.shape[0], batch_size):\n",
    "                right = min(X_train.shape[0], left + batch_size)\n",
    "                X_batch = X_train[ind[left:right]]\n",
    "                y_batch = y_train[ind[left:right]]\n",
    "                for x, y in zip(X_batch, y_batch):\n",
    "                    inputs = []\n",
    "                    inputs.append(x)\n",
    "                    for layer in self.layers:\n",
    "                        inputs.append(layer.fprop(inputs[-1]))\n",
    "                    derivs = [] \n",
    "                    derivs.append(self.loss_deriv(y, inputs[-1]))\n",
    "                    for i in range(len(self.layers)-1, -1, -1):\n",
    "                        derivs.append(self.layers[i].bprop(derivs[-1], inputs[i], lr))\n",
    "                for layer in self.layers:\n",
    "                    layer.new_weights()\n",
    "            prediction = self.predict(X_train)\n",
    "            loss = 0\n",
    "            true_count = 0\n",
    "            for i in range(X_train.shape[0]):\n",
    "                if np.argmax(prediction[i]) == np.argmax(y_train[i]):\n",
    "                    true_count += 1\n",
    "                loss += self.loss_function(y_train[i], prediction[i])\n",
    "            loss /= X_train.shape\n",
    "            true_count /= X_train.shape[0]\n",
    "            if verbose:\n",
    "                print('loss = {}'.format(loss) + ',  acuuracy = {}'.format(true_count))\n",
    "        \n",
    "\n",
    "    def predict(self, X, pass_type = 'test'):\n",
    "        pred = []\n",
    "        for i in range(X.shape[0]):\n",
    "            result = X[i].copy()\n",
    "            for layer in self.layers:\n",
    "                result = layer.fprop(result, pass_type)\n",
    "            pred.append(result)\n",
    "        return np.array(pred)"
   ]
  },
  {
   "cell_type": "code",
   "execution_count": 84,
   "metadata": {},
   "outputs": [
    {
     "name": "stdout",
     "output_type": "stream",
     "text": [
      "[[ 1.  0.  0.  0.  0.  0.]\n",
      " [ 0.  1.  0.  0.  0.  0.]\n",
      " [ 0.  0.  1.  0.  0.  0.]\n",
      " [ 0.  0.  0.  1.  0.  0.]\n",
      " [ 0.  0.  0.  0.  1.  0.]\n",
      " [ 0.  0.  0.  0.  0.  1.]\n",
      " [ 1.  0.  0.  0.  0.  0.]\n",
      " [ 0.  1.  0.  0.  0.  0.]\n",
      " [ 0.  0.  1.  0.  0.  0.]\n",
      " [ 0.  0.  0.  1.  0.  0.]\n",
      " [ 0.  0.  0.  0.  1.  0.]\n",
      " [ 0.  0.  0.  0.  0.  1.]\n",
      " [ 1.  0.  0.  0.  0.  0.]\n",
      " [ 0.  1.  0.  0.  0.  0.]\n",
      " [ 0.  0.  1.  0.  0.  0.]\n",
      " [ 0.  0.  0.  1.  0.  0.]\n",
      " [ 0.  0.  0.  0.  1.  0.]\n",
      " [ 0.  0.  0.  0.  0.  1.]]\n",
      "[[ 1.  0.  0.]\n",
      " [ 0.  1.  0.]\n",
      " [ 0.  0.  1.]\n",
      " [ 1.  0.  0.]\n",
      " [ 0.  1.  0.]\n",
      " [ 0.  0.  1.]\n",
      " [ 1.  0.  0.]\n",
      " [ 0.  1.  0.]\n",
      " [ 0.  0.  1.]\n",
      " [ 1.  0.  0.]\n",
      " [ 0.  1.  0.]\n",
      " [ 0.  0.  1.]\n",
      " [ 1.  0.  0.]\n",
      " [ 0.  1.  0.]\n",
      " [ 0.  0.  1.]\n",
      " [ 1.  0.  0.]\n",
      " [ 0.  1.  0.]\n",
      " [ 0.  0.  1.]]\n",
      "loss = [ 0.63652584  1.90957753],  acuuracy = 0.3333333333333333\n",
      "loss = [ 0.63652669  1.90958008],  acuuracy = 0.3333333333333333\n",
      "loss = [ 0.63652206  1.90956618],  acuuracy = 0.3333333333333333\n",
      "loss = [ 0.63651856  1.90955569],  acuuracy = 0.3333333333333333\n",
      "loss = [ 0.63651908  1.90955724],  acuuracy = 0.3333333333333333\n",
      "[[ 0.33282271  0.3347659   0.33241139]\n",
      " [ 0.3328254   0.33476892  0.33240568]\n",
      " [ 0.33283053  0.33476533  0.33240415]\n",
      " [ 0.33282091  0.33476613  0.33241296]\n",
      " [ 0.33282135  0.33476375  0.3324149 ]\n",
      " [ 0.33282305  0.33476754  0.33240941]\n",
      " [ 0.33282271  0.3347659   0.33241139]\n",
      " [ 0.3328254   0.33476892  0.33240568]\n",
      " [ 0.33283053  0.33476533  0.33240415]\n",
      " [ 0.33282091  0.33476613  0.33241296]\n",
      " [ 0.33282135  0.33476375  0.3324149 ]\n",
      " [ 0.33282305  0.33476754  0.33240941]\n",
      " [ 0.33282271  0.3347659   0.33241139]\n",
      " [ 0.3328254   0.33476892  0.33240568]\n",
      " [ 0.33283053  0.33476533  0.33240415]\n",
      " [ 0.33282091  0.33476613  0.33241296]\n",
      " [ 0.33282135  0.33476375  0.3324149 ]\n",
      " [ 0.33282305  0.33476754  0.33240941]]\n",
      "loss = [ 0.00426884  0.01280653],  acuuracy = 1.0\n",
      "loss = [ 0.00426302  0.01278906],  acuuracy = 1.0\n",
      "loss = [ 0.00425722  0.01277165],  acuuracy = 1.0\n",
      "loss = [ 0.00425143  0.01275428],  acuuracy = 1.0\n",
      "loss = [ 0.00424565  0.01273696],  acuuracy = 1.0\n",
      "[[ 0.99375203  0.00273161  0.00351636]\n",
      " [ 0.00330058  0.99367284  0.00302658]\n",
      " [ 0.00285312  0.00363192  0.99351497]\n",
      " [ 0.9937514   0.00273219  0.00351641]\n",
      " [ 0.0033068   0.99367814  0.00301506]\n",
      " [ 0.00285123  0.00363751  0.99351125]\n",
      " [ 0.99375203  0.00273161  0.00351636]\n",
      " [ 0.00330058  0.99367284  0.00302658]\n",
      " [ 0.00285312  0.00363192  0.99351497]\n",
      " [ 0.9937514   0.00273219  0.00351641]\n",
      " [ 0.0033068   0.99367814  0.00301506]\n",
      " [ 0.00285123  0.00363751  0.99351125]\n",
      " [ 0.99375203  0.00273161  0.00351636]\n",
      " [ 0.00330058  0.99367284  0.00302658]\n",
      " [ 0.00285312  0.00363192  0.99351497]\n",
      " [ 0.9937514   0.00273219  0.00351641]\n",
      " [ 0.0033068   0.99367814  0.00301506]\n",
      " [ 0.00285123  0.00363751  0.99351125]]\n"
     ]
    },
    {
     "ename": "AttributeError",
     "evalue": "'NeuralNet' object has no attribute 'summary'",
     "output_type": "error",
     "traceback": [
      "\u001b[0;31m---------------------------------------------------------------------------\u001b[0m",
      "\u001b[0;31mAttributeError\u001b[0m                            Traceback (most recent call last)",
      "\u001b[0;32m<ipython-input-84-4243911bd854>\u001b[0m in \u001b[0;36m<module>\u001b[0;34m()\u001b[0m\n\u001b[1;32m     22\u001b[0m \u001b[0mprint\u001b[0m\u001b[0;34m(\u001b[0m\u001b[0mnn\u001b[0m\u001b[0;34m.\u001b[0m\u001b[0mpredict\u001b[0m\u001b[0;34m(\u001b[0m\u001b[0mtmp_X\u001b[0m\u001b[0;34m)\u001b[0m\u001b[0;34m)\u001b[0m\u001b[0;34m\u001b[0m\u001b[0m\n\u001b[1;32m     23\u001b[0m \u001b[0;34m\u001b[0m\u001b[0m\n\u001b[0;32m---> 24\u001b[0;31m \u001b[0mnn\u001b[0m\u001b[0;34m.\u001b[0m\u001b[0msummary\u001b[0m\u001b[0;34m(\u001b[0m\u001b[0;34m)\u001b[0m\u001b[0;34m\u001b[0m\u001b[0m\n\u001b[0m",
      "\u001b[0;31mAttributeError\u001b[0m: 'NeuralNet' object has no attribute 'summary'"
     ]
    }
   ],
   "source": [
    "nn = NeuralNet(cross_entropy, cross_entropy_deriv)\n",
    "\n",
    "nn.add(DenseLayer(3, 6))\n",
    "nn.add(SigmoidLayer())\n",
    "# nn.add(DropoutLayer(0.1))\n",
    "\n",
    "nn.add(DenseLayer(3, 3))\n",
    "nn.add(SoftmaxLayer())\n",
    "\n",
    "tmp_X = np.identity(6)\n",
    "tmp_X = np.concatenate([tmp_X, tmp_X, tmp_X])\n",
    "print(tmp_X)\n",
    "\n",
    "tmp_Y = np.concatenate([np.identity(3), np.identity(3)])\n",
    "tmp_Y = np.concatenate([tmp_Y, tmp_Y, tmp_Y])\n",
    "print(tmp_Y)\n",
    "\n",
    "nn.fit(tmp_X, tmp_Y, 2, 0.1, 5)\n",
    "print(nn.predict(tmp_X))\n",
    "nn.fit(tmp_X, tmp_Y, 2, 0.1, 1000, verbose=False)\n",
    "nn.fit(tmp_X, tmp_Y, 2, 0.1, 5)\n",
    "print(nn.predict(tmp_X))\n",
    "\n",
    "nn.summary()"
   ]
  },
  {
   "cell_type": "code",
   "execution_count": 86,
   "metadata": {},
   "outputs": [],
   "source": [
    "import datetime\n",
    "kek = datetime.datetime.now()\n"
   ]
  },
  {
   "cell_type": "code",
   "execution_count": 89,
   "metadata": {},
   "outputs": [
    {
     "name": "stdout",
     "output_type": "stream",
     "text": [
      "0:00:16.964841\n"
     ]
    }
   ],
   "source": [
    "print (datetime.datetime.now() - kek)"
   ]
  },
  {
   "cell_type": "markdown",
   "metadata": {
    "collapsed": true
   },
   "source": [
    "**(4 балла) Задание 1.** С помощью разработанных вами классов решите задачу классификации изображений [fashionMNIST](https://github.com/zalandoresearch/fashion-mnist). Ваша реализация должна работать эквивалентно по качеству [решению на основе keras](http://nbviewer.jupyter.org/urls/dl.dropbox.com/s/82656r55dx4pcoc/fMNIST_example.ipynb?dl=0) при той же самой архитектуре сети и параметрах обучения.\n",
    "\n",
    "<img src=\"https://github.com/zalandoresearch/fashion-mnist/blob/master/doc/img/fashion-mnist-sprite.png?raw=true\" width=500></img>"
   ]
  },
  {
   "cell_type": "code",
   "execution_count": 1,
   "metadata": {},
   "outputs": [
    {
     "name": "stdout",
     "output_type": "stream",
     "text": [
      "Populating the interactive namespace from numpy and matplotlib\n"
     ]
    }
   ],
   "source": [
    "%pylab inline\n",
    "from matplotlib import pyplot as plt\n",
    "import numpy as np\n",
    "import os\n",
    "from copy import copy\n",
    "from collections import Counter"
   ]
  },
  {
   "cell_type": "code",
   "execution_count": 2,
   "metadata": {},
   "outputs": [],
   "source": [
    "def load_fmnist(path, kind='train'):\n",
    "    import os\n",
    "    import gzip\n",
    "    import numpy as np\n",
    "\n",
    "    \"\"\"Load fMNIST data from `path`\"\"\"\n",
    "    labels_path = os.path.join(path, '%s-labels-idx1-ubyte.gz' % kind)\n",
    "    images_path = os.path.join(path, '%s-images-idx3-ubyte.gz' % kind)\n",
    "\n",
    "    with gzip.open(labels_path, 'rb') as lbpath:\n",
    "        labels = np.frombuffer(lbpath.read(), dtype=np.uint8, offset=8)\n",
    "\n",
    "    with gzip.open(images_path, 'rb') as imgpath:\n",
    "        images = np.frombuffer(imgpath.read(), dtype=np.uint8, offset=16).reshape(len(labels), 784)\n",
    "\n",
    "    return images, labels"
   ]
  },
  {
   "cell_type": "code",
   "execution_count": 3,
   "metadata": {},
   "outputs": [],
   "source": [
    "x_train, y_train = load_fmnist('data/fashion', kind='train')\n",
    "x_test, y_test = load_fmnist('data/fashion', kind='t10k')"
   ]
  },
  {
   "cell_type": "code",
   "execution_count": 4,
   "metadata": {},
   "outputs": [
    {
     "name": "stderr",
     "output_type": "stream",
     "text": [
      "Using TensorFlow backend.\n"
     ]
    }
   ],
   "source": [
    "from keras.models import Model, Sequential\n",
    "from keras.layers import Flatten, Dense, Activation, Dropout, BatchNormalization\n",
    "from keras.optimizers import SGD  \n",
    "from keras import backend as K\n",
    "\n",
    "import keras.utils\n",
    "from keras import regularizers\n",
    "\n",
    "from keras.preprocessing.image import ImageDataGenerator"
   ]
  },
  {
   "cell_type": "code",
   "execution_count": null,
   "metadata": {
    "collapsed": true
   },
   "outputs": [],
   "source": []
  },
  {
   "cell_type": "code",
   "execution_count": 5,
   "metadata": {},
   "outputs": [
    {
     "name": "stdout",
     "output_type": "stream",
     "text": [
      "x_train shape: (60000, 784)\n",
      "60000 train samples\n",
      "10000 test samples\n"
     ]
    }
   ],
   "source": [
    "img_rows, img_cols = 28, 28\n",
    "input_shape = (img_rows, img_cols, 1)\n",
    "\n",
    "x_train = x_train.astype('float32')\n",
    "x_test = x_test.astype('float32')\n",
    "x_train /= 255\n",
    "x_test /= 255\n",
    "\n",
    "print('x_train shape:', x_train.shape)\n",
    "print(x_train.shape[0], 'train samples')\n",
    "print(x_test.shape[0], 'test samples')\n",
    "\n",
    "num_classes = 10\n",
    "\n",
    "y_train = keras.utils.to_categorical(y_train, num_classes)\n",
    "y_test = keras.utils.to_categorical(y_test, num_classes)"
   ]
  },
  {
   "cell_type": "markdown",
   "metadata": {},
   "source": [
    "**(2 балла) Задание 2.** Используя возможности библитеки [keras](https://keras.io/), попробуйте достичь качества 88% на тесте, меняя следующие параметры модели:\n",
    "- learning rate: постоянный (0.1 и 0.01) и переменный (метод [LearningRateScheduler](https://keras.io/callbacks/#learningratescheduler));\n",
    "- тип активации на скрытом слое;\n",
    "- количество скрытых слоев (от 1 до 6).\n",
    "\n",
    "Для каждого эксперимента постройте графики качества и функции потерь. В экспериментах с количеством скрытых слоев сравните как возрастает время обучения при увеличении числа скрытых слоев."
   ]
  },
  {
   "cell_type": "code",
   "execution_count": 26,
   "metadata": {
    "scrolled": true
   },
   "outputs": [],
   "source": [
    "def test(lrate, n_hidden_layers, k_init='sigmoid'):\n",
    "    model = Sequential()\n",
    "    model.add(Dense(512, input_dim=len(x_train[0]), kernel_initializer='uniform'))\n",
    "    model.add(Activation(k_init))\n",
    "    model.add(Dropout(0.3))\n",
    "    for i in range(1, n_hidden_layers):\n",
    "        model.add(Dense(512, kernel_initializer='uniform'))\n",
    "        model.add(Activation(k_init))\n",
    "        model.add(Dropout(0.3))\n",
    "    model.add(Dense(10, kernel_initializer='uniform'))\n",
    "    model.add(Activation('softmax'))\n",
    "\n",
    "    #sgds = [SGD(lr=0.1, momentum=0.0, decay=0.0), SGD(lr=0.01, momentum=0.0, decay=0.0)]\n",
    "    sgd = SGD(lr=lrate, momentum=0.0, decay=0.0)\n",
    "    model.compile(loss='categorical_crossentropy',\n",
    "            optimizer=sgd,\n",
    "            metrics=['accuracy'])\n",
    "\n",
    "    history = model.fit(x_train, y_train,\n",
    "            epochs=40,\n",
    "            batch_size=128,\n",
    "            verbose=1,\n",
    "            validation_data=(x_test, y_test))\n",
    "\n",
    "    score = model.evaluate(x_test, y_test, batch_size=128)\n",
    "    print(score)\n",
    "    train_error = 1 - np.array(history.history['acc'])\n",
    "    val_error = 1 - np.array(history.history['val_acc'])\n",
    "\n",
    "    plt.figure(figsize=(12, 8))\n",
    "    plt.plot(train_error, label = 'train')\n",
    "    plt.plot(val_error, label = 'test')\n",
    "    plt.title('fMNIST error')\n",
    "    plt.xlabel('Train epoch')\n",
    "    plt.ylabel('Error')\n",
    "    plt.legend()\n",
    "    plt.show()"
   ]
  },
  {
   "cell_type": "code",
   "execution_count": 28,
   "metadata": {
    "scrolled": true
   },
   "outputs": [
    {
     "name": "stdout",
     "output_type": "stream",
     "text": [
      "Train on 60000 samples, validate on 10000 samples\n",
      "Epoch 1/40\n",
      "60000/60000 [==============================] - 136s 2ms/step - loss: 0.9054 - acc: 0.6687 - val_loss: 0.5492 - val_acc: 0.8042\n",
      "Epoch 2/40\n",
      "60000/60000 [==============================] - 142s 2ms/step - loss: 0.5130 - acc: 0.8159 - val_loss: 0.4735 - val_acc: 0.8280\n",
      "Epoch 3/40\n",
      "60000/60000 [==============================] - 143s 2ms/step - loss: 0.4465 - acc: 0.8375 - val_loss: 0.4313 - val_acc: 0.8415\n",
      "Epoch 4/40\n",
      "60000/60000 [==============================] - 149s 2ms/step - loss: 0.4101 - acc: 0.8507 - val_loss: 0.3929 - val_acc: 0.8561\n",
      "Epoch 5/40\n",
      "60000/60000 [==============================] - 150s 3ms/step - loss: 0.3872 - acc: 0.8589 - val_loss: 0.4307 - val_acc: 0.8372\n",
      "Epoch 6/40\n",
      "60000/60000 [==============================] - 138s 2ms/step - loss: 0.3686 - acc: 0.8662 - val_loss: 0.3838 - val_acc: 0.8605\n",
      "Epoch 7/40\n",
      "60000/60000 [==============================] - 145s 2ms/step - loss: 0.3558 - acc: 0.8706 - val_loss: 0.3747 - val_acc: 0.8616\n",
      "Epoch 8/40\n",
      "60000/60000 [==============================] - 142s 2ms/step - loss: 0.3427 - acc: 0.8743 - val_loss: 0.3619 - val_acc: 0.8686\n",
      "Epoch 9/40\n",
      "60000/60000 [==============================] - 153s 3ms/step - loss: 0.3341 - acc: 0.8774 - val_loss: 0.3444 - val_acc: 0.8746\n",
      "Epoch 10/40\n",
      "60000/60000 [==============================] - 138s 2ms/step - loss: 0.3231 - acc: 0.8812 - val_loss: 0.3548 - val_acc: 0.8702\n",
      "Epoch 11/40\n",
      "60000/60000 [==============================] - 129s 2ms/step - loss: 0.3182 - acc: 0.8827 - val_loss: 0.3401 - val_acc: 0.8786\n",
      "Epoch 12/40\n",
      "60000/60000 [==============================] - 134s 2ms/step - loss: 0.3085 - acc: 0.8870 - val_loss: 0.3415 - val_acc: 0.8753\n",
      "Epoch 13/40\n",
      "60000/60000 [==============================] - 106s 2ms/step - loss: 0.3008 - acc: 0.8888 - val_loss: 0.3288 - val_acc: 0.8831\n",
      "Epoch 14/40\n",
      "60000/60000 [==============================] - 129s 2ms/step - loss: 0.2947 - acc: 0.8913 - val_loss: 0.3399 - val_acc: 0.8776\n",
      "Epoch 15/40\n",
      "60000/60000 [==============================] - 119s 2ms/step - loss: 0.2893 - acc: 0.8925 - val_loss: 0.3711 - val_acc: 0.8655\n",
      "Epoch 16/40\n",
      "60000/60000 [==============================] - 115s 2ms/step - loss: 0.2831 - acc: 0.8946 - val_loss: 0.3385 - val_acc: 0.8788\n",
      "Epoch 17/40\n",
      "60000/60000 [==============================] - 117s 2ms/step - loss: 0.2778 - acc: 0.8965 - val_loss: 0.3458 - val_acc: 0.8743\n",
      "Epoch 18/40\n",
      "60000/60000 [==============================] - 114s 2ms/step - loss: 0.2725 - acc: 0.8991 - val_loss: 0.3306 - val_acc: 0.8812\n",
      "Epoch 19/40\n",
      "60000/60000 [==============================] - 115s 2ms/step - loss: 0.2692 - acc: 0.9003 - val_loss: 0.3439 - val_acc: 0.8762\n",
      "Epoch 20/40\n",
      "60000/60000 [==============================] - 115s 2ms/step - loss: 0.2621 - acc: 0.9032 - val_loss: 0.3413 - val_acc: 0.8797\n",
      "Epoch 21/40\n",
      "60000/60000 [==============================] - 119s 2ms/step - loss: 0.2596 - acc: 0.9033 - val_loss: 0.3204 - val_acc: 0.8865\n",
      "Epoch 22/40\n",
      "60000/60000 [==============================] - 112s 2ms/step - loss: 0.2550 - acc: 0.9050 - val_loss: 0.3163 - val_acc: 0.8834\n",
      "Epoch 23/40\n",
      "60000/60000 [==============================] - 119s 2ms/step - loss: 0.2505 - acc: 0.9058 - val_loss: 0.3177 - val_acc: 0.8864\n",
      "Epoch 24/40\n",
      "60000/60000 [==============================] - 146s 2ms/step - loss: 0.2478 - acc: 0.9076 - val_loss: 0.3110 - val_acc: 0.8899\n",
      "Epoch 25/40\n",
      "60000/60000 [==============================] - 151s 3ms/step - loss: 0.2413 - acc: 0.9092 - val_loss: 0.3190 - val_acc: 0.8859\n",
      "Epoch 26/40\n",
      "60000/60000 [==============================] - 143s 2ms/step - loss: 0.2420 - acc: 0.9086 - val_loss: 0.3101 - val_acc: 0.8915\n",
      "Epoch 27/40\n",
      "60000/60000 [==============================] - 142s 2ms/step - loss: 0.2363 - acc: 0.9118 - val_loss: 0.3082 - val_acc: 0.8926\n",
      "Epoch 28/40\n",
      "60000/60000 [==============================] - 145s 2ms/step - loss: 0.2324 - acc: 0.9134 - val_loss: 0.3199 - val_acc: 0.8916\n",
      "Epoch 29/40\n",
      "60000/60000 [==============================] - 138s 2ms/step - loss: 0.2292 - acc: 0.9145 - val_loss: 0.3228 - val_acc: 0.8895\n",
      "Epoch 30/40\n",
      "60000/60000 [==============================] - 129s 2ms/step - loss: 0.2277 - acc: 0.9143 - val_loss: 0.3249 - val_acc: 0.8838\n",
      "Epoch 31/40\n",
      "60000/60000 [==============================] - 140s 2ms/step - loss: 0.2251 - acc: 0.9160 - val_loss: 0.3069 - val_acc: 0.8932\n",
      "Epoch 32/40\n",
      "60000/60000 [==============================] - 138s 2ms/step - loss: 0.2205 - acc: 0.9167 - val_loss: 0.3072 - val_acc: 0.8948\n",
      "Epoch 33/40\n",
      "60000/60000 [==============================] - 140s 2ms/step - loss: 0.2185 - acc: 0.9177 - val_loss: 0.3034 - val_acc: 0.8907\n",
      "Epoch 34/40\n",
      "60000/60000 [==============================] - 151s 3ms/step - loss: 0.2153 - acc: 0.9183 - val_loss: 0.3233 - val_acc: 0.8874\n",
      "Epoch 35/40\n",
      "60000/60000 [==============================] - 149s 2ms/step - loss: 0.2122 - acc: 0.9203 - val_loss: 0.3079 - val_acc: 0.8956\n",
      "Epoch 36/40\n",
      "60000/60000 [==============================] - 148s 2ms/step - loss: 0.2133 - acc: 0.9196 - val_loss: 0.3072 - val_acc: 0.8945\n",
      "Epoch 37/40\n",
      "60000/60000 [==============================] - 148s 2ms/step - loss: 0.2078 - acc: 0.9213 - val_loss: 0.3033 - val_acc: 0.8974\n",
      "Epoch 38/40\n",
      "60000/60000 [==============================] - 148s 2ms/step - loss: 0.2047 - acc: 0.9220 - val_loss: 0.3034 - val_acc: 0.8961\n",
      "Epoch 39/40\n",
      "60000/60000 [==============================] - 147s 2ms/step - loss: 0.2037 - acc: 0.9235 - val_loss: 0.3254 - val_acc: 0.8876\n",
      "Epoch 40/40\n",
      "60000/60000 [==============================] - 149s 2ms/step - loss: 0.2001 - acc: 0.9249 - val_loss: 0.3023 - val_acc: 0.8976\n",
      "10000/10000 [==============================] - 9s 944us/step\n",
      "[0.30228141596317293, 0.89759999999999995]\n"
     ]
    },
    {
     "data": {
      "image/png": "[encoded data removed]",
      "text/plain": [
       "<matplotlib.figure.Figure at 0x7fd20aba1780>"
      ]
     },
     "metadata": {},
     "output_type": "display_data"
    }
   ],
   "source": [
    "test(0.1, 3, 'relu')"
   ]
  },
  {
   "cell_type": "markdown",
   "metadata": {},
   "source": [
    "По ходу обучения стало понятно, что на большом числе скрытых слоёв сигмоидная активация плохо работает. С учётом проблем со скоростью обучения некоторые процессы прерываю. :("
   ]
  },
  {
   "cell_type": "code",
   "execution_count": 38,
   "metadata": {},
   "outputs": [
    {
     "name": "stdout",
     "output_type": "stream",
     "text": [
      "Train on 60000 samples, validate on 10000 samples\n",
      "Epoch 1/40\n",
      "60000/60000 [==============================] - 128s 2ms/step - loss: 2.3511 - acc: 0.1010 - val_loss: 2.3539 - val_acc: 0.1000\n",
      "Epoch 2/40\n",
      "60000/60000 [==============================] - 122s 2ms/step - loss: 2.3208 - acc: 0.0990 - val_loss: 2.3096 - val_acc: 0.1000\n",
      "Epoch 3/40\n",
      "60000/60000 [==============================] - 122s 2ms/step - loss: 2.3130 - acc: 0.0995 - val_loss: 2.3134 - val_acc: 0.1000\n",
      "Epoch 4/40\n",
      "60000/60000 [==============================] - 122s 2ms/step - loss: 2.3098 - acc: 0.1008 - val_loss: 2.3084 - val_acc: 0.1000\n",
      "Epoch 5/40\n",
      "60000/60000 [==============================] - 122s 2ms/step - loss: 2.3081 - acc: 0.0994 - val_loss: 2.3065 - val_acc: 0.1000\n",
      "Epoch 6/40\n",
      "60000/60000 [==============================] - 122s 2ms/step - loss: 2.3062 - acc: 0.1005 - val_loss: 2.3058 - val_acc: 0.1000\n",
      "Epoch 7/40\n",
      "60000/60000 [==============================] - 123s 2ms/step - loss: 2.3059 - acc: 0.1008 - val_loss: 2.3040 - val_acc: 0.1000\n",
      "Epoch 8/40\n",
      "60000/60000 [==============================] - 123s 2ms/step - loss: 2.3051 - acc: 0.1006 - val_loss: 2.3039 - val_acc: 0.1000\n",
      "Epoch 9/40\n",
      "60000/60000 [==============================] - 123s 2ms/step - loss: 2.3047 - acc: 0.0998 - val_loss: 2.3045 - val_acc: 0.1000\n",
      "Epoch 10/40\n",
      "60000/60000 [==============================] - 123s 2ms/step - loss: 2.3048 - acc: 0.0975 - val_loss: 2.3031 - val_acc: 0.1000\n",
      "Epoch 11/40\n",
      "60000/60000 [==============================] - 123s 2ms/step - loss: 2.3045 - acc: 0.0990 - val_loss: 2.3033 - val_acc: 0.1000\n",
      "Epoch 12/40\n",
      "60000/60000 [==============================] - 123s 2ms/step - loss: 2.3038 - acc: 0.1013 - val_loss: 2.3032 - val_acc: 0.1000\n",
      "Epoch 13/40\n",
      "60000/60000 [==============================] - 124s 2ms/step - loss: 2.3036 - acc: 0.1014 - val_loss: 2.3037 - val_acc: 0.1000\n",
      "Epoch 14/40\n",
      "60000/60000 [==============================] - 128s 2ms/step - loss: 2.3037 - acc: 0.1014 - val_loss: 2.3033 - val_acc: 0.1000\n",
      "Epoch 15/40\n",
      "60000/60000 [==============================] - 124s 2ms/step - loss: 2.3033 - acc: 0.1008 - val_loss: 2.3026 - val_acc: 0.1000\n",
      "Epoch 16/40\n",
      "60000/60000 [==============================] - 124s 2ms/step - loss: 2.3034 - acc: 0.1003 - val_loss: 2.3032 - val_acc: 0.1000\n",
      "Epoch 17/40\n",
      "60000/60000 [==============================] - 124s 2ms/step - loss: 2.3031 - acc: 0.1019 - val_loss: 2.3025 - val_acc: 0.1000\n",
      "Epoch 18/40\n",
      "60000/60000 [==============================] - 124s 2ms/step - loss: 2.3029 - acc: 0.1013 - val_loss: 2.3021 - val_acc: 0.1000\n",
      "Epoch 19/40\n",
      "60000/60000 [==============================] - 124s 2ms/step - loss: 2.3024 - acc: 0.1044 - val_loss: 2.3013 - val_acc: 0.1000\n",
      "Epoch 20/40\n",
      "60000/60000 [==============================] - 124s 2ms/step - loss: 2.3022 - acc: 0.1046 - val_loss: 2.3011 - val_acc: 0.1000\n",
      "Epoch 21/40\n",
      "60000/60000 [==============================] - 125s 2ms/step - loss: 2.3016 - acc: 0.1078 - val_loss: 2.2999 - val_acc: 0.1000\n",
      "Epoch 22/40\n",
      "60000/60000 [==============================] - 125s 2ms/step - loss: 2.2993 - acc: 0.1094 - val_loss: 2.2975 - val_acc: 0.1000\n",
      "Epoch 23/40\n",
      "60000/60000 [==============================] - 125s 2ms/step - loss: 2.2886 - acc: 0.1200 - val_loss: 2.2560 - val_acc: 0.1907\n",
      "Epoch 24/40\n",
      "60000/60000 [==============================] - 125s 2ms/step - loss: 1.9576 - acc: 0.2057 - val_loss: 1.6444 - val_acc: 0.2742\n",
      "Epoch 25/40\n",
      "60000/60000 [==============================] - 124s 2ms/step - loss: 1.6042 - acc: 0.2900 - val_loss: 1.4685 - val_acc: 0.3417\n",
      "Epoch 26/40\n",
      "60000/60000 [==============================] - 125s 2ms/step - loss: 1.4260 - acc: 0.3761 - val_loss: 1.2903 - val_acc: 0.4073\n",
      "Epoch 27/40\n",
      "60000/60000 [==============================] - 125s 2ms/step - loss: 1.3024 - acc: 0.4353 - val_loss: 1.1994 - val_acc: 0.4719\n",
      "Epoch 28/40\n",
      "60000/60000 [==============================] - 125s 2ms/step - loss: 1.2352 - acc: 0.4626 - val_loss: 1.1374 - val_acc: 0.5240\n",
      "Epoch 29/40\n",
      "60000/60000 [==============================] - 129s 2ms/step - loss: 1.1873 - acc: 0.4889 - val_loss: 1.0926 - val_acc: 0.5227\n",
      "Epoch 30/40\n",
      "60000/60000 [==============================] - 126s 2ms/step - loss: 1.1507 - acc: 0.5057 - val_loss: 1.0678 - val_acc: 0.5167\n",
      "Epoch 31/40\n",
      "60000/60000 [==============================] - 126s 2ms/step - loss: 1.1208 - acc: 0.5155 - val_loss: 1.0465 - val_acc: 0.5314\n",
      "Epoch 32/40\n",
      "60000/60000 [==============================] - 126s 2ms/step - loss: 1.0952 - acc: 0.5268 - val_loss: 1.0187 - val_acc: 0.5849\n",
      "Epoch 33/40\n",
      "60000/60000 [==============================] - 126s 2ms/step - loss: 1.0702 - acc: 0.5411 - val_loss: 1.0005 - val_acc: 0.5836\n",
      "Epoch 34/40\n",
      "60000/60000 [==============================] - 126s 2ms/step - loss: 1.0503 - acc: 0.5483 - val_loss: 0.9881 - val_acc: 0.5452\n",
      "Epoch 35/40\n",
      "60000/60000 [==============================] - 126s 2ms/step - loss: 1.0329 - acc: 0.5590 - val_loss: 0.9692 - val_acc: 0.5779\n",
      "Epoch 36/40\n",
      "60000/60000 [==============================] - 126s 2ms/step - loss: 1.0136 - acc: 0.5688 - val_loss: 0.9587 - val_acc: 0.5913\n",
      "Epoch 37/40\n",
      "60000/60000 [==============================] - 126s 2ms/step - loss: 0.9956 - acc: 0.5752 - val_loss: 0.9269 - val_acc: 0.6206\n",
      "Epoch 38/40\n",
      "60000/60000 [==============================] - 126s 2ms/step - loss: 0.9723 - acc: 0.5914 - val_loss: 0.9051 - val_acc: 0.6520\n",
      "Epoch 39/40\n",
      "60000/60000 [==============================] - 126s 2ms/step - loss: 0.9544 - acc: 0.6053 - val_loss: 0.8756 - val_acc: 0.6615\n",
      "Epoch 40/40\n",
      "60000/60000 [==============================] - 126s 2ms/step - loss: 0.9260 - acc: 0.6215 - val_loss: 0.8564 - val_acc: 0.6771\n",
      "10000/10000 [==============================] - 9s 930us/step\n",
      "[0.85640444927215575, 0.67710000000000004]\n"
     ]
    },
    {
     "data": {
      "image/png": "[encoded data removed]",
      "text/plain": [
       "<matplotlib.figure.Figure at 0x7fd202ad2470>"
      ]
     },
     "metadata": {},
     "output_type": "display_data"
    }
   ],
   "source": [
    "test(0.1, 4)"
   ]
  },
  {
   "cell_type": "code",
   "execution_count": 33,
   "metadata": {},
   "outputs": [
    {
     "name": "stdout",
     "output_type": "stream",
     "text": [
      "Train on 60000 samples, validate on 10000 samples\n",
      "Epoch 1/40\n",
      "60000/60000 [==============================] - 62s 1ms/step - loss: 0.6602 - acc: 0.7745 - val_loss: 0.5625 - val_acc: 0.7992\n",
      "Epoch 2/40\n",
      "60000/60000 [==============================] - 61s 1ms/step - loss: 0.4945 - acc: 0.8246 - val_loss: 0.4817 - val_acc: 0.8249\n",
      "Epoch 3/40\n",
      "60000/60000 [==============================] - 61s 1ms/step - loss: 0.4659 - acc: 0.8347 - val_loss: 0.5308 - val_acc: 0.8164\n",
      "Epoch 4/40\n",
      "60000/60000 [==============================] - 61s 1ms/step - loss: 0.4490 - acc: 0.8417 - val_loss: 0.4739 - val_acc: 0.8291\n",
      "Epoch 5/40\n",
      "60000/60000 [==============================] - 62s 1ms/step - loss: 0.4328 - acc: 0.8465 - val_loss: 0.5270 - val_acc: 0.8193\n",
      "Epoch 6/40\n",
      "60000/60000 [==============================] - 62s 1ms/step - loss: 0.4278 - acc: 0.8479 - val_loss: 0.4568 - val_acc: 0.8311\n",
      "Epoch 7/40\n",
      "60000/60000 [==============================] - 60s 1ms/step - loss: 0.4197 - acc: 0.8508 - val_loss: 0.4459 - val_acc: 0.8374\n",
      "Epoch 8/40\n",
      "60000/60000 [==============================] - 60s 1000us/step - loss: 0.4128 - acc: 0.8531 - val_loss: 0.4492 - val_acc: 0.8370\n",
      "Epoch 9/40\n",
      "60000/60000 [==============================] - 62s 1ms/step - loss: 0.4085 - acc: 0.8544 - val_loss: 0.4546 - val_acc: 0.8356\n",
      "Epoch 10/40\n",
      "60000/60000 [==============================] - 61s 1ms/step - loss: 0.4027 - acc: 0.8568 - val_loss: 0.4325 - val_acc: 0.8465\n",
      "Epoch 11/40\n",
      "60000/60000 [==============================] - 60s 1ms/step - loss: 0.3962 - acc: 0.8584 - val_loss: 0.4147 - val_acc: 0.8505\n",
      "Epoch 12/40\n",
      "60000/60000 [==============================] - 58s 966us/step - loss: 0.3944 - acc: 0.8593 - val_loss: 0.4347 - val_acc: 0.8403\n",
      "Epoch 13/40\n",
      "60000/60000 [==============================] - 55s 916us/step - loss: 0.3895 - acc: 0.8596 - val_loss: 0.4111 - val_acc: 0.8513\n",
      "Epoch 14/40\n",
      "60000/60000 [==============================] - 52s 863us/step - loss: 0.3839 - acc: 0.8616 - val_loss: 0.4265 - val_acc: 0.8471 - \n",
      "Epoch 15/40\n",
      "60000/60000 [==============================] - 50s 832us/step - loss: 0.3820 - acc: 0.8622 - val_loss: 0.4167 - val_acc: 0.8511\n",
      "Epoch 16/40\n",
      "60000/60000 [==============================] - 51s 847us/step - loss: 0.3825 - acc: 0.8625 - val_loss: 0.4197 - val_acc: 0.8521\n",
      "Epoch 17/40\n",
      "60000/60000 [==============================] - 50s 834us/step - loss: 0.3773 - acc: 0.8643 - val_loss: 0.4139 - val_acc: 0.8534\n",
      "Epoch 18/40\n",
      "60000/60000 [==============================] - 50s 840us/step - loss: 0.3729 - acc: 0.8665 - val_loss: 0.4155 - val_acc: 0.8510\n",
      "Epoch 19/40\n",
      "60000/60000 [==============================] - 50s 841us/step - loss: 0.3703 - acc: 0.8668 - val_loss: 0.4063 - val_acc: 0.8557\n",
      "Epoch 20/40\n",
      "60000/60000 [==============================] - 51s 842us/step - loss: 0.3713 - acc: 0.8657 - val_loss: 0.4068 - val_acc: 0.8547\n",
      "Epoch 21/40\n",
      "60000/60000 [==============================] - 54s 897us/step - loss: 0.3644 - acc: 0.8677 - val_loss: 0.4240 - val_acc: 0.8475\n",
      "Epoch 22/40\n",
      "60000/60000 [==============================] - 51s 849us/step - loss: 0.3642 - acc: 0.8675 - val_loss: 0.4015 - val_acc: 0.8562\n",
      "Epoch 23/40\n",
      "60000/60000 [==============================] - 51s 850us/step - loss: 0.3615 - acc: 0.8686 - val_loss: 0.4321 - val_acc: 0.8453\n",
      "Epoch 24/40\n",
      "60000/60000 [==============================] - 51s 845us/step - loss: 0.3589 - acc: 0.8700 - val_loss: 0.4095 - val_acc: 0.8518\n",
      "Epoch 25/40\n",
      "60000/60000 [==============================] - 51s 849us/step - loss: 0.3570 - acc: 0.8709 - val_loss: 0.3964 - val_acc: 0.8591\n",
      "Epoch 26/40\n",
      "60000/60000 [==============================] - 51s 846us/step - loss: 0.3550 - acc: 0.8713 - val_loss: 0.3953 - val_acc: 0.8574\n",
      "Epoch 27/40\n",
      "60000/60000 [==============================] - 51s 843us/step - loss: 0.3525 - acc: 0.8721 - val_loss: 0.3847 - val_acc: 0.8623\n",
      "Epoch 28/40\n",
      "60000/60000 [==============================] - 51s 854us/step - loss: 0.3510 - acc: 0.8723 - val_loss: 0.3972 - val_acc: 0.8541\n",
      "Epoch 29/40\n",
      "60000/60000 [==============================] - 51s 848us/step - loss: 0.3506 - acc: 0.8720 - val_loss: 0.3941 - val_acc: 0.8584\n",
      "Epoch 30/40\n",
      "60000/60000 [==============================] - 51s 851us/step - loss: 0.3484 - acc: 0.8728 - val_loss: 0.3931 - val_acc: 0.8593\n",
      "Epoch 31/40\n",
      "60000/60000 [==============================] - 51s 851us/step - loss: 0.3475 - acc: 0.8745 - val_loss: 0.3944 - val_acc: 0.8537\n",
      "Epoch 32/40\n",
      "60000/60000 [==============================] - 51s 851us/step - loss: 0.3467 - acc: 0.8743 - val_loss: 0.3995 - val_acc: 0.8534\n",
      "Epoch 33/40\n",
      "60000/60000 [==============================] - 51s 850us/step - loss: 0.3437 - acc: 0.8746 - val_loss: 0.3826 - val_acc: 0.8617\n",
      "Epoch 34/40\n",
      "60000/60000 [==============================] - 51s 855us/step - loss: 0.3412 - acc: 0.8746 - val_loss: 0.3759 - val_acc: 0.8676\n",
      "Epoch 35/40\n",
      "60000/60000 [==============================] - 52s 861us/step - loss: 0.3404 - acc: 0.8761 - val_loss: 0.3804 - val_acc: 0.8642\n",
      "Epoch 36/40\n",
      "60000/60000 [==============================] - 51s 857us/step - loss: 0.3403 - acc: 0.8770 - val_loss: 0.4071 - val_acc: 0.8541\n",
      "Epoch 37/40\n",
      "60000/60000 [==============================] - 52s 860us/step - loss: 0.3359 - acc: 0.8780 - val_loss: 0.3838 - val_acc: 0.8586\n",
      "Epoch 38/40\n",
      "60000/60000 [==============================] - 52s 860us/step - loss: 0.3363 - acc: 0.8770 - val_loss: 0.3773 - val_acc: 0.8663\n",
      "Epoch 39/40\n",
      "60000/60000 [==============================] - 52s 864us/step - loss: 0.3349 - acc: 0.8778 - val_loss: 0.3690 - val_acc: 0.8669\n",
      "Epoch 40/40\n",
      "60000/60000 [==============================] - 52s 871us/step - loss: 0.3319 - acc: 0.8796 - val_loss: 0.3791 - val_acc: 0.8609\n",
      "10000/10000 [==============================] - 4s 439us/step\n",
      "[0.37913700602054595, 0.8609]\n"
     ]
    },
    {
     "data": {
      "image/png": "[encoded data removed]",
      "text/plain": [
       "<matplotlib.figure.Figure at 0x7fd20807e898>"
      ]
     },
     "metadata": {},
     "output_type": "display_data"
    }
   ],
   "source": [
    "test(0.1, 1, 'tanh')"
   ]
  },
  {
   "cell_type": "markdown",
   "metadata": {},
   "source": [
    "Также не очень хорошо работает модель с шагом обучения 0.01"
   ]
  },
  {
   "cell_type": "code",
   "execution_count": 34,
   "metadata": {},
   "outputs": [
    {
     "name": "stdout",
     "output_type": "stream",
     "text": [
      "Train on 60000 samples, validate on 10000 samples\n",
      "Epoch 1/40\n",
      "60000/60000 [==============================] - 50s 829us/step - loss: 2.0464 - acc: 0.3344 - val_loss: 1.7337 - val_acc: 0.6048\n",
      "Epoch 2/40\n",
      "60000/60000 [==============================] - 48s 807us/step - loss: 1.5264 - acc: 0.5585 - val_loss: 1.3025 - val_acc: 0.6770\n",
      "Epoch 3/40\n",
      "60000/60000 [==============================] - 49s 809us/step - loss: 1.2204 - acc: 0.6277 - val_loss: 1.0851 - val_acc: 0.7023\n",
      "Epoch 4/40\n",
      "60000/60000 [==============================] - 49s 815us/step - loss: 1.0572 - acc: 0.6625 - val_loss: 0.9611 - val_acc: 0.7136\n",
      "Epoch 5/40\n",
      "60000/60000 [==============================] - 49s 813us/step - loss: 0.9565 - acc: 0.6839 - val_loss: 0.8788 - val_acc: 0.7249\n",
      "Epoch 6/40\n",
      "60000/60000 [==============================] - 49s 816us/step - loss: 0.8905 - acc: 0.6992 - val_loss: 0.8240 - val_acc: 0.7300\n",
      "Epoch 7/40\n",
      "60000/60000 [==============================] - 49s 816us/step - loss: 0.8407 - acc: 0.7100 - val_loss: 0.7827 - val_acc: 0.7374\n",
      "Epoch 8/40\n",
      "60000/60000 [==============================] - 49s 816us/step - loss: 0.8038 - acc: 0.7185 - val_loss: 0.7527 - val_acc: 0.7409\n",
      "Epoch 9/40\n",
      "60000/60000 [==============================] - 49s 816us/step - loss: 0.7758 - acc: 0.7236 - val_loss: 0.7280 - val_acc: 0.7467\n",
      "Epoch 10/40\n",
      "60000/60000 [==============================] - 49s 825us/step - loss: 0.7521 - acc: 0.7309 - val_loss: 0.7087 - val_acc: 0.7472\n",
      "Epoch 11/40\n",
      "60000/60000 [==============================] - 50s 834us/step - loss: 0.7357 - acc: 0.7365 - val_loss: 0.6929 - val_acc: 0.7538\n",
      "Epoch 12/40\n",
      "60000/60000 [==============================] - 50s 833us/step - loss: 0.7191 - acc: 0.7388 - val_loss: 0.6790 - val_acc: 0.7565\n",
      "Epoch 13/40\n",
      "60000/60000 [==============================] - 49s 824us/step - loss: 0.7040 - acc: 0.7439 - val_loss: 0.6670 - val_acc: 0.7584\n",
      "Epoch 14/40\n",
      "60000/60000 [==============================] - 50s 829us/step - loss: 0.6925 - acc: 0.7496 - val_loss: 0.6558 - val_acc: 0.7620\n",
      "Epoch 15/40\n",
      "60000/60000 [==============================] - 50s 830us/step - loss: 0.6803 - acc: 0.7528 - val_loss: 0.6461 - val_acc: 0.7654\n",
      "Epoch 16/40\n",
      "60000/60000 [==============================] - 50s 837us/step - loss: 0.6713 - acc: 0.7565 - val_loss: 0.6381 - val_acc: 0.7695\n",
      "Epoch 17/40\n",
      "60000/60000 [==============================] - 50s 832us/step - loss: 0.6623 - acc: 0.7582 - val_loss: 0.6294 - val_acc: 0.7707\n",
      "Epoch 18/40\n",
      "60000/60000 [==============================] - 51s 847us/step - loss: 0.6539 - acc: 0.7612 - val_loss: 0.6221 - val_acc: 0.7738\n",
      "Epoch 19/40\n",
      "60000/60000 [==============================] - 51s 842us/step - loss: 0.6452 - acc: 0.7636 - val_loss: 0.6147 - val_acc: 0.7753\n",
      "Epoch 20/40\n",
      "60000/60000 [==============================] - 50s 839us/step - loss: 0.6388 - acc: 0.7671 - val_loss: 0.6088 - val_acc: 0.7793\n",
      "Epoch 21/40\n",
      "60000/60000 [==============================] - 51s 842us/step - loss: 0.6307 - acc: 0.7708 - val_loss: 0.6026 - val_acc: 0.7826\n",
      "Epoch 22/40\n",
      "60000/60000 [==============================] - 50s 841us/step - loss: 0.6263 - acc: 0.7715 - val_loss: 0.5972 - val_acc: 0.7840\n",
      "Epoch 23/40\n",
      "60000/60000 [==============================] - 51s 844us/step - loss: 0.6177 - acc: 0.7737 - val_loss: 0.5927 - val_acc: 0.7867\n",
      "Epoch 24/40\n",
      "60000/60000 [==============================] - 51s 845us/step - loss: 0.6148 - acc: 0.7750 - val_loss: 0.5867 - val_acc: 0.7880\n",
      "Epoch 25/40\n",
      "60000/60000 [==============================] - 51s 844us/step - loss: 0.6080 - acc: 0.7794 - val_loss: 0.5828 - val_acc: 0.7884\n",
      "Epoch 26/40\n",
      "60000/60000 [==============================] - 51s 852us/step - loss: 0.6026 - acc: 0.7796 - val_loss: 0.5780 - val_acc: 0.7926\n",
      "Epoch 27/40\n",
      "60000/60000 [==============================] - 51s 846us/step - loss: 0.5974 - acc: 0.7829 - val_loss: 0.5736 - val_acc: 0.7911\n",
      "Epoch 28/40\n",
      "60000/60000 [==============================] - 51s 853us/step - loss: 0.5945 - acc: 0.7827 - val_loss: 0.5689 - val_acc: 0.7947\n",
      "Epoch 29/40\n",
      "60000/60000 [==============================] - 51s 854us/step - loss: 0.5881 - acc: 0.7861 - val_loss: 0.5655 - val_acc: 0.7966\n",
      "Epoch 30/40\n",
      "60000/60000 [==============================] - 51s 855us/step - loss: 0.5863 - acc: 0.7849 - val_loss: 0.5621 - val_acc: 0.7976\n",
      "Epoch 31/40\n",
      "60000/60000 [==============================] - 51s 858us/step - loss: 0.5826 - acc: 0.7876 - val_loss: 0.5585 - val_acc: 0.7992\n",
      "Epoch 32/40\n",
      "60000/60000 [==============================] - 51s 854us/step - loss: 0.5772 - acc: 0.7901 - val_loss: 0.5552 - val_acc: 0.7998\n",
      "Epoch 33/40\n",
      "60000/60000 [==============================] - 52s 860us/step - loss: 0.5747 - acc: 0.7906 - val_loss: 0.5526 - val_acc: 0.8002\n",
      "Epoch 34/40\n",
      "60000/60000 [==============================] - 51s 855us/step - loss: 0.5727 - acc: 0.7924 - val_loss: 0.5501 - val_acc: 0.8016\n",
      "Epoch 35/40\n",
      "60000/60000 [==============================] - 52s 868us/step - loss: 0.5683 - acc: 0.7937 - val_loss: 0.5467 - val_acc: 0.8019\n",
      "Epoch 36/40\n",
      "60000/60000 [==============================] - 52s 861us/step - loss: 0.5656 - acc: 0.7957 - val_loss: 0.5439 - val_acc: 0.8025\n",
      "Epoch 37/40\n",
      "60000/60000 [==============================] - 52s 862us/step - loss: 0.5612 - acc: 0.7964 - val_loss: 0.5419 - val_acc: 0.8043\n",
      "Epoch 38/40\n",
      "60000/60000 [==============================] - 52s 862us/step - loss: 0.5587 - acc: 0.7973 - val_loss: 0.5394 - val_acc: 0.8047\n",
      "Epoch 39/40\n",
      "60000/60000 [==============================] - 52s 861us/step - loss: 0.5540 - acc: 0.7992 - val_loss: 0.5377 - val_acc: 0.8055\n",
      "Epoch 40/40\n",
      "60000/60000 [==============================] - 52s 870us/step - loss: 0.5531 - acc: 0.7974 - val_loss: 0.5351 - val_acc: 0.8064\n",
      "10000/10000 [==============================] - 4s 399us/step\n",
      "[0.53506153445243831, 0.80640000000000001]\n"
     ]
    },
    {
     "data": {
      "image/png": "[encoded data removed]",
      "text/plain": [
       "<matplotlib.figure.Figure at 0x7fd203bdfdd8>"
      ]
     },
     "metadata": {},
     "output_type": "display_data"
    }
   ],
   "source": [
    "test(0.01, 1, 'sigmoid')"
   ]
  },
  {
   "cell_type": "markdown",
   "metadata": {},
   "source": [
    "Далее рассмотрим непостоянный learning rate. \n",
    "https://machinelearningmastery.com/using-learning-rate-schedules-deep-learning-models-python-keras/"
   ]
  },
  {
   "cell_type": "code",
   "execution_count": 31,
   "metadata": {},
   "outputs": [],
   "source": [
    "import math\n",
    "from keras.callbacks import LearningRateScheduler\n",
    "\n",
    "def step_decay(epoch):\n",
    "    initial_lrate = 0.1\n",
    "    drop = 0.5\n",
    "    epochs_drop = 10.0\n",
    "    lrate = initial_lrate * math.pow(drop, math.floor((1+epoch)/epochs_drop))\n",
    "    return lrate\n",
    "\n",
    "def test_sched(n_hidden_layers, k_init='sigmoid'):\n",
    "    model = Sequential()\n",
    "    model.add(Dense(512, input_dim=len(x_train[0]), kernel_initializer='uniform'))\n",
    "    model.add(Activation(k_init))\n",
    "    model.add(Dropout(0.3))\n",
    "    for i in range(1, n_hidden_layers):\n",
    "        model.add(Dense(512, kernel_initializer='uniform'))\n",
    "        model.add(Activation(k_init))\n",
    "        model.add(Dropout(0.3))\n",
    "    model.add(Dense(10, kernel_initializer='uniform'))\n",
    "    model.add(Activation('softmax'))\n",
    "\n",
    "    #sgds = [SGD(lr=0.1, momentum=0.0, decay=0.0), SGD(lr=0.01, momentum=0.0, decay=0.0)]\n",
    "    sgd = SGD(lr=0.0, momentum=0.0, decay=0.0)\n",
    "    model.compile(loss='categorical_crossentropy',\n",
    "            optimizer=sgd,\n",
    "            metrics=['accuracy'])\n",
    "    lrate = LearningRateScheduler(step_decay)\n",
    "    callbacks_list = [lrate]\n",
    "    history = model.fit(x_train, y_train,\n",
    "            epochs=20,\n",
    "            batch_size=128,\n",
    "            verbose=1, \n",
    "            callbacks=callbacks_list,            \n",
    "            validation_data=(x_test, y_test))\n",
    "\n",
    "    score = model.evaluate(x_test, y_test, batch_size=128)\n",
    "    print(score)\n",
    "    train_error = 1 - np.array(history.history['acc'])\n",
    "    val_error = 1 - np.array(history.history['val_acc'])\n",
    "\n",
    "    plt.figure(figsize=(12, 8))\n",
    "    plt.plot(train_error, label = 'train')\n",
    "    plt.plot(val_error, label = 'test')\n",
    "    plt.title('fMNIST error')\n",
    "    plt.xlabel('Train epoch')\n",
    "    plt.ylabel('Error')\n",
    "    plt.legend()\n",
    "    plt.show()"
   ]
  },
  {
   "cell_type": "code",
   "execution_count": 35,
   "metadata": {},
   "outputs": [
    {
     "name": "stdout",
     "output_type": "stream",
     "text": [
      "Train on 60000 samples, validate on 10000 samples\n",
      "Epoch 1/20\n",
      "60000/60000 [==============================] - 98s 2ms/step - loss: 0.8799 - acc: 0.6782 - val_loss: 0.6128 - val_acc: 0.7676\n",
      "Epoch 2/20\n",
      "60000/60000 [==============================] - 98s 2ms/step - loss: 0.5155 - acc: 0.8142 - val_loss: 0.4762 - val_acc: 0.8277\n",
      "Epoch 3/20\n",
      "60000/60000 [==============================] - 97s 2ms/step - loss: 0.4442 - acc: 0.8388 - val_loss: 0.4717 - val_acc: 0.8273\n",
      "Epoch 4/20\n",
      "60000/60000 [==============================] - 97s 2ms/step - loss: 0.4107 - acc: 0.8501 - val_loss: 0.3945 - val_acc: 0.8566\n",
      "Epoch 5/20\n",
      "60000/60000 [==============================] - 98s 2ms/step - loss: 0.3848 - acc: 0.8609 - val_loss: 0.4328 - val_acc: 0.8426\n",
      "Epoch 6/20\n",
      "60000/60000 [==============================] - 102s 2ms/step - loss: 0.3688 - acc: 0.8651 - val_loss: 0.3841 - val_acc: 0.8637\n",
      "Epoch 7/20\n",
      "60000/60000 [==============================] - 98s 2ms/step - loss: 0.3562 - acc: 0.8696 - val_loss: 0.4254 - val_acc: 0.8504\n",
      "Epoch 8/20\n",
      "60000/60000 [==============================] - 98s 2ms/step - loss: 0.3435 - acc: 0.8735 - val_loss: 0.3771 - val_acc: 0.8604\n",
      "Epoch 9/20\n",
      "60000/60000 [==============================] - 98s 2ms/step - loss: 0.3305 - acc: 0.8790 - val_loss: 0.3580 - val_acc: 0.8699\n",
      "Epoch 10/20\n",
      "60000/60000 [==============================] - 99s 2ms/step - loss: 0.3045 - acc: 0.8890 - val_loss: 0.3417 - val_acc: 0.8772\n",
      "Epoch 11/20\n",
      "60000/60000 [==============================] - 99s 2ms/step - loss: 0.2993 - acc: 0.8902 - val_loss: 0.3455 - val_acc: 0.8759\n",
      "Epoch 12/20\n",
      "60000/60000 [==============================] - 99s 2ms/step - loss: 0.2924 - acc: 0.8936 - val_loss: 0.3431 - val_acc: 0.8758\n",
      "Epoch 13/20\n",
      "60000/60000 [==============================] - 99s 2ms/step - loss: 0.2883 - acc: 0.8942 - val_loss: 0.3390 - val_acc: 0.8787\n",
      "Epoch 14/20\n",
      "60000/60000 [==============================] - 99s 2ms/step - loss: 0.2863 - acc: 0.8950 - val_loss: 0.3260 - val_acc: 0.8822\n",
      "Epoch 15/20\n",
      "60000/60000 [==============================] - 100s 2ms/step - loss: 0.2806 - acc: 0.8965 - val_loss: 0.3251 - val_acc: 0.8826\n",
      "Epoch 16/20\n",
      "60000/60000 [==============================] - 99s 2ms/step - loss: 0.2765 - acc: 0.8988 - val_loss: 0.3259 - val_acc: 0.8820\n",
      "Epoch 17/20\n",
      "60000/60000 [==============================] - 100s 2ms/step - loss: 0.2719 - acc: 0.8988 - val_loss: 0.3223 - val_acc: 0.8837oss - ETA: 3s - loss: 0.27\n",
      "Epoch 18/20\n",
      "60000/60000 [==============================] - 99s 2ms/step - loss: 0.2700 - acc: 0.9006 - val_loss: 0.3317 - val_acc: 0.8834\n",
      "Epoch 19/20\n",
      "60000/60000 [==============================] - 99s 2ms/step - loss: 0.2646 - acc: 0.9021 - val_loss: 0.3216 - val_acc: 0.8854\n",
      "Epoch 20/20\n",
      "60000/60000 [==============================] - 99s 2ms/step - loss: 0.2519 - acc: 0.9065 - val_loss: 0.3168 - val_acc: 0.8888\n",
      "10000/10000 [==============================] - 7s 736us/step\n",
      "[0.31677224340438842, 0.88880000000000003]\n"
     ]
    },
    {
     "data": {
      "image/png": "[encoded data removed]",
      "text/plain": [
       "<matplotlib.figure.Figure at 0x7fd2037c54a8>"
      ]
     },
     "metadata": {},
     "output_type": "display_data"
    }
   ],
   "source": [
    "test_sched(3, 'relu')"
   ]
  },
  {
   "cell_type": "code",
   "execution_count": 36,
   "metadata": {},
   "outputs": [
    {
     "name": "stdout",
     "output_type": "stream",
     "text": [
      "Train on 60000 samples, validate on 10000 samples\n",
      "Epoch 1/20\n",
      "60000/60000 [==============================] - 99s 2ms/step - loss: 2.3467 - acc: 0.1021 - val_loss: 2.3241 - val_acc: 0.1000\n",
      "Epoch 2/20\n",
      "60000/60000 [==============================] - 99s 2ms/step - loss: 2.3063 - acc: 0.1134 - val_loss: 2.2643 - val_acc: 0.1000\n",
      "Epoch 3/20\n",
      "60000/60000 [==============================] - 99s 2ms/step - loss: 1.9256 - acc: 0.2248 - val_loss: 1.5872 - val_acc: 0.3948\n",
      "Epoch 4/20\n",
      "60000/60000 [==============================] - 99s 2ms/step - loss: 1.4004 - acc: 0.4116 - val_loss: 1.1340 - val_acc: 0.5459\n",
      "Epoch 5/20\n",
      "60000/60000 [==============================] - 99s 2ms/step - loss: 1.0945 - acc: 0.5589 - val_loss: 0.9675 - val_acc: 0.6224\n",
      "Epoch 6/20\n",
      "60000/60000 [==============================] - 99s 2ms/step - loss: 0.9845 - acc: 0.6070 - val_loss: 0.8829 - val_acc: 0.6435\n",
      "Epoch 7/20\n",
      "60000/60000 [==============================] - 99s 2ms/step - loss: 0.9311 - acc: 0.6306 - val_loss: 0.8433 - val_acc: 0.6650\n",
      "Epoch 8/20\n",
      "60000/60000 [==============================] - 99s 2ms/step - loss: 0.8867 - acc: 0.6516 - val_loss: 0.8075 - val_acc: 0.6936s - \n",
      "Epoch 9/20\n",
      "60000/60000 [==============================] - 100s 2ms/step - loss: 0.8530 - acc: 0.6685 - val_loss: 0.7900 - val_acc: 0.7076\n",
      "Epoch 10/20\n",
      "60000/60000 [==============================] - 99s 2ms/step - loss: 0.8218 - acc: 0.6873 - val_loss: 0.7662 - val_acc: 0.7071\n",
      "Epoch 11/20\n",
      "60000/60000 [==============================] - 100s 2ms/step - loss: 0.8128 - acc: 0.6915 - val_loss: 0.7600 - val_acc: 0.7079\n",
      "Epoch 12/20\n",
      "60000/60000 [==============================] - 100s 2ms/step - loss: 0.7991 - acc: 0.6990 - val_loss: 0.7479 - val_acc: 0.7145\n",
      "Epoch 13/20\n",
      "60000/60000 [==============================] - 100s 2ms/step - loss: 0.7917 - acc: 0.7005 - val_loss: 0.7387 - val_acc: 0.7231\n",
      "Epoch 14/20\n",
      "60000/60000 [==============================] - 100s 2ms/step - loss: 0.7831 - acc: 0.7062 - val_loss: 0.7310 - val_acc: 0.7317\n",
      "Epoch 15/20\n",
      "60000/60000 [==============================] - 100s 2ms/step - loss: 0.7723 - acc: 0.7119 - val_loss: 0.7195 - val_acc: 0.7315\n",
      "Epoch 16/20\n",
      "60000/60000 [==============================] - 100s 2ms/step - loss: 0.7624 - acc: 0.7165 - val_loss: 0.7130 - val_acc: 0.7360\n",
      "Epoch 17/20\n",
      "60000/60000 [==============================] - 100s 2ms/step - loss: 0.7518 - acc: 0.7206 - val_loss: 0.7049 - val_acc: 0.7436\n",
      "Epoch 18/20\n",
      "60000/60000 [==============================] - 100s 2ms/step - loss: 0.7432 - acc: 0.7237 - val_loss: 0.6982 - val_acc: 0.7456\n",
      "Epoch 19/20\n",
      "60000/60000 [==============================] - 100s 2ms/step - loss: 0.7361 - acc: 0.7279 - val_loss: 0.6884 - val_acc: 0.7518\n",
      "Epoch 20/20\n",
      "60000/60000 [==============================] - 101s 2ms/step - loss: 0.7276 - acc: 0.7324 - val_loss: 0.6851 - val_acc: 0.7502\n",
      "10000/10000 [==============================] - 8s 769us/step\n",
      "[0.68514060387611386, 0.75019999999999998]\n"
     ]
    },
    {
     "data": {
      "image/png": "[encoded data removed]",
      "text/plain": [
       "<matplotlib.figure.Figure at 0x7fd20331d8d0>"
      ]
     },
     "metadata": {},
     "output_type": "display_data"
    }
   ],
   "source": [
    "test_sched(3)"
   ]
  },
  {
   "cell_type": "code",
   "execution_count": 37,
   "metadata": {},
   "outputs": [
    {
     "name": "stdout",
     "output_type": "stream",
     "text": [
      "Train on 60000 samples, validate on 10000 samples\n",
      "Epoch 1/20\n",
      "60000/60000 [==============================] - 116s 2ms/step - loss: 0.6939 - acc: 0.7524 - val_loss: 0.6124 - val_acc: 0.7538\n",
      "Epoch 2/20\n",
      "60000/60000 [==============================] - 106s 2ms/step - loss: 0.5098 - acc: 0.8162 - val_loss: 0.5339 - val_acc: 0.8065\n",
      "Epoch 3/20\n",
      "60000/60000 [==============================] - 99s 2ms/step - loss: 0.4741 - acc: 0.8298 - val_loss: 0.4674 - val_acc: 0.8302\n",
      "Epoch 4/20\n",
      "60000/60000 [==============================] - 98s 2ms/step - loss: 0.4538 - acc: 0.8362 - val_loss: 0.4513 - val_acc: 0.8397\n",
      "Epoch 5/20\n",
      "60000/60000 [==============================] - 98s 2ms/step - loss: 0.4364 - acc: 0.8436 - val_loss: 0.4590 - val_acc: 0.8296\n",
      "Epoch 6/20\n",
      "60000/60000 [==============================] - 98s 2ms/step - loss: 0.4253 - acc: 0.8468 - val_loss: 0.4437 - val_acc: 0.8430\n",
      "Epoch 7/20\n",
      "60000/60000 [==============================] - 99s 2ms/step - loss: 0.4182 - acc: 0.8489 - val_loss: 0.4308 - val_acc: 0.8457\n",
      "Epoch 8/20\n",
      "60000/60000 [==============================] - 99s 2ms/step - loss: 0.4078 - acc: 0.8521 - val_loss: 0.4281 - val_acc: 0.8484\n",
      "Epoch 9/20\n",
      "60000/60000 [==============================] - 99s 2ms/step - loss: 0.4034 - acc: 0.8548 - val_loss: 0.4140 - val_acc: 0.8506\n",
      "Epoch 10/20\n",
      "60000/60000 [==============================] - 99s 2ms/step - loss: 0.3808 - acc: 0.8626 - val_loss: 0.4071 - val_acc: 0.8534\n",
      "Epoch 11/20\n",
      "60000/60000 [==============================] - 99s 2ms/step - loss: 0.3768 - acc: 0.8637 - val_loss: 0.3995 - val_acc: 0.8579\n",
      "Epoch 12/20\n",
      "60000/60000 [==============================] - 116s 2ms/step - loss: 0.3746 - acc: 0.8645 - val_loss: 0.3952 - val_acc: 0.8608\n",
      "Epoch 13/20\n",
      "60000/60000 [==============================] - 121s 2ms/step - loss: 0.3711 - acc: 0.8640 - val_loss: 0.3916 - val_acc: 0.8597\n",
      "Epoch 14/20\n",
      "60000/60000 [==============================] - 100s 2ms/step - loss: 0.3698 - acc: 0.8671 - val_loss: 0.3883 - val_acc: 0.8618\n",
      "Epoch 15/20\n",
      "60000/60000 [==============================] - 100s 2ms/step - loss: 0.3664 - acc: 0.8669 - val_loss: 0.3907 - val_acc: 0.8598\n",
      "Epoch 16/20\n",
      "60000/60000 [==============================] - 100s 2ms/step - loss: 0.3633 - acc: 0.8690 - val_loss: 0.3881 - val_acc: 0.8616\n",
      "Epoch 17/20\n",
      "60000/60000 [==============================] - 100s 2ms/step - loss: 0.3634 - acc: 0.8680 - val_loss: 0.3915 - val_acc: 0.8585\n",
      "Epoch 18/20\n",
      "60000/60000 [==============================] - 100s 2ms/step - loss: 0.3597 - acc: 0.8694 - val_loss: 0.3906 - val_acc: 0.8601\n",
      "Epoch 19/20\n",
      "60000/60000 [==============================] - 129s 2ms/step - loss: 0.3600 - acc: 0.8680 - val_loss: 0.3869 - val_acc: 0.8610\n",
      "Epoch 20/20\n",
      "60000/60000 [==============================] - 121s 2ms/step - loss: 0.3517 - acc: 0.8721 - val_loss: 0.3787 - val_acc: 0.8640\n",
      "10000/10000 [==============================] - 8s 760us/step\n",
      "[0.3786980306625366, 0.86399999999999999]\n"
     ]
    },
    {
     "data": {
      "image/png": "[encoded data removed]",
      "text/plain": [
       "<matplotlib.figure.Figure at 0x7fd203288048>"
      ]
     },
     "metadata": {},
     "output_type": "display_data"
    }
   ],
   "source": [
    "test_sched(3, 'tanh')"
   ]
  },
  {
   "cell_type": "markdown",
   "metadata": {},
   "source": [
    "## Классификация изображений на примере CIFAR-10\n",
    "\n",
    "В этом задании вам предлагается попробовать различные архитектуры нейронных сетей в задаче классификации изображений. Для экспериментов будет использоваться база маленьких изображений [CIFAR-10](https://www.cs.toronto.edu/~kriz/cifar.html), состоящая из цветных изображений размером 32x32 пикселя и разделенная на 10 непересекающихся классов.\n",
    "\n",
    "<img src=\"https://thkimorgblog.files.wordpress.com/2016/03/e18489e185b3e1848fe185b3e18485e185b5e186abe18489e185a3e186ba-2016-03-12-e1848be185a9e1848ce185a5e186ab-1-02-16.png\" width=500>\n",
    "</img>\n",
    "\n",
    "В обучающей выборке содержится 50000 примеров по 5000 примеров на каждый класс. Тестовая выборка состоит из 10000 изображений.\n",
    "\n",
    "\n",
    "Загрузите [файл](https://www.cs.toronto.edu/~kriz/cifar-10-python.tar.gz) базы. В нем вы найдете обучающую выборку, разделенную на пять частей *data$\\_$batch$\\_$[1-5]*, и тестовую выборку *test_batch*. Каждую из частей можно загрузить с помощью следующей функции:"
   ]
  },
  {
   "cell_type": "code",
   "execution_count": 86,
   "metadata": {},
   "outputs": [],
   "source": [
    "import codecs\n",
    "import pickle\n",
    "\n",
    "def unpickle(file_):\n",
    "    fo = codecs.open(file_, 'rb')\n",
    "    dict_ = pickle.load(fo, encoding='latin1')\n",
    "    fo.close()\n",
    "    return dict_"
   ]
  },
  {
   "cell_type": "markdown",
   "metadata": {},
   "source": [
    "Каждая часть представляет из себя <i>dict</i> объект:\n",
    "- <b>labels</b>: список меток изображений (цифры от 0 до 9)\n",
    "- <b>data</b>: numpy массив изображений размерностью (10000, 3072) (то есть каждая строка представляет из себя изображение). Первые 1024 элемента массива соответствуют красному каналу изображения, вторые 1024 элемента $-$ зеленому, последние 1024 элемента $-$ синему. Сами изображения записаны построчно, то есть в рамках 1024 значений, соответствующих каждому из каналов, первые 32 значения $-$ это первая строчка изображения, вторые 32 значения $-$ вторая и т.д.\n",
    "\n",
    "Загрузите датасет, объединив все обучающие батчи в одну матрицу."
   ]
  },
  {
   "cell_type": "code",
   "execution_count": 98,
   "metadata": {},
   "outputs": [],
   "source": [
    "d = unpickle('cifar-10-batches-py/data_batch_1')\n",
    "train_X = d['data']\n",
    "train_y = d['labels']\n",
    "for i in range(2, 6):\n",
    "    bat = unpickle('cifar-10-batches-py/data_batch_' + str(i))\n",
    "    train_X = np.concatenate((train_X, bat['data']), axis = 0)\n",
    "    train_y = np.concatenate((train_y, bat['labels']), axis = 0)\n",
    "\n",
    "test_bat = unpickle('cifar-10-batches-py/test_batch')\n",
    "test_X = test_bat['data']\n",
    "test_y = np.array(test_bat['labels'])"
   ]
  },
  {
   "cell_type": "code",
   "execution_count": 99,
   "metadata": {},
   "outputs": [
    {
     "name": "stdout",
     "output_type": "stream",
     "text": [
      "(10000,)\n"
     ]
    },
    {
     "data": {
      "text/plain": [
       "(10000, 3072)"
      ]
     },
     "execution_count": 99,
     "metadata": {},
     "output_type": "execute_result"
    }
   ],
   "source": [
    "print(test_y.shape)\n",
    "test_X.shape"
   ]
  },
  {
   "cell_type": "code",
   "execution_count": 100,
   "metadata": {},
   "outputs": [
    {
     "name": "stdout",
     "output_type": "stream",
     "text": [
      "train_X shape: (50000, 3072)\n",
      "50000 train samples\n",
      "10000 test samples\n"
     ]
    }
   ],
   "source": [
    "train_X = train_X.astype('float32')\n",
    "test_X = test_X.astype('float32')\n",
    "train_X /= 255\n",
    "test_X /= 255\n",
    "\n",
    "print('train_X shape:', train_X.shape)\n",
    "print(train_X.shape[0], 'train samples')\n",
    "print(test_X.shape[0], 'test samples')\n",
    "\n",
    "num_classes = 10\n",
    "\n",
    "train_y = keras.utils.to_categorical(train_y, num_classes)\n",
    "test_y = keras.utils.to_categorical(test_y, num_classes)"
   ]
  },
  {
   "cell_type": "code",
   "execution_count": 101,
   "metadata": {},
   "outputs": [
    {
     "name": "stdout",
     "output_type": "stream",
     "text": [
      "(10000, 10)\n",
      "(10000, 3072)\n",
      "(50000, 3072)\n",
      "(50000, 10)\n"
     ]
    }
   ],
   "source": [
    "print(test_y.shape)\n",
    "print(test_X.shape)\n",
    "print(train_X.shape)\n",
    "print(train_y.shape)"
   ]
  },
  {
   "cell_type": "markdown",
   "metadata": {},
   "source": [
    "**(1 балл) Задание 3.** С помощью библиотеки [keras](https://keras.io/) обучите небольшую полносвязную сеть на базе CIFAR-10. Сеть должна состоять из двух слоев по 512 нейронов, с функцией активации [ReLU](https://en.wikipedia.org/wiki/Rectifier_(neural_networks). Для обучения сети используйте стохастический градиентный спуск с [моментумом Нестерова](https://keras.io/optimizers/#sgd). Попытайтесь подобрать начальный <i>learning rate</i>, темп его снижения <i>decay</i>, а также *коэффициенты l2 регуляризаторов* на весовые коэффициенты сети так, чтобы получить наилучшее качество классификации на тестовой выборке (значение функции потерь cross-entropy и топ-1 ошибку классификации). Диапазоны параметров, с которыми рекомендуется провести эксперименты:\n",
    "- <i>learning rate</i>: от 0.005 до 0.1\n",
    "- *decay*: от 1e-9 до 1e-5\n",
    "- *l2 регуляризация*: от 1e-6 до 1e-4\n",
    "\n",
    "Перед обучением необходимо нормализовать обучающую выборку так, чтобы все входные значения были в интервале [0;1]."
   ]
  },
  {
   "cell_type": "code",
   "execution_count": 91,
   "metadata": {},
   "outputs": [],
   "source": [
    "import functools\n",
    "\n",
    "\n",
    "def test_cifar(lrate, decay, l2, n_hidden_layers, n_neurons):\n",
    "    model = Sequential()\n",
    "    model.add(Dense(n_neurons, input_dim=len(train_X[0]), kernel_initializer='uniform'))\n",
    "    model.add(Activation('relu'))\n",
    "    model.add(Dropout(0.3))\n",
    "    for i in range(1, n_hidden_layers):\n",
    "        model.add(Dense(n_neurons, kernel_initializer='uniform'))\n",
    "        model.add(Activation('relu'))\n",
    "        model.add(Dropout(0.3))\n",
    "    model.add(Dense(10, kernel_initializer='uniform'))\n",
    "    model.add(Activation('softmax'))\n",
    "\n",
    "    sgd = SGD(lr=lrate, momentum=l2, decay=decay)\n",
    "    top1_acc = functools.partial(keras.metrics.top_k_categorical_accuracy, k=1)\n",
    "    top1_acc.__name__ = 'top1_acc'\n",
    "    model.compile(loss='categorical_crossentropy',\n",
    "            optimizer=sgd,\n",
    "            metrics=[top1_acc])\n",
    "    \n",
    "    history = model.fit(train_X, train_y,\n",
    "            epochs=30,\n",
    "            batch_size=128,\n",
    "            verbose=0,\n",
    "            validation_data=(test_X, test_y))\n",
    "\n",
    "    score = model.evaluate(test_X, test_y, batch_size=128)\n",
    "    print(score)\n",
    "    print([ltare, decay, l2])\n",
    "    train_error = 1 - np.array(history.history['acc'])\n",
    "    val_error = 1 - np.array(history.history['val_acc'])\n",
    "\n",
    "    plt.figure(figsize=(12, 8))\n",
    "    plt.plot(train_error, label = 'train')\n",
    "    plt.plot(val_error, label = 'test')\n",
    "    plt.title('fMNIST error')\n",
    "    plt.xlabel('Train epoch')\n",
    "    plt.ylabel('Error')\n",
    "    plt.legend()\n",
    "    plt.show()"
   ]
  },
  {
   "cell_type": "code",
   "execution_count": 102,
   "metadata": {},
   "outputs": [
    {
     "name": "stdout",
     "output_type": "stream",
     "text": [
      "Train on 50000 samples, validate on 10000 samples\n",
      "Epoch 1/40\n",
      "50000/50000 [==============================] - 247s 5ms/step - loss: 1.9702 - top1_acc: 0.2848 - val_loss: 1.7733 - val_top1_acc: 0.3687\n",
      "Epoch 2/40\n",
      "25088/50000 [==============>...............] - ETA: 1:26 - loss: 1.8080 - top1_acc: 0.3518"
     ]
    },
    {
     "ename": "KeyboardInterrupt",
     "evalue": "",
     "output_type": "error",
     "traceback": [
      "\u001b[0;31m---------------------------------------------------------------------------\u001b[0m",
      "\u001b[0;31mKeyboardInterrupt\u001b[0m                         Traceback (most recent call last)",
      "\u001b[0;32m<ipython-input-102-7d919a34b709>\u001b[0m in \u001b[0;36m<module>\u001b[0;34m()\u001b[0m\n\u001b[1;32m      7\u001b[0m     \u001b[0mdecay\u001b[0m \u001b[0;34m=\u001b[0m \u001b[0mnp\u001b[0m\u001b[0;34m.\u001b[0m\u001b[0mrandom\u001b[0m\u001b[0;34m.\u001b[0m\u001b[0mchoice\u001b[0m\u001b[0;34m(\u001b[0m\u001b[0mdecay_list\u001b[0m\u001b[0;34m)\u001b[0m\u001b[0;34m\u001b[0m\u001b[0m\n\u001b[1;32m      8\u001b[0m     \u001b[0ml2\u001b[0m \u001b[0;34m=\u001b[0m \u001b[0mnp\u001b[0m\u001b[0;34m.\u001b[0m\u001b[0mrandom\u001b[0m\u001b[0;34m.\u001b[0m\u001b[0mchoice\u001b[0m\u001b[0;34m(\u001b[0m\u001b[0ml2_list\u001b[0m\u001b[0;34m)\u001b[0m\u001b[0;34m\u001b[0m\u001b[0m\n\u001b[0;32m----> 9\u001b[0;31m     \u001b[0mtest_cifar\u001b[0m\u001b[0;34m(\u001b[0m\u001b[0mlrate\u001b[0m\u001b[0;34m,\u001b[0m \u001b[0mdecay\u001b[0m\u001b[0;34m,\u001b[0m \u001b[0ml2\u001b[0m\u001b[0;34m,\u001b[0m \u001b[0;36m2\u001b[0m\u001b[0;34m)\u001b[0m\u001b[0;34m\u001b[0m\u001b[0m\n\u001b[0m",
      "\u001b[0;32m<ipython-input-91-083d676035de>\u001b[0m in \u001b[0;36mtest_cifar\u001b[0;34m(lrate, decay, l2, n_hidden_layers)\u001b[0m\n\u001b[1;32m     25\u001b[0m             \u001b[0mbatch_size\u001b[0m\u001b[0;34m=\u001b[0m\u001b[0;36m128\u001b[0m\u001b[0;34m,\u001b[0m\u001b[0;34m\u001b[0m\u001b[0m\n\u001b[1;32m     26\u001b[0m             \u001b[0mverbose\u001b[0m\u001b[0;34m=\u001b[0m\u001b[0;36m1\u001b[0m\u001b[0;34m,\u001b[0m\u001b[0;34m\u001b[0m\u001b[0m\n\u001b[0;32m---> 27\u001b[0;31m             validation_data=(test_X, test_y))\n\u001b[0m\u001b[1;32m     28\u001b[0m \u001b[0;34m\u001b[0m\u001b[0m\n\u001b[1;32m     29\u001b[0m     \u001b[0mscore\u001b[0m \u001b[0;34m=\u001b[0m \u001b[0mmodel\u001b[0m\u001b[0;34m.\u001b[0m\u001b[0mevaluate\u001b[0m\u001b[0;34m(\u001b[0m\u001b[0mtest_X\u001b[0m\u001b[0;34m,\u001b[0m \u001b[0mtest_y\u001b[0m\u001b[0;34m,\u001b[0m \u001b[0mbatch_size\u001b[0m\u001b[0;34m=\u001b[0m\u001b[0;36m128\u001b[0m\u001b[0;34m)\u001b[0m\u001b[0;34m\u001b[0m\u001b[0m\n",
      "\u001b[0;32m/usr/local/lib/python3.5/dist-packages/keras/models.py\u001b[0m in \u001b[0;36mfit\u001b[0;34m(self, x, y, batch_size, epochs, verbose, callbacks, validation_split, validation_data, shuffle, class_weight, sample_weight, initial_epoch, steps_per_epoch, validation_steps, **kwargs)\u001b[0m\n\u001b[1;32m    958\u001b[0m                               \u001b[0minitial_epoch\u001b[0m\u001b[0;34m=\u001b[0m\u001b[0minitial_epoch\u001b[0m\u001b[0;34m,\u001b[0m\u001b[0;34m\u001b[0m\u001b[0m\n\u001b[1;32m    959\u001b[0m                               \u001b[0msteps_per_epoch\u001b[0m\u001b[0;34m=\u001b[0m\u001b[0msteps_per_epoch\u001b[0m\u001b[0;34m,\u001b[0m\u001b[0;34m\u001b[0m\u001b[0m\n\u001b[0;32m--> 960\u001b[0;31m                               validation_steps=validation_steps)\n\u001b[0m\u001b[1;32m    961\u001b[0m \u001b[0;34m\u001b[0m\u001b[0m\n\u001b[1;32m    962\u001b[0m     def evaluate(self, x, y, batch_size=32, verbose=1,\n",
      "\u001b[0;32m/usr/local/lib/python3.5/dist-packages/keras/engine/training.py\u001b[0m in \u001b[0;36mfit\u001b[0;34m(self, x, y, batch_size, epochs, verbose, callbacks, validation_split, validation_data, shuffle, class_weight, sample_weight, initial_epoch, steps_per_epoch, validation_steps, **kwargs)\u001b[0m\n\u001b[1;32m   1648\u001b[0m                               \u001b[0minitial_epoch\u001b[0m\u001b[0;34m=\u001b[0m\u001b[0minitial_epoch\u001b[0m\u001b[0;34m,\u001b[0m\u001b[0;34m\u001b[0m\u001b[0m\n\u001b[1;32m   1649\u001b[0m                               \u001b[0msteps_per_epoch\u001b[0m\u001b[0;34m=\u001b[0m\u001b[0msteps_per_epoch\u001b[0m\u001b[0;34m,\u001b[0m\u001b[0;34m\u001b[0m\u001b[0m\n\u001b[0;32m-> 1650\u001b[0;31m                               validation_steps=validation_steps)\n\u001b[0m\u001b[1;32m   1651\u001b[0m \u001b[0;34m\u001b[0m\u001b[0m\n\u001b[1;32m   1652\u001b[0m     def evaluate(self, x=None, y=None,\n",
      "\u001b[0;32m/usr/local/lib/python3.5/dist-packages/keras/engine/training.py\u001b[0m in \u001b[0;36m_fit_loop\u001b[0;34m(self, f, ins, out_labels, batch_size, epochs, verbose, callbacks, val_f, val_ins, shuffle, callback_metrics, initial_epoch, steps_per_epoch, validation_steps)\u001b[0m\n\u001b[1;32m   1211\u001b[0m                     \u001b[0mbatch_logs\u001b[0m\u001b[0;34m[\u001b[0m\u001b[0;34m'size'\u001b[0m\u001b[0;34m]\u001b[0m \u001b[0;34m=\u001b[0m \u001b[0mlen\u001b[0m\u001b[0;34m(\u001b[0m\u001b[0mbatch_ids\u001b[0m\u001b[0;34m)\u001b[0m\u001b[0;34m\u001b[0m\u001b[0m\n\u001b[1;32m   1212\u001b[0m                     \u001b[0mcallbacks\u001b[0m\u001b[0;34m.\u001b[0m\u001b[0mon_batch_begin\u001b[0m\u001b[0;34m(\u001b[0m\u001b[0mbatch_index\u001b[0m\u001b[0;34m,\u001b[0m \u001b[0mbatch_logs\u001b[0m\u001b[0;34m)\u001b[0m\u001b[0;34m\u001b[0m\u001b[0m\n\u001b[0;32m-> 1213\u001b[0;31m                     \u001b[0mouts\u001b[0m \u001b[0;34m=\u001b[0m \u001b[0mf\u001b[0m\u001b[0;34m(\u001b[0m\u001b[0mins_batch\u001b[0m\u001b[0;34m)\u001b[0m\u001b[0;34m\u001b[0m\u001b[0m\n\u001b[0m\u001b[1;32m   1214\u001b[0m                     \u001b[0;32mif\u001b[0m \u001b[0;32mnot\u001b[0m \u001b[0misinstance\u001b[0m\u001b[0;34m(\u001b[0m\u001b[0mouts\u001b[0m\u001b[0;34m,\u001b[0m \u001b[0mlist\u001b[0m\u001b[0;34m)\u001b[0m\u001b[0;34m:\u001b[0m\u001b[0;34m\u001b[0m\u001b[0m\n\u001b[1;32m   1215\u001b[0m                         \u001b[0mouts\u001b[0m \u001b[0;34m=\u001b[0m \u001b[0;34m[\u001b[0m\u001b[0mouts\u001b[0m\u001b[0;34m]\u001b[0m\u001b[0;34m\u001b[0m\u001b[0m\n",
      "\u001b[0;32m/usr/local/lib/python3.5/dist-packages/keras/backend/tensorflow_backend.py\u001b[0m in \u001b[0;36m__call__\u001b[0;34m(self, inputs)\u001b[0m\n\u001b[1;32m   2350\u001b[0m         \u001b[0msession\u001b[0m \u001b[0;34m=\u001b[0m \u001b[0mget_session\u001b[0m\u001b[0;34m(\u001b[0m\u001b[0;34m)\u001b[0m\u001b[0;34m\u001b[0m\u001b[0m\n\u001b[1;32m   2351\u001b[0m         updated = session.run(fetches=fetches, feed_dict=feed_dict,\n\u001b[0;32m-> 2352\u001b[0;31m                               **self.session_kwargs)\n\u001b[0m\u001b[1;32m   2353\u001b[0m         \u001b[0;32mreturn\u001b[0m \u001b[0mupdated\u001b[0m\u001b[0;34m[\u001b[0m\u001b[0;34m:\u001b[0m\u001b[0mlen\u001b[0m\u001b[0;34m(\u001b[0m\u001b[0mself\u001b[0m\u001b[0;34m.\u001b[0m\u001b[0moutputs\u001b[0m\u001b[0;34m)\u001b[0m\u001b[0;34m]\u001b[0m\u001b[0;34m\u001b[0m\u001b[0m\n\u001b[1;32m   2354\u001b[0m \u001b[0;34m\u001b[0m\u001b[0m\n",
      "\u001b[0;32m/usr/local/lib/python3.5/dist-packages/tensorflow/python/client/session.py\u001b[0m in \u001b[0;36mrun\u001b[0;34m(self, fetches, feed_dict, options, run_metadata)\u001b[0m\n\u001b[1;32m    887\u001b[0m     \u001b[0;32mtry\u001b[0m\u001b[0;34m:\u001b[0m\u001b[0;34m\u001b[0m\u001b[0m\n\u001b[1;32m    888\u001b[0m       result = self._run(None, fetches, feed_dict, options_ptr,\n\u001b[0;32m--> 889\u001b[0;31m                          run_metadata_ptr)\n\u001b[0m\u001b[1;32m    890\u001b[0m       \u001b[0;32mif\u001b[0m \u001b[0mrun_metadata\u001b[0m\u001b[0;34m:\u001b[0m\u001b[0;34m\u001b[0m\u001b[0m\n\u001b[1;32m    891\u001b[0m         \u001b[0mproto_data\u001b[0m \u001b[0;34m=\u001b[0m \u001b[0mtf_session\u001b[0m\u001b[0;34m.\u001b[0m\u001b[0mTF_GetBuffer\u001b[0m\u001b[0;34m(\u001b[0m\u001b[0mrun_metadata_ptr\u001b[0m\u001b[0;34m)\u001b[0m\u001b[0;34m\u001b[0m\u001b[0m\n",
      "\u001b[0;32m/usr/local/lib/python3.5/dist-packages/tensorflow/python/client/session.py\u001b[0m in \u001b[0;36m_run\u001b[0;34m(self, handle, fetches, feed_dict, options, run_metadata)\u001b[0m\n\u001b[1;32m   1118\u001b[0m     \u001b[0;32mif\u001b[0m \u001b[0mfinal_fetches\u001b[0m \u001b[0;32mor\u001b[0m \u001b[0mfinal_targets\u001b[0m \u001b[0;32mor\u001b[0m \u001b[0;34m(\u001b[0m\u001b[0mhandle\u001b[0m \u001b[0;32mand\u001b[0m \u001b[0mfeed_dict_tensor\u001b[0m\u001b[0;34m)\u001b[0m\u001b[0;34m:\u001b[0m\u001b[0;34m\u001b[0m\u001b[0m\n\u001b[1;32m   1119\u001b[0m       results = self._do_run(handle, final_targets, final_fetches,\n\u001b[0;32m-> 1120\u001b[0;31m                              feed_dict_tensor, options, run_metadata)\n\u001b[0m\u001b[1;32m   1121\u001b[0m     \u001b[0;32melse\u001b[0m\u001b[0;34m:\u001b[0m\u001b[0;34m\u001b[0m\u001b[0m\n\u001b[1;32m   1122\u001b[0m       \u001b[0mresults\u001b[0m \u001b[0;34m=\u001b[0m \u001b[0;34m[\u001b[0m\u001b[0;34m]\u001b[0m\u001b[0;34m\u001b[0m\u001b[0m\n",
      "\u001b[0;32m/usr/local/lib/python3.5/dist-packages/tensorflow/python/client/session.py\u001b[0m in \u001b[0;36m_do_run\u001b[0;34m(self, handle, target_list, fetch_list, feed_dict, options, run_metadata)\u001b[0m\n\u001b[1;32m   1315\u001b[0m     \u001b[0;32mif\u001b[0m \u001b[0mhandle\u001b[0m \u001b[0;32mis\u001b[0m \u001b[0;32mNone\u001b[0m\u001b[0;34m:\u001b[0m\u001b[0;34m\u001b[0m\u001b[0m\n\u001b[1;32m   1316\u001b[0m       return self._do_call(_run_fn, self._session, feeds, fetches, targets,\n\u001b[0;32m-> 1317\u001b[0;31m                            options, run_metadata)\n\u001b[0m\u001b[1;32m   1318\u001b[0m     \u001b[0;32melse\u001b[0m\u001b[0;34m:\u001b[0m\u001b[0;34m\u001b[0m\u001b[0m\n\u001b[1;32m   1319\u001b[0m       \u001b[0;32mreturn\u001b[0m \u001b[0mself\u001b[0m\u001b[0;34m.\u001b[0m\u001b[0m_do_call\u001b[0m\u001b[0;34m(\u001b[0m\u001b[0m_prun_fn\u001b[0m\u001b[0;34m,\u001b[0m \u001b[0mself\u001b[0m\u001b[0;34m.\u001b[0m\u001b[0m_session\u001b[0m\u001b[0;34m,\u001b[0m \u001b[0mhandle\u001b[0m\u001b[0;34m,\u001b[0m \u001b[0mfeeds\u001b[0m\u001b[0;34m,\u001b[0m \u001b[0mfetches\u001b[0m\u001b[0;34m)\u001b[0m\u001b[0;34m\u001b[0m\u001b[0m\n",
      "\u001b[0;32m/usr/local/lib/python3.5/dist-packages/tensorflow/python/client/session.py\u001b[0m in \u001b[0;36m_do_call\u001b[0;34m(self, fn, *args)\u001b[0m\n\u001b[1;32m   1321\u001b[0m   \u001b[0;32mdef\u001b[0m \u001b[0m_do_call\u001b[0m\u001b[0;34m(\u001b[0m\u001b[0mself\u001b[0m\u001b[0;34m,\u001b[0m \u001b[0mfn\u001b[0m\u001b[0;34m,\u001b[0m \u001b[0;34m*\u001b[0m\u001b[0margs\u001b[0m\u001b[0;34m)\u001b[0m\u001b[0;34m:\u001b[0m\u001b[0;34m\u001b[0m\u001b[0m\n\u001b[1;32m   1322\u001b[0m     \u001b[0;32mtry\u001b[0m\u001b[0;34m:\u001b[0m\u001b[0;34m\u001b[0m\u001b[0m\n\u001b[0;32m-> 1323\u001b[0;31m       \u001b[0;32mreturn\u001b[0m \u001b[0mfn\u001b[0m\u001b[0;34m(\u001b[0m\u001b[0;34m*\u001b[0m\u001b[0margs\u001b[0m\u001b[0;34m)\u001b[0m\u001b[0;34m\u001b[0m\u001b[0m\n\u001b[0m\u001b[1;32m   1324\u001b[0m     \u001b[0;32mexcept\u001b[0m \u001b[0merrors\u001b[0m\u001b[0;34m.\u001b[0m\u001b[0mOpError\u001b[0m \u001b[0;32mas\u001b[0m \u001b[0me\u001b[0m\u001b[0;34m:\u001b[0m\u001b[0;34m\u001b[0m\u001b[0m\n\u001b[1;32m   1325\u001b[0m       \u001b[0mmessage\u001b[0m \u001b[0;34m=\u001b[0m \u001b[0mcompat\u001b[0m\u001b[0;34m.\u001b[0m\u001b[0mas_text\u001b[0m\u001b[0;34m(\u001b[0m\u001b[0me\u001b[0m\u001b[0;34m.\u001b[0m\u001b[0mmessage\u001b[0m\u001b[0;34m)\u001b[0m\u001b[0;34m\u001b[0m\u001b[0m\n",
      "\u001b[0;32m/usr/local/lib/python3.5/dist-packages/tensorflow/python/client/session.py\u001b[0m in \u001b[0;36m_run_fn\u001b[0;34m(session, feed_dict, fetch_list, target_list, options, run_metadata)\u001b[0m\n\u001b[1;32m   1300\u001b[0m           return tf_session.TF_Run(session, options,\n\u001b[1;32m   1301\u001b[0m                                    \u001b[0mfeed_dict\u001b[0m\u001b[0;34m,\u001b[0m \u001b[0mfetch_list\u001b[0m\u001b[0;34m,\u001b[0m \u001b[0mtarget_list\u001b[0m\u001b[0;34m,\u001b[0m\u001b[0;34m\u001b[0m\u001b[0m\n\u001b[0;32m-> 1302\u001b[0;31m                                    status, run_metadata)\n\u001b[0m\u001b[1;32m   1303\u001b[0m \u001b[0;34m\u001b[0m\u001b[0m\n\u001b[1;32m   1304\u001b[0m     \u001b[0;32mdef\u001b[0m \u001b[0m_prun_fn\u001b[0m\u001b[0;34m(\u001b[0m\u001b[0msession\u001b[0m\u001b[0;34m,\u001b[0m \u001b[0mhandle\u001b[0m\u001b[0;34m,\u001b[0m \u001b[0mfeed_dict\u001b[0m\u001b[0;34m,\u001b[0m \u001b[0mfetch_list\u001b[0m\u001b[0;34m)\u001b[0m\u001b[0;34m:\u001b[0m\u001b[0;34m\u001b[0m\u001b[0m\n",
      "\u001b[0;31mKeyboardInterrupt\u001b[0m: "
     ]
    }
   ],
   "source": [
    "lrate_list = [0.005, 0.02, 0.1, 0.05, 0.01, 0.075]\n",
    "decay_list = [1e-9, 1e-8, 1e-7, 1e-6, 1e-5]\n",
    "l2_list = [1e-6, 1e-5, 1e-4, 5e-6, 5e-5]\n",
    "\n",
    "for i in range(5):\n",
    "    lrate = np.random.choice(lrate_list)\n",
    "    decay = np.random.choice(decay_list)\n",
    "    l2 = np.random.choice(l2_list)\n",
    "    test_cifar(lrate, decay, l2, 2, 512)"
   ]
  },
  {
   "cell_type": "markdown",
   "metadata": {},
   "source": [
    "**(1 балл) Задание 4.** Поэкспериментируйте с размером сети: попробуйте увеличить количество нейронов в каждом слое и общую глубину сети.  Наблюдается ли сильное повышение качества классификации на тестовой выборке?"
   ]
  },
  {
   "cell_type": "code",
   "execution_count": null,
   "metadata": {},
   "outputs": [],
   "source": [
    "for i in range(2):\n",
    "    lrate = np.random.choice(lrate_list)\n",
    "    decay = np.random.choice(decay_list)\n",
    "    l2 = np.random.choice(l2_list)\n",
    "    test_cifar(lrate, decay, l2, 3+i, 768)"
   ]
  },
  {
   "cell_type": "markdown",
   "metadata": {},
   "source": [
    "Теперь давайте попробуем обучить сверточную сеть небольшого размера. Для этого необходимо вначале изменить формат наших данных, так как сверточные сети работают не с векторами примеров, а с многомерными матрицами примеров. Для этого каждый элемент выборки нужно преобразовать из вектора длины 3072 в матрицу с размерностями (3, 32, 32), где каждый из элементов первой размерности отвечает за свой канал изображения."
   ]
  },
  {
   "cell_type": "code",
   "execution_count": null,
   "metadata": {
    "collapsed": true
   },
   "outputs": [],
   "source": []
  },
  {
   "cell_type": "markdown",
   "metadata": {},
   "source": [
    "**(2 балла) Задание 5.** Первая сверточная сеть будет состоять из трех сверточных блоков $-$ последовательностей свертки ([Convolution2D](https://keras.io/layers/convolutional/#conv2d)), нелинейности (ReLU) и пулинга ([MaxPooling2D](https://keras.io/layers/pooling/#maxpooling2d)). При построении сверточной нейронной сети обычно необходимо определить значения нескольких параметров:\n",
    "- количества ядер свертки (различных карт признаков) в каждом из слоев\n",
    "- размеры ядер\n",
    "- тип и размер области слоя пулинга\n",
    "\n",
    "**Карта признаков** (feature map) $-$ это результат применения одного ядра свертки ко входам в слой, которые в свою очередь представляют собой множество карт признаков предыдущего слоя.\n",
    "\n",
    "Для текущего задания возьмите следующие значения:\n",
    "- *размеры фильтров* во всех сверточных слоях будут равными 5x5 пикселей;\n",
    "- *размер области max-пулинга* 3x3 пикселя со смещением в 2 пикселя (области пулинга будут перекрываться);\n",
    "- *количество ядер* в первой сверточном слое возьмем равным 48, во втором — 64, а в третьем — 128.\n",
    "\n",
    "**На практике** обычно используют пулинг размером 2x2 без перекрытия областей. Применение такого пулинга приводит к уменьшению в два раза размерности каждой из входных карт признаков. В следующем после пулинга сверточном слое увеличивают количество ядер в два раза. Однако в данной работе необходимо сделать достаточно небольшую и неглубокую сеть, которую можно обучить за разумное время на обычном ноутбуке, поэтому в данном задании мы отступаем от стандартных практик.\n",
    "\n",
    "После сверточных блоков необходимо добавить в сеть два полносвязных слоя размерности 512 с нелинейностями.\n",
    "Перед каждым сверточным слоем в сети необходимо добавить слои дополнения нулями входных карт признаков, для того чтобы после операции свертки размеры карт не изменялись, используя слой [ZeroPadding2D](https://keras.io/layers/convolutional/#zeropadding2d). Подберите значения паддинга таким образом, чтобы после свертки 5x5 получались карты признаков такой же размерности, как и до свертки.\n",
    "\n",
    "Итоговую архитектуру сети можно вывести после применения метода <i>compile</i> с помощью:\n",
    "    \n",
    "    print model.summary()\n",
    "    \n",
    "Попробуйте подобрать начальный learning rate так, чтобы избежать расхождения обучения в самом начале.\n",
    "\n",
    "**Обратите внимание:**\n",
    "- обучение подобной сети на ноутбуке в течение 15 эпох может занять около 3-х часов. Для того, чтобы убедиться в корректности составленной архитектуры можно попробовать запустить обучение на подмножестве обучающей выборки и убедиться в уменьшении ошибки классификации;\n",
    "- для сверточных сетей критерий останова вводить не стоит, так как обучение их до сходимости весьма затратно по времени."
   ]
  },
  {
   "cell_type": "code",
   "execution_count": null,
   "metadata": {
    "collapsed": true
   },
   "outputs": [],
   "source": []
  },
  {
   "cell_type": "markdown",
   "metadata": {},
   "source": [
    "Большие нейронные сети склонны к переобучению. Для того, чтобы бороться с переобучением, в области распознавания изображений активно применяют техники расширения обучающей выборки. Для этого к обучающим изображениям применяют различные преобразования, которые не меняют класс объекта. В рамках данного задания мы возьмем сверточную сеть, которую обучали ранее, и будем применять ко входным изображениям случайные сдвиги по обеим координатам и горизонтальные перевороты изображения. Для этого можно воспользоваться специальным классом [ImageDataGenerator](https://keras.io/preprocessing/image/#imagedatagenerator). \n",
    "\n",
    "Задайте параметры <i>ImageDataGenerator</i> таким образом, чтобы он осуществлял случайные горизонтальные и вертикальные сдвиги изображения в пределах трех пикселей и случайные горизонтальные перевороты. Также не забудьте правильно выставить порядок размерностей во входных данных в параметре <i>dim_ordering</i> при создании экземпляра класса ImageDataGenerator.\n",
    "\n",
    "**(1 балл) Задание 6.** Обучите сверточную сеть той же архитектуры, которая использовалась раннее. Как расширение выборки отразилось на качестве классификации на тестовой выборке?"
   ]
  },
  {
   "cell_type": "code",
   "execution_count": null,
   "metadata": {
    "collapsed": true
   },
   "outputs": [],
   "source": []
  },
  {
   "cell_type": "markdown",
   "metadata": {},
   "source": [
    "## Предсказание тональности отзывов на фильмы"
   ]
  },
  {
   "cell_type": "markdown",
   "metadata": {},
   "source": [
    "В данном задании вам предлагается попробовать различные архитектуры нейронных сетей и форматы представления входных данных в задаче текстовой классификации на примере [базы отзывов IMDB](http://ai.stanford.edu/~amaas/data/sentiment/).\n",
    "\n",
    "<img src=\"http://medialeaks.ru/wp-content/uploads/2015/10/IMDb.jpg\" width=500>\n",
    "</img>\n",
    "\n",
    "Данная база содержит 25000 отзывов в обучающем множестве и 25000 отзывов в тестовом. Все отзывы разбиты на два класса: положительные и отрицательные. Данные разбиты между обучающим и тестовым множествам по фильмам, то есть в тестовом множестве нет отзывов на те фильмы, которые есть в обучении.\n",
    "\n",
    "В файле с базой есть две разные папки для обучающей и тестовой выборке. В каждой из папок верхнего уровне есть папки отрицательных и положительных отзывов. Каждый отзыв лежит в отдельном текстовом файле."
   ]
  },
  {
   "cell_type": "markdown",
   "metadata": {},
   "source": [
    "Загрузите отзывы из обучающей и тестовой выборок. Напишите схему токенизации текста:\n",
    "- текст нужно перевести в нижний регистр\n",
    "- выделить слова в тексте. \n",
    "\n",
    "Словами/токенами мы считаем последовательности букв и цифр, разделенные знаками препинания и пробелами. Здесь и далее для токенизации текста вы можете использовать функцию [CountVectorizer](http://scikit-learn.org/stable/modules/generated/sklearn.feature_extraction.text.CountVectorizer.html)."
   ]
  },
  {
   "cell_type": "markdown",
   "metadata": {},
   "source": [
    "Выделите множество токенов в обучающих текстах и составьте словарь из 10000 самых частотных слов."
   ]
  },
  {
   "cell_type": "code",
   "execution_count": null,
   "metadata": {
    "collapsed": true
   },
   "outputs": [],
   "source": []
  },
  {
   "cell_type": "markdown",
   "metadata": {},
   "source": [
    "В качестве представления для входных текстов мы будем использовать мешок слов. Каждый отзыв будет представлен вектором с длиной равной количеству токенов в словаре. На позиции в векторе, которая соответствует определенному токену в словаре, будет записано количество вхождений этого токена в обучающий сэмпл. Так как keras не поддерживает разреженные входы, то необходимо будет использовать обычные вектора. Обратите внимание, что в случае использования функции *CountVectorizer*, необходимо дополнительное преобразование из разряженного представления. Напишите функцию, которая по входному тексту и словарю возвращает его представление в виде мешка слов."
   ]
  },
  {
   "cell_type": "code",
   "execution_count": null,
   "metadata": {
    "collapsed": true
   },
   "outputs": [],
   "source": []
  },
  {
   "cell_type": "markdown",
   "metadata": {},
   "source": [
    "**(1 балл) Задание 7.** С помощью функций [train_on_batch](https://keras.io/models/sequential/#train_on_batch) и [test_on_batch](https://keras.io/models/sequential/#test_on_batch) класса модели в keras напишите процедуру обучения/тестирования нейронной сети в побатчевом режиме на выборке сэмплов. \n",
    "\n",
    "Функция должна принимать на вход выборку текстов и соответствующих им классификационных меток, а также размер батча, используемого при обучении/тестировании. Подача  батчей в сеть должна происходить в случайном порядке. Кодирование текстов в сэмплах должно осуществляться непосредственно в момент формирования батча. Это позволяет значительно снизить необходимый объем памяти для обработки выборки, так как не обязывает нас хранить все сэмплы в закодированном виде.\n",
    "\n",
    "Также данная процедура должна осуществлять подсчет функци потерь и классификационной ошибки на обучающей выборке путем усреднения ошибок на отдельных батчах. "
   ]
  },
  {
   "cell_type": "code",
   "execution_count": null,
   "metadata": {
    "collapsed": true
   },
   "outputs": [],
   "source": []
  },
  {
   "cell_type": "markdown",
   "metadata": {},
   "source": [
    "**(1 балл) Задание 8.** С помощью разработанного метода обучите полносвязную сеть для решения задачи предсказания тональности. Попробуйте использовать различные архитектуры (с разным количеством слоев, например, 2-4, и нейронов, например, от 100 до 500), а также разные методы регуляризации (l2 регуляризация на веса и Dropout, в том числе после самого первого слоя). Попробуйте провести эксперименты не только с обычным градиентным спуском, но и с более сложными алгоритмами с адаптивными learning rate, например, [RMSPROP](https://keras.io/optimizers/#rmsprop). \n",
    "\n",
    "Для быстрой оценки качества подобранной комбинации иногда достаточно посмотреть на динамику ошибки в течение первых нескольких эпох обучения. При этом однако, необходимо помнить, что более агрессивная регуляризация обычно снижает скорость сходимости, но приводит к более низкой ошибке на тестовой выборке.\n",
    "\n",
    "Сделайте небольшую таблицу с результатами вашего исследования. Какого наилучшего качества классификации вам удалось добиться на тестовой выборке и с какой комбинацией параметров?"
   ]
  },
  {
   "cell_type": "code",
   "execution_count": null,
   "metadata": {
    "collapsed": true
   },
   "outputs": [],
   "source": []
  },
  {
   "cell_type": "markdown",
   "metadata": {},
   "source": [
    "Так как выборка IMDB является не очень большой по размеру, то используя только ее достаточно сложно выучить хорошие распределенные представления для слов, которые формируются в первом полносвязном слое сети.\n",
    "\n",
    "Мы можем инициализировать этот первый слой сети из каких-либо предобученных векторных представлений слов. В рамках данного задания мы будем использовать 100000 наиболее частотных слов из модели word2vec, обученной на большом корпусе новостей. Скачать вектора можно по [ссылке](https://www.dropbox.com/s/wefgvcqqym0brh7/mikolov_w2v_100k.tsv?dl=0). В этом файле в первой строчке записано количество слов в словаре и размерность представления, а дальше на на каждой строчке записано слово, а за ним идет 300-мерное представление этого слова. \n",
    "\n",
    "Пересеките выделенный вами словарь со словарем word2vec и составьте матрицу весов для инициализации первого полносвязного слоя сети. Более 80% слов из вашего словаря будут присутствовать и в word2vec, а вектора тех слов, которые не нашлись, проинициализируйте из распределения $U\\left(-0.05, 0.05\\right)$"
   ]
  },
  {
   "cell_type": "code",
   "execution_count": null,
   "metadata": {
    "collapsed": true
   },
   "outputs": [],
   "source": []
  },
  {
   "cell_type": "markdown",
   "metadata": {},
   "source": [
    "**(0.5 балла) Задание 9.** Обучите нейронную сеть с подобранными вами ранее наилучшими параметрами, при этом инициализировав первый Dense слой получившейся матрицей. Так как предоставленный word2vec имеет размерность 300, то и этот первый слой также будет иметь 300 нейронов. Удалось ли вам получить более высокое качество классификации?"
   ]
  },
  {
   "cell_type": "code",
   "execution_count": null,
   "metadata": {
    "collapsed": true
   },
   "outputs": [],
   "source": []
  },
  {
   "cell_type": "markdown",
   "metadata": {},
   "source": [
    "Небольшое количество слов с словаре не позволяет учитывать все возможные словоформы различных слов, а также частые опечатки, которые встречаются в реальных текстах. Особенно это становится заметно на языках с богатой морфологией. Из-за этого редкие слова не попадают в мешок слов, что потенциально может снижать качество работы классификатора.\n",
    "\n",
    "Для борьбы с этим явлением на практике в дополнение к словам часто используются буквенные триграммы в качестве токенов. Например, текст \"Машинное обучение - рулит!\" после приведения к нижнему регистру будет разбит на множество триграмм [\"маш\", \"аши\", \"шин\", \"инн\", \"ное\", \"ое \", \"е о\", \" об\", \"обу\", \"буч\", \"уче\", \"чен\", \"ени\", \"ние\", \"ие \", \"е -\", \" - \", \"- р\", \" ру\", \"рул\", \"ули\", \"лит\", \"ит!\"]. Также буквенные триграммы позволяют обучать совместное представления для однокоренных слов. Обычно при составлении буквенных триграмм мы не игнорируем знаки пунктуации и пробелы в тексте.\n",
    "\n",
    "Выделите из обучающих текстов 2000 наиболее частотных буквенных триграмм (после приведения текстов в нижний регистр). Составьте смешанный словарь токенов, в котором будет 8000 наиболее частотных слов и 2000 триграмм. "
   ]
  },
  {
   "cell_type": "code",
   "execution_count": null,
   "metadata": {
    "collapsed": true
   },
   "outputs": [],
   "source": []
  },
  {
   "cell_type": "markdown",
   "metadata": {},
   "source": [
    "**(0.5 балла) Задание 10.** Модифицируйте методы кодирования текста и метод обучения нейронной сети так, чтобы они работали для смешанного словаря. Попробуйте обучить несколько архитектур полносвязных нейронных сетей, используя новое представления текста."
   ]
  },
  {
   "cell_type": "code",
   "execution_count": null,
   "metadata": {
    "collapsed": true
   },
   "outputs": [],
   "source": []
  },
  {
   "cell_type": "markdown",
   "metadata": {},
   "source": [
    "**(1 балл) Задание 11.**Постройте сводный график, сравнивающий различные представления текста и различные архитектуры сетей. Какие выводы можно сделать из проведенного вами исследования?"
   ]
  },
  {
   "cell_type": "code",
   "execution_count": null,
   "metadata": {
    "collapsed": true
   },
   "outputs": [],
   "source": []
  }
 ],
 "metadata": {
  "kernelspec": {
   "display_name": "Python 3",
   "language": "python",
   "name": "python3"
  },
  "language_info": {
   "codemirror_mode": {
    "name": "ipython",
    "version": 3
   },
   "file_extension": ".py",
   "mimetype": "text/x-python",
   "name": "python",
   "nbconvert_exporter": "python",
   "pygments_lexer": "ipython3",
   "version": "3.5.2"
  }
 },
 "nbformat": 4,
 "nbformat_minor": 1
}

{
 "cells": [
  {
   "cell_type": "code",
   "execution_count": 1,
   "metadata": {},
   "outputs": [],
   "source": [
    "import pandas as pd\n",
    "import numpy as np"
   ]
  },
  {
   "cell_type": "markdown",
   "metadata": {},
   "source": [
    "Читаем входные файлы с данными"
   ]
  },
  {
   "cell_type": "code",
   "execution_count": 2,
   "metadata": {},
   "outputs": [],
   "source": [
    "transactions = pd.read_csv('transactions.csv')"
   ]
  },
  {
   "cell_type": "markdown",
   "metadata": {},
   "source": [
    "Примерный вид данных, содержащих транзакции клиентов"
   ]
  },
  {
   "cell_type": "code",
   "execution_count": 3,
   "metadata": {},
   "outputs": [
    {
     "data": {
      "text/html": [
       "<div>\n",
       "<style>\n",
       "    .dataframe thead tr:only-child th {\n",
       "        text-align: right;\n",
       "    }\n",
       "\n",
       "    .dataframe thead th {\n",
       "        text-align: left;\n",
       "    }\n",
       "\n",
       "    .dataframe tbody tr th {\n",
       "        vertical-align: top;\n",
       "    }\n",
       "</style>\n",
       "<table border=\"1\" class=\"dataframe\">\n",
       "  <thead>\n",
       "    <tr style=\"text-align: right;\">\n",
       "      <th></th>\n",
       "      <th>customer_id</th>\n",
       "      <th>tr_datetime</th>\n",
       "      <th>mcc_code</th>\n",
       "      <th>tr_type</th>\n",
       "      <th>amount</th>\n",
       "      <th>term_id</th>\n",
       "    </tr>\n",
       "  </thead>\n",
       "  <tbody>\n",
       "    <tr>\n",
       "      <th>0</th>\n",
       "      <td>7391977</td>\n",
       "      <td>0 10:23:26</td>\n",
       "      <td>4814</td>\n",
       "      <td>1030</td>\n",
       "      <td>-2245.92</td>\n",
       "      <td>NaN</td>\n",
       "    </tr>\n",
       "    <tr>\n",
       "      <th>1</th>\n",
       "      <td>7391977</td>\n",
       "      <td>1 10:19:29</td>\n",
       "      <td>6011</td>\n",
       "      <td>7010</td>\n",
       "      <td>56147.89</td>\n",
       "      <td>NaN</td>\n",
       "    </tr>\n",
       "    <tr>\n",
       "      <th>2</th>\n",
       "      <td>7391977</td>\n",
       "      <td>1 10:20:56</td>\n",
       "      <td>4829</td>\n",
       "      <td>2330</td>\n",
       "      <td>-56147.89</td>\n",
       "      <td>NaN</td>\n",
       "    </tr>\n",
       "    <tr>\n",
       "      <th>3</th>\n",
       "      <td>7391977</td>\n",
       "      <td>1 10:39:54</td>\n",
       "      <td>5499</td>\n",
       "      <td>1010</td>\n",
       "      <td>-1392.47</td>\n",
       "      <td>NaN</td>\n",
       "    </tr>\n",
       "    <tr>\n",
       "      <th>4</th>\n",
       "      <td>7391977</td>\n",
       "      <td>2 15:33:42</td>\n",
       "      <td>5499</td>\n",
       "      <td>1010</td>\n",
       "      <td>-920.83</td>\n",
       "      <td>NaN</td>\n",
       "    </tr>\n",
       "  </tbody>\n",
       "</table>\n",
       "</div>"
      ],
      "text/plain": [
       "   customer_id tr_datetime  mcc_code  tr_type    amount term_id\n",
       "0      7391977  0 10:23:26      4814     1030  -2245.92     NaN\n",
       "1      7391977  1 10:19:29      6011     7010  56147.89     NaN\n",
       "2      7391977  1 10:20:56      4829     2330 -56147.89     NaN\n",
       "3      7391977  1 10:39:54      5499     1010  -1392.47     NaN\n",
       "4      7391977  2 15:33:42      5499     1010   -920.83     NaN"
      ]
     },
     "execution_count": 3,
     "metadata": {},
     "output_type": "execute_result"
    }
   ],
   "source": [
    "transactions.head()"
   ]
  },
  {
   "cell_type": "markdown",
   "metadata": {},
   "source": [
    "Для обучения будем использовать только траты клиентов"
   ]
  },
  {
   "cell_type": "code",
   "execution_count": 4,
   "metadata": {},
   "outputs": [],
   "source": [
    "train_transactions = transactions[transactions.amount < 0].copy()"
   ]
  },
  {
   "cell_type": "markdown",
   "metadata": {},
   "source": [
    "Добавим признак обозначающий день транзакции"
   ]
  },
  {
   "cell_type": "code",
   "execution_count": 5,
   "metadata": {},
   "outputs": [],
   "source": [
    "train_transactions['day'] = train_transactions.tr_datetime.apply(lambda dt: dt.split()[0]).astype(int)"
   ]
  },
  {
   "cell_type": "markdown",
   "metadata": {},
   "source": [
    "Так как нам тестовая выборка не дана, то мы сгенерируем её сами. Для этого возьмём все mcc_code представленные в обучающей выборке и предскажем их на 30 дней вперед."
   ]
  },
  {
   "cell_type": "code",
   "execution_count": 6,
   "metadata": {},
   "outputs": [],
   "source": [
    "test_transactions = pd.DataFrame(columns=train_transactions.mcc_code.unique(), \n",
    "                                 index=np.arange(1, 31) + train_transactions.day.max())\n",
    "test_transactions = test_transactions.unstack().reset_index().dropna(axis=1)\n",
    "test_transactions.columns = ['mcc_code', 'day']"
   ]
  },
  {
   "cell_type": "markdown",
   "metadata": {},
   "source": [
    "Аналогично создадим сетку для обучения"
   ]
  },
  {
   "cell_type": "code",
   "execution_count": 7,
   "metadata": {},
   "outputs": [],
   "source": [
    "train_grid = pd.DataFrame(columns=train_transactions.mcc_code.unique(), \n",
    "                          index=train_transactions.day.unique())\n",
    "train_grid = train_grid.unstack().reset_index().dropna(axis=1)\n",
    "train_grid.columns = ['mcc_code', 'day']"
   ]
  },
  {
   "cell_type": "markdown",
   "metadata": {},
   "source": [
    "Сделаем дополнительные признаки, касающиеся даты"
   ]
  },
  {
   "cell_type": "code",
   "execution_count": 8,
   "metadata": {},
   "outputs": [],
   "source": [
    "for tr_table in [train_transactions, test_transactions, train_grid]:\n",
    "    tr_table['week_num'] = tr_table['day'] // 7\n",
    "    tr_table['week_day'] = tr_table['day'] % 7\n",
    "    tr_table['month_num'] = tr_table['day'] // 30\n",
    "    tr_table['month_day'] = tr_table['day'] % 30"
   ]
  },
  {
   "cell_type": "markdown",
   "metadata": {},
   "source": [
    "Смержим наши данные для обучения с сеткой для обучения, группирую данные по дате, суммируя объём транзакций"
   ]
  },
  {
   "cell_type": "code",
   "execution_count": 9,
   "metadata": {},
   "outputs": [],
   "source": [
    "train_transactions = \\\n",
    "    pd.merge(train_grid,\n",
    "             train_transactions.groupby(['day', 'week_num', 'week_day', 'month_num', 'month_day', 'mcc_code'])[['amount']]\\\n",
    "                 .sum().reset_index(),\n",
    "             how='left').fillna(0)"
   ]
  },
  {
   "cell_type": "markdown",
   "metadata": {},
   "source": [
    "Добавим признаки, которые показывают какой объём транзакций был месяц назад плюс минус один день."
   ]
  },
  {
   "cell_type": "code",
   "execution_count": 10,
   "metadata": {},
   "outputs": [],
   "source": [
    "for day_shift in [-1, 0, 1]:\n",
    "    for month_shift in train_transactions.month_num.unique()[1:]:\n",
    "        train_shift = train_transactions.copy()\n",
    "        train_shift['month_num'] += month_shift\n",
    "        train_shift['month_day'] += day_shift\n",
    "        train_shift['amount_day_{}_{}'.format(day_shift, month_shift)] = np.log(-train_shift['amount'] + 1)\n",
    "        train_shift = train_shift[['month_num', 'month_day', 'mcc_code', 'amount_day_{}_{}'.format(day_shift, month_shift)]]\n",
    "\n",
    "        train_transactions = pd.merge(train_transactions, train_shift, \n",
    "                                      on=['month_num', 'month_day', 'mcc_code'], how='left').fillna(0)\n",
    "        test_transactions = pd.merge(test_transactions, train_shift, \n",
    "                                     on=['month_num', 'month_day', 'mcc_code'], how='left').fillna(0)"
   ]
  },
  {
   "cell_type": "markdown",
   "metadata": {},
   "source": [
    "Также добавим OHE кодирование для категорильного признака mcc_code"
   ]
  },
  {
   "cell_type": "code",
   "execution_count": 11,
   "metadata": {},
   "outputs": [],
   "source": [
    "train = pd.get_dummies(train_transactions, columns=['mcc_code'])\n",
    "test = pd.get_dummies(test_transactions, columns=['mcc_code'])"
   ]
  },
  {
   "cell_type": "markdown",
   "metadata": {},
   "source": [
    "В качестве модели возьмём линейную регрессию, а предсказывать будет логарифм объёма, так как это будет лучше работать для метрики RMSLE."
   ]
  },
  {
   "cell_type": "code",
   "execution_count": 14,
   "metadata": {},
   "outputs": [],
   "source": [
    "import xgboost\n",
    "from sklearn.model_selection import GridSearchCV, RandomizedSearchCV\n",
    "c = train.columns.difference(['amount'])\n",
    "\n",
    "clf = xgboost.XGBRegressor()\n",
    "max_depth_param = [6, 7, 8, 4, 5, 9]\n",
    "reg_lambda_param = [1, 0.6, 0.8, 1.2, 0.4, 0.9, 0.7, 1.1, 1,3, 0.5]\n",
    "reg_alpha_param = [0.8, 0.9, 1., 0.6, 0.7, 1.1, 1.2, 1.3, 1.4]\n",
    "dict_param = {'reg_alpha' : reg_alpha_param, 'max_depth' : max_depth_param, 'reg_lambda': reg_lambda_param}\n",
    "rand = RandomizedSearchCV(clf, dict_param, cv = 5, n_jobs=-1, n_iter = 60, verbose = True)\n"
   ]
  },
  {
   "cell_type": "code",
   "execution_count": null,
   "metadata": {},
   "outputs": [],
   "source": []
  },
  {
   "cell_type": "code",
   "execution_count": null,
   "metadata": {},
   "outputs": [
    {
     "name": "stdout",
     "output_type": "stream",
     "text": [
      "Fitting 5 folds for each of 60 candidates, totalling 300 fits\n"
     ]
    },
    {
     "name": "stderr",
     "output_type": "stream",
     "text": [
      "[Parallel(n_jobs=-1)]: Done  46 tasks      | elapsed: 135.6min\n"
     ]
    }
   ],
   "source": [
    "rand.fit(train[c], np.log1p(-train['amount']))\n",
    "best_params_rand = rand.best_params_"
   ]
  },
  {
   "cell_type": "markdown",
   "metadata": {},
   "source": [
    "Предсказываем объём для тестовой выборки"
   ]
  },
  {
   "cell_type": "code",
   "execution_count": null,
   "metadata": {},
   "outputs": [],
   "source": [
    "best_params_rand"
   ]
  },
  {
   "cell_type": "code",
   "execution_count": null,
   "metadata": {},
   "outputs": [],
   "source": [
    "test_transactions['volume'] = np.expm1(clf.predict(test[c]))"
   ]
  },
  {
   "cell_type": "markdown",
   "metadata": {},
   "source": [
    "В качестве id нужно использовать 'mcc_code-day'"
   ]
  },
  {
   "cell_type": "code",
   "execution_count": null,
   "metadata": {},
   "outputs": [],
   "source": [
    "test_transactions['id'] = test_transactions[['mcc_code', 'day']].apply(lambda x: '-'.join(map(str, x)), axis=1)"
   ]
  },
  {
   "cell_type": "code",
   "execution_count": null,
   "metadata": {},
   "outputs": [],
   "source": [
    "test_transactions[['id', 'volume']].to_csv('baseline.csv', index=False)"
   ]
  }
 ],
 "metadata": {
  "kernelspec": {
   "display_name": "Python 3",
   "language": "python",
   "name": "python3"
  },
  "language_info": {
   "codemirror_mode": {
    "name": "ipython",
    "version": 3
   },
   "file_extension": ".py",
   "mimetype": "text/x-python",
   "name": "python",
   "nbconvert_exporter": "python",
   "pygments_lexer": "ipython3",
   "version": "3.5.2"
  }
 },
 "nbformat": 4,
 "nbformat_minor": 2
}

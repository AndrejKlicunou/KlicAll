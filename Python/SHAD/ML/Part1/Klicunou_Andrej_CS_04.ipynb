{
 "cells": [
  {
   "cell_type": "markdown",
   "metadata": {},
   "source": [
    "# Лабораторная работа 4. Подбор гиперпараметров. Калибровка. Работа с текстовыми данными. Библиотека Vowpal Wabbit.\n",
    "\n",
    "Результат лабораторной работы − отчет. Мы предпочитаем принимать отчеты в формате ноутбуков IPython (ipynb-файл). Постарайтесь сделать ваш отчет интересным рассказом, последовательно отвечающим на вопросы из заданий. Помимо ответов на вопросы, в отчете так же должен быть код, однако чем меньше кода, тем лучше всем: нам − меньше проверять, вам — проще найти ошибку или дополнить эксперимент. При проверке оценивается четкость ответов на вопросы, аккуратность отчета и кода.\n",
    "\n",
    "Мы уверены, что выполнение лабораторных работ занимает значительное время, поэтому не рекомендуем оставлять их на последний вечер перед сдачей.\n",
    "\n",
    "### Оценивание и штрафы\n",
    "Каждая из задач имеет определенную «стоимость» (указана в скобках около задачи). Максимально допустимая оценка за работу — 15 баллов. Сдавать задание после указанного срока сдачи нельзя. «Похожие» решения считаются плагиатом и все задействованные студенты (в том числе те, у кого списали) не могут получить за него больше 0 баллов и понижают карму (подробнее о плагиате см. на странице курса). Если вы нашли решение какого-то из заданий в открытом источнике, необходимо прислать ссылку на этот источник (скорее всего вы будете не единственным, кто это нашел, поэтому чтобы исключить подозрение в плагиате, нам необходима ссылка на источник).\n",
    "\n",
    "Работы, в которых удалены формулировки заданий, проверять сложнее, поэтому за решения без формулировок заданий мы будем снижать баллы в два раза.\n",
    "\n",
    "### Правила сдачи\n",
    "Выполненную работу следует отправить в систему Anytask. Более подробно о системе можно почитать на странице курса. Название отправляемого файла должно иметь следующий формат: Surname_Name_Group_NN.ipynb, где NN — номер лабораторной работы. Например, Kozlova_Anna_CS_04.ipynb.\n",
    "\n",
    "## О работе\n",
    "\n",
    "Данная лабораторная работа знакомит с несколькими полезными техниками, применимыми в машинном обучении. Вы узнаете какие есть стратегии при подборе гиперпараметров; в каких случаях может понадобиться калибровка классификатора; в чем заключается сложность при работе с текстовыми данными на практике. \n",
    "\n",
    "### Перед отправкой работы убедитесь в том что:\n",
    " - В ноутбуке присутствуют формулировки заданий.\n",
    " - На вопросы даны развернутые ответы.\n",
    " - У графиков подписаны оси, легенда и заголовок.\n",
    " \n",
    "За невыполнение указанных выше пунктов при проверке снимаются баллы."
   ]
  },
  {
   "cell_type": "markdown",
   "metadata": {},
   "source": [
    "## Оценивание качества классификации\n",
    "\n",
    "Перед тем, как приступить к выполнению заданий, рассмотрим метрики классификации, которые нам пригодятся в дальнейшем."
   ]
  },
  {
   "cell_type": "markdown",
   "metadata": {},
   "source": [
    "### Accuracy, Precision, Recall\n",
    "\n",
    "- Accuracy: $$ Accuracy = \\frac{1}{l}\\sum_{i=1}^l[y_i = \\hat{y}_i]$$ где $y_i$ — истинный ответ на объекте $x_i$, $\\hat{y}_i$ — предсказанный. (Мы не рекомендуем переводить *accuracy* как точность, потому что в русскоязычной литературе точностью называют другую метрику)\n",
    "- Precision (точность): $$Precision = \\frac{TP}{TP + FP}$$\n",
    "- Recall (полнота): $$Recall = \\frac{TP}{TP + FN}$$\n",
    "\n",
    "где обозначения *TP*, *FP*, *FN* и *TN* — элементы матрицы ошибок:\n",
    "\n",
    "| | y = 1 | y = 0 |\n",
    "|------|------|\n",
    "|   a(x) = 1  | TP| FP |\n",
    "| a(x) = 0| FN | TN |\n",
    "\n",
    "Обратите внимание, что точность и полнота вычисляются относительно фиксированного класса. В sklearn есть удобная функция [classification_report](http://scikit-learn.org/stable/modules/generated/sklearn.metrics.classification_report.html), позволяющая сразу вычислять эти метрики для всех классов. \n",
    "\n",
    "Точность и полнота хороши тем, что могут быть использованы в случае несбалансированных данных, однако сразу же две метрики оптимизировать не удобно."
   ]
  },
  {
   "cell_type": "markdown",
   "metadata": {},
   "source": [
    "### Precision-Recall кривая\n",
    "\n",
    "Зачастую классификатор может возвращать не ответ *0* или *1*, а некоторую меру принадлежности заданному классу $b(x)$, которая сравнивается с фиксированным порогом *t*, и на самом деле классификатор имеет вид $a(x) = [b(x) > t]$. Таким образом, при оценивании качества работы классификатора можно использовать его ответ $b(x)$ и подбирать порог *t* исходя из некоторых условий. Кроме того, выбор порога влияет на качество классификации:\n",
    " - чем больше $t$, тем выше точность, но ниже полнота,\n",
    " - чем меньше $t$, тем выше полнота, но ниже точность.\n",
    "\n",
    "Раз мы умеем варьировать порог классификатора, тем самым меняя качество, интересно каким оно будет при всех возможных различных порогах. Для этого строят следующий график: переберем все возможные пороги $t$, откладывая по оси OX полноту получившегося классификатора, а по оси OY — точность. Таким образом можно получить хорошую визуализацию качества алгоритма."
   ]
  },
  {
   "cell_type": "markdown",
   "metadata": {},
   "source": [
    "### ROC кривая\n",
    "\n",
    "Еще один из способ визуализации зависимости метрик качества от порога, подходящей в этом случае, является *ROC*. По осям: \n",
    " - OX: $FPR = \\frac{FP}{FP + TN}$\n",
    " - OY: $TPR = \\frac{TP}{TP + FN}$\n",
    "\n",
    "Как следствие, можно измерять площади под указанными кривыми — *Precision-Recall AUC* и *AUC-ROC* соответственно."
   ]
  },
  {
   "cell_type": "markdown",
   "metadata": {},
   "source": [
    "### LogLoss\n",
    "\n",
    "В бинарном случае эта метрика записывается как $$logloss = -\\dfrac{1}{N}\\sum_{i=1}^N (y_i\\log{p_i} + (1-y_i)\\log{(1 - p_i)})$$\n",
    "\n",
    "В отличии от *AUC-ROC*, для этой метрики необходимо, чтобы классификатор умел предсказывать вероятность принадлежности к классу, а не \"степени принадлежности классу 1\" в неопределенной шкале. Приведем пример. Вероятностная шкала может быть нужна, если вы хотите оценить количество денег, которые в среднем принесёт пользователь, кликнув на баннер. Для этого необходимо умножить количество денег, которые вы получаете за клик на баннер, на вероятность клика пользователя, которую предсказывает модель."
   ]
  },
  {
   "cell_type": "markdown",
   "metadata": {},
   "source": [
    "## Подбор гиперпараметров. Случайный поиск по сетке\n",
    "\n",
    "Вы уже знаете, что для подбора гиперпараметров есть способ перебора по сетке. Обычно перебор некоторых значений гиперпараметров ведется по логарифмической шкале, так как это позволяет быстрее определить какого порядка должен быть параметр, и в то же время значительно уменьшить время поиска. Последний нюанс бывает особо критичен, так как для каждого фиксированного набора гиперпараметров происходит новое обучение алгоритма и оценка качества. \n",
    "\n",
    "Однако такой подход к нахождению гиперпараметров является не единственным возможным. Рассмотрим более подробно в чем может заключаться недостаток предыдущего подхода. Допустим, вам нужно подобрать 2 гиперпараметра, для каждого из которых есть сетка из 4 возможных значений. То есть всего 16 итераций обучения по сетке. Допустим также, что для оценки качества используется 5-fold CV. В итоге алгоритм будет обучен 80 раз, что уже немало. А если, например, рассмотреть случайный лес, где гиперпараметрами могут являться критерий ветвления, максимальная глубина деревьев, минимальное число объектов в листьях, максимальное число признаков, количество листьев и так далее, может получиться экспоненциально большое число обучений алгоритма, что займёт очень много времени. Для того чтобы как-то ускорить процесс и в то же время найти близкие к оптимальным значения используют случайный поиск по сетке. В этом случае для каждого гиперпараметра задается распределение, из которого выбираются его значения. И так как каждый раз значение каждого гиперпараметра выбирается случайно, это позволяет находить оптимальные значения быстрее. \n",
    "\n",
    "Сравнение обычного поиска по сетке со случайным можно проиллюстрировать следующим образом:\n",
    "\n",
    "![](http://blog.kaggle.com/wp-content/uploads/2015/07/scikitlearn8.jpeg)\n",
    "\n",
    "Более детально о случайном поиске по сетке можно прочесть по следующим ссылкам:\n",
    " - теоретический анализ случайного поиска [Random Search for Hyper-Parameter Optimization](http://jmlr.csail.mit.edu/papers/volume13/bergstra12a/bergstra12a.pdf)\n",
    " - кратко и с юмором [Smarter Parameter Sweeps (or Why Grid Search Is Plain Stupid)](https://medium.com/rants-on-machine-learning/smarter-parameter-sweeps-or-why-grid-search-is-plain-stupid-c17d97a0e881#.pkwq17od8)\n",
    " \n",
    "В sklearn случайный поиск по сетке реализован в классе [RandomizedSearchCV](http://scikit-learn.org/stable/modules/generated/sklearn.model_selection.RandomizedSearchCV.html#sklearn.model_selection.RandomizedSearchCV)."
   ]
  },
  {
   "cell_type": "markdown",
   "metadata": {},
   "source": [
    "При выполнении этой части задания будем использовать [набор данных](http://archive.ics.uci.edu/ml/datasets/default+of+credit+card+clients) с информацией о клиентах банка и их платежах.\n",
    "\n",
    "![](https://s2.postimg.org/jm4gryimx/dataset-cover.jpg)\n",
    "\n",
    "Загрузите данные из файла *credit_card_clients.tsv* и разбейте на обучающее и тестовое множество в отношении 4 к 1."
   ]
  },
  {
   "cell_type": "code",
   "execution_count": 2,
   "metadata": {},
   "outputs": [],
   "source": [
    "import pandas as pd\n",
    "import numpy as np\n",
    "\n",
    "x = pd.read_table('credit_card_clients.tsv')\n",
    "train = x[x['ID'] <= x.shape[0]*4/5].values\n",
    "test = x[x['ID'] > x.shape[0]*4/5].values"
   ]
  },
  {
   "cell_type": "markdown",
   "metadata": {},
   "source": [
    "**(2 балла) Задание 1.**\n",
    "\n",
    "Целью данного задания является сравнение описанных выше подходов подбора гиперпараметров на практике. А именно, посмотрим как ведет себя обычный и случайный поиск по сетке при одинаковом числе операций (бюджете). Попробуем найти оптимальные гиперпараметры для SVM с линейным ядром. В данном случае нам будет интересны найти значения у двух параметров: *C* и количество итераций *max_iter*. Для обоих гиперпараметров возьмите логарифмическую шкалу (см. функцию [logspace](http://docs.scipy.org/doc/numpy-1.10.0/reference/generated/numpy.logspace.html)), для *C* от 0.1 до 100, для *max_iter* от 1000 до 10000. В качестве оптимизируемой метрики качества выберем *AUC-ROC*.\n",
    "\n",
    " - Для обычного поиска по сетке ([GridSearchCV](http://scikit-learn.org/stable/modules/generated/sklearn.model_selection.GridSearchCV.html#sklearn.model_selection.GridSearchCV)) подготовьте 5 сеток гиперпараметров, так чтобы каждый у каждого гиперпараметра перебиралось 2, 3, 4, 5 и 6 значений в соответствующей сетке. Таким образом у вас получится 5 запусков поиска параметров с бюджетом 4, 9, 16, 25, 36. \n",
    "\n",
    " - Для случайного поиска ([RandomizedSearchCV](http://scikit-learn.org/stable/modules/generated/sklearn.model_selection.RandomizedSearchCV.html#sklearn.model_selection.RandomizedSearchCV)) сделайте 5 запусков поиска гиперпараметров с бюджетом 4, 9, 16, 25, 36. \n",
    "\n",
    " - Для каждого из запусков алгоритма подбора гиперпараметров (одного — обычной и 5 для случайного) вычислите наилучшее достигнутое качество для каждого бюджета. После чего постройте график, где по оси OX будет отложен бюджет, а по оси OY — наилучшее качество.\n",
    " \n",
    "Данная часть лабораторной работы может работать значительное время. Поэтому рекомендуем обратить внимание на параметр *n_jobs* поиска по сетке (есть у обоих классов)."
   ]
  },
  {
   "cell_type": "code",
   "execution_count": 3,
   "metadata": {},
   "outputs": [],
   "source": [
    "from sklearn.model_selection import GridSearchCV, RandomizedSearchCV\n",
    "from sklearn.svm import LinearSVC\n",
    "\n",
    "budget = [4, 9, 16, 25, 36]\n",
    "best_quality_rand = []\n",
    "best_params_grid = []\n",
    "best_quality_grid = []\n",
    "best_params_rand = []\n",
    "linear_svm = LinearSVC()\n",
    "for i in range(5):\n",
    "    c_param = np.logspace(-1, 2, i+2, endpoint = False)\n",
    "    iter_param = np.logspace(3, 4, i+2, endpoint = False)\n",
    "    dict_param = {'C': c_param, 'max_iter': iter_param}\n",
    "    grid = GridSearchCV(linear_svm, dict_param, scoring = 'roc_auc', n_jobs=-1)\n",
    "    rand = RandomizedSearchCV(linear_svm, dict_param, scoring = 'roc_auc', n_jobs=-1, n_iter = budget[i])\n",
    "    rand.fit(train[:,1:24], train[:,24])\n",
    "    grid.fit(train[:,1:24], train[:,24])\n",
    "    best_quality_rand.append(rand.best_score_)\n",
    "    best_quality_grid.append(grid.cv_results_['mean_test_score'].max())\n",
    "    best_params_rand.append(rand.best_params_)\n",
    "    best_params_grid.append(grid.best_params_)"
   ]
  },
  {
   "cell_type": "code",
   "execution_count": 8,
   "metadata": {},
   "outputs": [
    {
     "data": {
      "image/png": "[encoded data removed]",
      "text/plain": [
       "<matplotlib.figure.Figure at 0x7f66d075eb38>"
      ]
     },
     "metadata": {},
     "output_type": "display_data"
    }
   ],
   "source": [
    "import matplotlib\n",
    "import matplotlib.pylab as plt\n",
    "\n",
    "plt.plot(budget, best_quality_grid, color = 'black', label = 'grid_quality(budget)')\n",
    "plt.plot(budget, best_quality_rand, color = 'red', label = 'rand_quality(budget)')\n",
    "plt.title('grid and random method')\n",
    "plt.xlabel('budget')\n",
    "plt.ylabel('quality')\n",
    "plt.legend(bbox_to_anchor=(1.05, 1), loc=2, borderaxespad=0.)\n",
    "plt.show()"
   ]
  },
  {
   "cell_type": "markdown",
   "metadata": {},
   "source": [
    "**(1 балл) Задание 2.**\n",
    "\n",
    "Что вы можете сказать о получившемся графике? Посмотрите на наилучшие гиперпараметры, которые у вас получились. Можно ли сказать, что какой-то из гиперпараметров больше влияет на результат? Можно ли сделать вывод, что случайный поиск проигрывает или же наоборот? Зависит ли ответ на предыдущий вопрос от размера бюджета и удачной инициализации?"
   ]
  },
  {
   "cell_type": "code",
   "execution_count": 10,
   "metadata": {},
   "outputs": [
    {
     "name": "stdout",
     "output_type": "stream",
     "text": [
      "Best params of rand search\n",
      "[{'max_iter': 3162.2776601683795, 'C': 3.1622776601683795}, {'max_iter': 4641.5888336127773, 'C': 10.0}, {'max_iter': 5623.4132519034911, 'C': 3.1622776601683795}, {'max_iter': 1584.893192461114, 'C': 0.10000000000000001}, {'max_iter': 6812.9206905796082, 'C': 31.622776601683793}]\n",
      "Best params of grid search\n",
      "[{'max_iter': 1000.0, 'C': 0.10000000000000001}, {'max_iter': 2154.4346900318847, 'C': 10.0}, {'max_iter': 1000.0, 'C': 0.10000000000000001}, {'max_iter': 1000.0, 'C': 0.3981071705534972}, {'max_iter': 6812.9206905796082, 'C': 0.31622776601683794}]\n"
     ]
    }
   ],
   "source": [
    "print('Best params of rand search')\n",
    "print(best_params_rand)\n",
    "print('Best params of grid search')\n",
    "print(best_params_grid)"
   ]
  },
  {
   "cell_type": "markdown",
   "metadata": {
    "collapsed": true
   },
   "source": [
    "**График показывает, что случайный метод показал лучший результат, один раз значение метрики качества резко просело по сравнению с остальными, но это могло не повезти, поэтому можно сделать вывод, что случайный метод выигрывает.  Можно заметить, что параметр max_iter меньше влияет на качество (есть даже пара наборов, где константа С одинакова, а mat_iter не сильно повлиял не улучшение качества, да и это логично, ведь метод может сойтись раньше, чем количество итераций доберётся да верхней границы. С возрастанием бюджета можно увидеть разницу в методах по качеству, хотя это вроде как уменьшает вероятность попадания в лучший вариант параметров.**"
   ]
  },
  {
   "cell_type": "markdown",
   "metadata": {},
   "source": [
    "## Калибровка классификатора\n",
    "\n",
    "Рассмотрим в задачу, где целевой метрикой является *logloss*. Как было сказано выше, в этом случае необходимо, чтобы классификатор умел предсказывать вероятность принадлежности к классу. К сожалению, на практике часто получается так, что либо классификатор не обладает желаемым свойством (например, SVM без специальных настроек), либо метод *predict_proba* возвращает некорректную вероятность (например, случайный лес возвращает среднее арифметическое вероятностей от каждого дерева, которое не обязано являться корректной вероятностью, подробнее [здесь](http://people.dsv.su.se/~henke/papers/bostrom08b.pdf)).\n",
    "\n",
    "В этом случае возможны несколько подходов: \n",
    " - Заменить классификатор на тот, который умеет предсказывать вероятности.\n",
    " - Воспользоваться калибровкой ответов.\n",
    " \n",
    "Если считать что в общем случае первый подход не самый удачный выбор, рассмотрим второй более подробно. По умолчанию SVM может вычислять отступ от заданного объекта до разделяющей гиперплоскости, а не возвращать вероятности. После чего можно обучить преобразование, которое бы искажало возвращаемое значение в вероятность  — это и называется калибровкой. Есть несколько известных методов для этого:\n",
    " - Калибровка Платта.\n",
    " - Изотоническая регрессия.\n",
    "\n",
    "Обратите внимание, что преобразование необходимо обучать на отложенной выборке (то есть классификатор и калибровка должны производиться на разных подмножествах данных), иначе можно переобучиться. Калибровку можно применять к любым классификаторам (где это разумно и необходимо), особенно к тем, которые не оптимизируют logloss явно.\n",
    "\n",
    "Для калибровки классификатора в sklearn возможны два подхода:\n",
    " - взять уже обученный классификатор и откалибровать его на отложенной выборке\n",
    " - откалибровать по кросс-валидации: калибровочному классификатору передается вся обучающая выборка, которая внутри разбивается на обучающую и калибровочную, после чего происходит усреднение вероятностей по фолдам.\n",
    " \n",
    "Подробнее об этом можно прочитать в [документации](http://scikit-learn.org/stable/modules/generated/sklearn.calibration.CalibratedClassifierCV.html#sklearn.calibration.CalibratedClassifierCV). Также [здесь](https://jmetzen.github.io/2015-04-14/calibration.html) можно узнать подробности о калибровке в sklearn от автора.\n",
    "\n",
    "Замечание: выше написано, что SVM по умолчанию не возвращает вероятности. Если же заглянуть в документацию [SVC](http://scikit-learn.org/stable/modules/generated/sklearn.svm.SVC.html), то можно найти параметр *probability*. Если установить его равным *True*, то у такого классификатора можно вызвать метод *predict_proba* и получить оценки вероятностей. Внутри библиотеки реализована калибровка Платта и с классификатором проделывается примерно тоже самое, что было описано выше. Использование этого параметра замедляет процесс обучения, зато позволяет сразу же использовать данный классификатор для оценивания вероятностей. Обратите внимание, что у класса [LinearSVC](http://scikit-learn.org/stable/modules/generated/sklearn.svm.LinearSVC.html) такой опции нет."
   ]
  },
  {
   "cell_type": "markdown",
   "metadata": {},
   "source": [
    "**(2 балла) Задание 3.**\n",
    " \n",
    "Рассмотрим SVM из предыдущего пункта. Примените оба описанных выше подхода для калибровки: Платта и изотоническую регрессию. Для каждого из подходов постройте график, на котором будут изображены [калибровочные кривые](http://scikit-learn.org/stable/modules/generated/sklearn.calibration.calibration_curve.html): идеальная, исходного классификатора, а также для каждого из методов на обучающей выборке. Калибровочная кривая строится путем упорядочения всех объектов по предсказанному значению, которые разбиваются на бины. По оси OX откладывается среднее предсказанное значение вероятности по бину, а по OY — доля положительных примеров. В случае идеальных вероятностей это будет прямая.\n",
    " \n",
    "В данном задании необходимо воспользоваться методом *decision_function*, который вернет значение отступа на объекте. После этого отмасштабируйте полученные отступы в интервал [0, 1], применив сигмоиду или линейное преобразование."
   ]
  },
  {
   "cell_type": "code",
   "execution_count": null,
   "metadata": {
    "collapsed": true
   },
   "outputs": [],
   "source": []
  },
  {
   "cell_type": "markdown",
   "metadata": {},
   "source": [
    "**(1 балл) Задание 4.**\n",
    " - Посчитайте *logloss* на тестовой выборке для исходного и классификатора после калибровки.\n",
    " - Дает ли калибровка прирост качества?\n",
    " - Какой из способов калибровки в данном случае работает лучше?\n",
    " - Какой из подходов (калибровка на отложенной выборке или по кросс-валидации) дает более хороший результат?\n",
    " - Почему калибровка практически не должна повлиять на *AUC-ROC*? "
   ]
  },
  {
   "cell_type": "code",
   "execution_count": null,
   "metadata": {
    "collapsed": true
   },
   "outputs": [],
   "source": []
  },
  {
   "cell_type": "markdown",
   "metadata": {},
   "source": [
    "## Работа с текстовыми данными"
   ]
  },
  {
   "cell_type": "markdown",
   "metadata": {},
   "source": [
    "В остальной части задания мы будем работать с подмножеством датасета IMDB Movies Reviews из соревнования [Bag of Words Meets Bags of Popcorn](https://www.kaggle.com/c/word2vec-nlp-tutorial/data). \n",
    "![](http://i.imgur.com/QZgxFic.png)\n",
    "\n",
    "Задача состоит в следующем: по отзыву на фильм необходимо понять является ли он положительным или отрицательным. Это один из примеров задачи анализа тональности текста ([sentiment analysis](https://en.wikipedia.org/wiki/Sentiment_analysis)). Пример отзыва из выборки:\n",
    "    \n",
    "    This can be one of the most enjoyable movies ever if you don't take it seriously. It is a bit dated and the effects are lame, but it is so enjoyable. There are giant crabs that attack a girl. oh, and the crabs sing Japanese. It is amazingly bad. And the ending, which has been telegraphed throughout the entire film is hideously awesome. Predictable, but seeing the final fight will leave you rolling in your seat. Don't even give this film a chance and you will love it. Susan George is fun to watch and yes, she does appear naked. Her daughter isn't quite worth putting up with, but she does get attacked by giant crabs. They are the size of large cats. This is a 2, but I love it. As a movie, my God, but for entertainment, I give it a 7. Did I mention there are giant crabs?"
   ]
  },
  {
   "cell_type": "markdown",
   "metadata": {},
   "source": [
    "\n",
    "Загрузите датасет из файла *feedback_data.tsv*."
   ]
  },
  {
   "cell_type": "code",
   "execution_count": 237,
   "metadata": {},
   "outputs": [],
   "source": [
    "reviews_table = pd.read_table('feedback_data.tsv')"
   ]
  },
  {
   "cell_type": "markdown",
   "metadata": {},
   "source": [
    "Для оценивания качества в данной задаче мы будем использовать отложенную выборку. Разделите все данные на две части: 16000 объектов будут в обучающей выборке и 4000 объектов — в тестовой.\n",
    "\n",
    "При разбиении выборки на две части, необходимо будет учесть следующие особенности разбиения:\n",
    " - Разбиение должно быть воспроизводимо.\n",
    " - Соотношение классов в каждой из частей должно сохраняться (например, при использовании функции *train_test_split* указать *stratify*)."
   ]
  },
  {
   "cell_type": "code",
   "execution_count": 98,
   "metadata": {},
   "outputs": [],
   "source": [
    "from sklearn.cross_validation import train_test_split\n",
    "\n",
    "train_x, test_x, train_y, test_y = train_test_split(reviews_table.review, reviews_table.sentiment, \n",
    "                                               stratify = reviews_table.sentiment, test_size=0.2, train_size = 0.8)\n",
    "train_x = train_x.values\n",
    "test_x = test_x.values\n",
    "train_y = train_y.values\n",
    "test_y = test_y.values"
   ]
  },
  {
   "cell_type": "markdown",
   "metadata": {},
   "source": [
    "Одна из сложностей данной задачи — текстовое представление данных, так как не существует какого-то универсального способа извлечения признаков из текстов. По ходу работы мы получим несколько наборов признаков, которые будем сравнивать между собой.\n",
    "\n"
   ]
  },
  {
   "cell_type": "markdown",
   "metadata": {},
   "source": [
    "Для начала попробуем самый простой подход, а именно [bag-of-words](https://en.wikipedia.org/wiki/Bag-of-words_model) кодирование данных. С помощью него каждый текст будет представлен в виде вектора, размер которого равен размеру словаря, а на каждой позиции стоит число, сколько раз соответствующее слово встретилось в этом тексте. Для данного подхода хорошей практикой является отфильтровывать стоп-слова.\n",
    "\n",
    "Это представление можно получить используя класс [CountVectorizer](http://scikit-learn.org/stable/modules/generated/sklearn.feature_extraction.text.CountVectorizer.html#sklearn.feature_extraction.text.CountVectorizer) из библиотеки sklearn. Одно из удобств данного метода состоит в том, что возвращаемый результат является [sparse](http://docs.scipy.org/doc/scipy-0.15.1/reference/sparse.html)-матрицей, так как при таком преобразовании получается достаточно много 0. Более подробно про такие матрицы можно прочитать, например, [здесь](http://www.scipy-lectures.org/advanced/scipy_sparse/index.html).\n",
    "\n",
    "Примените *bag-of-words* кодирование данных. Мы рекомендуем здесь и в дальнейшем обучать преобразование на обучающей выборке, после чего применять его к тестовой. Какой размерности стали данные?"
   ]
  },
  {
   "cell_type": "code",
   "execution_count": 207,
   "metadata": {},
   "outputs": [],
   "source": [
    "from sklearn.feature_extraction.text import CountVectorizer\n",
    "\n",
    "bag_of_words = CountVectorizer()\n",
    "train_matrix = bag_of_words.fit_transform(train_x)\n",
    "test_matrix = bag_of_words.transform(test_x)"
   ]
  },
  {
   "cell_type": "code",
   "execution_count": 113,
   "metadata": {
    "scrolled": true
   },
   "outputs": [
    {
     "name": "stdout",
     "output_type": "stream",
     "text": [
      "Train matrix shape:\n",
      "(16000, 62518)\n",
      "Test matrix shape:\n",
      "(4000, 62518)\n"
     ]
    }
   ],
   "source": [
    "print('Train matrix shape:')\n",
    "print(train_matrix.shape)\n",
    "print('Test matrix shape:')\n",
    "print(test_matrix.shape)"
   ]
  },
  {
   "cell_type": "markdown",
   "metadata": {},
   "source": [
    "**(0.5 балла) Задание 5.**\n",
    "\n"
   ]
  },
  {
   "cell_type": "markdown",
   "metadata": {},
   "source": [
    "Какие недостатки для данной задачи вы видите у метрики Accuracy?"
   ]
  },
  {
   "cell_type": "markdown",
   "metadata": {
    "collapsed": true
   },
   "source": [
    "\n",
    " **Если в выборке отношение положительных и отрицательных отзывов не близко к кдинице, метрика не дакт представления, как точно алгоритм классификации определяет конкретный тип отзывов (если много отрицательных отзывов, метрика будет неплохой, даже если бездумно классифицировать всё как отрицательный отзыв, что плохо)**.\n",
    "\n",
    "\n",
    " **Если нам очень-очень важно находить отзывы одного из типов, по значению метрики мы не поймём, как хорошо мы это делаем.**"
   ]
  },
  {
   "cell_type": "markdown",
   "metadata": {
    "collapsed": true
   },
   "source": [
    "Обучите логистическую регрессию и случайный лес с 500 деревьев на *bag-of-words* представлении выборки и измерьте качество на тестовых данных с помощью трех описанных выше метрик: *Accuracy*, *Precision*, *Recall*. Кроме этого, сравните время обучения алгоритмов. Есть ли существенная разница в качестве предсказаний данных алгоритмов? Какой из методов кажется менее применимым в данной задаче и почему?"
   ]
  },
  {
   "cell_type": "code",
   "execution_count": 102,
   "metadata": {},
   "outputs": [
    {
     "data": {
      "text/plain": [
       "RandomForestClassifier(bootstrap=True, class_weight=None, criterion='gini',\n",
       "            max_depth=None, max_features='auto', max_leaf_nodes=None,\n",
       "            min_impurity_split=1e-07, min_samples_leaf=1,\n",
       "            min_samples_split=2, min_weight_fraction_leaf=0.0,\n",
       "            n_estimators=500, n_jobs=-1, oob_score=False,\n",
       "            random_state=None, verbose=0, warm_start=False)"
      ]
     },
     "execution_count": 102,
     "metadata": {},
     "output_type": "execute_result"
    }
   ],
   "source": [
    "from  sklearn.ensemble import RandomForestClassifier\n",
    "\n",
    "random_forest = RandomForestClassifier(500, n_jobs = -1)\n",
    "random_forest.fit(train_matrix, train_y)"
   ]
  },
  {
   "cell_type": "code",
   "execution_count": 103,
   "metadata": {
    "scrolled": true
   },
   "outputs": [
    {
     "data": {
      "text/plain": [
       "LogisticRegression(C=1.0, class_weight=None, dual=False, fit_intercept=True,\n",
       "          intercept_scaling=1, max_iter=100, multi_class='ovr', n_jobs=-1,\n",
       "          penalty='l2', random_state=None, solver='liblinear', tol=0.0001,\n",
       "          verbose=0, warm_start=False)"
      ]
     },
     "execution_count": 103,
     "metadata": {},
     "output_type": "execute_result"
    }
   ],
   "source": [
    "from sklearn.linear_model import LogisticRegression\n",
    "log_reg = LogisticRegression(n_jobs = -1)\n",
    "log_reg.fit(train_matrix, train_y)"
   ]
  },
  {
   "cell_type": "code",
   "execution_count": 107,
   "metadata": {},
   "outputs": [],
   "source": [
    "y_random_forest = random_forest.predict(test_matrix)\n",
    "y_log_reg = log_reg.predict(test_matrix)\n"
   ]
  },
  {
   "cell_type": "code",
   "execution_count": 109,
   "metadata": {},
   "outputs": [
    {
     "name": "stdout",
     "output_type": "stream",
     "text": [
      "Accuracy for random forest:\n",
      "0.79225\n",
      "Accuracy for logistic regression:\n",
      "0.87775\n"
     ]
    }
   ],
   "source": [
    "from sklearn.metrics import accuracy_score\n",
    "\n",
    "print('Accuracy for random forest:')\n",
    "print(accuracy_score(test_y, y_random_forest))\n",
    "print('Accuracy for logistic regression:')\n",
    "print(accuracy_score(test_y, y_log_reg))"
   ]
  },
  {
   "cell_type": "code",
   "execution_count": 110,
   "metadata": {},
   "outputs": [
    {
     "name": "stdout",
     "output_type": "stream",
     "text": [
      "Recall for random forest:\n",
      "0.481333333333\n",
      "Recall for logistic regression:\n",
      "0.835333333333\n"
     ]
    }
   ],
   "source": [
    "from sklearn.metrics import recall_score\n",
    "\n",
    "print('Recall for random forest:')\n",
    "print(recall_score(test_y, y_random_forest))\n",
    "print('Recall for logistic regression:')\n",
    "print(recall_score(test_y, y_log_reg))"
   ]
  },
  {
   "cell_type": "code",
   "execution_count": 111,
   "metadata": {},
   "outputs": [
    {
     "name": "stdout",
     "output_type": "stream",
     "text": [
      "Precision for random forest:\n",
      "0.931612903226\n",
      "Precision for logistic regression:\n",
      "0.838127090301\n"
     ]
    }
   ],
   "source": [
    "from sklearn.metrics import precision_score\n",
    "\n",
    "print('Precision for random forest:')\n",
    "print(precision_score(test_y, y_random_forest))\n",
    "print('Precision for logistic regression:')\n",
    "print(precision_score(test_y, y_log_reg))"
   ]
  },
  {
   "cell_type": "markdown",
   "metadata": {},
   "source": [
    "**Обучение метода логистической регрессии прошло куда быстрее, чем случайного леса, при этом значение 2 метрик получилось лучше, и для  recall получилсь очень большая разница. Чтобы выбрать более предпочтительный метод нужно понимать, как алгоритмы обрабатывают закодированный текст при обучении, до даже мне понятно, что они оба не шибко логично анализируют текст, потому что кодировка такая, поэтому будем смотреть результат нашего эксперимента, верить в него и брать логистическую регрессию.**"
   ]
  },
  {
   "cell_type": "markdown",
   "metadata": {},
   "source": [
    "Посмотрев на указанные метрики, можно понять, что классификаторы неплохо справляются с нулевым классом и похуже — с первым. Скорее всего, это результат того, что положительных отзывов почти вдвое меньше чем отрицательных. В дальнейшем нас будет интересовать как классификатор справляется именно с положительными отзывами (то есть с первым классом)."
   ]
  },
  {
   "cell_type": "markdown",
   "metadata": {},
   "source": [
    "**(1.5 балла) Задание 6.**\n",
    "\n",
    "Постройте *Precision-Recall* и *ROC* кривые обученных выше классификаторов (каждый тип кривой на отдельном графике), а также вычислите площадь под ними. Для этого удобно воспользоваться функциями [precision_recall_curve](http://scikit-learn.org/stable/modules/generated/sklearn.metrics.precision_recall_curve.html), [roc_curve](http://scikit-learn.org/stable/modules/generated/sklearn.metrics.roc_curve.html) и [auc](http://scikit-learn.org/stable/modules/generated/sklearn.metrics.auc.html#sklearn.metrics.auc). Не забудьте, что в данном случае необходимо использовать метод *predict_proba* для получения оценки принадлежности к первому классу."
   ]
  },
  {
   "cell_type": "code",
   "execution_count": 118,
   "metadata": {},
   "outputs": [],
   "source": [
    "from sklearn.metrics import precision_recall_curve, roc_curve, auc\n",
    "import matplotlib\n",
    "import matplotlib.pylab as plt"
   ]
  },
  {
   "cell_type": "code",
   "execution_count": 130,
   "metadata": {},
   "outputs": [
    {
     "name": "stdout",
     "output_type": "stream",
     "text": [
      "Random forest auc score\n",
      "0.730066666667\n",
      "Logistic regression auc score\n",
      "0.869266666667\n"
     ]
    },
    {
     "data": {
      "image/png": "[encoded data removed]",
      "text/plain": [
       "<matplotlib.figure.Figure at 0x7f66bf4e1c88>"
      ]
     },
     "metadata": {},
     "output_type": "display_data"
    }
   ],
   "source": [
    "fpr, tpr, thr = roc_curve(test_y, y_random_forest)\n",
    "print('Random forest auc score')\n",
    "print(auc(fpr, tpr))\n",
    "plt.plot(fpr, tpr, color = 'black', label = 'random forest')\n",
    "fpr, tpr, thr = roc_curve(test_y, y_log_reg)\n",
    "print('Logistic regression auc score')\n",
    "print(auc(fpr, tpr))\n",
    "plt.plot(fpr, tpr, color = 'red', label = 'logistic regression')\n",
    "plt.title('roc curves')\n",
    "plt.xlabel('false positive rate')\n",
    "plt.ylabel('true posivite rate')\n",
    "plt.legend(bbox_to_anchor=(1.05, 1), loc=2, borderaxespad=0.)\n",
    "plt.show()"
   ]
  },
  {
   "cell_type": "code",
   "execution_count": 128,
   "metadata": {
    "collapsed": true
   },
   "outputs": [],
   "source": [
    "rand_proba = random_forest.predict_proba(test_matrix)\n",
    "log_proba = log_reg.predict_proba(test_matrix)"
   ]
  },
  {
   "cell_type": "code",
   "execution_count": 137,
   "metadata": {},
   "outputs": [
    {
     "name": "stdout",
     "output_type": "stream",
     "text": [
      "[ 0.6    0.372  0.678 ...,  0.476  0.204  0.686]\n"
     ]
    },
    {
     "data": {
      "text/plain": [
       "array([ 0.4  ,  0.628,  0.322, ...,  0.524,  0.796,  0.314])"
      ]
     },
     "execution_count": 137,
     "metadata": {},
     "output_type": "execute_result"
    }
   ],
   "source": []
  },
  {
   "cell_type": "code",
   "execution_count": 148,
   "metadata": {},
   "outputs": [
    {
     "name": "stdout",
     "output_type": "stream",
     "text": [
      "Random forest precision-recall score\n",
      "0.222455345586\n",
      "Logistic regression precision-recall score\n",
      "0.220616142701\n"
     ]
    },
    {
     "data": {
      "image/png": "[encoded data removed]",
      "text/plain": [
       "<matplotlib.figure.Figure at 0x7f66bf603978>"
      ]
     },
     "metadata": {},
     "output_type": "display_data"
    }
   ],
   "source": [
    "prec, recall, thr = precision_recall_curve(test_y, rand_proba[:,0])\n",
    "print('Random forest precision-recall score')\n",
    "print(auc(recall, prec))\n",
    "plt.plot(recall, prec, color = 'black', label = 'random forest')\n",
    "prec, recall, thr = precision_recall_curve(test_y, log_proba[:,0])\n",
    "print('Logistic regression precision-recall score')\n",
    "print(auc(recall, prec))\n",
    "plt.plot(recall, prec, color = 'red', label = 'logistic regression')\n",
    "plt.title('Precision-recall curves')\n",
    "plt.ylabel('precision')\n",
    "plt.xlabel('recall')\n",
    "plt.legend(bbox_to_anchor=(1.05, 1), loc=2, borderaxespad=0.)\n",
    "plt.show()"
   ]
  },
  {
   "cell_type": "markdown",
   "metadata": {},
   "source": [
    "Если мы хотим, чтобы классификатор находил, например, не менее 80% положительных отзывов, то необходимо потребовать, чтобы полнота была не менее 0.8. \n",
    "\n",
    "**(1 балл) Задание 7.**\n",
    "\n",
    "Найдите наибольшую точность, которую будет иметь каждый классификатор при полноте не менее 0.8."
   ]
  },
  {
   "cell_type": "code",
   "execution_count": 164,
   "metadata": {},
   "outputs": [
    {
     "name": "stdout",
     "output_type": "stream",
     "text": [
      "Max score random forest\n",
      "0.406\n",
      "Max score logistic regression\n",
      "0.000494156313952\n"
     ]
    }
   ],
   "source": [
    "prec, recall, thr = precision_recall_curve(test_y, rand_proba[:,0])\n",
    "max_score = 0\n",
    "for i in range(recall.shape[0]):\n",
    "    if (recall[i] >= 0.8 and recall[i+1] < 0.8):\n",
    "        max_score = thr[i]\n",
    "print('Max score random forest')\n",
    "print(max_score)\n",
    "\n",
    "prec, recall, thr = precision_recall_curve(test_y, log_proba[:,0])\n",
    "max_score = 0\n",
    "for i in range(recall.shape[0]):\n",
    "    if (recall[i] >= 0.8 and recall[i+1] < 0.8):\n",
    "        max_score = thr[i]\n",
    "print('Max score logistic regression')\n",
    "print(max_score)"
   ]
  },
  {
   "cell_type": "markdown",
   "metadata": {},
   "source": [
    "В дальнейшем для экспериментов будем использовать логистическую регрессию. Можно заметить, что по некоторым причинам мы не находили оптимальные параметры для алгоритмов, а работали с параметрами по умолчанию. Чтобы исправить этот недостаток, в дальнейшем используйте понравившийся вам метод поиска гиперпараметров (из описанных выше) для нахождения наилучшего значения параметра *C* у логистической регрессии.\n",
    "\n",
    "А теперь вернемся к исходной задаче. На данном этапе решения можно прийти к выводу, что предложенное кодирование текста может быть не самым удачным из-за большой матрицы объект-признак. Это ведет как к ситуации, что не всякий алгоритм может быть применен в данной задаче по причине слишком большого признакового пространства, а кроме того, даже быстрые алгоритмы при наличии кросс-валидации могут начать работать медленно. Также в данных может быть шум, так как в качестве словаря были взяты все слова, даже те, которые встречались в одном-двух отзывах (например, опечатки). Поэтому кажется что неплохо было бы сократить размерность данных и по возможности избавиться от шума. \n",
    "\n",
    "## Отбор признаков и уменьшение размерности\n",
    "\n",
    "### По частоте\n",
    "Попробуем сформировать выборку, в которой будут находиться только самые \"важные\" признаки, то есть в данном случае слова. Например, это можно сделать оставив топ слов по частоте (не считая стоп-слов вроде \"a\", \"the\", \"it\", ...). Кажется, что вхождение наиболее частых слов в отзыве, например *good*, *bad* и т.д. являются вполне неплохими показателями.\n",
    "\n",
    "### С помощью машинного обучения\n",
    "Другой подход — воспользоваться имеющимся машинным обучением — обученным на всех признаках случайным лесом. Одним из свойств случайного леса является оценка важности признаков. Таким образом, можно выбрать топ слов, важных как признаки для задачи классификации. \n",
    "\n",
    "### Hashing trick\n",
    "Какие еще могут быть способы работы с такого рода данными? По факту слова в текстах — это некоторое очень разреженное представление (как мы убедились выше). Подходом, отличным от двух вышеперечисленных, является [хэширование](https://en.wikipedia.org/wiki/Feature_hashing) или hashing trick: каждому слову сопоставляется некоторый хэш, после чего делается, например, bag-of-words. Из-за коллизий можно обработать не встречавшихся ранее слов. Этот подход реализован в классе [HashingVectorizer](http://scikit-learn.org/stable/modules/generated/sklearn.feature_extraction.text.HashingVectorizer.html). Кроме того, если выставить параметр *non_negative=True*, то можно интерпретировать полученные значения как некоторые \"частоты\".\n",
    "\n",
    "Можно заметить, что два последних подхода можно применять не обязательно к текстовым данным."
   ]
  },
  {
   "cell_type": "markdown",
   "metadata": {},
   "source": [
    "**(2 балла) Задание 8.**\n",
    "\n",
    "Сформируйте три новые выборки, где каждый объект будет иметь 15000 признаков, следующим образом:\n",
    " - топ наиболее \"важных\" слов с помощью случайного леса\n",
    " - топ самых частотных слов\n",
    " - с помощью хэширования\n",
    " \n",
    "Для последних двух выборок не забывайте фильтровать стоп-слова, для этого можно использовать параметр stop_words='english' у классов CountVectorizer, HashingVectorizer.\n",
    "\n",
    "На четырех выборках (*bag-of-words* и трех новых) постройте *roc*-кривые, вычислив площадь под ними. Что вы можете сказать о качестве этих подходов к сокращению размерности?\n",
    "\n",
    "Выведите топ-20 самых важных слов от случайного леса и сравните их с топ-20 наиболее частотных. Много ли общих слов?"
   ]
  },
  {
   "cell_type": "code",
   "execution_count": 174,
   "metadata": {},
   "outputs": [],
   "source": [
    "from sklearn.feature_extraction.text import HashingVectorizer, CountVectorizer\n",
    "\n",
    "count_vectorizer = CountVectorizer(max_features = 15000, stop_words = 'english')\n",
    "count_features = count_vectorizer.fit_transform(train_x)\n",
    "count_test = count_vectorizer.transform(test_x)"
   ]
  },
  {
   "cell_type": "code",
   "execution_count": 181,
   "metadata": {},
   "outputs": [],
   "source": [
    "hash_vectorizer = HashingVectorizer(n_features = 15000, stop_words = 'english')\n",
    "hash_vectorizer.fit(train_x)\n",
    "hash_features = hash_vectorizer.transform(train_x)\n",
    "hash_test = hash_vectorizer.transform(test_x)"
   ]
  },
  {
   "cell_type": "code",
   "execution_count": 208,
   "metadata": {},
   "outputs": [],
   "source": [
    "bound = sorted(random_forest.feature_importances_)[train_matrix.shape[1] - 15000]\n",
    "index = np.where(random_forest.feature_importances_ >= bound)"
   ]
  },
  {
   "cell_type": "code",
   "execution_count": 209,
   "metadata": {},
   "outputs": [],
   "source": [
    "forest_features = train_matrix.transpose()[index].transpose()\n",
    "forest_test = test_matrix.transpose()[index].transpose()"
   ]
  },
  {
   "cell_type": "markdown",
   "metadata": {},
   "source": [
    "**Подбор параметра:**"
   ]
  },
  {
   "cell_type": "code",
   "execution_count": 220,
   "metadata": {},
   "outputs": [],
   "source": [
    "log_reg_obj = LogisticRegression()\n",
    "c_param = np.logspace(0, 1, 4, endpoint = False)\n",
    "dict_param = {'C': c_param}\n",
    "rand = RandomizedSearchCV(linear_svm, dict_param, scoring = 'roc_auc', n_jobs=-1, n_iter = 4)\n",
    "rand.fit(train_matrix, train_y)\n",
    "params = rand.best_params_"
   ]
  },
  {
   "cell_type": "markdown",
   "metadata": {},
   "source": [
    "**Логистическая регрессия с подобранным параметром:**"
   ]
  },
  {
   "cell_type": "code",
   "execution_count": 224,
   "metadata": {},
   "outputs": [
    {
     "data": {
      "text/plain": [
       "LogisticRegression(C=1.0, class_weight=None, dual=False, fit_intercept=True,\n",
       "          intercept_scaling=1, max_iter=100, multi_class='ovr', n_jobs=-1,\n",
       "          penalty='l2', random_state=None, solver='liblinear', tol=0.0001,\n",
       "          verbose=0, warm_start=False)"
      ]
     },
     "execution_count": 224,
     "metadata": {},
     "output_type": "execute_result"
    }
   ],
   "source": [
    "log_reg_hash = LogisticRegression(n_jobs = -1, C = params['C'])\n",
    "log_reg_hash.fit(hash_features, train_y)\n",
    "\n",
    "log_reg_count = LogisticRegression(n_jobs = -1, C = params['C'])\n",
    "log_reg_count.fit(count_features, train_y)\n",
    "\n",
    "log_reg_forest = LogisticRegression(n_jobs = -1, C = params['C'])\n",
    "log_reg_forest.fit(forest_features, train_y)"
   ]
  },
  {
   "cell_type": "code",
   "execution_count": 226,
   "metadata": {
    "scrolled": false
   },
   "outputs": [
    {
     "data": {
      "text/plain": [
       "LogisticRegression(C=1.0, class_weight=None, dual=False, fit_intercept=True,\n",
       "          intercept_scaling=1, max_iter=100, multi_class='ovr', n_jobs=-1,\n",
       "          penalty='l2', random_state=None, solver='liblinear', tol=0.0001,\n",
       "          verbose=0, warm_start=False)"
      ]
     },
     "execution_count": 226,
     "metadata": {},
     "output_type": "execute_result"
    }
   ],
   "source": [
    "log_reg_forest_old = LogisticRegression(n_jobs = -1, C = params['C'])\n",
    "log_reg_forest_old.fit(train_matrix, train_y)"
   ]
  },
  {
   "cell_type": "code",
   "execution_count": 228,
   "metadata": {},
   "outputs": [],
   "source": [
    "y_hash = log_reg_hash.predict(hash_test)\n",
    "y_count = log_reg_count.predict(count_test)\n",
    "y_forest = log_reg_forest.predict(forest_test)\n",
    "y_forest_old = log_reg_forest_old.predict(test_matrix)"
   ]
  },
  {
   "cell_type": "code",
   "execution_count": 231,
   "metadata": {
    "scrolled": true
   },
   "outputs": [
    {
     "name": "stdout",
     "output_type": "stream",
     "text": [
      "Hash vectorizing auc score\n",
      "0.848\n",
      "Count vectorizing auc score\n",
      "0.8606\n",
      "Best forest features auc score\n",
      "0.868133333333\n",
      "All forest features auc score\n",
      "0.869266666667\n"
     ]
    },
    {
     "data": {
      "image/png": "[encoded data removed]",
      "text/plain": [
       "<matplotlib.figure.Figure at 0x7f66c1baa320>"
      ]
     },
     "metadata": {},
     "output_type": "display_data"
    }
   ],
   "source": [
    "fpr, tpr, thr = roc_curve(test_y, y_hash)\n",
    "print('Hash vectorizing auc score')\n",
    "print(auc(fpr, tpr))\n",
    "plt.plot(fpr, tpr, color = 'violet', label = 'hash vectorizing')\n",
    "\n",
    "fpr, tpr, thr = roc_curve(test_y, y_count)\n",
    "print('Count vectorizing auc score')\n",
    "print(auc(fpr, tpr))\n",
    "plt.plot(fpr, tpr, color = 'red', label = 'count vectorizing')\n",
    "\n",
    "fpr, tpr, thr = roc_curve(test_y, y_forest)\n",
    "print('Best forest features auc score')\n",
    "print(auc(fpr, tpr))\n",
    "plt.plot(fpr, tpr, color = 'blue', label = 'best from forest')\n",
    "\n",
    "fpr, tpr, thr = roc_curve(test_y, y_forest_old)\n",
    "print('All forest features auc score')\n",
    "print(auc(fpr, tpr))\n",
    "plt.plot(fpr, tpr, color = 'darkgreen', label = 'all forest')\n",
    "\n",
    "plt.title('roc curves')\n",
    "plt.xlabel('false positive rate')\n",
    "plt.ylabel('true posivite rate')\n",
    "plt.legend(bbox_to_anchor=(1.05, 1), loc=2, borderaxespad=0.)\n",
    "plt.show()"
   ]
  },
  {
   "cell_type": "code",
   "execution_count": 233,
   "metadata": {},
   "outputs": [],
   "source": [
    "bound = sorted(random_forest.feature_importances_)[train_matrix.shape[1] - 20]\n",
    "index = np.where(random_forest.feature_importances_ >= bound)"
   ]
  },
  {
   "cell_type": "code",
   "execution_count": 236,
   "metadata": {},
   "outputs": [
    {
     "name": "stdout",
     "output_type": "stream",
     "text": [
      "Most valuable word numbers in random forest:\n",
      "(array([ 2708,  4388,  4578,  5853, 19200, 23948, 27652, 29037, 30036,\n",
      "       33043, 36822, 38200, 38922, 55303, 55457, 55642, 56108, 60369,\n",
      "       61408, 61583]),)\n"
     ]
    }
   ],
   "source": [
    "print('Most valuable word numbers in random forest:')\n",
    "print(index)"
   ]
  },
  {
   "cell_type": "markdown",
   "metadata": {},
   "source": [
    "Таким образом, удалось сократить размерность более чем в три раза без сильной потери в качестве. Но даже 15000 признаков — это достаточно много. Допустим, мы хотим уменьшить размерность до 2000 признаков, однако можно заметить, что даже три предыдущие способа давали небольшое ухудшение в качестве. \n",
    "\n",
    "### PCA\n",
    "\n",
    "Одним из способов сокращения размерности является метод главных компонент ([PCA](https://en.wikipedia.org/wiki/Principal_component_analysis)). Это преобразование позволяет получить вес каждого признака в компоненте. Например, если применить его к bag-of-words, можно найти наиболее важные слова, влияющие на данную компоненту. Для работы с большими разреженными матрицами в sklearn рекомендуется использовать [TruncatedSVD](http://scikit-learn.org/stable/modules/generated/sklearn.decomposition.TruncatedSVD.html).\n",
    "\n",
    "**(1 балл) Задание 9.**\n",
    "\n",
    "Попробуйте сократить размерность до 2000 двумя способами:\n",
    " - наилучшим из трех предыдущих\n",
    " - для выборки со всеми признаками обучите *PCA*-преобразование \n",
    "\n",
    "Постройте новый график качества. Какой из двух подходов работает лучше?\n",
    "\n",
    "Для первых трех компонент преобразования найдите топ-30 наиболее важных слов. Можете ли вы охарактеризовать как-то каждую из этих групп?"
   ]
  },
  {
   "cell_type": "markdown",
   "metadata": {},
   "source": [
    "**Будем брать метод, берущий самые важные слова из случайного леса, теперь этих слов будет 2000.**"
   ]
  },
  {
   "cell_type": "code",
   "execution_count": null,
   "metadata": {
    "collapsed": true
   },
   "outputs": [],
   "source": [
    "bound = sorted(random_forest.feature_importances_)[train_matrix.shape[1] - 2000]\n",
    "index = np.where(random_forest.feature_importances_ >= bound)\n",
    "forest_features = train_matrix.transpose()[index].transpose()\n",
    "forest_test = test_matrix.transpose()[index].transpose()"
   ]
  },
  {
   "cell_type": "markdown",
   "metadata": {},
   "source": [
    "### Какие еще могут быть способы обработки текстовых данных?\n",
    "\n",
    "Как можно заметить, подход с мешком слов весьма наивен, так как не позволяет учесть информацию в скольки отзывах встречалось слово (например, чтобы избавиться от очень редких слов). В этом случае может помочь [tf-idf кодирование](http://scikit-learn.org/stable/modules/generated/sklearn.feature_extraction.text.TfidfVectorizer.html).\n",
    "\n",
    "Другой недостаток описанного в задании подхода — брать абсолютные частоты. У некоторых слов они могут быть очень большими, в то же время у других — низкими. Чтобы \"сгладить\" разницу между ними, можно сделать логарифмирование, т.е. применить преобразование $x \\to log(x + 1)$ (так как при bag-of-words кодировании могут встречаться 0).\n",
    "\n",
    "Неплохое руководство можно найти в разделе [извлечения признаков](http://scikit-learn.org/stable/modules/feature_extraction.html#text-feature-extraction) из документации sklearn.\n"
   ]
  },
  {
   "cell_type": "markdown",
   "metadata": {},
   "source": [
    "## Библиотека Vowpal Wabbit"
   ]
  },
  {
   "cell_type": "markdown",
   "metadata": {},
   "source": [
    "Еще одним подходом для работы с текстовым данными является использование библиотеки [Vowpal Wabbit](https://github.com/JohnLangford/vowpal_wabbit/wiki).\n",
    "\n",
    "VW представляет из себя хорошую реализация стохастического градиентного спуска для линейных моделей. К преимуществам и особенностям данной библиотеки можно отнести:\n",
    " - Считывание с диска происходит батчами, VW делает каждый следующий шаг градиентного спуска только по батчу, поэтому нет необходимости хранить всю выборку в памяти, из-за чего его удобно применять для больших выборок при ограниченных ресурсах.\n",
    " - Из коробки работают: нормализация признаков, взвешивание объектов, адаптивный градиентный шаг, матричные разложения, тематическое моделирование, активное обучение, обучение с подкреплением.\n",
    " - Реализация VW содержит различные методы оптимизации: сопряженные градиенты, квазиньютоновские методы (L-BFGS).\n",
    " - VW может быть запущен на кластере.\n",
    "\n",
    "Перед началом работы с vw полезно будет ознакомиться с информацией по ссылкам:\n",
    " - [Туториал по VW](https://github.com/JohnLangford/vowpal_wabbit/wiki/Tutorial)\n",
    " - [Описание формата входных данных](https://github.com/JohnLangford/vowpal_wabbit/wiki/Input-format)\n",
    " - [Описание параметров командной строки](https://github.com/JohnLangford/vowpal_wabbit/wiki/Command-line-arguments)"
   ]
  },
  {
   "cell_type": "markdown",
   "metadata": {},
   "source": [
    "Приведите обучающую и тестовую выборки к формату пригодному для обучения модели с помощью vw: в качестве признаков используйте тексты отзывов как есть. Например:"
   ]
  },
  {
   "cell_type": "raw",
   "metadata": {},
   "source": [
    "-1 |text_namespace This is a bad movie\n",
    " 1 |text_namespace This is my favorite movie\n",
    "..."
   ]
  },
  {
   "cell_type": "code",
   "execution_count": null,
   "metadata": {
    "collapsed": true
   },
   "outputs": [],
   "source": []
  },
  {
   "cell_type": "markdown",
   "metadata": {},
   "source": [
    "**(2 балла) Задание 10.**\n",
    "\n",
    "Обучите Vopwal Wabbit на полученной выборке. В качестве функции потерь (параметр [loss_function](https://github.com/JohnLangford/vowpal_wabbit/wiki/Loss-functions)) попробуйте использовать:\n",
    "  - логистическую (logistic)\n",
    "  - кусочно-линейную (hinge)\n",
    "\n",
    "Постройте *Precision-Recall* и *ROC* кривые для каждой из получившихся моделей. Сравните время обучения и получившееся качество со временем обучения и качеством предыдущих моделей."
   ]
  },
  {
   "cell_type": "code",
   "execution_count": null,
   "metadata": {
    "collapsed": true
   },
   "outputs": [],
   "source": []
  },
  {
   "cell_type": "markdown",
   "metadata": {},
   "source": [
    "## Выводы"
   ]
  },
  {
   "cell_type": "markdown",
   "metadata": {},
   "source": [
    "**(0.5 балла) Задание 11.**\n",
    "\n",
    "В первой части лабораторной работы мы рассмотрели 2 способа подбора гиперпараметров и калибровки алгоритмов машинного обучения. Ответьте на следующие вопросы:\n",
    "\n",
    "- В каких случаях случайный поиск гиперпараметра имеет преимущество, в сравнении с перебором по сетке? Приведите пример такого случая.\n",
    "- Для какого типа задач машинного обучения имеет смысл использовать калибровку предсказаний? Приведите пример такой задачи.\n",
    "\n",
    "Приведенные примеры не должны совпадать с упомянутыми ранее в работе."
   ]
  },
  {
   "cell_type": "code",
   "execution_count": null,
   "metadata": {
    "collapsed": true
   },
   "outputs": [],
   "source": []
  },
  {
   "cell_type": "markdown",
   "metadata": {},
   "source": [
    "**(0.5 балла) Задание 12.**\n",
    "\n",
    "В второй части лабораторной работы мы рассмотрели несколько методов работы с текстовыми данными. Ответьте на следующие вопросы:\n",
    "\n",
    "- Какие есть достоинства у рассмотренных методов представления текстовых данных? Поясните свой ответ для каждого рассмотренного метода.\n",
    "- Каким общим недостатком обладают данные методы?\n",
    "- Какие модели машинного обучения больше подходят для работы с текстовыми данными на практике и почему? В чём их преимущество перед другими алгоритмами?"
   ]
  },
  {
   "cell_type": "markdown",
   "metadata": {
    "collapsed": true
   },
   "source": [
    "**Во всех реализованных мной методах работы с текстами главый недостаток -- большое количество признаков,что влияет на время выполнения обучения по этим признакам, а также проблемы с тем, чтобы определить более важные призначи, чтобы отбросить менне важные и не потерять в качестве. Сами признаки в большинстве своём универсальны, что не очень хорошо, если дан специфический текст, где понадобились бы эта самые специфические признаки. **"
   ]
  }
 ],
 "metadata": {
  "kernelspec": {
   "display_name": "Python 3",
   "language": "python",
   "name": "python3"
  },
  "language_info": {
   "codemirror_mode": {
    "name": "ipython",
    "version": 3
   },
   "file_extension": ".py",
   "mimetype": "text/x-python",
   "name": "python",
   "nbconvert_exporter": "python",
   "pygments_lexer": "ipython3",
   "version": "3.5.2"
  }
 },
 "nbformat": 4,
 "nbformat_minor": 1
}

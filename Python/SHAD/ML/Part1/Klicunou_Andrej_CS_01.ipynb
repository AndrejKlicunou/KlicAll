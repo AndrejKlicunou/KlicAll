{
 "cells": [
  {
   "cell_type": "markdown",
   "metadata": {},
   "source": [
    "## Лабораторная работа 1. Знакомство с библиотеками для анализа данных\n",
    "\n",
    "Результат лабораторной работы − отчет. Мы предпочитаем принимать отчеты в формате ноутбуков IPython/Jupyter (ipynb-файл). Постарайтесь сделать ваш отчет интересным рассказом, последовательно отвечающим на вопросы из заданий. Помимо ответов на вопросы, в отчете так же должен быть код, однако чем меньше кода, тем лучше всем: нам − меньше проверять, вам —  проще найти ошибку или дополнить эксперимент. При проверке оценивается четкость ответов на вопросы, аккуратность отчета и кода.\n",
    "\n",
    "Мы уверены, что выполнение лабораторных работ занимает значительное время, поэтому не рекомендуем оставлять их на последний вечер перед сдачей.\n",
    "\n",
    "### О задании\n",
    "\n",
    "Лабораторная работа №1 направлена на работу с пакетами для анализа данных. В данной работе разрешено пользоваться только стандартной библиотекой языка Python, а также пакетами NumPy, Pandas и Matplotlib. Целью работы является редактирование данного ipython notebook-a (в части блоков с кодом на python) таким образом, чтобы были реализованы указанные в задании функции.\n",
    "\n",
    "### Оценивание и штрафы\n",
    "\n",
    "Каждая из задач имеет определенную «стоимость» (указана в скобках около задачи). Максимально допустимая оценка за работу — 15 баллов.\n",
    "Сдавать задание после указанного срока сдачи нельзя. «Похожие» решения считаются плагиатом и все задействованные студенты (в том числе те, у кого списали) не могут получить за него больше 0 баллов и понижают карму (подробнее о плагиате см. на странице курса). Если вы нашли решение какого-то из заданий в открытом источнике, необходимо прислать ссылку на этот источник (скорее всего вы будете не единственным, кто это нашел, поэтому для исключения подозрения в плагиате, необходима ссылка на источник).\n",
    "\n",
    "###  Правила сдачи\n",
    "\n",
    "Работу необходимо сдавать в систему Anytask (более подробную информацию можно найти на странице курса). Название отправляемого файла должно иметь следующий формат: Surname_Name_Group_NN.ipynb, где NN — номер лабораторной работы. Например, Kozlova_Anna_CS_01.ipynb."
   ]
  },
  {
   "cell_type": "markdown",
   "metadata": {},
   "source": [
    "### (8 баллов) Знакомство с Numpy\n",
    "\n",
    "Во всех заданиях данного раздела запрещено использовать циклы (ключевые слова *for* и *while*). Использование функции *map* также не допускается. Для каждой задачи приведите примеры использования реализованных функций. За отсутствие тестовых примеров могут быть сняты баллы за задание.\n",
    "\n",
    "Под матрицей в заданиях понимается двумерный numpy.array."
   ]
  },
  {
   "cell_type": "code",
   "execution_count": 1,
   "metadata": {
    "collapsed": true
   },
   "outputs": [],
   "source": [
    "import numpy as np"
   ]
  },
  {
   "cell_type": "markdown",
   "metadata": {},
   "source": [
    "**1. (0.5 балла)** Реализуйте функцию, принимающую на вход матрицу X и два массива i и j одинаковой длины и возвращающую вектор np.array, состоящий из последовательности элементов [X[i[0], j[0]], X[i[1], j[1]], ..., X[i[N-1], j[N-1]]]."
   ]
  },
  {
   "cell_type": "code",
   "execution_count": 2,
   "metadata": {},
   "outputs": [
    {
     "name": "stdout",
     "output_type": "stream",
     "text": [
      "matrix X:\n",
      "[[ 0  1  2  3]\n",
      " [ 4  5  6  7]\n",
      " [ 8  9 10 11]\n",
      " [12 13 14 15]]\n",
      "result of our function: [ 0  9 10]\n"
     ]
    }
   ],
   "source": [
    "def construct_array(X, i, j):\n",
    "    return X[i,j]\n",
    "\n",
    "X = np.arange(0,16).reshape(4,4)\n",
    "print(\"matrix X:\")\n",
    "print(X)\n",
    "i = np.array([0,2,2])\n",
    "j = np.array([0,1,2])\n",
    "print(\"result of our function:\", construct_array(X, i, j))"
   ]
  },
  {
   "cell_type": "markdown",
   "metadata": {},
   "source": [
    "**2. (0.5 балла)** Реализуйте функцию для подсчёта произведения ненулевых элементов на диагонали прямоугольной матрицы.\n",
    "Например, для X = np.array([[1, 0, 1], [2, 0, 2], [3, 0, 3], [4, 4, 4]]) ответом является 3. Если ненулевых элементов нет, функция должна возвращать *None*."
   ]
  },
  {
   "cell_type": "code",
   "execution_count": 3,
   "metadata": {},
   "outputs": [
    {
     "name": "stdout",
     "output_type": "stream",
     "text": [
      "matrix X:\n",
      "[[ 0  1  2  3]\n",
      " [ 4  5  6  7]\n",
      " [ 8  9 10 11]\n",
      " [12 13 14 15]]\n",
      "result of our function: 3\n",
      "matrix X:\n",
      "[[ 0.  0.  0.  0.]\n",
      " [ 0.  0.  0.  0.]\n",
      " [ 0.  0.  0.  0.]\n",
      " [ 0.  0.  0.  0.]]\n",
      "result of our function: None\n"
     ]
    }
   ],
   "source": [
    "def nonzero_product(X):\n",
    "    nzShape = np.shape(np.nonzero(np.diagonal(X)))\n",
    "    if nzShape[1] > 0:\n",
    "        return nzShape[1]\n",
    "    else:\n",
    "        return None\n",
    "    \n",
    "X = np.arange(0,16).reshape(4,4)\n",
    "print(\"matrix X:\")\n",
    "print(X)\n",
    "print(\"result of our function:\", nonzero_product(X))\n",
    "X = np.zeros((4,4))\n",
    "print(\"matrix X:\")\n",
    "print(X)\n",
    "print(\"result of our function:\", nonzero_product(X))"
   ]
  },
  {
   "cell_type": "markdown",
   "metadata": {},
   "source": [
    "**3. (0.5 балла)** Написать функцию, возвращающую максимальный элемент в массиве *x* среди элементов, перед которыми стоит нулевой. Для x = np.array([6, 2, 0, 3, 0, 0, 5, 7, 0]) ответом является 5. Если подходящих элементов нет, функция должна возвращать *None*."
   ]
  },
  {
   "cell_type": "markdown",
   "metadata": {},
   "source": [
    "**Рашэнне:** Ствараем масіў, які выглядае так: shifted = [1,arr], апошні элемент arr не патрэбен. Стровым трэці масіў, які будзе паэлементнай сумай arr і shifted. Пасля паэлементна параўнаем элементы апошняга створанага і arr, тыя, што аднолькавыя, якраз тыя, перад якімі стаяў нуль. Сярод іх шукаем максімум, калі масіў няпусты. "
   ]
  },
  {
   "cell_type": "code",
   "execution_count": 4,
   "metadata": {},
   "outputs": [
    {
     "name": "stdout",
     "output_type": "stream",
     "text": [
      "x:  [6 2 0 3 0 0 5 7 0]\n",
      "result of our function: 5\n",
      "x:  [ 1.  1.  1.  1.  1.  1.  1.  1.  1.  1.]\n",
      "result of our function: None\n",
      "x:  [ 1.  1.  1.  1.  1.  1.  1.  1.  1.  1.  0.]\n",
      "result of our function: None\n",
      "x:  [ 1.  1.  1.  1.  1.  1.  1.  1.  1.  1.  0.  0.]\n",
      "result of our function: 0.0\n"
     ]
    }
   ],
   "source": [
    "def max_element(arr):\n",
    "    shift = np.arange(0, arr.shape[0]-1)\n",
    "    shifted = np.insert(arr[shift], 0, 1)\n",
    "    checker = arr + shifted\n",
    "    properArr = arr[arr == checker]\n",
    "    if properArr.shape[0] > 0:\n",
    "        return max(properArr)\n",
    "    else:\n",
    "        return None\n",
    "    return 0\n",
    "\n",
    "x = np.array([6, 2, 0, 3, 0, 0, 5, 7, 0])\n",
    "print(\"x: \", x)\n",
    "print(\"result of our function:\", max_element(x))\n",
    "x = np.ones(10)\n",
    "print(\"x: \", x)\n",
    "print(\"result of our function:\", max_element(x))\n",
    "x = np.ones(10)\n",
    "x = np.insert(x, 10, 0)\n",
    "print(\"x: \", x)\n",
    "print(\"result of our function:\", max_element(x))\n",
    "x = np.insert(x, 10, 0)\n",
    "print(\"x: \", x)\n",
    "print(\"result of our function:\", max_element(x))"
   ]
  },
  {
   "cell_type": "markdown",
   "metadata": {},
   "source": [
    "**4. (0.5 балла)** Реализуйте функцию, принимающую на вход матрицу *X* и некоторое число *v* и возвращающую ближайший к заданному числу элемент матрицы. Например, для X = np.arange(0,10).reshape((2, 5)) и v = 3.6 ответом будет 4."
   ]
  },
  {
   "cell_type": "code",
   "execution_count": 5,
   "metadata": {},
   "outputs": [
    {
     "name": "stdout",
     "output_type": "stream",
     "text": [
      "matrix X:\n",
      "[[ 0  1  2  3]\n",
      " [ 4  5  6  7]\n",
      " [ 8  9 10 11]\n",
      " [12 13 14 15]]\n",
      "result of our function (v = 10.2): 10\n",
      "result of our function (v = 3.5): 3\n"
     ]
    }
   ],
   "source": [
    "def nearest_value(X, v):\n",
    "    y = abs(X-v)\n",
    "    min_el = min(y.ravel())\n",
    "    index = np.where(y == min_el)\n",
    "    return X[index][0]\n",
    "\n",
    "X = np.arange(0,16).reshape(4,4)\n",
    "print(\"matrix X:\")\n",
    "print(X)\n",
    "print(\"result of our function\", \"(v = 10.2):\", nearest_value(X, 10.2))\n",
    "print(\"result of our function\", \"(v = 3.5):\", nearest_value(X, 3.5))"
   ]
  },
  {
   "cell_type": "markdown",
   "metadata": {},
   "source": [
    "**5. (0.5 балла)** Реализуйте функцию, принимающую на вход матрицу *X* и возвращающую все её уникальные строки в виде матрицы."
   ]
  },
  {
   "cell_type": "markdown",
   "metadata": {},
   "source": [
    "http://stackoverflow.com/questions/16970982/find-unique-rows-in-numpy-array\n",
    "Запыт: np.unique python праз Яндэкс"
   ]
  },
  {
   "cell_type": "code",
   "execution_count": 6,
   "metadata": {},
   "outputs": [
    {
     "name": "stdout",
     "output_type": "stream",
     "text": [
      "matrix X:\n",
      "[[ 0  1  2  3]\n",
      " [ 4  5  6  7]\n",
      " [ 8  9 10 11]\n",
      " [12 13 14 15]]\n",
      "result of our function:\n",
      "[[ 0  1  2  3]\n",
      " [ 4  5  6  7]\n",
      " [ 8  9 10 11]\n",
      " [12 13 14 15]]\n",
      "matrix X:\n",
      "[[ 0.  0.  0.  0.]\n",
      " [ 0.  0.  0.  0.]\n",
      " [ 0.  0.  0.  0.]\n",
      " [ 0.  0.  0.  0.]]\n",
      "result of our function:\n",
      "[[ 0.  0.  0.  0.]]\n"
     ]
    }
   ],
   "source": [
    "def get_unique_rows(X):\n",
    "    ncols = X.shape[1]\n",
    "    dtype = X.dtype.descr * ncols\n",
    "    struct = X.view(dtype)\n",
    "    uniq = np.unique(struct)\n",
    "    uniq = uniq.view(X.dtype).reshape(-1, ncols)\n",
    "    return uniq\n",
    "\n",
    "X = np.arange(0,16).reshape(4,4)\n",
    "print(\"matrix X:\")\n",
    "print(X)\n",
    "print(\"result of our function:\")\n",
    "print(get_unique_rows(X))\n",
    "X = np.zeros((4,4))\n",
    "print(\"matrix X:\")\n",
    "print(X)\n",
    "print(\"result of our function:\")\n",
    "print(get_unique_rows(X))"
   ]
  },
  {
   "cell_type": "markdown",
   "metadata": {},
   "source": [
    "**6. (0.5 балла)** Реализуйте функцию, каторая во входной вещественной матрице *X* находит все значения *nan* и заменяет их на среднее арифметическое всех остальных элементов. В случае матрицы из одних *nan* произведите замену на нули."
   ]
  },
  {
   "cell_type": "code",
   "execution_count": 7,
   "metadata": {},
   "outputs": [
    {
     "name": "stdout",
     "output_type": "stream",
     "text": [
      "matrix X:\n",
      "[[  1.  nan]\n",
      " [  2.  nan]]\n",
      "result of our function:\n",
      "[[ 1.   1.5]\n",
      " [ 2.   1.5]]\n",
      "matrix X:\n",
      "[ nan  nan]\n",
      "result of our function:\n",
      "[ 0.  0.]\n"
     ]
    }
   ],
   "source": [
    "def replace_nans(X):\n",
    "    y = np.ravel(X)\n",
    "    Nnan = y[np.logical_not(np.isnan(y))]\n",
    "    summ = float(sum(Nnan))\n",
    "    if (Nnan.shape[0] != 0):\n",
    "        m = summ/Nnan.shape[0]\n",
    "    else:\n",
    "        m = 0.\n",
    "    np.place(X, np.isnan(X), [m])            \n",
    "    return X\n",
    "\n",
    "X = np.array([[1., np.nan], [2., np.nan]])\n",
    "print(\"matrix X:\")\n",
    "print(X)\n",
    "print(\"result of our function:\")\n",
    "print(replace_nans(X))\n",
    "X = np.array([np.nan, np.nan])\n",
    "print(\"matrix X:\")\n",
    "print(X)\n",
    "print(\"result of our function:\")\n",
    "print(replace_nans(X))"
   ]
  },
  {
   "cell_type": "markdown",
   "metadata": {},
   "source": [
    "**7. (0.5 балла)** Реализуйте функцию, принимающую на вход два одномерных массива *x* и *y* одинаковой длины и возвращающую матрицу, в которой первый массив соответствует первому столбцу матрицы, второй — второму. В этом задании *запрещается* пользоваться операцией транспонирования.\n",
    "\n",
    "Задачу нужно решить двумя разными способами, за решение только одним способом максимально возможная оценка — 0.4."
   ]
  },
  {
   "cell_type": "markdown",
   "metadata": {},
   "source": [
    "**Спосаб 1:** ствараем масіў даўжыні, роўнай двум памерам масіва x, пасля на цотныя індэксы ставім элементы з x на няцотныя - элементы з y, пасля створаны масіў робім патрэбных нам памераў, і элементы з х стануць на першы слупок, а элементы з y - на другі. "
   ]
  },
  {
   "cell_type": "markdown",
   "metadata": {},
   "source": [
    "**Спосаб 2:** капіруем масівы на месцы слупкоў праз спісы індэксаў"
   ]
  },
  {
   "cell_type": "code",
   "execution_count": 8,
   "metadata": {},
   "outputs": [
    {
     "name": "stdout",
     "output_type": "stream",
     "text": [
      "x: [  1   2   4   5   5  62  35 312]\n",
      "y: [    2     3     4     5    34   134 12442     2]\n",
      "result of first-way:\n",
      "[[  1.00000000e+00   2.00000000e+00]\n",
      " [  2.00000000e+00   3.00000000e+00]\n",
      " [  4.00000000e+00   4.00000000e+00]\n",
      " [  5.00000000e+00   5.00000000e+00]\n",
      " [  5.00000000e+00   3.40000000e+01]\n",
      " [  6.20000000e+01   1.34000000e+02]\n",
      " [  3.50000000e+01   1.24420000e+04]\n",
      " [  3.12000000e+02   2.00000000e+00]]\n",
      "result of second-way:\n",
      "[[  1.00000000e+00   2.00000000e+00]\n",
      " [  2.00000000e+00   3.00000000e+00]\n",
      " [  4.00000000e+00   4.00000000e+00]\n",
      " [  5.00000000e+00   5.00000000e+00]\n",
      " [  5.00000000e+00   3.40000000e+01]\n",
      " [  6.20000000e+01   1.34000000e+02]\n",
      " [  3.50000000e+01   1.24420000e+04]\n",
      " [  3.12000000e+02   2.00000000e+00]]\n"
     ]
    }
   ],
   "source": [
    "def construct_matrix1(x, y):\n",
    "    size = x.shape[0]\n",
    "    z = np.arange(0, 2*size, 2)\n",
    "    result = np.zeros(2*size)\n",
    "    result[z] = x\n",
    "    h = np.arange(1, 2*size+1, 2)\n",
    "    result[h] = y\n",
    "    result = result.reshape((size,2))\n",
    "    return result\n",
    "\n",
    "def construct_matrix2(x,y):\n",
    "    size = x.shape[0]\n",
    "    result = np.zeros((size, 2))\n",
    "    rows = np.arange(0, size)\n",
    "    x_ind = np.zeros(size, dtype = int)\n",
    "    y_ind = np.ones(size, dtype = int)\n",
    "    result[rows, x_ind] = x\n",
    "    result[rows, y_ind] = y\n",
    "    return result\n",
    "\n",
    "x = np.array([1,2,4,5,5,62,35,312])\n",
    "print(\"x:\", x)\n",
    "y = np.array([2,3,4,5,34,134,12442,2])\n",
    "print(\"y:\", y)\n",
    "print(\"result of first-way:\" )\n",
    "print(construct_matrix1(x,y))\n",
    "print(\"result of second-way:\" )\n",
    "print(construct_matrix2(x,y))"
   ]
  },
  {
   "cell_type": "markdown",
   "metadata": {},
   "source": [
    "**8. (1.5 балла)** Даны две вещественные матрицы *X* и *Y* с одинаковым числом столбцов и, в общем случае, различным числом строк. Необходимо реализовать функцию, вычисляющую матрицу попарных евклидовых расстояний между всеми элементами декартового произведения строк *X* и *Y*. Рекомендуется обратить внимание на функции *np.dot*, *np.repeat*, *np.reshape*, *np.transpose*, *np.sqrt*, *np.sum* и *np.power*. Но не запрещается пользоваться аналогами."
   ]
  },
  {
   "cell_type": "markdown",
   "metadata": {},
   "source": [
    "http://stackoverflow.com/questions/27948363/numpy-broadcast-to-perform-euclidean-distance-vectorized/35814006. \n",
    "    Запыт: numpy broadcast to perform euclidean distance праз Яндэкс."
   ]
  },
  {
   "cell_type": "code",
   "execution_count": 9,
   "metadata": {},
   "outputs": [
    {
     "name": "stdout",
     "output_type": "stream",
     "text": [
      "matrix X:\n",
      "[[ 0  1  2]\n",
      " [ 3  4  5]\n",
      " [ 6  7  8]\n",
      " [ 9 10 11]\n",
      " [12 13 14]]\n",
      "matrix Y:\n",
      "[[ 0.   0.5  1. ]\n",
      " [ 1.5  2.   2.5]\n",
      " [ 3.   3.5  4. ]\n",
      " [ 4.5  5.   5.5]]\n",
      "matrix of euclidean distances:\n",
      "[[  1.11803399   1.87082869   4.38748219   6.96419414]\n",
      " [  6.10327781   3.53553391   1.11803399   1.87082869]\n",
      " [ 11.28051417   8.6890736    6.10327781   3.53553391]\n",
      " [ 16.46966909  13.87443693  11.28051417   8.6890736 ]\n",
      " [ 21.66217902  19.06567596  16.46966909  13.87443693]]\n"
     ]
    }
   ],
   "source": [
    "def count_euclidean_distance(X, Y):\n",
    "     return np.sqrt((np.square(X[:,np.newaxis]-Y).sum(axis=2)))\n",
    "\n",
    "X = np.arange(15).reshape((5, 3))\n",
    "Y = np.arange(0, 6, 0.5).reshape((4, 3))\n",
    "print(\"matrix X:\")\n",
    "print(X)\n",
    "print(\"matrix Y:\")\n",
    "print(Y)\n",
    "print(\"matrix of euclidean distances:\")\n",
    "print(count_euclidean_distance(X, Y))"
   ]
  },
  {
   "cell_type": "markdown",
   "metadata": {},
   "source": [
    "**9. (1 балл)** Написать функцию, которая получает на вход матрицу и масштабирует каждый её столбец, а именно вычитает из столбца его среднее значение и делит столбец на стандартное отклонение. Для тестирования можно сгенерировать с помощью метода *numpy.random.randint* случайную матрицу и проверить на ней работу метода.  Убедитесь, что в функции не будет происходить деления на ноль. "
   ]
  },
  {
   "cell_type": "code",
   "execution_count": 10,
   "metadata": {},
   "outputs": [
    {
     "name": "stdout",
     "output_type": "stream",
     "text": [
      "matrix X:\n",
      "[[1 1 1]\n",
      " [1 2 3]]\n",
      "result of our function:\n",
      "None\n",
      "matrix X:\n",
      "[[16 44 77 67]\n",
      " [48 21 33 62]\n",
      " [60  6 85 78]\n",
      " [48 33 87  3]\n",
      " [28 23 19 56]\n",
      " [78 91 47 26]]\n",
      "result of our function:\n",
      "[[-1.5007024   0.28338966  0.71830354  0.70763332]\n",
      " [ 0.08245618 -0.56677933 -0.94513624  0.51464241]\n",
      " [ 0.67614064 -1.12123736  1.02074714  1.13221331]\n",
      " [ 0.08245618 -0.1232129   1.09635804 -1.76265026]\n",
      " [-0.90701793 -0.49285159 -1.47441254  0.28305333]\n",
      " [ 1.56666734  2.02069151 -0.41585995 -0.8748921 ]]\n"
     ]
    }
   ],
   "source": [
    "def scale(X):\n",
    "    mean = np.mean(X, axis = 0)\n",
    "    std = np.std(X, axis = 0)\n",
    "    X = np.add(X, mean*-1)\n",
    "    if np.shape(np.nonzero(std))[1] != std.shape[0]:\n",
    "        return None\n",
    "    else:\n",
    "        X = np.divide(X, std)\n",
    "        return X\n",
    "\n",
    "X = np.array([[1, 1, 1], [1, 2, 3]])\n",
    "print(\"matrix X:\")\n",
    "print(X)\n",
    "print(\"result of our function:\")\n",
    "print(scale(X))\n",
    "X = np.random.randint(100, size = (6,4))\n",
    "print(\"matrix X:\")\n",
    "print(X)\n",
    "print(\"result of our function:\")\n",
    "print(scale(X))\n"
   ]
  },
  {
   "cell_type": "markdown",
   "metadata": {},
   "source": [
    "**10. (1 балл)** Реализуйте функцию, которая для заданной матрицы находит:\n",
    " - определитель\n",
    " - след\n",
    " - наименьший и наибольший элементы\n",
    " - норму Фробениуса\n",
    " - собственные числа\n",
    " - обратную матрицу\n",
    "\n",
    "Для тестирования сгенерируйте матрицу с элементами из нормального распределения *N*(10,1)"
   ]
  },
  {
   "cell_type": "code",
   "execution_count": 11,
   "metadata": {},
   "outputs": [
    {
     "name": "stdout",
     "output_type": "stream",
     "text": [
      "matrix X:\n",
      "[[  9.77811922  10.21316968  10.36117411  11.60684914   9.7565402\n",
      "    8.6312575    9.88229017   8.50309552  10.49245139   9.53996326]\n",
      " [  9.44456569   9.80415111  10.05669499   8.94150261   9.22128914\n",
      "    9.45758991   9.13504855   8.70339822  11.22589494  10.81989602]\n",
      " [  9.08762754   9.77898345   8.145917     9.68100674   9.63679066\n",
      "   10.93070023  10.77761963   8.44455623   9.16833802   9.39547107]\n",
      " [ 10.45307439   9.77776947   9.53410449   8.42655669  10.22311147\n",
      "   10.85185077   9.73231901   9.87597931   8.59443422  10.62904886]\n",
      " [  8.76341798  10.18773292   9.20148436  11.05399163   9.9664556\n",
      "   12.1003842    8.72653683   9.90453967   9.46138629   9.53478217]\n",
      " [ 10.51336935   9.5133186    7.90623176   9.59964356   9.9747358\n",
      "    9.80853823   9.55529799   8.12624529  11.31412029  10.31433494]\n",
      " [ 11.31530575   9.49157976  10.86463022   9.50695061   7.62428602\n",
      "    8.0132691    8.86147963  10.93806432  10.25351403   9.89948519]\n",
      " [ 10.35726298  11.13699338   9.61633182   8.91914346  10.56735348\n",
      "   10.45836678  10.76032211  12.17233831   9.58196446   8.86548871]\n",
      " [ 10.51229062  10.73171797  11.28347742   9.82410823   9.47544991\n",
      "   10.27709316  10.81279877  10.02115823  10.99568908  10.24125436]\n",
      " [  8.36171298   9.76907585  11.44829123  10.23701159   9.94842182\n",
      "    9.48380661  10.26075761   8.99806867   9.22723078   9.64537572]]\n",
      "result of our function:\n",
      "(22383.140056682088, 97.604620592983537, 12.172338310645841, 7.6242860245673789, 98.929466142627817, array([ 98.49299563+0.j        ,  -2.47440830+0.30496958j,\n",
      "        -2.47440830-0.30496958j,  -1.43010562+1.83322523j,\n",
      "        -1.43010562-1.83322523j,   2.63055406+0.j        ,\n",
      "         1.76105977+0.91911617j,   1.76105977-0.91911617j,\n",
      "         0.38398960+0.7099933j ,   0.38398960-0.7099933j ]), array([[  1.44739654e-01,  -5.33959970e-01,  -3.27738584e-01,\n",
      "          3.11691376e-01,   4.30746308e-03,   2.45092161e-01,\n",
      "         -6.58845371e-02,  -1.45062071e-01,   5.62672683e-01,\n",
      "         -2.31238518e-01],\n",
      "       [  1.04883673e+00,   8.47797807e-01,   2.36935099e-01,\n",
      "          3.52107866e-01,  -7.82966862e-02,  -1.12651319e+00,\n",
      "         -4.22455393e-01,   1.93387367e-01,   9.29540660e-02,\n",
      "         -1.16804254e+00],\n",
      "       [ -9.19778296e-02,  -3.09075336e-01,  -4.17484363e-01,\n",
      "          9.60134586e-02,   6.60925041e-02,   1.17603025e-01,\n",
      "         -1.25478789e-01,  -1.37975970e-01,   5.67388066e-01,\n",
      "          2.00616169e-01],\n",
      "       [  1.11869275e-01,  -9.24431720e-02,   1.87420724e-01,\n",
      "         -1.28902432e-01,   9.56185912e-02,  -7.41364651e-03,\n",
      "          1.98881681e-01,  -8.23695316e-02,  -3.29964853e-01,\n",
      "          8.78803797e-02],\n",
      "       [ -4.78048064e-02,  -2.62398097e-01,  -4.78249609e-01,\n",
      "          1.14701662e-01,  -1.26890789e-02,   4.65269731e-01,\n",
      "         -2.13080499e-01,   1.48583533e-01,  -8.67564623e-02,\n",
      "          3.70337402e-01],\n",
      "       [ -2.98499626e-01,  -3.40745869e-01,  -1.47522607e-01,\n",
      "          1.77744562e-02,   2.54814241e-01,   1.96956027e-01,\n",
      "         -1.03504401e-01,  -1.75171100e-01,   5.53051860e-01,\n",
      "          1.91006920e-02],\n",
      "       [ -2.57085639e-01,  -8.69574458e-02,   4.58519733e-01,\n",
      "         -2.24540923e-01,  -2.47190311e-01,   6.66367371e-02,\n",
      "          1.62712920e-01,   1.30085494e-02,  -1.35892692e-01,\n",
      "          2.91052230e-01],\n",
      "       [ -3.48184818e-01,   1.07271206e-01,   1.61798583e-01,\n",
      "         -2.67201546e-01,   2.38408233e-02,   7.54593648e-02,\n",
      "          3.42912199e-01,   2.11367474e-01,  -5.72789566e-01,\n",
      "          3.18583203e-01],\n",
      "       [ -3.54546329e-01,  -5.84824669e-02,  -2.04704252e-01,\n",
      "         -3.83216905e-01,   6.72991589e-02,   4.45798712e-01,\n",
      "          5.62601252e-04,   5.12270275e-02,   2.04040478e-01,\n",
      "          2.30421781e-01],\n",
      "       [  8.29625694e-02,   7.23248850e-01,   5.36194454e-01,\n",
      "          1.14973440e-01,  -1.65482969e-01,  -4.44531109e-01,\n",
      "          2.50856357e-01,  -5.99649596e-02,  -8.75763329e-01,\n",
      "         -7.22339197e-02]]))\n"
     ]
    }
   ],
   "source": [
    "def get_stats(X):\n",
    "    val, v = np.linalg.eig(X)\n",
    "    det = np.linalg.det(X)\n",
    "    if (det != 0):\n",
    "        return det, np.trace(X), np.amax(X), np.amin(X), np.linalg.norm(X), val, np.linalg.inv(X)\n",
    "    else:\n",
    "        return det, np.trace(X), np.amax(X), np.amin(X), np.linalg.norm(X), val, None\n",
    "    \n",
    "X = np.random.normal(10, 1, (10,10))\n",
    "print(\"matrix X:\")\n",
    "print(X)\n",
    "print(\"result of our function:\")\n",
    "print(get_stats(X))"
   ]
  },
  {
   "cell_type": "markdown",
   "metadata": {},
   "source": [
    "**11. (1 балл)** Повторите 100 раз следующий эксперимент: сгенерируйте две матрицы размера 10×10 из стандартного нормального распределения, перемножьте их (как матрицы) и найдите максимальный элемент. Какое среднее значение по экспериментам у максимальных элементов? 95-процентная квантиль? (в данной задаче можно использовать цикл только для повторения эксперимента) "
   ]
  },
  {
   "cell_type": "code",
   "execution_count": 12,
   "metadata": {},
   "outputs": [
    {
     "name": "stdout",
     "output_type": "stream",
     "text": [
      "mean value of max: 8.04526411879\n",
      "95-percentile: 10.7583398096\n"
     ]
    }
   ],
   "source": [
    "maxes = []\n",
    "for i in range(100):\n",
    "    X = np.random.normal(0, 1, (10,10))\n",
    "    Y = np.random.normal(0, 1, (10,10))\n",
    "    Z = X.dot(Y)\n",
    "    maxes.append(np.amax(Z))\n",
    "print(\"mean value of max:\", np.mean(maxes))\n",
    "print(\"95-percentile:\", np.percentile(maxes, 95))"
   ]
  },
  {
   "cell_type": "markdown",
   "metadata": {},
   "source": [
    "### (5 баллов) Pandas \n",
    "\n",
    "![](https://metrouk2.files.wordpress.com/2015/10/panda.jpg)"
   ]
  },
  {
   "cell_type": "markdown",
   "metadata": {},
   "source": [
    "Загрузите данные о пассажирах Титаника из файлов *titanic_data.csv* и *titanic_surv.csv* и ответьте на вопросы ниже. Каждый ответ поясните.\n",
    "\n",
    "Информация о файлах: \n",
    " - *titanic_data.csv* содержит различную информацию о пассажирах Титаника (билет, класс, возраст и т.п.)\n",
    " - *titanic_surv.csv* содержит для каждого пассажира из первого файла информацию о том, выжил ли этот пассажир (метка 1) или нет (метка 0)\n",
    "\n",
    "**1. (1 балл)** Сделайте join двух датафреймов в один по полю индекса. Опишите данный датасет: какое расределение женщин/мужчин в нем? Сколько пассажиров ехало в каждом классе? Какой средний/минимальный/максимальный возраст пассажиров? Сколько было выживших пассажиров?"
   ]
  },
  {
   "cell_type": "code",
   "execution_count": 14,
   "metadata": {},
   "outputs": [
    {
     "name": "stdout",
     "output_type": "stream",
     "text": [
      "number of women 314\n",
      "number of men 577\n",
      "all types of ticket classes: [1 2 3]\n",
      "people from 1st class: 216\n",
      "people from 2nd class: 184\n",
      "people from 3rd class: 491\n",
      "maximum of ages: 80.0\n",
      "minimum of ages: 0.42\n",
      "meam age: 29.6991176471\n",
      "all survived: 342\n"
     ]
    }
   ],
   "source": [
    "import pandas as pd\n",
    "import numpy as np\n",
    "\n",
    "data = pd.read_csv(\"titanic_data.csv\")\n",
    "surv = pd.read_csv(\"titanic_surv.csv\")\n",
    "all_dat = data.join(surv)\n",
    "all_data = all_dat.values\n",
    "women_number = all_data[:,3][all_data[:,3] == 'female'].shape[0]\n",
    "print(\"number of women\", women_number)\n",
    "men_number = all_data[:,3][all_data[:,3] == 'male'].shape[0]\n",
    "print(\"number of men\", men_number)\n",
    "classes = np.unique(all_data[:,1])\n",
    "print(\"all types of ticket classes:\", classes)\n",
    "first_class_number = all_data[:,1][all_data[:,1] == 1].shape[0]\n",
    "print(\"people from 1st class:\", first_class_number)\n",
    "second_class_number = all_data[:,1][all_data[:,1] == 2].shape[0]\n",
    "print(\"people from 2nd class:\", second_class_number)\n",
    "third_class_number = all_data[:,1][all_data[:,1] == 3].shape[0]\n",
    "print(\"people from 3rd class:\", third_class_number)\n",
    "max_age = all_dat['Age'].max()\n",
    "print(\"maximum of ages:\", max_age)\n",
    "min_age = all_dat['Age'].min()\n",
    "print(\"minimum of ages:\", min_age)\n",
    "print(\"meam age:\", all_dat['Age'].mean())\n",
    "print(\"all survived:\", all_dat['Survived'][all_dat['Survived'] == 1].shape[0])"
   ]
  },
  {
   "cell_type": "markdown",
   "metadata": {},
   "source": [
    "**2. (1 балл)** Верно ли, что женщины выживали чаще мужчин? Какие пассажиры выживали чаще: с более дешевыми или дорогими билетами? Верно ли, что чаще выживали более молодые пассажиры?"
   ]
  },
  {
   "cell_type": "code",
   "execution_count": 15,
   "metadata": {},
   "outputs": [
    {
     "name": "stdout",
     "output_type": "stream",
     "text": [
      "survived women: 233\n",
      "survived men: 109\n",
      "percent of survived women 0.7420382165605095\n",
      "percent of survived men 0.18890814558058924\n"
     ]
    }
   ],
   "source": [
    "alive_women_number = all_data[np.logical_and(all_data[:,11] == 1, all_data[:,3] == 'female')].shape[0]\n",
    "print(\"survived women:\", alive_women_number)\n",
    "alive_men_number = all_data[np.logical_and(all_data[:,11] == 1, all_data[:,3] == 'male')].shape[0]\n",
    "print(\"survived men:\", alive_men_number)\n",
    "print(\"percent of survived women\", float(alive_women_number)/women_number)\n",
    "print(\"percent of survived men\", float(alive_men_number)/men_number)"
   ]
  },
  {
   "cell_type": "markdown",
   "metadata": {},
   "source": [
    "**Атрымалася, што прыблізна кожны пяты мужчына выжыў, а жанчын не памерла пасля катастрофы каля трох з чатырох, што значна часцей за мужчынскую \"жывучасць\".**"
   ]
  },
  {
   "cell_type": "code",
   "execution_count": 16,
   "metadata": {},
   "outputs": [
    {
     "name": "stdout",
     "output_type": "stream",
     "text": [
      "survived with first class ticket: 136\n",
      "survived with second class ticket: 87\n",
      "survived with third class ticket: 119\n",
      "percent of survived with first class ticket: 0.6296296296296297\n",
      "percent of survived with second class ticket: 0.47282608695652173\n",
      "percent of survived with third class ticket: 0.24236252545824846\n"
     ]
    }
   ],
   "source": [
    "alive_first_class_number = all_data[:,1][np.logical_and(all_data[:,1] == 1, all_data[:,11] == 1)].shape[0]\n",
    "print(\"survived with first class ticket:\", alive_first_class_number)\n",
    "alive_second_class_number = all_data[:,1][np.logical_and(all_data[:,1] == 2, all_data[:,11] == 1)].shape[0]\n",
    "print(\"survived with second class ticket:\", alive_second_class_number)\n",
    "alive_third_class_number = all_data[:,1][np.logical_and(all_data[:,1] == 3, all_data[:,11] == 1)].shape[0]\n",
    "print(\"survived with third class ticket:\", alive_third_class_number)\n",
    "print(\"percent of survived with first class ticket:\", float(alive_first_class_number)/first_class_number)\n",
    "print(\"percent of survived with second class ticket:\", float(alive_second_class_number)/second_class_number)\n",
    "print(\"percent of survived with third class ticket:\", float(alive_third_class_number)/third_class_number)"
   ]
  },
  {
   "cell_type": "markdown",
   "metadata": {},
   "source": [
    "**Таксама атрымалася, што адсотак тых, хто выжыў, найвялікшы для квіткоў першага класа, самых дарагіх, і найменшы для квіткоў трэцяга класа, самых танных.**"
   ]
  },
  {
   "cell_type": "code",
   "execution_count": 17,
   "metadata": {
    "scrolled": true
   },
   "outputs": [
    {
     "name": "stdout",
     "output_type": "stream",
     "text": [
      "maximum of ages from survived people: 80.0\n",
      "minimum of ages from survived people: 0.42\n",
      "meam age from survived people: 28.3436896552\n",
      "big age survived people: 43\n",
      "all big age people: 115\n",
      "not big age survived people: 247\n",
      "all not big age people: 599\n",
      "percent of survived big age people 0.3739130434782609\n",
      "percent of survived not big age people 0.41235392320534225\n"
     ]
    }
   ],
   "source": [
    "survived =  all_dat[all_dat['Survived'] == 1]\n",
    "print(\"maximum of ages from survived people:\", survived['Age'].max())\n",
    "print(\"minimum of ages from survived people:\", survived['Age'].min())\n",
    "print(\"meam age from survived people:\", survived['Age'].mean())\n",
    "survived_big_age_number = survived['Age'][survived['Age'] >= 45.0].shape[0]\n",
    "print(\"big age survived people:\", survived_big_age_number)\n",
    "all_big_age_number = all_dat['Age'][all_dat['Age'] >= 45.0].shape[0]\n",
    "print(\"all big age people:\", all_big_age_number)\n",
    "survived_not_big_age_number = survived['Age'][survived['Age'] < 45.0].shape[0]\n",
    "print(\"not big age survived people:\", survived_not_big_age_number)\n",
    "all_not_big_age_number = all_dat['Age'][all_dat['Age'] < 45.0].shape[0]\n",
    "print(\"all not big age people:\", all_not_big_age_number)\n",
    "print(\"percent of survived big age people\", float(survived_big_age_number)/all_big_age_number)\n",
    "print(\"percent of survived not big age people\", float(survived_not_big_age_number)/all_not_big_age_number)"
   ]
  },
  {
   "cell_type": "markdown",
   "metadata": {},
   "source": [
    "**Як аказалася, самы малады і самы стары пасажыр выжылі. Сярэдні ўзрост тых, хто выжыў, нязначна адрозніваецца ад сярэдняга ўзросту ўсіх пасажыраў, таму нельга сказаць, што маладзейшыя людзі выжывалі часцей. Падлічаны ніжэй адсотак таксама падцверджвае гэты тэзіс.**"
   ]
  },
  {
   "cell_type": "markdown",
   "metadata": {},
   "source": [
    "**3. (1 балл)** Сгруппируйте записи по классам пассажиров, в каждой группе посчитайте средний возраст. Верно ли, что во всех классах эта величина примерно одинакова?"
   ]
  },
  {
   "cell_type": "code",
   "execution_count": 18,
   "metadata": {
    "scrolled": true
   },
   "outputs": [
    {
     "name": "stdout",
     "output_type": "stream",
     "text": [
      "mean age of people with first class ticket: 38.2334408602\n",
      "mean age of people with second class ticket: 29.8776300578\n",
      "mean age of people with third class ticket: 25.1406197183\n"
     ]
    }
   ],
   "source": [
    "first_class_all = all_dat[all_dat['Pclass'] == 1]\n",
    "second_class_all = all_dat[all_dat['Pclass'] == 2]\n",
    "third_class_all = all_dat[all_dat['Pclass'] == 3]\n",
    "print(\"mean age of people with first class ticket:\", first_class_all['Age'].mean())\n",
    "print(\"mean age of people with second class ticket:\", second_class_all['Age'].mean())\n",
    "print(\"mean age of people with third class ticket:\", third_class_all['Age'].mean())"
   ]
  },
  {
   "cell_type": "markdown",
   "metadata": {},
   "source": [
    "**Не, няпраўда, самыя дарагія квіткі набывалі людзі большага ўзросту, а самыя танныя -- меншага, што можна патлумачыць тым, што ў тыя часы, каб зарабіць дастатковую колькасць грошай, патрэбна было больш часу, а таксама тым, што лепшыя ўмовы для старэйшых больш важны.**"
   ]
  },
  {
   "cell_type": "markdown",
   "metadata": {},
   "source": [
    "**4. (2 балла)** Найдите все признаки, для которых есть пропуски в данных. Обычно алгоритмы по умолчанию не умеют обрабатывать такие данные. Предложите способы обработки данных с пропусками (не менее двух) и укажите достоинства/недостаки каждого. Проиллюстрируйте их на примере данного датасета."
   ]
  },
  {
   "cell_type": "code",
   "execution_count": 19,
   "metadata": {
    "scrolled": true
   },
   "outputs": [
    {
     "data": {
      "text/plain": [
       "PassengerId    False\n",
       "Pclass         False\n",
       "Name           False\n",
       "Sex            False\n",
       "Age             True\n",
       "SibSp          False\n",
       "Parch          False\n",
       "Ticket         False\n",
       "Fare           False\n",
       "Cabin           True\n",
       "Embarked        True\n",
       "Survived       False\n",
       "dtype: bool"
      ]
     },
     "execution_count": 19,
     "metadata": {},
     "output_type": "execute_result"
    }
   ],
   "source": [
    "all_dat.isnull().any()"
   ]
  },
  {
   "cell_type": "markdown",
   "metadata": {},
   "source": [
    "**Пропускі ў дадзеных ёсць у слупках 'Age', 'Embarked' і 'Cabin'. **"
   ]
  },
  {
   "cell_type": "markdown",
   "metadata": {},
   "source": [
    "**Першы спосаб:** назначыць кожнаму пропуску роўнаімаверна адвольнае значэнне з нейкага мноства, ў нашым выпадку з дыскрэтнага для 'Cabin' і 'Embarked' і з непарыўнага для 'Age'. Для таго, каб мець гэтае мноства для 'Cabin', можна праглядзець дадзеныя без пропускаў у гэтым слупку. Імавернасці можна задаць для кожнага значэння ў залежнасці ад частаты сустракання гэтага значэння ў табліцы, таксама так можна зрабіць для 'Age', разбіўшы непарыўнае мноства на некалькі падмностваў альбо разглядаць дыскрэтнае мноства мажлівых значэнняў. \n",
    "\n",
    "**Плюсы:** \n",
    " - Гэта вельмі проста рэалізаваць, не патрабуе асаблівых перадапрацовак, асабліва, калі мноства, адкуль выбіраць значэнні, не трэба самому вызначаць. \n",
    " - Можна апрацоўваць некалькі разоў, атрымліваючы розныя вынікі, і іх ужо аналізаваць і мець нейкі вынік, які менш залежыць ад выпадку. \n",
    "\n",
    "**Мінусы:**\n",
    " - Ніяк не ўлічваецца іншая інфармацыя пра аб'ект, якая можна звузіць кола мажлівых значэнняў (і гэта можа быць дакладна). Калі гэта рабіць, будзе ўжо іншы спосаб апрацоўкі. \n",
    " - Жыццю гэта можа зусім не адпавядаць (глядзі запаўненне кабін у Тытаніку)\n",
    " - Калі усе палі запаўняць адным значэннем, аб'ектаў з гэтым значэннем становіцца вельмі шмат, што значна мяняе \"размеркаванне\" выбаркі."
   ]
  },
  {
   "cell_type": "code",
   "execution_count": 20,
   "metadata": {},
   "outputs": [],
   "source": [
    "#filling Embarked\n",
    "embarked_all = all_dat['Embarked'].unique()\n",
    "ind_nan = np.where(pd.isnull(embarked_all))\n",
    "embarked_all = np.delete(embarked_all, ind_nan)\n",
    "emb_filled = all_dat['Embarked'].fillna(embarked_all[np.random.randint(embarked_all.shape[0])])\n",
    "\n",
    "#filling Cabin\n",
    "cabin_all = all_dat['Cabin'].unique()\n",
    "ind_nan = np.where(pd.isnull(cabin_all))\n",
    "cabin_all = np.delete(cabin_all, ind_nan)\n",
    "cabin_filled = all_dat['Cabin'].fillna(cabin_all[np.random.randint(cabin_all.shape[0])])\n",
    "\n",
    "#filling Age\n",
    "age_filled = all_dat['Age'].fillna(np.random.uniform(min_age, max_age))\n",
    "\n",
    "all_data = all_dat.copy(deep = True)\n",
    "all_data['Embarked'] = emb_filled\n",
    "all_data['Cabin'] = cabin_filled\n",
    "all_data['Age'] = age_filled"
   ]
  },
  {
   "cell_type": "markdown",
   "metadata": {},
   "source": [
    "**Другі спосаб:** Браць нейкае значэнне, якое выведзена на аснове выбаркі без пропускаў: сярэдняе значэнне, значэнне, якое сама часта паўтараецца і г.д... \n",
    "\n",
    "**Плюсы:**\n",
    " - Праводзіцца нейкі аналіз выбаркі, і гэта дае мажлівасць спадзявацца на тое, што значэнне, якім будзем запаўняць пропускі, будзе падобным на сапраўдныя значэнні.\n",
    " - Гэта дэтэрмінаванае запаўненне, і над той жа запоўненай выбаркай можна працаваць не адзін раз, гэта можа быцуь патрэбна.\n",
    " \n",
    "**Мінусы**\n",
    " - Калі усе палі запаўняць адным значэннем, аб'ектаў з гэтым значэннем становіцца вельмі шмат, што значна мяняе \"размеркаванне\" выбаркі.\n",
    " - Жыццю гэта можа зусім не адпавядаць (глядзі запаўненне кабін у Тытаніку)"
   ]
  },
  {
   "cell_type": "code",
   "execution_count": 21,
   "metadata": {},
   "outputs": [],
   "source": [
    "#filling Embarked\n",
    "embarked_count = []\n",
    "for i in embarked_all:\n",
    "    embarked_count.append(all_dat[all_dat['Embarked'] == i].shape[0])\n",
    "embarked_filled = all_dat['Embarked'].fillna(embarked_all[np.argmax(embarked_count)])\n",
    "\n",
    "#filling Cabin\n",
    "cabin_count = []\n",
    "for i in cabin_all:\n",
    "    cabin_count.append(all_dat[all_dat['Cabin'] == i].shape[0])\n",
    "cabin_filled = all_dat['Cabin'].fillna(cabin_all[np.argmax(cabin_count)])\n",
    "\n",
    "#filling Age\n",
    "age_filled = all_dat['Age'].fillna(all_dat['Age'].mean())\n",
    "\n",
    "all_data2 = all_dat.copy(deep = True)\n",
    "all_data2['Embarked'] = emb_filled\n",
    "all_data2['Cabin'] = cabin_filled\n",
    "all_data2['Age'] = age_filled"
   ]
  },
  {
   "cell_type": "markdown",
   "metadata": {},
   "source": [
    "### (2 балла) Matplotlib\n",
    "\n",
    "Обратите внимание, что у графиков должны быть подписаны оси, заголовок графика и при необходимости обязательно наличие легенды. За отсутствие названий графиков и подписей к осям могут снижаться баллы. Все картинки должны быть самодостаточны и визуально удобны для восприятия, так чтобы не нужно было смотреть ваш код или знать задание, чтобы понять что на них изображено.\n",
    "\n",
    "![](https://imgs.xkcd.com/comics/convincing.png)\n",
    "\n",
    "**1. (1 балл)** Используя функцию *gen_uncertain_data* для генерации выборки, отобразите на графике синим цветом функцию *y(x)*, а также ее доверительный интервал в виде закрашенной зеленым цветом области от *y[i] - error[i]* до *y[i] + error[i]*. Полезной может оказаться функция *fill_between*.\n",
    "\n",
    "    def gen_uncertain_data():\n",
    "        x = np.linspace(0, 30, 100)\n",
    "        y = np.sin(x/6*np.pi) + np.random.normal(0, 0.02, size=x.shape)\n",
    "        error = np.random.normal(0.1, 0.02, size=y.shape)\n",
    "        return x, y, error"
   ]
  },
  {
   "cell_type": "code",
   "execution_count": 38,
   "metadata": {
    "scrolled": false
   },
   "outputs": [
    {
     "data": {
      "text/plain": [
       "<matplotlib.legend.Legend at 0x7f2c59605160>"
      ]
     },
     "execution_count": 38,
     "metadata": {},
     "output_type": "execute_result"
    },
    {
     "data": {
      "image/png": "[encoded data removed]",
      "text/plain": [
       "<matplotlib.figure.Figure at 0x7f2c59665f60>"
      ]
     },
     "metadata": {},
     "output_type": "display_data"
    }
   ],
   "source": [
    "import matplotlib\n",
    "import matplotlib.pylab as plt\n",
    "\n",
    "def gen_uncertain_data():\n",
    "    x = np.linspace(0, 30, 100)\n",
    "    y = np.sin(x/6*np.pi) + np.random.normal(0, 0.02, size=x.shape)\n",
    "    error = np.random.normal(0.1, 0.02, size=y.shape)\n",
    "    return x, y, error\n",
    "\n",
    "x, y, error = gen_uncertain_data()\n",
    "plt.plot(x, y, color = 'black', label = 'y(x)')\n",
    "plt.title(\"uncertain data\")\n",
    "plt.xlabel('x')\n",
    "plt.ylabel('y')\n",
    "plt.fill_between(x, y-error, y+error, color = 'green', label = 'confidence interval')\n",
    "plt.legend(bbox_to_anchor=(1.05, 1), loc=2, borderaxespad=0.)"
   ]
  },
  {
   "cell_type": "markdown",
   "metadata": {},
   "source": [
    "**2. (1 балл)** Отобразите гистограмму распределения возрастов для каждого класса пассажиров (здесь нужно использовать данные из заданий по pandas). В результате вы должны получить три гистограммы, которые необходимо отобразить рядом друг с другом используя функцию *plt.subplots*. Каждая гистограмма должна быть нормирована. Обратите внимание на параметры *figsize*, *sharey*, *sharex* функции *plt.subplots*. Также полезными могут оказаться параметры *bins*, *normed* функции *plt.hist*."
   ]
  },
  {
   "cell_type": "code",
   "execution_count": 63,
   "metadata": {},
   "outputs": [
    {
     "data": {
      "image/png": "[encoded data removed]",
      "text/plain": [
       "<matplotlib.figure.Figure at 0x7f2c533c29e8>"
      ]
     },
     "metadata": {},
     "output_type": "display_data"
    }
   ],
   "source": [
    "#all_dat\n",
    "first_class_ages = all_dat['Age'][all_dat['Pclass'] == 1].unique()\n",
    "ind_nan = np.where(pd.isnull(first_class_ages))\n",
    "first_class_ages = np.delete(first_class_ages, ind_nan)\n",
    "first_class_ages_counts = all_dat['Age'][all_dat['Pclass'] == 1].value_counts().values\n",
    "\n",
    "second_class_ages = all_dat['Age'][all_dat['Pclass'] == 2].unique()\n",
    "ind_nan = np.where(pd.isnull(second_class_ages))\n",
    "second_class_ages = np.delete(second_class_ages, ind_nan)\n",
    "second_class_ages_counts = all_dat['Age'][all_dat['Pclass'] == 2].value_counts().values\n",
    "\n",
    "third_class_ages = all_dat['Age'][all_dat['Pclass'] == 3].unique()\n",
    "ind_nan = np.where(pd.isnull(third_class_ages))\n",
    "third_class_ages = np.delete(third_class_ages, ind_nan)\n",
    "third_class_ages_counts = all_dat['Age'][all_dat['Pclass'] == 3].value_counts().values\n",
    "\n",
    "fig, axes = plt.subplots(ncols=3, nrows=1, sharey=True, figsize=(15, 5))\n",
    "axes[0].bar(first_class_ages, first_class_ages_counts)\n",
    "axes[1].bar(second_class_ages, second_class_ages_counts)\n",
    "axes[2].bar(third_class_ages, third_class_ages_counts)\n",
    "plt.show()"
   ]
  }
 ],
 "metadata": {
  "kernelspec": {
   "display_name": "Python 3",
   "language": "python",
   "name": "python3"
  },
  "language_info": {
   "codemirror_mode": {
    "name": "ipython",
    "version": 3
   },
   "file_extension": ".py",
   "mimetype": "text/x-python",
   "name": "python",
   "nbconvert_exporter": "python",
   "pygments_lexer": "ipython3",
   "version": "3.6.4"
  }
 },
 "nbformat": 4,
 "nbformat_minor": 1
}

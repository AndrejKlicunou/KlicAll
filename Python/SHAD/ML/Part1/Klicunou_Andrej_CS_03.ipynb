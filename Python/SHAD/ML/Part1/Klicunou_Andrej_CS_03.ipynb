{
 "cells": [
  {
   "cell_type": "markdown",
   "metadata": {
    "collapsed": true
   },
   "source": [
    "# Лабораторная работа 3. Линейные методы.\n",
    "\n",
    "Результат лабораторной работы − отчет. Мы предпочитаем принимать отчеты в формате ноутбуков IPython (ipynb-файл). Постарайтесь сделать ваш отчет интересным рассказом, последовательно отвечающим на вопросы из заданий. Помимо ответов на вопросы, в отчете также должен быть код, однако чем меньше кода, тем лучше всем: нам − меньше проверять, вам — проще найти ошибку или дополнить эксперимент. При проверке оценивается четкость ответов на вопросы, аккуратность отчета и кода.\n",
    "\n",
    "Мы уверены, что выполнение лабораторных работ занимает значительное время, поэтому не рекомендуем оставлять их на последний вечер перед сдачей.\n",
    "\n",
    "### Оценивание и штрафы\n",
    "Каждая из задач имеет определенную «стоимость» (указана в скобках около задачи). Максимально допустимая оценка за работу — 15 баллов. Сдавать задание после указанного срока сдачи нельзя. «Похожие» решения считаются плагиатом и все задействованные студенты (в том числе те, у кого списали) не могут получить за него больше 0 баллов и понижают карму (подробнее о плагиате см. на странице курса). Если вы нашли решение какого-то из заданий в открытом источнике, необходимо прислать ссылку на этот источник (скорее всего вы будете не единственным, кто это нашел, поэтому чтобы исключить подозрение в плагиате, нам необходима ссылка на источник).\n",
    "\n",
    "Обратите внимание, что мы не ставим оценку за просто написанный код, корректная работоспособность которого не подтверждена экспериментами.\n",
    "\n",
    "### Правила сдачи\n",
    "Выполненную работу следует отправить в систему Anytask. Более подробно о системе можно почитать на странице курса. Название отправляемого файла должно иметь следующий формат: Surname_Name_Group_NN.ipynb, где NN — номер лабораторной работы. Например, Kozlova_Anna_CS_03.ipynb."
   ]
  },
  {
   "cell_type": "markdown",
   "metadata": {},
   "source": [
    "<a id='log_reg'></a>\n",
    "## Логистическая регрессия\n",
    "\n",
    "В этом пункте мы будем рассматривать бинарную классификацию, где метки классов лежат во множестве $\\{-1, 1\\}$. \n",
    "\n",
    "Задачу обучения регуляризованной логистической регрессии можно записать следующим образом:\n",
    "\n",
    "$$ \\dfrac{1}{N}\\sum_{i=1}^N \\log(1 + \\exp(-\\langle w, x_i \\rangle y_i)) + \\dfrac{C}{2}\\lVert w \\rVert^2  \\to \\min_w$$\n",
    "\n",
    "Обучение в данном случае сводится к нахождению параметров модели $w$, которое производится с помощью метода градиентного спуска (Gradient Descent, GD). \n",
    "\n",
    "Градиентный шаг будет заключаться в обновлении вектора весов по следующей формуле:\n",
    "\n",
    "$$w := w + \\dfrac{\\eta}{N}\\sum_{i=1}^N y_ix_i \\Big(1 - \\dfrac{1}{1 + exp(-\\langle w, x_i \\rangle y_i)}\\Big) - \\eta Cw$$\n",
    "\n",
    "где $\\eta > 0$ — размер шага (learning rate).\n",
    "\n",
    "В общем случае метод градиентного спуска имеет следующие недостатки:\n",
    "- попадание в локальные минимумы\n",
    "- неочевидность критерия останова\n",
    "- выбор размера шага\n",
    "- начальная инициализация весов\n",
    "\n",
    "В этой части лабораторной работы мы предложим вам реализовать метод градиентного спуска, а также рассмотрим некоторые его модификации.\n",
    "\n"
   ]
  },
  {
   "cell_type": "code",
   "execution_count": 3,
   "metadata": {
    "collapsed": true
   },
   "outputs": [],
   "source": [
    "import numpy as np\n",
    "import pandas as pd\n",
    "import pylab as plt\n",
    "%matplotlib inline"
   ]
  },
  {
   "cell_type": "markdown",
   "metadata": {},
   "source": [
    "### Задание\n",
    "\n",
    "Сгенерируйте выборку из 1000 точек с 20 признаками на которой будете проводить эксперименты. Мы рекомендуем воспользоваться функцией [make_classification](http://scikit-learn.org/stable/modules/generated/sklearn.datasets.make_classification.html#sklearn.datasets.make_classification) из пакета sklearn. Обратите внимание, что метки классов для данной задачи должны быть из множества {-1, 1} (по умолчанию make_classification возвращает метки из множества {0, 1})."
   ]
  },
  {
   "cell_type": "markdown",
   "metadata": {},
   "source": [
    "**(3.5 балла)** Реализуйте градиентный спуск и протестируйте его для случая логистической регрессии на ранее сгенерированной выборке. Для сравнения качества разных подходов используйте значение оптимизируемого функционала.\n",
    "\n",
    "В качестве критерия останова мы предлагаем использовать следующие условия:\n",
    " - евклидова норма разности текущего и нового векторов весов стала меньше, чем 1e-6\n",
    " - ограничение на число итераций (например, 10000)\n",
    " \n",
    "Для начальной инициализации весов нужно сравнить следующие подходы:\n",
    " - нулевая начальная инициализация\n",
    " - случайная\n",
    " \n",
    "Выполните следующие пункты и прокомментируйте полученные результаты:\n",
    "- Рассмотрите как влияет размер шага на сходимость.\n",
    "- Рассмотрите регуляризованную модель, которая описана выше, а также модель без регуляризатора. Сравните влияет ли наличие регуляризации на скорость сходимости и качество.\n",
    "- Постройте график качества оптимизируемого функционала в зависимости от номера итерации (при правильной реализации и подходящем размере шага он должен убывать).\n",
    "- Влияет ли выбор начальной инициализации весов на скорость и качество?"
   ]
  },
  {
   "cell_type": "code",
   "execution_count": 4,
   "metadata": {
    "collapsed": true
   },
   "outputs": [],
   "source": [
    "import sklearn.datasets\n",
    "\n",
    "x, y = sklearn.datasets.make_classification(1000, 20)\n",
    "y[y == 0] = -1"
   ]
  },
  {
   "cell_type": "code",
   "execution_count": 5,
   "metadata": {
    "collapsed": true
   },
   "outputs": [],
   "source": [
    "def init_weights(size, init_type = 'random'):\n",
    "    if (init_type == 'random'):\n",
    "        return np.random.uniform(-1./(2*size), 1./(2*size), size)\n",
    "    elif (init_type == 'zero'):\n",
    "        return np.zeros(size)\n",
    "\n",
    "def grad_descent(x, y, eta, C=0, iters_limit = 10000, w_init = 'random'):\n",
    "    N = x.shape[0]\n",
    "    n = x.shape[1]\n",
    "    all_w_iterations = []\n",
    "    w = init_weights(n, w_init)\n",
    "    all_w_iterations.append(w)\n",
    "    w_old = w\n",
    "    temp = np.zeros(n)\n",
    "    for i in range(N):\n",
    "        temp += x[i]*y[i]*(1-1./(1 + np.exp(-y[i]*x[i].dot(w_old.T))))\n",
    "    w = w_old + (eta*1./N)*temp - C*eta*w_old\n",
    "    all_w_iterations.append(w)\n",
    "    iters_count = 1\n",
    "    while np.linalg.norm(w-w_old) > 1e-6 and iters_count < iters_limit:\n",
    "        w_old = w\n",
    "        temp = np.zeros(n)\n",
    "        for i in range(N):\n",
    "            temp += x[i]*y[i]*(1-1./(1 + np.exp(-y[i]*(x[i].dot(w_old.T)))))\n",
    "        w = w_old + (eta*1./x.shape[0])*temp - C*eta*w_old\n",
    "        all_w_iterations.append(w)\n",
    "        iters_count += 1\n",
    "    return w, iters_count, all_w_iterations\n",
    "    \n",
    "def count_functional(x, y, w, C=0):\n",
    "    N = x.shape[0]\n",
    "    result = 0\n",
    "    for i in range(N):\n",
    "        result += np.log(1 + np.exp(-y[i]*x[i].dot(w.T)))/N\n",
    "    result += (C/2)*(np.linalg.norm(w))**2\n",
    "    return result"
   ]
  },
  {
   "cell_type": "markdown",
   "metadata": {},
   "source": [
    "**Посмотрим, как зависит число итераций от значения параметра \"эта\", а также посмотрим на значение функционала (начальная инициализация - случайный вектор, координаты которого равномерно распределены на $[-\\frac{1}{2n}, \\frac{1}{2n}]$.**"
   ]
  },
  {
   "cell_type": "code",
   "execution_count": 6,
   "metadata": {},
   "outputs": [
    {
     "name": "stdout",
     "output_type": "stream",
     "text": [
      "Number of iterations with eta=0.01:  590\n",
      "Value of functional with this eta:  0.556672212428\n",
      "Number of iterations with eta=0.02:  324\n",
      "Value of functional with this eta:  0.556672209692\n",
      "Number of iterations with eta=0.05:  142\n",
      "Value of functional with this eta:  0.556672208812\n",
      "Number of iterations with eta=0.1:  74\n",
      "Value of functional with this eta:  0.556672208683\n",
      "Number of iterations with eta=0.3:  25\n",
      "Value of functional with this eta:  0.556672208659\n",
      "Number of iterations with eta=0.5:  14\n",
      "Value of functional with this eta:  0.556672208658\n",
      "Number of iterations with eta=0.75:  17\n",
      "Value of functional with this eta:  0.556672208657\n",
      "Number of iterations with eta=1:  148\n",
      "Value of functional with this eta:  0.556672208658\n"
     ]
    }
   ],
   "source": [
    "w, iters, w_s = grad_descent(x, y, 0.01, C=1)\n",
    "print('Number of iterations with eta=0.01: ', iters)\n",
    "print('Value of functional with this eta: ', count_functional(x, y, w, C=1))\n",
    "\n",
    "w, iters, w_s = grad_descent(x, y, 0.02, C=1)\n",
    "print('Number of iterations with eta=0.02: ', iters)\n",
    "print('Value of functional with this eta: ', count_functional(x, y, w, C=1))\n",
    "\n",
    "w, iters, w_s = grad_descent(x, y, 0.05, C=1)\n",
    "print('Number of iterations with eta=0.05: ', iters)\n",
    "print('Value of functional with this eta: ', count_functional(x, y, w, C=1))\n",
    "\n",
    "w, iters, w_s = grad_descent(x, y, 0.1, C=1)\n",
    "print('Number of iterations with eta=0.1: ', iters)\n",
    "print('Value of functional with this eta: ', count_functional(x, y, w, C=1))\n",
    "\n",
    "w, iters, w_s = grad_descent(x, y, 0.3, C=1)\n",
    "print('Number of iterations with eta=0.3: ', iters)\n",
    "print('Value of functional with this eta: ', count_functional(x, y, w, C=1))\n",
    "\n",
    "w, iters, w_s = grad_descent(x, y, 0.5, C=1)\n",
    "print('Number of iterations with eta=0.5: ', iters)\n",
    "print('Value of functional with this eta: ', count_functional(x, y, w, C=1))\n",
    "\n",
    "w, iters, w_s = grad_descent(x, y, 0.75, C=1)\n",
    "print('Number of iterations with eta=0.75: ', iters)\n",
    "print('Value of functional with this eta: ', count_functional(x, y, w, C=1))\n",
    "\n",
    "w, iters, w_s = grad_descent(x, y, 1, C=1)\n",
    "print('Number of iterations with eta=1: ', iters)\n",
    "print('Value of functional with this eta: ', count_functional(x, y, w, C=1))"
   ]
  },
  {
   "cell_type": "markdown",
   "metadata": {},
   "source": [
    "Нетрудно видеть, что с увеличением значения параметра \"эта\" количество итераций метода уменьшается, то есть метод сходится быстрее."
   ]
  },
  {
   "cell_type": "markdown",
   "metadata": {},
   "source": [
    "**Расмотрим нерегуляризованную модель и сравним её с регуляризованной по значению минимизируемого функционала.**"
   ]
  },
  {
   "cell_type": "code",
   "execution_count": 108,
   "metadata": {},
   "outputs": [
    {
     "name": "stdout",
     "output_type": "stream",
     "text": [
      "Number of iterations with eta=0.01:  10000\n",
      "Value of functional with this eta:  0.171234180255\n"
     ]
    },
    {
     "ename": "KeyboardInterrupt",
     "evalue": "",
     "output_type": "error",
     "traceback": [
      "\u001b[0;31m---------------------------------------------------------------------------\u001b[0m",
      "\u001b[0;31mKeyboardInterrupt\u001b[0m                         Traceback (most recent call last)",
      "\u001b[0;32m<ipython-input-108-79b7b0b450fa>\u001b[0m in \u001b[0;36m<module>\u001b[0;34m()\u001b[0m\n\u001b[1;32m      3\u001b[0m \u001b[0mprint\u001b[0m\u001b[0;34m(\u001b[0m\u001b[0;34m'Value of functional with this eta: '\u001b[0m\u001b[0;34m,\u001b[0m \u001b[0mcount_functional\u001b[0m\u001b[0;34m(\u001b[0m\u001b[0mx\u001b[0m\u001b[0;34m,\u001b[0m \u001b[0my\u001b[0m\u001b[0;34m,\u001b[0m \u001b[0mw\u001b[0m\u001b[0;34m)\u001b[0m\u001b[0;34m)\u001b[0m\u001b[0;34m\u001b[0m\u001b[0m\n\u001b[1;32m      4\u001b[0m \u001b[0;34m\u001b[0m\u001b[0m\n\u001b[0;32m----> 5\u001b[0;31m \u001b[0mw\u001b[0m\u001b[0;34m,\u001b[0m \u001b[0miters\u001b[0m\u001b[0;34m,\u001b[0m \u001b[0mw_s\u001b[0m \u001b[0;34m=\u001b[0m \u001b[0mgrad_descent\u001b[0m\u001b[0;34m(\u001b[0m\u001b[0mx\u001b[0m\u001b[0;34m,\u001b[0m \u001b[0my\u001b[0m\u001b[0;34m,\u001b[0m \u001b[0;36m0.02\u001b[0m\u001b[0;34m)\u001b[0m\u001b[0;34m\u001b[0m\u001b[0m\n\u001b[0m\u001b[1;32m      6\u001b[0m \u001b[0mprint\u001b[0m\u001b[0;34m(\u001b[0m\u001b[0;34m'Number of iterations with eta=0.02: '\u001b[0m\u001b[0;34m,\u001b[0m \u001b[0miters\u001b[0m\u001b[0;34m)\u001b[0m\u001b[0;34m\u001b[0m\u001b[0m\n\u001b[1;32m      7\u001b[0m \u001b[0mprint\u001b[0m\u001b[0;34m(\u001b[0m\u001b[0;34m'Value of functional with this eta: '\u001b[0m\u001b[0;34m,\u001b[0m \u001b[0mcount_functional\u001b[0m\u001b[0;34m(\u001b[0m\u001b[0mx\u001b[0m\u001b[0;34m,\u001b[0m \u001b[0my\u001b[0m\u001b[0;34m,\u001b[0m \u001b[0mw\u001b[0m\u001b[0;34m)\u001b[0m\u001b[0;34m)\u001b[0m\u001b[0;34m\u001b[0m\u001b[0m\n",
      "\u001b[0;32m<ipython-input-106-203a091adaba>\u001b[0m in \u001b[0;36mgrad_descent\u001b[0;34m(x, y, eta, C, iters_limit, w_init)\u001b[0m\n\u001b[1;32m     22\u001b[0m         \u001b[0mtemp\u001b[0m \u001b[0;34m=\u001b[0m \u001b[0mnp\u001b[0m\u001b[0;34m.\u001b[0m\u001b[0mzeros\u001b[0m\u001b[0;34m(\u001b[0m\u001b[0mn\u001b[0m\u001b[0;34m)\u001b[0m\u001b[0;34m\u001b[0m\u001b[0m\n\u001b[1;32m     23\u001b[0m         \u001b[0;32mfor\u001b[0m \u001b[0mi\u001b[0m \u001b[0;32min\u001b[0m \u001b[0mrange\u001b[0m\u001b[0;34m(\u001b[0m\u001b[0mN\u001b[0m\u001b[0;34m)\u001b[0m\u001b[0;34m:\u001b[0m\u001b[0;34m\u001b[0m\u001b[0m\n\u001b[0;32m---> 24\u001b[0;31m             \u001b[0mtemp\u001b[0m \u001b[0;34m+=\u001b[0m \u001b[0mx\u001b[0m\u001b[0;34m[\u001b[0m\u001b[0mi\u001b[0m\u001b[0;34m]\u001b[0m\u001b[0;34m*\u001b[0m\u001b[0my\u001b[0m\u001b[0;34m[\u001b[0m\u001b[0mi\u001b[0m\u001b[0;34m]\u001b[0m\u001b[0;34m*\u001b[0m\u001b[0;34m(\u001b[0m\u001b[0;36m1\u001b[0m\u001b[0;34m-\u001b[0m\u001b[0;36m1.\u001b[0m\u001b[0;34m/\u001b[0m\u001b[0;34m(\u001b[0m\u001b[0;36m1\u001b[0m \u001b[0;34m+\u001b[0m \u001b[0mnp\u001b[0m\u001b[0;34m.\u001b[0m\u001b[0mexp\u001b[0m\u001b[0;34m(\u001b[0m\u001b[0;34m-\u001b[0m\u001b[0my\u001b[0m\u001b[0;34m[\u001b[0m\u001b[0mi\u001b[0m\u001b[0;34m]\u001b[0m\u001b[0;34m*\u001b[0m\u001b[0;34m(\u001b[0m\u001b[0mx\u001b[0m\u001b[0;34m[\u001b[0m\u001b[0mi\u001b[0m\u001b[0;34m]\u001b[0m\u001b[0;34m.\u001b[0m\u001b[0mdot\u001b[0m\u001b[0;34m(\u001b[0m\u001b[0mw_old\u001b[0m\u001b[0;34m.\u001b[0m\u001b[0mT\u001b[0m\u001b[0;34m)\u001b[0m\u001b[0;34m)\u001b[0m\u001b[0;34m)\u001b[0m\u001b[0;34m)\u001b[0m\u001b[0;34m)\u001b[0m\u001b[0;34m\u001b[0m\u001b[0m\n\u001b[0m\u001b[1;32m     25\u001b[0m         \u001b[0mw\u001b[0m \u001b[0;34m=\u001b[0m \u001b[0mw_old\u001b[0m \u001b[0;34m+\u001b[0m \u001b[0;34m(\u001b[0m\u001b[0meta\u001b[0m\u001b[0;34m*\u001b[0m\u001b[0;36m1.\u001b[0m\u001b[0;34m/\u001b[0m\u001b[0mx\u001b[0m\u001b[0;34m.\u001b[0m\u001b[0mshape\u001b[0m\u001b[0;34m[\u001b[0m\u001b[0;36m0\u001b[0m\u001b[0;34m]\u001b[0m\u001b[0;34m)\u001b[0m\u001b[0;34m*\u001b[0m\u001b[0mtemp\u001b[0m \u001b[0;34m-\u001b[0m \u001b[0mC\u001b[0m\u001b[0;34m*\u001b[0m\u001b[0meta\u001b[0m\u001b[0;34m*\u001b[0m\u001b[0mw_old\u001b[0m\u001b[0;34m\u001b[0m\u001b[0m\n\u001b[1;32m     26\u001b[0m         \u001b[0mall_w_iterations\u001b[0m\u001b[0;34m.\u001b[0m\u001b[0mappend\u001b[0m\u001b[0;34m(\u001b[0m\u001b[0mw\u001b[0m\u001b[0;34m)\u001b[0m\u001b[0;34m\u001b[0m\u001b[0m\n",
      "\u001b[0;31mKeyboardInterrupt\u001b[0m: "
     ]
    }
   ],
   "source": [
    "w, iters, w_s = grad_descent(x, y, 0.01)\n",
    "print('Number of iterations with eta=0.01: ', iters)\n",
    "print('Value of functional with this eta: ', count_functional(x, y, w))\n",
    "\n",
    "w, iters, w_s = grad_descent(x, y, 0.02)\n",
    "print('Number of iterations with eta=0.02: ', iters)\n",
    "print('Value of functional with this eta: ', count_functional(x, y, w))"
   ]
  },
  {
   "cell_type": "markdown",
   "metadata": {},
   "source": [
    "Заметим, что сходится метод очень медленно, при этом даёт меньшее значение минимизируемого функционала. Значит, присутствие регуляризатора ускоряет сходимость метода, но при этом значение функционала ухудшается."
   ]
  },
  {
   "cell_type": "markdown",
   "metadata": {},
   "source": [
    "**Построим график зависимости качества функционала от номера итерации.**"
   ]
  },
  {
   "cell_type": "code",
   "execution_count": 7,
   "metadata": {
    "scrolled": true
   },
   "outputs": [
    {
     "data": {
      "text/plain": [
       "<matplotlib.legend.Legend at 0x7efc7924bf28>"
      ]
     },
     "execution_count": 7,
     "metadata": {},
     "output_type": "execute_result"
    },
    {
     "data": {
      "image/png": "[encoded data removed]",
      "text/plain": [
       "<matplotlib.figure.Figure at 0x7efc7b6f36a0>"
      ]
     },
     "metadata": {},
     "output_type": "display_data"
    }
   ],
   "source": [
    "w, iters, w_s = grad_descent(x, y, 0.02, C=1)\n",
    "funcs = []\n",
    "for i in w_s:\n",
    "    funcs.append(count_functional(x, y, i, C=1))\n",
    "plt.plot(np.arange(iters+1), funcs, color = 'darkblue', label = 'functional(iteration_number)')\n",
    "plt.title('value of functional from iteration number')\n",
    "plt.xlabel('iteration number')\n",
    "plt.ylabel('value of functional')\n",
    "plt.legend(bbox_to_anchor=(1.05, 1), loc=2, borderaxespad=0.)"
   ]
  },
  {
   "cell_type": "markdown",
   "metadata": {},
   "source": [
    "На графике значение функционала убывает с увеличением количества итераций, как и ожидалось."
   ]
  },
  {
   "cell_type": "markdown",
   "metadata": {},
   "source": [
    "**Рассмотрим теперь метод, где первоначально вектор весов инициализируем нулевыми значениями и посмотрим, как будут результаты отличаться от метода со случайной первоначальной инициализацией.**"
   ]
  },
  {
   "cell_type": "code",
   "execution_count": 8,
   "metadata": {},
   "outputs": [
    {
     "name": "stdout",
     "output_type": "stream",
     "text": [
      "Number of iterations with eta=0.01:  564\n",
      "Value of functional with this eta:  0.55667221199\n",
      "Number of iterations with eta=0.02:  304\n",
      "Value of functional with this eta:  0.556672209483\n",
      "Number of iterations with eta=0.05:  132\n",
      "Value of functional with this eta:  0.556672208779\n",
      "Number of iterations with eta=0.1:  69\n",
      "Value of functional with this eta:  0.556672208681\n",
      "Number of iterations with eta=0.3:  22\n",
      "Value of functional with this eta:  0.556672208659\n"
     ]
    }
   ],
   "source": [
    "w, iters, w_s = grad_descent(x, y, 0.01, C=1, w_init='zero')\n",
    "print('Number of iterations with eta=0.01: ', iters)\n",
    "print('Value of functional with this eta: ', count_functional(x, y, w, C=1))\n",
    "\n",
    "w, iters, w_s = grad_descent(x, y, 0.02, C=1, w_init='zero')\n",
    "print('Number of iterations with eta=0.02: ', iters)\n",
    "print('Value of functional with this eta: ', count_functional(x, y, w, C=1))\n",
    "\n",
    "w, iters, w_s = grad_descent(x, y, 0.05, C=1, w_init='zero')\n",
    "print('Number of iterations with eta=0.05: ', iters)\n",
    "print('Value of functional with this eta: ', count_functional(x, y, w, C=1))\n",
    "\n",
    "w, iters, w_s = grad_descent(x, y, 0.1, C=1, w_init='zero')\n",
    "print('Number of iterations with eta=0.1: ', iters)\n",
    "print('Value of functional with this eta: ', count_functional(x, y, w, C=1))\n",
    "\n",
    "w, iters, w_s = grad_descent(x, y, 0.3, C=1, w_init='zero')\n",
    "print('Number of iterations with eta=0.3: ', iters)\n",
    "print('Value of functional with this eta: ', count_functional(x, y, w, C=1))"
   ]
  },
  {
   "cell_type": "markdown",
   "metadata": {},
   "source": [
    "В результате метод с нулевой начальной реализацией даёт примерно то же значение функционала, что и метод со случайной начальной инициализацией, а количество итераций меньше, но совсем ненамного (где-то пара-тройка процентов от общего числа итераций, а то и меньше)."
   ]
  },
  {
   "cell_type": "markdown",
   "metadata": {},
   "source": [
    "Метод градиентного спуска может быть весьма трудозатратен в случае большого размера обучающей выборки. Поэтому обычно используют метод стохастического градиентного спуска, где на каждой итерации выбирается случайный объект из обучающей выборки и обновление весов происходит сразу по этому объекту. \n",
    "\n",
    "**(1 балл)** Реализуйте метод стохастического градиентного спуска (sgd). В этом случае вы можете выбрать наиболее удачный функционал, исходя из предыдущего пункта (с регуляризацией, без), а также схему начальной инициализации весов.\n",
    "\n",
    "- Посмотрите как влияет размер шага на сходимость\n",
    "- Постройте график качества оптимизируемого функционала в зависимости от номера итерации \n",
    "\n",
    "Сравните рассмотренные методы (градиентный спуск и sgd) между собой с точки зрения скорости сходимости и качества."
   ]
  },
  {
   "cell_type": "markdown",
   "metadata": {},
   "source": [
    "**Будем реализовывать метод без регуляризации, по умолчанию первоначальная генерация весов случайна, а коэффициент темпа забывания равен 0.5.**"
   ]
  },
  {
   "cell_type": "code",
   "execution_count": 9,
   "metadata": {
    "collapsed": true
   },
   "outputs": [],
   "source": [
    "def L(x, y, w):\n",
    "    return np.log(1 + np.exp(-y*x.dot(w.T)))\n",
    "\n",
    "def nabla_L(x, y, w):\n",
    "    return x*y*(1-1./(1 + np.exp(-y*(x.dot(w.T)))))\n",
    "    \n",
    "def stoch_grad_descent(x, y, h = 0.5, lambda_ = 0.5, w_init = 'random'):\n",
    "    N = x.shape[0]\n",
    "    n = x.shape[1]\n",
    "    all_w_iterations = []\n",
    "    w = init_weights(n, w_init)\n",
    "    all_w_iterations.append(w)\n",
    "    Q = count_functional(x, y, w)\n",
    "    w_old = w\n",
    "    Q_old = Q\n",
    "    index = np.random.randint(0, N, 1)\n",
    "    eps = L(x[index[0]], y[index[0]], w_old)\n",
    "    w = w_old + h*nabla_L(x[index[0]], y[index[0]], w_old)\n",
    "    all_w_iterations.append(w)\n",
    "    Q = lambda_*eps + (1-lambda_)*Q_old\n",
    "    iters_count = 1\n",
    "    while np.linalg.norm(w-w_old) > 1e-6 and np.absolute(Q-Q_old) > 1e-6:\n",
    "        w_old = w\n",
    "        Q_old = Q\n",
    "        index = np.random.randint(0, N, 1)\n",
    "        eps = L(x[index[0]], y[index[0]], w_old)\n",
    "        w = w_old + h*nabla_L(x[index[0]], y[index[0]], w_old)\n",
    "        all_w_iterations.append(w)\n",
    "        Q = lambda_*eps + (1-lambda_)*Q_old\n",
    "        iters_count += 1\n",
    "    return w, iters_count, all_w_iterations"
   ]
  },
  {
   "cell_type": "markdown",
   "metadata": {},
   "source": [
    "**Посмотрим на количество итераций и значение функционала для построенного метода.**"
   ]
  },
  {
   "cell_type": "code",
   "execution_count": 10,
   "metadata": {
    "scrolled": true
   },
   "outputs": [
    {
     "name": "stdout",
     "output_type": "stream",
     "text": [
      "Number of iterations with eta=0.01:  5733\n",
      "Value of functional with this eta:  0.262044763722\n",
      "Number of iterations with eta=0.02:  1352\n",
      "Value of functional with this eta:  0.268669954373\n",
      "Number of iterations with eta=0.05:  1595\n",
      "Value of functional with this eta:  0.268200913807\n",
      "Number of iterations with eta=0.1:  614\n",
      "Value of functional with this eta:  0.338200585014\n",
      "Number of iterations with eta=0.3:  81\n",
      "Value of functional with this eta:  0.485277292197\n",
      "Number of iterations with eta=0.5:  35\n",
      "Value of functional with this eta:  0.504220209538\n",
      "Number of iterations with eta=0.75:  43\n",
      "Value of functional with this eta:  1.40702805712\n"
     ]
    }
   ],
   "source": [
    "w, iters, w_s = stoch_grad_descent(x, y, 0.01)\n",
    "print('Number of iterations with eta=0.01: ', iters)\n",
    "print('Value of functional with this eta: ', count_functional(x, y, w))\n",
    "\n",
    "w, iters, w_s = stoch_grad_descent(x, y, 0.02)\n",
    "print('Number of iterations with eta=0.02: ', iters)\n",
    "print('Value of functional with this eta: ', count_functional(x, y, w))\n",
    "\n",
    "w, iters, w_s = stoch_grad_descent(x, y, 0.05)\n",
    "print('Number of iterations with eta=0.05: ', iters)\n",
    "print('Value of functional with this eta: ', count_functional(x, y, w))\n",
    "\n",
    "w, iters, w_s = stoch_grad_descent(x, y, 0.1)\n",
    "print('Number of iterations with eta=0.1: ', iters)\n",
    "print('Value of functional with this eta: ', count_functional(x, y, w))\n",
    "\n",
    "w, iters, w_s = stoch_grad_descent(x, y, 0.3)\n",
    "print('Number of iterations with eta=0.3: ', iters)\n",
    "print('Value of functional with this eta: ', count_functional(x, y, w))\n",
    "\n",
    "w, iters, w_s = stoch_grad_descent(x, y, 0.5)\n",
    "print('Number of iterations with eta=0.5: ', iters)\n",
    "print('Value of functional with this eta: ', count_functional(x, y, w))\n",
    "\n",
    "w, iters, w_s = stoch_grad_descent(x, y, 0.75)\n",
    "print('Number of iterations with eta=0.75: ', iters)\n",
    "print('Value of functional with this eta: ', count_functional(x, y, w))"
   ]
  },
  {
   "cell_type": "markdown",
   "metadata": {},
   "source": [
    "Увеличение шага обучения уменьшает количество итераций, но при этом значение минимизируемого функционала может пострадать."
   ]
  },
  {
   "cell_type": "markdown",
   "metadata": {},
   "source": [
    "**Построим график зависимости качества функционала от номера итерации.**"
   ]
  },
  {
   "cell_type": "code",
   "execution_count": 11,
   "metadata": {
    "scrolled": true
   },
   "outputs": [
    {
     "data": {
      "text/plain": [
       "<matplotlib.legend.Legend at 0x7efc791451d0>"
      ]
     },
     "execution_count": 11,
     "metadata": {},
     "output_type": "execute_result"
    },
    {
     "data": {
      "image/png": "[encoded data removed]",
      "text/plain": [
       "<matplotlib.figure.Figure at 0x7efc7922bb38>"
      ]
     },
     "metadata": {},
     "output_type": "display_data"
    }
   ],
   "source": [
    "w, iters, w_s = stoch_grad_descent(x, y, 0.02)\n",
    "funcs = []\n",
    "for i in w_s:\n",
    "    funcs.append(count_functional(x, y, i))\n",
    "plt.plot(np.arange(iters+1), funcs, color = 'darkblue', label = 'functional(iteration_number)')\n",
    "plt.title('value of functional from iteration number')\n",
    "plt.xlabel('iteration number')\n",
    "plt.ylabel('value of functional')\n",
    "plt.legend(bbox_to_anchor=(1.05, 1), loc=2, borderaxespad=0.)"
   ]
  },
  {
   "cell_type": "markdown",
   "metadata": {},
   "source": [
    "Как и ожидалось, график - убывающая функция, что говорит о том, что минимизируемый функционал уменьшается на каждой следующей итерации."
   ]
  },
  {
   "cell_type": "markdown",
   "metadata": {},
   "source": [
    "**Метод стохастического градиентного спуска лучше минимизиреут функционал, чем регуляризованный нестохастический градиентный спуск, но по результатам нерегуляризованного нестохастического градиентного спуска (хоть тот и плохо сходится) можно говорить, что функционал минимизируется ненамного лучше стохастическим методом, чем нестохастическим. Количество итераций, очевидно, куда больше у стохастического метода, но это большое количество выполняется во много раз быстрее, чем большое количество итераций нестохастического метода. В плане реализации второй метод ненамного сложнее первого.**"
   ]
  },
  {
   "cell_type": "markdown",
   "metadata": {},
   "source": [
    "**(0.5 балла)** Добавьте в выборку случайный шум следующим способом:\n",
    " 1. Выберите случайно 3% объектов из сгенерированной ранее выборки.\n",
    " 2. Сдвиньте эти объекты на $\\mathcal{N}(0; 3 * scale)$, где $scale$ —  масштаб, который был использован при генерации объектов (параметр $scale$ в make_classification).\n",
    " 3. Инвертируйте классы выбранных объектов.\n",
    " \n",
    "Для GD и SGD сравните скорость сходимости и значение функции потерь до и после добавления шума. "
   ]
  },
  {
   "cell_type": "code",
   "execution_count": 120,
   "metadata": {
    "collapsed": true
   },
   "outputs": [],
   "source": [
    "indices = np.random.randint(0, x.shape[0], int(x.shape[0]*0.03))\n",
    "x_ = np.empty_like(x)\n",
    "x_[:] = x\n",
    "y_ = np.empty_like(y)\n",
    "y_[:] = y\n",
    "x_[indices] += np.random.normal(0, 3., 1)[0]\n",
    "y_[indices] = y_[indices]*-1"
   ]
  },
  {
   "cell_type": "markdown",
   "metadata": {},
   "source": [
    "**GD:**"
   ]
  },
  {
   "cell_type": "code",
   "execution_count": 124,
   "metadata": {},
   "outputs": [
    {
     "name": "stdout",
     "output_type": "stream",
     "text": [
      "Number of iterations with eta=0.01:  644\n",
      "Value of functional with this eta:  0.610946925338\n",
      "Number of iterations with eta=0.02:  340\n",
      "Value of functional with this eta:  0.61094692221\n",
      "Number of iterations with eta=0.05:  149\n",
      "Value of functional with this eta:  0.61094692147\n",
      "Number of iterations with eta=0.1:  76\n",
      "Value of functional with this eta:  0.610946921367\n",
      "Number of iterations with eta=0.3:  27\n",
      "Value of functional with this eta:  0.61094692134\n"
     ]
    }
   ],
   "source": [
    "w, iters, w_s = grad_descent(x_, y_, 0.01, C=1)\n",
    "print('Number of iterations with eta=0.01: ', iters)\n",
    "print('Value of functional with this eta: ', count_functional(x_, y_, w, C=1))\n",
    "\n",
    "w, iters, w_s = grad_descent(x_, y_, 0.02, C=1)\n",
    "print('Number of iterations with eta=0.02: ', iters)\n",
    "print('Value of functional with this eta: ', count_functional(x_, y_, w, C=1))\n",
    "\n",
    "w, iters, w_s = grad_descent(x_, y_, 0.05, C=1)\n",
    "print('Number of iterations with eta=0.05: ', iters)\n",
    "print('Value of functional with this eta: ', count_functional(x_, y_, w, C=1))\n",
    "\n",
    "w, iters, w_s = grad_descent(x_, y_, 0.1, C=1)\n",
    "print('Number of iterations with eta=0.1: ', iters)\n",
    "print('Value of functional with this eta: ', count_functional(x_, y_, w, C=1))\n",
    "\n",
    "w, iters, w_s = grad_descent(x_, y_, 0.3, C=1)\n",
    "print('Number of iterations with eta=0.3: ', iters)\n",
    "print('Value of functional with this eta: ', count_functional(x_, y_, w, C=1))"
   ]
  },
  {
   "cell_type": "markdown",
   "metadata": {},
   "source": [
    "**Значение функционала немного увеличилось, количество итераций уменьшилось, но ненамного.**"
   ]
  },
  {
   "cell_type": "markdown",
   "metadata": {},
   "source": [
    "**GCD:**"
   ]
  },
  {
   "cell_type": "code",
   "execution_count": 125,
   "metadata": {},
   "outputs": [
    {
     "name": "stdout",
     "output_type": "stream",
     "text": [
      "Number of iterations with eta=0.01:  13372\n",
      "Value of functional with this eta:  0.286926394516\n",
      "Number of iterations with eta=0.02:  22965\n",
      "Value of functional with this eta:  0.270921075147\n",
      "Number of iterations with eta=0.05:  21545\n",
      "Value of functional with this eta:  0.308937719891\n",
      "Number of iterations with eta=0.1:  1317\n",
      "Value of functional with this eta:  0.341101006595\n",
      "Number of iterations with eta=0.3:  118\n",
      "Value of functional with this eta:  0.444700109129\n"
     ]
    }
   ],
   "source": [
    "w, iters, w_s = stoch_grad_descent(x_, y_, 0.01)\n",
    "print('Number of iterations with eta=0.01: ', iters)\n",
    "print('Value of functional with this eta: ', count_functional(x_, y_, w))\n",
    "\n",
    "w, iters, w_s = stoch_grad_descent(x_, y_, 0.02)\n",
    "print('Number of iterations with eta=0.02: ', iters)\n",
    "print('Value of functional with this eta: ', count_functional(x_, y_, w))\n",
    "\n",
    "w, iters, w_s = stoch_grad_descent(x_, y_, 0.05)\n",
    "print('Number of iterations with eta=0.05: ', iters)\n",
    "print('Value of functional with this eta: ', count_functional(x_, y_, w))\n",
    "\n",
    "w, iters, w_s = stoch_grad_descent(x_, y_, 0.1)\n",
    "print('Number of iterations with eta=0.1: ', iters)\n",
    "print('Value of functional with this eta: ', count_functional(x_, y_, w))\n",
    "\n",
    "w, iters, w_s = stoch_grad_descent(x_, y_, 0.3)\n",
    "print('Number of iterations with eta=0.3: ', iters)\n",
    "print('Value of functional with this eta: ', count_functional(x_, y_, w))"
   ]
  },
  {
   "cell_type": "markdown",
   "metadata": {},
   "source": [
    "**В случае этого метода шум значительно увеличил для маленького шага обучения количество итераций, значение функционала увеличилось.**"
   ]
  },
  {
   "cell_type": "markdown",
   "metadata": {},
   "source": [
    "Между обновлением вектора весов по всей выборке и на одном объекте есть промежуточный подход — выбирать некоторое случайное подмножество объектов и обновлять веса по нему. Такой подход называется mini-batch. Мы не будем реализовывать этот подход в данной работе, однако иногда его бывает осмысленно использовать на практике. "
   ]
  },
  {
   "cell_type": "markdown",
   "metadata": {},
   "source": [
    "Один из недостатков sgd состоит в том, что он может не доходить до локального оптимального решения, а осциллировать в окрестности. \n",
    "\n",
    "![](http://sebastianruder.com/content/images/2015/12/without_momentum.gif)\n",
    "\n",
    "Для решения этой проблемы существуют методы, позволяющие устранить этот недостаток, а также ускорить сходимость. Рассмотрим некоторые из них.\n",
    "\n",
    "![](http://nghenglim.github.io/images/2015061300.png)\n",
    "\n",
    "### Momentum\n",
    "\n",
    "Этот метод позволяет направить sgd в нужной размерности и уменьшить осцилляцию. \n",
    "\n",
    "В общем случае он будет выглядеть следующим образом: \n",
    "\n",
    "$$ v_t = \\gamma v_{t - 1} + \\eta \\nabla_{\\theta}{J(\\theta)}$$\n",
    "$$ \\theta = \\theta - v_t$$\n",
    "\n",
    "где\n",
    "\n",
    " - $\\theta$ — вектор параметров (в нашем случае — $w$)\n",
    " - $J$ — оптимизируемый функционал\n",
    " - $\\gamma$ — momentum term (обычно выбирается 0.9)\n",
    " \n",
    "### Adagrad \n",
    "\n",
    "Одной из сложностей является выбор размера шага (*learning rate*). Основное отличие данного метода от SGD состоит в том что размер шага определяется для каждого параметра индивидуально. Этот метод хорошо работает с разреженным данным большого объема. \n",
    "\n",
    "Обозначим градиент по параметру $\\theta_i$ на итерации $t$ как $g_{t,i} = \\nabla_{\\theta}J(\\theta_i)$. \n",
    "\n",
    "В случае sgd обновление параметра $\\theta_i$ будет выглядеть следующим образом:\n",
    "\n",
    "$$ \\theta_{t+1, i} = \\theta_{t, i} - \\eta \\cdot g_{t,i}$$\n",
    "\n",
    "А в случае Adagrad общий шаг $\\eta$ нормируется на посчитанные ранее градиенты для данного параметра:\n",
    "\n",
    "$$ \\theta_{t+1, i} = \\theta_{t, i} - \\dfrac{\\eta}{\\sqrt{G_{t,ii} + \\varepsilon}} \\cdot g_{t,i}$$\n",
    "\n",
    "где $G_t$ — диагональная матрица, где каждый диагональный элемент $i,i$ — сумма квадратов градиентов для $\\theta_{i}$ до $t$-ой итерации. $\\varepsilon$ — гиперпараметр, позволяющий избежать деления на 0 (обычно выбирается около *1e-8*).\n",
    "\n",
    "Так как матрица $G_t$ диагональна, в векторном виде это будет выглядеть следующим образом (здесь $\\odot$ — матричное умножение):\n",
    "\n",
    "$$ \\theta_{t+1} = \\theta_{t} - \\dfrac{\\eta}{\\sqrt{G_t + \\varepsilon}} \\odot g_t $$\n",
    "\n",
    "### Adadelta\n",
    "\n",
    "Adadelta, в отличии от Adagrad, рассматривает не все предыдущие значения градиентов, а только последние $k$. Кроме того, сумма градиентов определяется как уменьшающееся среднеее всех предыдущих квадратов градиентов. Текущее среднее $E[g^2]_t$ на итерации $t$ будет вглядеть следующим образом:\n",
    "\n",
    "$$ E[g^2]_t = \\gamma E[g^2]_{t-1} + (1-\\gamma)g_t^2 $$\n",
    "\n",
    "здесь $\\gamma$ аналогична гиперпараметру из метода Momentum.\n",
    "\n",
    "Тогда обновление весов можно записать следующим образом:\n",
    "\n",
    "$$ \\theta_{t+1} = \\theta_{t} - \\dfrac{\\eta}{\\sqrt{E[g^2]_t + \\varepsilon}} g_t $$ \n",
    "\n",
    "Перепишем это немного по-другому:\n",
    "\n",
    "$$ \\theta_{t+1} = \\theta_{t} + \\Delta \\theta_t$$ \n",
    "$$\\Delta \\theta_t = - \\dfrac{\\eta}{\\sqrt{E[g^2]_t + \\varepsilon}} g_t $$ \n",
    "\n",
    "Аналогично среднему для градиентов определим среднее для параметров $\\theta$:\n",
    "\n",
    "$$ E[\\Delta \\theta^2]_t = \\gamma E[\\Delta \\theta^2]_{t-1} + (1-\\gamma)\\Delta \\theta^2 $$\n",
    "\n",
    "Введем обозначение $RMS[p]_t = \\sqrt{E[p]_t + \\varepsilon}$\n",
    "\n",
    "Тогда Adadelta выглядит следующим образом:\n",
    "\n",
    "$$\\Delta \\theta_t = - \\dfrac{RMS[\\Delta \\theta^2]}{RMS[ga^2]} g_t $$ \n",
    "$$ \\theta_{t+1} = \\theta_{t} + \\Delta \\theta_t$$ \n",
    "\n",
    "\n",
    "Более подробно об этих и других способах оптимизации можно прочитать:\n",
    " - [здесь](http://sebastianruder.com/optimizing-gradient-descent/index.html#gradientdescentoptimizationalgorithms) очень хорошее описание различных способов оптимизации, в этом задании мы опираемся на терминологию из данной статьи\n",
    " - статья про [momentum](https://pdfs.semanticscholar.org/97da/c94ffd7a7ac09a4218848300cc7e98569d77.pdf)\n",
    " - оригинальная статья про [adagrad](http://www.jmlr.org/papers/volume12/duchi11a/duchi11a.pdf)\n",
    " - оригинальная статья про [adadelta](http://arxiv.org/pdf/1212.5701v1.pdf)\n",
    " - википедия про [momentum](https://en.wikipedia.org/wiki/Stochastic_gradient_descent#Momentum) и [adagrad](https://en.wikipedia.org/wiki/Stochastic_gradient_descent#AdaGrad)\n",
    " - [визуализация](http://imgur.com/a/Hqolp) разных способов оптимизации"
   ]
  },
  {
   "cell_type": "markdown",
   "metadata": {},
   "source": [
    "### Задание\n",
    "\n",
    "Реализуйте метод оптимизации *Momentum* **(0.5 балла)** и один из *Adagrad*/*Adadelta* **(1 балл)**. \n",
    "- Сравните с классическим sgd. \n",
    "- Посмотрите как значение гиперпараметра $\\gamma$ влияет на скорость сходимости и качество в методе *Momentum*.\n",
    "- Дало ли преимущество использование адаптивного шага в методе *Adagrad*/*Adadelta*?"
   ]
  },
  {
   "cell_type": "markdown",
   "metadata": {},
   "source": [
    "**Momentum:**"
   ]
  },
  {
   "cell_type": "code",
   "execution_count": 135,
   "metadata": {
    "collapsed": true
   },
   "outputs": [],
   "source": [
    "def momentum_stoch_grad_descent(x, y, h = 0.5, lambda_ = 0.5, w_init = 'random', gamma = 0.9):\n",
    "    N = x.shape[0]\n",
    "    n = x.shape[1]\n",
    "    all_w_iterations = []\n",
    "    w = init_weights(n, w_init)\n",
    "    all_w_iterations.append(w)\n",
    "    Q = count_functional(x, y, w)\n",
    "    nu = np.zeros(n)\n",
    "    w_old = w\n",
    "    Q_old = Q\n",
    "    nu_old = nu\n",
    "    index = np.random.randint(0, N, 1)\n",
    "    eps = L(x[index[0]], y[index[0]], w_old)\n",
    "    nu = -gamma*nu_old + h*nabla_L(x[index[0]], y[index[0]], w_old)\n",
    "    w = w_old + nu\n",
    "    all_w_iterations.append(w)\n",
    "    Q = lambda_*eps + (1-lambda_)*Q_old\n",
    "    iters_count = 1\n",
    "    while np.linalg.norm(w-w_old) > 1e-6 and np.absolute(Q-Q_old) > 1e-6:\n",
    "        w_old = w\n",
    "        Q_old = Q\n",
    "        nu_old = nu\n",
    "        index = np.random.randint(0, N, 1)\n",
    "        eps = L(x[index[0]], y[index[0]], w_old)\n",
    "        nu = -gamma*nu_old + h*nabla_L(x[index[0]], y[index[0]], w_old)\n",
    "        w = w_old + nu\n",
    "        all_w_iterations.append(w)\n",
    "        Q = lambda_*eps + (1-lambda_)*Q_old\n",
    "        iters_count += 1\n",
    "    return w, iters_count, all_w_iterations"
   ]
  },
  {
   "cell_type": "code",
   "execution_count": 136,
   "metadata": {},
   "outputs": [
    {
     "name": "stdout",
     "output_type": "stream",
     "text": [
      "Number of iterations with eta=0.01:  22717\n",
      "Value of functional with this eta:  0.17129529269\n",
      "Number of iterations with eta=0.02:  5233\n",
      "Value of functional with this eta:  0.176716287624\n",
      "Number of iterations with eta=0.05:  12686\n",
      "Value of functional with this eta:  0.173794034658\n",
      "Number of iterations with eta=0.1:  9923\n",
      "Value of functional with this eta:  0.184135883514\n",
      "Number of iterations with eta=0.3:  786\n",
      "Value of functional with this eta:  0.224359788758\n",
      "Number of iterations with eta=0.5:  9974\n",
      "Value of functional with this eta:  0.331722896479\n",
      "Number of iterations with eta=0.75:  3553\n",
      "Value of functional with this eta:  0.398891578264\n"
     ]
    }
   ],
   "source": [
    "w, iters, w_s = momentum_stoch_grad_descent(x, y, 0.01)\n",
    "print('Number of iterations with eta=0.01: ', iters)\n",
    "print('Value of functional with this eta: ', count_functional(x, y, w))\n",
    "\n",
    "w, iters, w_s = momentum_stoch_grad_descent(x, y, 0.02)\n",
    "print('Number of iterations with eta=0.02: ', iters)\n",
    "print('Value of functional with this eta: ', count_functional(x, y, w))\n",
    "\n",
    "w, iters, w_s = momentum_stoch_grad_descent(x, y, 0.05)\n",
    "print('Number of iterations with eta=0.05: ', iters)\n",
    "print('Value of functional with this eta: ', count_functional(x, y, w))\n",
    "\n",
    "w, iters, w_s = momentum_stoch_grad_descent(x, y, 0.1)\n",
    "print('Number of iterations with eta=0.1: ', iters)\n",
    "print('Value of functional with this eta: ', count_functional(x, y, w))\n",
    "\n",
    "w, iters, w_s = momentum_stoch_grad_descent(x, y, 0.3)\n",
    "print('Number of iterations with eta=0.3: ', iters)\n",
    "print('Value of functional with this eta: ', count_functional(x, y, w))\n",
    "\n",
    "w, iters, w_s = momentum_stoch_grad_descent(x, y, 0.5)\n",
    "print('Number of iterations with eta=0.5: ', iters)\n",
    "print('Value of functional with this eta: ', count_functional(x, y, w))\n",
    "\n",
    "w, iters, w_s = momentum_stoch_grad_descent(x, y, 0.75)\n",
    "print('Number of iterations with eta=0.75: ', iters)\n",
    "print('Value of functional with this eta: ', count_functional(x, y, w))"
   ]
  },
  {
   "cell_type": "markdown",
   "metadata": {},
   "source": [
    "Результаты относительно sgd ненамного лучше, в некоторых случаях количество итераций становится очень большим."
   ]
  },
  {
   "cell_type": "code",
   "execution_count": 138,
   "metadata": {},
   "outputs": [
    {
     "name": "stdout",
     "output_type": "stream",
     "text": [
      "Number of iterations with gamma=0.7:  12566\n",
      "Value of functional with this gamma:  0.174691148394\n",
      "Number of iterations with gamma=0.5:  63526\n",
      "Value of functional with this gamma:  0.173408895014\n",
      "Number of iterations with gamma=0.4:  74358\n",
      "Value of functional with this gamma:  0.17448178767\n",
      "Number of iterations with gamma=0.1:  43098\n",
      "Value of functional with this gamma:  0.173530884898\n"
     ]
    }
   ],
   "source": [
    "w, iters, w_s = momentum_stoch_grad_descent(x, y, 0.02, gamma=0.7)\n",
    "print('Number of iterations with gamma=0.7: ', iters)\n",
    "print('Value of functional with this gamma: ', count_functional(x, y, w))\n",
    "\n",
    "w, iters, w_s = momentum_stoch_grad_descent(x, y, 0.02, gamma=0.5)\n",
    "print('Number of iterations with gamma=0.5: ', iters)\n",
    "print('Value of functional with this gamma: ', count_functional(x, y, w))\n",
    "\n",
    "w, iters, w_s = momentum_stoch_grad_descent(x, y, 0.02, gamma=0.4)\n",
    "print('Number of iterations with gamma=0.4: ', iters)\n",
    "print('Value of functional with this gamma: ', count_functional(x, y, w))\n",
    "\n",
    "w, iters, w_s = momentum_stoch_grad_descent(x, y, 0.02, gamma=0.1)\n",
    "print('Number of iterations with gamma=0.1: ', iters)\n",
    "print('Value of functional with this gamma: ', count_functional(x, y, w))"
   ]
  },
  {
   "cell_type": "markdown",
   "metadata": {},
   "source": [
    "Судя по результатам, хоть они и зависят от случая, с уменьшением гамма число итераций увеличивается."
   ]
  },
  {
   "cell_type": "markdown",
   "metadata": {},
   "source": [
    "### Многоклассовая классификация\n",
    "\n",
    "Модель логистической регрессии можно обобщить для случая многоклассовой классификации. Метка класса теперь лежит во множестве $\\{1, 2, ..., K\\}$. Параметры модели $w$ в этом случае являются матрицей размерности $K \\times M$, где $M$ − количество признаков. Обучение модели логистической регрессии в многоклассовом случае будет выглядеть следующим образом:\n",
    "\n",
    "$$ -\\dfrac{1}{N}\\sum_{i=1}^N \\sum_{k=1}^K [y_i = k] \\log\\Big(\\frac{\\exp(\\langle w_k, x_i \\rangle)}{\\sum_{s=1}^K \\exp(\\langle w_s, x_i \\rangle))}\\Big) + \\dfrac{C}{2}\\lVert w \\rVert^2  \\to \\min_w$$\n",
    "\n",
    "Здесь $w_k$ обозначает $k$-ую строку матрицы $w$.\n",
    "\n",
    "Обучать эту модель также можно с помощью градиентного спуска.\n",
    "\n",
    "Кроме того существует другой, более универсальный способ решать задачу многоклассовой классификации. Для этого нужно обучить несколько бинарных моделей классификации, после чего на основании предсказаний по этим моделям вынести окончательный вердикт о принадлежности объекта одному из $K$ классов. Существует две популярные стратегии использования бинарных классификаторов для задачи многоклассовой классификации:\n",
    " - OvR (One-vs-Rest, One-vs-All) − стратегия, при которой каждый из $K$ классификаторов обучается отделять объекты одного класса от объектов всех остальных классов. В качестве предсказания используется тот класс, классификатор которого предсказал наибольшую вероятность среди всех.\n",
    " - OvO (One-vs-One) − стратегия, при которой каждый из $\\frac{K(K-1)}{2}$ классификаторов учится разделять объекты пары классов, игнорируя объекты всех остальных классов. На этапе предсказания класс обычно выбирается путем голосования по вердиктам каждого из классификаторов.\n"
   ]
  },
  {
   "cell_type": "markdown",
   "metadata": {},
   "source": [
    "### Задание"
   ]
  },
  {
   "cell_type": "markdown",
   "metadata": {},
   "source": [
    "**(0.5 балла)** Покажите, что функция потерь для многоклассовой классификации сводится к [функции потерь для бинарной классификации](#log_reg) при $K=2$.\n",
    " "
   ]
  },
  {
   "cell_type": "markdown",
   "metadata": {
    "collapsed": true
   },
   "source": [
    "$ -\\dfrac{1}{N}\\sum_{i=1}^N \\sum_{k=1}^2 [y_i = k] \\log\\Big(\\frac{\\exp(\\langle w_k, x_i \\rangle)}{\\sum_{s=1}^2 \\exp(\\langle w_s, x_i \\rangle))}\\Big) = \\dfrac{1}{N}\\sum_{i=1}^N \\sum_{k=1}^2 [y_i = k] \\log\\Big(\\frac{\\sum_{s=1}^2 \\exp(\\langle w_s, x_i \\rangle))}{\\exp(\\langle w_k, x_i \\rangle)}\\Big) = \\dfrac{1}{N}\\Big(\\sum_{i=1}^N [y_i = 1] \\log\\Big(\\frac{\\sum_{s=1}^2 \\exp(\\langle w_s, x_i \\rangle))}{\\exp(\\langle w_1, x_i \\rangle)}\\Big) + \\sum_{i=1}^N [y_i = 2] \\log\\Big(\\frac{\\sum_{s=1}^2 \\exp(\\langle w_s, x_i \\rangle))}{\\exp(\\langle w_2, x_i \\rangle)}\\Big)\\Big) = \\dfrac{1}{N}\\Big(\\sum_{i=1}^N [y_i = 1] \\log\\Big(1+\\exp(\\langle w_2-w_1, x_i \\rangle)\\Big) + \\sum_{i=1}^N [y_i = 2] \\log\\Big(1+\\exp(\\langle w_1-w_2, x_i \\rangle)\\Big) = [w = w_1-w_2] = \\dfrac{1}{N}\\Big(\\sum_{i=1}^N [y_i = 1] \\log\\Big(1+\\exp(-\\langle w, x_i \\rangle)\\Big) + \\sum_{i=1}^N [y_i = 2] \\log\\Big(1+\\exp(\\langle w, x_i \\rangle)\\Big) = [2 := -1] = \\dfrac{1}{N}\\Big(\\sum_{i=1}^N [y_i = 1] \\log\\Big(1+\\exp(-\\langle w, x_i \\rangle)\\Big) + \\sum_{i=1}^N [y_i = -1] \\log\\Big(1+\\exp(\\langle w, x_i \\rangle)\\Big) = [\\langle \\rangle \\times y_i^2] = \\dfrac{1}{N}\\Big(\\sum_{i=1}^N [y_i = 1] \\log\\Big(1+\\exp(-y_i\\langle w, x_i \\rangle y_i)\\Big) + \\sum_{i=1}^N [y_i = -1] \\log\\Big(1+\\exp(y_i\\langle w, x_i \\rangle y_i)\\Big) = \\sum_{i=1}^N \\log\\Big(1+\\exp(-\\langle w, x_i \\rangle y_i)\\Big)$, что и требовалось показать.\n"
   ]
  },
  {
   "cell_type": "markdown",
   "metadata": {},
   "source": [
    "**(1 балл)** \n",
    "Сгенерируйте несколько выборок точек с 2 признаками и 3 классами (по 100 объектов каждого класса) на которых будете проводить эксперименты. Для этого можно воспользоваться функцией [make_blobs](http://scikit-learn.org/stable/modules/generated/sklearn.datasets.make_blobs.html) из пакета sklearn.\n",
    "\n",
    "Обучите [логистическую регрессию](http://scikit-learn.org/stable/modules/generated/sklearn.linear_model.LogisticRegression.html) из пакета sklearn тремя различными способами:\n",
    " - в режиме multinomial, оптимизирующем многоклассовую функцию потерь\n",
    " - в режиме OvR\n",
    " - в режиме OvO\n",
    " \n",
    "Первые два способа реализованы в самом классе LogisticRegression, в то время как для решения задачи третьим методом в sklearn реализован класс [OneVsOneClassifier](http://scikit-learn.org/stable/modules/generated/sklearn.multiclass.OneVsOneClassifier.html) (класс для OvR схемы [OneVsRestClassifier](http://scikit-learn.org/stable/modules/generated/sklearn.multiclass.OneVsRestClassifier.html), конечно, также присутствует в пакете).\n",
    " \n",
    " \n",
    " Проделайте следующие шаги для каждой стратегии и прокомментируйте полученные результаты:\n",
    " - Изобразите точки выборки, а также разделяющие прямые (их должно быть по 3 для каждой из стратегий). Проведите эксперимент на всех сгенерированных выборках.\n",
    " - Какие особенности, преимущества и недостатки с точки зрения построения разделяющих плоскостей, качества разделения классов и вычислительной эффективности характерны для каждого метода?\n",
    " - Для каждой из стратегий приведите примеры ситуаций, когда стоит выбирать ее для решения задачи многоклассовой классификации.\n"
   ]
  },
  {
   "cell_type": "code",
   "execution_count": null,
   "metadata": {
    "collapsed": true
   },
   "outputs": [],
   "source": []
  },
  {
   "cell_type": "markdown",
   "metadata": {},
   "source": [
    "## Линейная регрессия\n",
    "\n",
    "![](http://66.147.244.197/~globerov/introspectivemode/wp-content/uploads/2012/08/regression-265x300.jpeg)\n",
    "\n",
    "Метод градиентного спуска позволяет оптимизировать произвольные функции. Например, рассмотрим задачу линейной регрессии, где $y \\in \\mathbb{R}$, а алгоритм будет иметь вид $a(x) = \\langle w, x\\rangle$. В случае метода наименьших квадратов оптимизируемый функционал можно записать следующим образом:\n",
    "\n",
    "$$ \\sum_{i=1}^N (\\langle w, x_i \\rangle - y_i) ^ 2 \\to \\min_w$$\n",
    "\n",
    "Эта задача интересна тем, что для нее можно выписать аналитическое решение. Попробуем сравнить эти подходы."
   ]
  },
  {
   "cell_type": "markdown",
   "metadata": {},
   "source": [
    "### Задание\n",
    "\n",
    "Сгенерируйте выборку из 600 точек с двумя признаками для задачи регрессии, воспользовавшись функцией [make_regression](http://scikit-learn.org/stable/modules/generated/sklearn.datasets.make_regression.html#sklearn.datasets.make_regression). "
   ]
  },
  {
   "cell_type": "code",
   "execution_count": null,
   "metadata": {
    "collapsed": true
   },
   "outputs": [],
   "source": []
  },
  {
   "cell_type": "markdown",
   "metadata": {},
   "source": [
    "**(0.5 балла)** Выпишите как выглядит точное решение задачи линейной регрессии. Решите задачу регрессии с помощью этого подхода без использования и с использованием регуляризации. Есть ли недостатки у такого подхода к решению задачи?"
   ]
  },
  {
   "cell_type": "code",
   "execution_count": null,
   "metadata": {
    "collapsed": true
   },
   "outputs": [],
   "source": []
  },
  {
   "cell_type": "markdown",
   "metadata": {},
   "source": [
    "**(0.5 балла)** Примените метод стохастического градиентного спуска реализованный ранее. Сильно ли отличается полученный вектор параметров по сравнению с точным решением? "
   ]
  },
  {
   "cell_type": "markdown",
   "metadata": {},
   "source": [
    "К сожалению, линейная регрессия позволяет хорошо восстанавливать *линейные* зависимости, однако в общем случае хуже работает с более сложными данными. Это хорошо можно увидеть на следующем примере.\n",
    "\n",
    "Пусть исходная зависимость имеет вид $y = x \\cdot sin(x)$. Сгенерируем соответствующие точки:"
   ]
  },
  {
   "cell_type": "code",
   "execution_count": 2,
   "metadata": {
    "collapsed": true
   },
   "outputs": [],
   "source": [
    "from sklearn.cross_validation import train_test_split"
   ]
  },
  {
   "cell_type": "code",
   "execution_count": 3,
   "metadata": {
    "collapsed": true
   },
   "outputs": [],
   "source": [
    "X = np.linspace(0, 10, 100)\n",
    "y = X * np.sin(X)\n",
    "X_train, X_test, y_train, y_test = train_test_split(X, y, random_state=42)"
   ]
  },
  {
   "cell_type": "code",
   "execution_count": 4,
   "metadata": {},
   "outputs": [
    {
     "data": {
      "image/png": "[encoded data removed]",
      "text/plain": [
       "<matplotlib.figure.Figure at 0x7f568eab0ad0>"
      ]
     },
     "metadata": {},
     "output_type": "display_data"
    }
   ],
   "source": [
    "_ = plt.scatter(X_train, y_train)\n",
    "_ = plt.scatter(X_test, y_test, c='g')"
   ]
  },
  {
   "cell_type": "markdown",
   "metadata": {},
   "source": [
    "Если теперь к полученным данным применить модель линейной регрессии, то получим следующее решение:"
   ]
  },
  {
   "cell_type": "code",
   "execution_count": 5,
   "metadata": {
    "collapsed": true
   },
   "outputs": [],
   "source": [
    "from sklearn.linear_model import LinearRegression"
   ]
  },
  {
   "cell_type": "code",
   "execution_count": 6,
   "metadata": {},
   "outputs": [
    {
     "data": {
      "text/plain": [
       "LinearRegression(copy_X=True, fit_intercept=True, n_jobs=1, normalize=False)"
      ]
     },
     "execution_count": 6,
     "metadata": {},
     "output_type": "execute_result"
    }
   ],
   "source": [
    "lr = LinearRegression()\n",
    "lr.fit(X_train[:, np.newaxis], y_train)"
   ]
  },
  {
   "cell_type": "code",
   "execution_count": 7,
   "metadata": {},
   "outputs": [
    {
     "data": {
      "image/png": "[encoded data removed]",
      "text/plain": [
       "<matplotlib.figure.Figure at 0x7f568e77aa90>"
      ]
     },
     "metadata": {},
     "output_type": "display_data"
    }
   ],
   "source": [
    "_ = plt.scatter(X_train, y_train)\n",
    "_ = plt.scatter(X_test, y_test, c='g')\n",
    "y_plot = lr.predict(X[:, np.newaxis])\n",
    "_ = plt.plot(X, y_plot, c='r')\n",
    "_ = plt.legend(('linear regression', 'train', 'test'), bbox_to_anchor=(1.05, 1), loc=2)"
   ]
  },
  {
   "cell_type": "markdown",
   "metadata": {},
   "source": [
    "Качество модели регрессии можно оценивать с помощью некоторых метрик, например $MSE = \\sum_{i=1}^l(a(x_i) - y_i)^2$ и в данном случае оно равно:"
   ]
  },
  {
   "cell_type": "code",
   "execution_count": 8,
   "metadata": {
    "collapsed": true
   },
   "outputs": [],
   "source": [
    "from sklearn.metrics import mean_squared_error"
   ]
  },
  {
   "cell_type": "code",
   "execution_count": 9,
   "metadata": {},
   "outputs": [
    {
     "data": {
      "text/plain": [
       "14.759977502823233"
      ]
     },
     "execution_count": 9,
     "metadata": {},
     "output_type": "execute_result"
    }
   ],
   "source": [
    "mean_squared_error(y_test, lr.predict(X_test[:, np.newaxis])) "
   ]
  },
  {
   "cell_type": "markdown",
   "metadata": {},
   "source": [
    "Построенное решение совсем отдаленно напоминает исходную зависимость. Одним из способов улучшить результат является добавление всех попарных произведений признаков, а также степеней: $x_1, \\dots, x_d, x_1^2, x_1x_2, \\dots, x_d^2, \\dots$"
   ]
  },
  {
   "cell_type": "markdown",
   "metadata": {},
   "source": [
    "### Задание\n",
    "\n",
    "**(0.5 балла)** Воспользуйтесь классом [PolynomialFeatures](http://scikit-learn.org/stable/modules/generated/sklearn.preprocessing.PolynomialFeatures.html#sklearn.preprocessing.PolynomialFeatures) и добавьте к данным зависимости $y = x \\cdot sin(x)$ различные полиномы.\n",
    "\n",
    " - рассмотрите как степень полинома (от 1 до 20) влияет на качество\n",
    " - изобразите на графике предсказание аналогично линейной регрессии\n",
    " - сравните этот подход с функцией [polyfit](http://docs.scipy.org/doc/numpy-1.10.0/reference/generated/numpy.polyfit.html)\n",
    "\n",
    "В чем могут быть недостатки такого подхода?"
   ]
  },
  {
   "cell_type": "code",
   "execution_count": null,
   "metadata": {
    "collapsed": true
   },
   "outputs": [],
   "source": []
  },
  {
   "cell_type": "markdown",
   "metadata": {},
   "source": [
    "## Линейный SVM\n",
    "\n",
    "Вернемся к задаче бинарной классификации. Будем обозначать обучающую выборку $\\{(x_n, y_n)\\}_{n=1}^N$, где $N$ — количество объектов, $\\boldsymbol x_n \\in \\mathbb{R}^d$ — числовой вектор признакового описания объекта, $y_n \\in \\{+1, -1\\}$ — класс объекта.\n",
    "\n",
    "SVM обучает модель разделяющей гиперплоскости:\n",
    "$$f(\\boldsymbol x) = \\boldsymbol w^T \\boldsymbol x + b$$\n",
    "Параметры модели — вектор весов $\\boldsymbol w \\in \\mathbb{R}^d$ и сдвиг $b \\in \\mathbb{R}$.\n",
    "\n",
    "Обучение модели происходит путем решения оптимизационной задачи:\n",
    "$$\n",
    "\\begin{gather}\n",
    "    \\frac{1}{2} \\| \\boldsymbol w \\|^2 + C \\sum_{n=1}^N \\xi_n \\to \\min_{\\boldsymbol w, \\boldsymbol \\xi, b} \\\\\n",
    "    \\text{s.t.: } \\quad y_n (\\boldsymbol w^T \\boldsymbol x_n + b) \\geq 1 - \\xi_n, \\quad \\xi_n \\geq 0, \\quad \\forall n=1,\\dots,N\n",
    "\\end{gather}\n",
    "$$\n",
    "\n",
    "Ограничения вида $y_n (\\boldsymbol w^T \\boldsymbol x_n + b) \\geq 1$ требуют, чтобы объекты правильно классифицировались разделяющей гиперплоскостью. Поскольку линейная разделимость выборки не гарантируется на практике, вводят переменные $\\xi_n$ (slack variables), которые ослабляют ограничения правильной классификации. В оптимизируемом функционале слагаемое $\\| \\boldsymbol w \\|^2$ штрафует малую ширину разделяющей гиперплоскости, сумма $\\sum_n \\xi_n$ штрафует ослабление ограничений. \n",
    "\n",
    "После нахождения решения оптимизационной задачи $(\\boldsymbol w_{\\star}, \\boldsymbol \\xi_{\\star}, b_{\\star})$, часть ограничений становятся _активными_, т.е. переходят в \"крайнее положение\" — точное равенство:\n",
    "$$\\quad y_n (\\boldsymbol w_{\\star}^T \\boldsymbol x_n + b_{\\star}) = 1 - \\xi_{\\star,n}$$\n",
    "Объекты, соответствующие активным ограничениям, называются _опорными_.\n",
    "\n",
    "Гиперпараметр $C$ задает баланс между шириной разделяющей полосы и ошибками, допускаемыми классификатором. Обратите внимание, что $C$ фиксируется до обучения и не оптимизируется вместе с параметрами модели. Этот гиперпараметр отвечает за обобщающую способность разделяющей гиперплоскости, высокая обобщающая способность (соответствующая большому значению $C$) может привести к переобучению, если линейная модель хорошо описывает обучающие примеры. При подборе оптимального гиперпараметра $C$ необходимо оценивать качество на отложенной выборке или кросс-валидации. Как правило, для конкретной задачи заранее неизвестно, какой порядок имеет оптимальное значение гиперпараметра $C$, поэтому перебирать значения лучше по логарифмической сетке, например: $10^{-3}, 10^{-2}, \\dots, 10^{5}$.\n",
    "\n",
    "Особенность этого метода в том, что он имеет решение, которое может быть найдено используя квадратичное программирование. В этом задании мы не будем сводить данную задачу к задаче квадратичного программирования, а воспользуемся готовой реализацией из библиотеки sklearn.\n",
    "\n",
    "### Особенности реализации\n",
    "\n",
    "Обратите внимание, что в библиотеке sklearn можно найти 2 реализации линейного SVM: [LinearSVC](http://scikit-learn.org/stable/modules/generated/sklearn.svm.LinearSVC.html#sklearn.svm.LinearSVC) и [SVC](http://scikit-learn.org/stable/modules/generated/sklearn.svm.SVC.html#sklearn.svm.SVC) с ядровой функцией *linear*. Эти реализации имеют различие в библиотеках, на которых основаны: в первом случае используется библиотека *liblinear*, во втором — *libsvm*. Каждая из библиотек имеет свои плюсы, поэтому перед применением стоит определиться какая из реализаций подходит больше. Обратите внимание, что это различие есть только для линейного SVM.\n",
    "\n",
    "В данном задании рекомендуем использовать класс [sklearn.svm.SVC](http://scikit-learn.org/stable/modules/generated/sklearn.svm.SVC.html#sklearn.svm.SVC) с параметром *kernel='linear'*."
   ]
  },
  {
   "cell_type": "markdown",
   "metadata": {},
   "source": [
    "### Задание\n",
    "\n",
    "Сгенерируйте три случайные двумерные выборки для бинарной классификации (хотя бы по 400 точек в каждой):\n",
    "- с линейно-разделимыми классами\n",
    "- с хорошо разделимыми классами, но не линейно\n",
    "- с плохо разделимыми классами по имеющимся признакам\n",
    "    \n",
    "Для генерации случайной выборки можно воспользоваться функциями, которые находятся в пакете [sklearn.datasets](http://scikit-learn.org/stable/modules/classes.html#module-sklearn.datasets). Для того чтобы выборки не менялись при перезапуске ноутбука, фиксируйте параметр *random_state*."
   ]
  },
  {
   "cell_type": "markdown",
   "metadata": {},
   "source": [
    "**(1 балл)** Протестируйте линейный SVM  на сгенерированных выборках. Покажите на плоскости разделяющую прямую и линии уровня, ограничивающие коридор $f(\\boldsymbol x) = \\pm 1$. Выделите опорные вектора точками другой формы или большего размера. Проделайте это для разных значений параметра $C$."
   ]
  },
  {
   "cell_type": "code",
   "execution_count": null,
   "metadata": {
    "collapsed": true
   },
   "outputs": [],
   "source": []
  },
  {
   "cell_type": "markdown",
   "metadata": {},
   "source": [
    "**(1 балл)** Как зависит число опорных векторов от параметра $C$ для различных выборок?"
   ]
  },
  {
   "cell_type": "code",
   "execution_count": null,
   "metadata": {
    "collapsed": true
   },
   "outputs": [],
   "source": []
  },
  {
   "cell_type": "markdown",
   "metadata": {},
   "source": [
    "#### Явное преобразование признаков\n",
    "\n",
    "Как и в случае с линейной регрессией, когда оптимальная разделяющая гиперплоскость не является линейной, данная модель является очень грубым решением. Линейная неразделимость объектов может быть исправлена путем перехода в другое признаковое пространство, в котором линейная модель лучше описывает данные и, возможно, существует правильно классифицирующая разделяющая гиперплоскость:\n",
    "\n",
    "$$\\boldsymbol x \\in \\mathbb{R}^d \\mapsto \\phi(\\boldsymbol x) \\in \\mathbb{R}^t$$\n",
    "\n",
    "Так, например, аналогичное добавление всех попарных произведений признаков: $\\phi(x_1, \\dots, x_d) = (x_1, \\dots, x_d, x_1^2, x_1x_2, \\dots, x_d^2)$ переводит в пространство, в котором линейная гиперплоскость является квадратичной формой в исходном пространстве и в исходном пространстве признаков разделяющая поверхность может быть, скажем, эллипсом.\n",
    "\n",
    "[Видеоролик с демонстрацией](https://youtu.be/9NrALgHFwTo)\n",
    "\n",
    "### Задание\n",
    "\n",
    "**(1 балл)** На тех же данных используя явное преобразование признаков обучите методом опорных векторов квадратичную разделяющую поверхность. Покажите на плоскости разделяющую прямую и линии уровня, ограничивающие коридор $f(\\boldsymbol x) = \\pm 1$. Выделите опорные вектора точками другой формы или большего размера. Проделайте это для разных значений параметра $C$."
   ]
  },
  {
   "cell_type": "markdown",
   "metadata": {},
   "source": [
    "## Двойственный переход и Ядровой SVM\n",
    "\n",
    "![](http://i.imgur.com/bJAzRCt.png)\n",
    "\n",
    "Задачу обучения линейного SVM, рассмотренную в предыдущем пункте принято называть _прямой_ оптимизационной задачей для SVM. Любая задача оптимизации с ограничениями имеет [_двойственную_ задачу Лагранжа](http://goo.gl/OujTPr), в которой оптимизируются _двойственные переменные_ (множители Лагранжа), соответствующие штрафу за нарушение ограничений, максимизируется нижняя оценка функционала прямой задачи. В случае задачи квадратичного программирования, решение двойственной задачи (значение оптимизируемого функционала) совпадает с оптимумом прямой задачи.\n",
    "\n",
    "Подробнее можно почитать в [статье](http://www.machinelearning.ru/wiki/images/2/25/SMAIS11_SVM.pdf).\n",
    "\n",
    "Двойственная задача для SVM имеет вид:\n",
    "$$\n",
    "\\begin{gather}\n",
    "    \\sum_{n} \\alpha_n - \\frac{1}{2}\\sum_{n}\\sum_{n'} \\alpha_{n}\\alpha_{n'} y_{n}y_{n'} x_{n}^Tx_{n'} \\to \\max_{\\alpha} \\\\\n",
    "    \\begin{aligned}\n",
    "        \\text{s.t. } \\quad  \n",
    "        & 0 \\le \\alpha_n \\le C, \\quad \\forall n = 1, \\dots, N \\\\\n",
    "        & \\sum_{n} \\alpha_n y_n = 0\n",
    "    \\end{aligned}\n",
    "\\end{gather}\n",
    "$$\n",
    "\n",
    "Оптимизируется вектор из двойственных переменных $\\alpha_n$, соответствующих объектам обучающей выборки. Объект $x_n$ является опорным, если $\\alpha_n > 0$.\n",
    "\n",
    "Предсказание вычисляется по следующему правилу:\n",
    "$$\\hat{y}(x) = \\text{sign}\\left(\\sum_{n}\\alpha_{n}y_{n}x^Tx_{n} + b\\right).$$\n",
    "\n",
    "Для предсказания необходимо оценить значение $b$. Известно, что для любого опорного объекта, который классифицируется безошибочно верно:\n",
    "$$y_n = \\sum_{n'}\\alpha_{n}y_{n}x_{n}^Tx_{n'} + b,$$\n",
    "значит для любого такого объекта:\n",
    "$$b = y_n - \\sum_{n'}\\alpha_{n}y_{n}x_{n}^Tx_{n'}.$$\n",
    "\n",
    "В случае наличия ошибок классификации обучающей выборки, предлагается усреднять значение $b$ по всем опорным векторам:\n",
    "$$b = \\frac{1}{N_\\text{SV}}\\sum_{n \\in \\text{SV}}\\left(y_n - \\sum_{n'}\\alpha_{n}y_{n}x_{n}^Tx_{n'}\\right).$$\n",
    "Интуиция здесь такова, что суммарные ошибки в положительную сторону примерно равны суммарным ошибкам в отрицательную сторону.\n",
    "\n",
    "Другой вариант — отказаться от параметра $b$ и работать с моделью $f(x) = w^Tx$, добавив к вектору $x$ константный признак.\n",
    "\n",
    "#### Неявное преобразование признаков\n",
    "Отметим, что двойственная задача SVM содержит вектора признаков исключительно в виде скалярного произведения $x^Tx'$. Эта особенность позволяет производить неявное преобразование признакового пространства. Вместо вычисления функции $\\phi(\\boldsymbol x)$, которая может отображать исходные признаки в вектора очень большой размерности, будем вычислять скалярное произведение $k(\\boldsymbol x, \\boldsymbol x') = \\phi(\\boldsymbol x)^T\\phi(\\boldsymbol x')$ называемое _ядром_. \n",
    "\n",
    "\n",
    "В этом задании используйте класс $sklearn.svm.SVC$, меняя тип ядра. "
   ]
  },
  {
   "cell_type": "markdown",
   "metadata": {},
   "source": [
    "### Задание\n",
    "\n",
    "**(1.5 балла)** Протестируйте на предыдущих двумерных выборках ядровой SVM. Покажите на плоскости строящиеся разделяющие поверхности, линии уровня, ограничивающие коридор $f(\\boldsymbol x) = \\pm 1$. Выделите опорные вектора точками другой формы или большего размера. Попробуйте следующие ядровые функции:\n",
    "- линейная: $k(x, x') = x^Tx'$\n",
    "- полиномиальная: $k(x, x') = (x^Tx' + 1)^d$ с различными степенями $d = 2,3,\\dots$\n",
    "- Гауссовская-RBF: $k(x, x') = \\exp(-\\sigma\\|x - x'\\|^2)$\n",
    "\n",
    "Ответьте на следующие вопросы:\n",
    " - Как ведет себя SVM с полиномиальным ядром в зависимости от параметров $C$ и степени ядра $d$?\n",
    " - Как ведет себя SVM с RBF-ядром в зависимости от параметров $C$ и $\\sigma$? Поварьируйте параметры $C$ и $\\sigma$ по логарифмической сетке. Какие значения параметров ведут к переобучению, а какие — к слишком грубой модели?"
   ]
  },
  {
   "cell_type": "code",
   "execution_count": null,
   "metadata": {
    "collapsed": true
   },
   "outputs": [],
   "source": []
  },
  {
   "cell_type": "markdown",
   "metadata": {},
   "source": [
    "## Выводы\n",
    "\n",
    "**(1 балл)** В этой работе вы рассмотрели некоторые линейные модели машинного обучения, а также способы их обучения. Ответьте на следующие вопросы:\n",
    "\n",
    " - Какие есть достоинства у рассмотренных моделей? Поясните свой ответ для каждой модели.\n",
    " - Каким общим недостатком обладают данные модели? Какие есть способы его устранения? В чем может заключаться сложность использования этого подхода?\n",
    " - В чем заключаются различия с точки зрения обучения алгоритмов? Какие есть достоинства и недостатки у рассмотренных методов обучения?\n",
    " - Предположите в каком случае каждый из алгоритмов будет работать лучше: при большом/небольшом количестве данных? Поясните почему. "
   ]
  },
  {
   "cell_type": "markdown",
   "metadata": {
    "collapsed": true
   },
   "source": [
    "**Достоинства gd:**\n",
    "- быстр относительно методов второго порядка.\n",
    "- прост в реализации.\n",
    "- детерминирован, что упрощает проверку работы.\n",
    "\n",
    "**Достоинства sgd:**\n",
    "- быстр относительно gd.\n",
    "- для его разработано несколько улучшений.\n",
    "- прост в реализации.\n",
    "- подходит для задач с большими данными\n",
    "- рандомизирован, и его можно запускать несколько раз в надежде получить лучший результат."
   ]
  },
  {
   "cell_type": "markdown",
   "metadata": {},
   "source": [
    "**Недостатки:**\n",
    "- сильно переобучаются.\n",
    "- можут не сойтись или разойтись\n",
    "- застревание в локальных экстремумах\n",
    "\n",
    "Способы: регуляризация, изменение градиентного шага."
   ]
  },
  {
   "cell_type": "markdown",
   "metadata": {},
   "source": [
    "sgd удобно применять, если данных много потому что gd будет очень долго в этом случае выполнять одну итерацию, а за это время sgd выполнит их много-много и, скорее всего, эти неколько итераций в сумме лучше оптимизируют функционал, чем одна долгая итерация. Если данных мало, то итерация gd относительно итерации sgd будет выполняться не так долго, а, следовательно, потеря во времени небольшая, зато в оптимизации можно преуспеть."
   ]
  }
 ],
 "metadata": {
  "kernelspec": {
   "display_name": "Python 3",
   "language": "python",
   "name": "python3"
  },
  "language_info": {
   "codemirror_mode": {
    "name": "ipython",
    "version": 3
   },
   "file_extension": ".py",
   "mimetype": "text/x-python",
   "name": "python",
   "nbconvert_exporter": "python",
   "pygments_lexer": "ipython3",
   "version": "3.5.2"
  }
 },
 "nbformat": 4,
 "nbformat_minor": 1
}

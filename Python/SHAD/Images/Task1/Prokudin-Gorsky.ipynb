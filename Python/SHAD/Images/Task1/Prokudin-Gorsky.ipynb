{
 "cells": [
  {
   "cell_type": "code",
   "execution_count": 10,
   "metadata": {},
   "outputs": [],
   "source": [
    "from PIL import Image\n",
    "from scipy import misc\n",
    "import numpy as np\n",
    "from sklearn.metrics import mean_squared_error"
   ]
  },
  {
   "cell_type": "markdown",
   "metadata": {},
   "source": [
    "**Функции разбивки исходного изображения на каналы и обрезания рамки:**"
   ]
  },
  {
   "cell_type": "code",
   "execution_count": 11,
   "metadata": {},
   "outputs": [],
   "source": [
    "def horizontally_split(image, n_channels):\n",
    "    channels = []\n",
    "    new_height = int(image.shape[0] / n_channels)\n",
    "    for i in range(n_channels):\n",
    "        channels.append(np.array(image[i * new_height: (i + 1) * new_height, :]))\n",
    "    return channels\n",
    "\n",
    "\n",
    "def delete_borders(image, border_percentage):\n",
    "    b_width = int(image.shape[1] * border_percentage)\n",
    "    b_height = int(image.shape[0] * border_percentage)\n",
    "    return np.array(image[b_height: image.shape[0] - b_height, b_width: image.shape[1] - b_width])"
   ]
  },
  {
   "cell_type": "markdown",
   "metadata": {},
   "source": [
    "**Подсчёт кросс-корреляции:**"
   ]
  },
  {
   "cell_type": "code",
   "execution_count": 12,
   "metadata": {},
   "outputs": [],
   "source": [
    "def cross_correlation(image1, image2):\n",
    "    if image1.shape != image2.shape:\n",
    "        raise ValueError('Sizes of images must be equal!')\n",
    "    return np.sum(image1 * image2) / np.sqrt(float(np.sum(image1 * image1) * np.sum(image2 * image2)))"
   ]
  },
  {
   "cell_type": "markdown",
   "metadata": {},
   "source": [
    "- **Ниже привожу вспомогательные функции, ищущие оптимальное смещение двух изображений относительно друг друга, используя свою метрику. Третий параметр функции - максимальное смещение по вертикали вверх или вниз одного изображения отнисительно другого. Также есть возможность двигать изображения по горизонтали, сейчас реализована проверка сдвига на один пиксель в обе стороны, можно и более точно искать смещение по вертикали, но это замедляет работу программы, совмещающей изображения.**\n",
    "\n",
    "- **По оптимальным сдвигам красного и синего каналов относительно зелёного можно определить координаты точки на этих двух каналах, если известна координата на зелёном канале: от координат точки зелёного канала нужно вычесть полученные смещения, а также добавить или отнять в зависимости от канала треть высоты исходного изображения.**"
   ]
  },
  {
   "cell_type": "code",
   "execution_count": 13,
   "metadata": {},
   "outputs": [],
   "source": [
    "def best_shift_mse(image1, image2, shift_limit):\n",
    "    best_mse = 10 ** 50\n",
    "    best_shift = ()\n",
    "    for i in range(-shift_limit[0], 1):\n",
    "        for j in range(-shift_limit[1], 1):\n",
    "            mse = mean_squared_error(image1[:image1.shape[0] + i, :image1.shape[1] + j], image2[-i:, -j:])\n",
    "            if best_mse > mse:\n",
    "                best_mse = mse\n",
    "                best_shift = (i, j)\n",
    "        for j in range(1, shift_limit[1] + 1):\n",
    "            mse = mean_squared_error(image1[:image1.shape[0] + i, j:], image2[-i:, :image2.shape[1]-j])\n",
    "            if best_mse > mse:\n",
    "                best_mse = mse\n",
    "                best_shift = (i, j)\n",
    "    for i in range(1, shift_limit[0] + 1):\n",
    "        for j in range(-shift_limit[1], 1):\n",
    "            mse = mean_squared_error(image1[i:, :image1.shape[1] + j], image2[:image2.shape[0] - i, -j:])\n",
    "            if best_mse > mse:\n",
    "                best_mse = mse\n",
    "                best_shift = (i, j)\n",
    "        for j in range(1, shift_limit[1] + 1):\n",
    "            mse = mean_squared_error(image1[i:, j:], image2[:image2.shape[0] - i, :image2.shape[1] - j])\n",
    "            if best_mse > mse:\n",
    "                best_mse = mse\n",
    "                best_shift = (i, j)\n",
    "    return best_shift\n",
    "\n",
    "\n",
    "def best_shift_cc(image1, image2, shift_limit):\n",
    "    best_cc = -10 * 49\n",
    "    best_shift = ()\n",
    "    for i in range(-shift_limit[0], 1):\n",
    "        for j in range(-shift_limit[1], 1):\n",
    "            cc = cross_correlation(image1[:image1.shape[0] + i, :image1.shape[1] + j], image2[-i:, -j:])\n",
    "            if best_cc < cc:\n",
    "                best_cc = cc\n",
    "                best_shift = (i, j)\n",
    "        for j in range(1, shift_limit[1] + 1):\n",
    "            cc = cross_correlation(image1[:image1.shape[0] + i, j:], image2[-i:, :image2.shape[1]-j])\n",
    "            if best_cc < cc:\n",
    "                best_cc = cc\n",
    "                best_shift = (i, j)\n",
    "    for i in range(1, shift_limit[0] + 1):\n",
    "        for j in range(-shift_limit[1], 1):\n",
    "            cc = cross_correlation(image1[i:, :image1.shape[1] + j], image2[:image2.shape[0] - i, -j:])\n",
    "            if best_cc < cc:\n",
    "                best_cc = cc\n",
    "                best_shift = (i, j)\n",
    "        for j in range(1, shift_limit[1] + 1):\n",
    "            cc = cross_correlation(image1[i:, j:], image2[:image2.shape[0] - i, :image2.shape[1] - j])\n",
    "            if best_cc < cc:\n",
    "                best_cc = cc\n",
    "                best_shift = (i, j)\n",
    "    return best_shift"
   ]
  },
  {
   "cell_type": "markdown",
   "metadata": {},
   "source": [
    "**Здесь приведены функции, которые по оптимальным смещениям красного и синего каналов относительно зелёного определяют границы изображения, которое будет результатом работы программы. В зависимости от значений оптимальных смещений определяется пересечение каналов при их совмещении.**"
   ]
  },
  {
   "cell_type": "code",
   "execution_count": 14,
   "metadata": {},
   "outputs": [],
   "source": [
    "def align_by_height(channels, red_shift, blue_shift):\n",
    "    height = channels[0].shape[0]\n",
    "    cropped_channels = []\n",
    "    if red_shift > 0:\n",
    "        if blue_shift <= 0:\n",
    "            cropped_channels.append(channels[2][0: height + blue_shift - red_shift, :])\n",
    "            cropped_channels.append(channels[1][red_shift: height + blue_shift, :])\n",
    "            cropped_channels.append(channels[0][red_shift - blue_shift: height, :])\n",
    "        elif red_shift > blue_shift:\n",
    "            cropped_channels.append(channels[2][0: height - red_shift, :])\n",
    "            cropped_channels.append(channels[1][red_shift: height, :])\n",
    "            cropped_channels.append(channels[0][red_shift - blue_shift: height - blue_shift, :])\n",
    "        else:\n",
    "            cropped_channels.append(channels[2][-red_shift + blue_shift: height - red_shift, :])\n",
    "            cropped_channels.append(channels[1][blue_shift: height, :])\n",
    "            cropped_channels.append(channels[0][0: height - blue_shift, :])\n",
    "    else:\n",
    "        if blue_shift >= 0:\n",
    "            cropped_channels.append(channels[2][blue_shift - red_shift: height, :])\n",
    "            cropped_channels.append(channels[1][blue_shift: height + red_shift, :])\n",
    "            cropped_channels.append(channels[0][0: height - blue_shift + red_shift, :])\n",
    "        elif red_shift > blue_shift:\n",
    "            cropped_channels.append(channels[2][-red_shift: height - red_shift + blue_shift, :])\n",
    "            cropped_channels.append(channels[1][0: height + blue_shift, :])\n",
    "            cropped_channels.append(channels[0][-blue_shift: height, :])\n",
    "        else:\n",
    "            cropped_channels.append(channels[2][-red_shift: height, :])\n",
    "            cropped_channels.append(channels[1][0: height + red_shift, :])\n",
    "            cropped_channels.append(channels[0][-blue_shift: height - blue_shift + red_shift, :])\n",
    "    return cropped_channels\n",
    "\n",
    "\n",
    "def align_by_width(channels, blue_shift, red_shift):\n",
    "    width = channels[0].shape[1]\n",
    "    cropped_channels = []\n",
    "    if red_shift > 0:\n",
    "        if blue_shift <= 0:\n",
    "            cropped_channels.append(channels[2][:, 0: width + blue_shift - red_shift])\n",
    "            cropped_channels.append(channels[1][:, red_shift: width + blue_shift])\n",
    "            cropped_channels.append(channels[0][:, red_shift - blue_shift: width])\n",
    "        elif red_shift > blue_shift:\n",
    "            cropped_channels.append(channels[2][:, 0: width - red_shift])\n",
    "            cropped_channels.append(channels[1][:, red_shift: width])\n",
    "            cropped_channels.append(channels[0][:, red_shift - blue_shift: width - blue_shift])\n",
    "        else:\n",
    "            cropped_channels.append(channels[2][:, -red_shift + blue_shift: width - red_shift])\n",
    "            cropped_channels.append(channels[1][:, blue_shift: width])\n",
    "            cropped_channels.append(channels[0][:, 0: width - blue_shift])\n",
    "    else:\n",
    "        if blue_shift >= 0:\n",
    "            cropped_channels.append(channels[2][:, blue_shift - red_shift: width])\n",
    "            cropped_channels.append(channels[1][:, blue_shift: width + red_shift])\n",
    "            cropped_channels.append(channels[0][:, 0: width - blue_shift + red_shift])\n",
    "        elif red_shift > blue_shift:\n",
    "            cropped_channels.append(channels[2][:, -red_shift: width - red_shift + blue_shift])\n",
    "            cropped_channels.append(channels[1][:, 0: width + blue_shift])\n",
    "            cropped_channels.append(channels[0][:, -blue_shift: width])\n",
    "        else:\n",
    "            cropped_channels.append(channels[2][:, -red_shift: width])\n",
    "            cropped_channels.append(channels[1][:, 0: width + red_shift])\n",
    "            cropped_channels.append(channels[0][:, -blue_shift: width - blue_shift + red_shift])\n",
    "    return cropped_channels"
   ]
  },
  {
   "cell_type": "markdown",
   "metadata": {},
   "source": [
    "**Сами функции совмещения изображений, использующие свою метрику качества:**"
   ]
  },
  {
   "cell_type": "code",
   "execution_count": 15,
   "metadata": {},
   "outputs": [],
   "source": [
    "def align_mse(image, green_coord):\n",
    "    channels = horizontally_split(image, 3)\n",
    "    for i in range(3):\n",
    "        channels[i] = delete_borders(channels[i], 0.05)\n",
    "    red_shift = best_shift_mse(channels[1], channels[2], (15, 2))\n",
    "    blue_shift = best_shift_mse(channels[1], channels[0], (15, 2))\n",
    "    red_coord = (green_coord[0] - red_shift[0] + int(image.shape[0] / 3), green_coord[1] - red_shift[1])\n",
    "    blue_coord = (green_coord[0] - blue_shift[0] - int(image.shape[0] / 3), green_coord[1] - blue_shift[1])\n",
    "    cropped_channels = align_by_height(channels, red_shift[0], blue_shift[0])\n",
    "    cropped_channels = align_by_width(channels, red_shift[1], blue_shift[1])\n",
    "    return np.stack(cropped_channels, axis=2), blue_coord, red_coord\n",
    "\n",
    "\n",
    "def align_cc(image, green_coord):\n",
    "    channels = horizontally_split(image, 3)\n",
    "    for i in range(3):\n",
    "        channels[i] = delete_borders(channels[i], 0.05)\n",
    "    red_shift = best_shift_cc(channels[1], channels[2], (15, 2))\n",
    "    blue_shift = best_shift_cc(channels[1], channels[0], (15, 2))\n",
    "    red_coord = (green_coord[0] - red_shift[0] + int(image.shape[0] / 3), green_coord[1] - red_shift[1])\n",
    "    blue_coord = (green_coord[0] - blue_shift[0] - int(image.shape[0] / 3), green_coord[1] - blue_shift[1])\n",
    "    cropped_channels = align_by_height(channels, red_shift[0], blue_shift[0])\n",
    "    cropped_channels = align_by_width(channels, red_shift[1], blue_shift[1])\n",
    "    return np.stack(cropped_channels, axis=2), blue_coord, red_coord"
   ]
  },
  {
   "cell_type": "markdown",
   "metadata": {},
   "source": [
    "**Функции поиска оптимального смещения каналов относительно друг друга, используя пирамиду изображений:**"
   ]
  },
  {
   "cell_type": "code",
   "execution_count": 16,
   "metadata": {},
   "outputs": [],
   "source": [
    "def best_shift_pyramid_cc(image1, image2, shift_limit):\n",
    "    if image1.shape[0] < 501 and image1.shape[1] < 501:\n",
    "        return best_shift_cc(image1, image2, (15, 2))\n",
    "    else:\n",
    "        best_shift = best_shift_pyramid_cc(image1[::2, ::2], image2[::2, ::2], shift_limit)\n",
    "        best_cc = -10 ** 49\n",
    "        best_shift = (2 * best_shift[0], 2 * best_shift[1])\n",
    "        for i in range(best_shift[0] - shift_limit[0], best_shift[0] + shift_limit[0] + 1):\n",
    "            for j in range(best_shift[1] - shift_limit[1], best_shift[1] + shift_limit[1] + 1):\n",
    "                if i < 0 and j < 0:\n",
    "                    cc = cross_correlation(image1[:image1.shape[0] + i, :image1.shape[1] + j], image2[-i:, -j:])\n",
    "                elif i < 0:\n",
    "                    cc = cross_correlation(image1[:image1.shape[0] + i, j:], image2[-i:, :image2.shape[1] - j])\n",
    "                elif j < 0:\n",
    "                    cc = cross_correlation(image1[i:, :image1.shape[1] + j], image2[:image2.shape[0] - i, -j:])\n",
    "                else:\n",
    "                    cc = cross_correlation(image1[i:, j:], image2[:image2.shape[0] - i, :image2.shape[1] - j])\n",
    "                if best_cc < cc:\n",
    "                    best_cc = cc\n",
    "                    best_shift = (i, j)\n",
    "        return best_shift\n",
    "\n",
    "\n",
    "def best_shift_pyramid_mse(image1, image2, shift_limit):\n",
    "    if image1.shape[0] < 501 and image1.shape[1] < 501:\n",
    "        return best_shift_mse(image1, image2, (15, 2))\n",
    "    else:\n",
    "        best_shift = best_shift_pyramid_mse(image1[::2, ::2], image2[::2, ::2], shift_limit)\n",
    "        best_mse = 10 ** 49\n",
    "        best_shift = (2 * best_shift[0], 2 * best_shift[1])\n",
    "        for i in range(best_shift[0] - shift_limit[0], best_shift[0] + shift_limit[0] + 1):\n",
    "            for j in range(best_shift[1] - shift_limit[1], best_shift[1] + shift_limit[1] + 1):\n",
    "                if i < 0 and j < 0:\n",
    "                    mse = mean_squared_error(image1[:image1.shape[0] + i, :image1.shape[1] + j], image2[-i:, -j:])\n",
    "                elif i < 0:\n",
    "                    mse = mean_squared_error(image1[:image1.shape[0] + i, j:], image2[-i:, :image2.shape[1] - j])\n",
    "                elif j < 0:\n",
    "                    mse = mean_squared_error(image1[i:, :image1.shape[1] + j], image2[:image2.shape[0] - i, -j:])\n",
    "                else:\n",
    "                    mse = mean_squared_error(image1[i:, j:], image2[:image2.shape[0] - i, :image2.shape[1] - j])\n",
    "                if best_mse > mse:\n",
    "                    best_mse = mse\n",
    "                    best_shift = (i, j)\n",
    "        return best_shift"
   ]
  },
  {
   "cell_type": "markdown",
   "metadata": {},
   "source": [
    "**Основанные на предыдущих функциях функции совмещения больших изборажений (shift_limit - пределы, в которых мы будем изменять смещение, полученное для уменьшенных в 2 раза изображений):**"
   ]
  },
  {
   "cell_type": "code",
   "execution_count": 17,
   "metadata": {},
   "outputs": [],
   "source": [
    "def align_pyramid_cc(image, green_coord):\n",
    "    channels = horizontally_split(image, 3)\n",
    "    for i in range(3):\n",
    "        channels[i] = delete_borders(channels[i], 0.05)\n",
    "    red_shift = best_shift_pyramid_cc(channels[1], channels[2], (2, 2))\n",
    "    blue_shift = best_shift_pyramid_cc(channels[1], channels[0], (2, 2))\n",
    "    red_coord = (green_coord[0] - red_shift[0] + int(image.shape[0] / 3), green_coord[1] - red_shift[1])\n",
    "    blue_coord = (green_coord[0] - blue_shift[0] - int(image.shape[0] / 3), green_coord[1] - blue_shift[1])\n",
    "    cropped_channels = align_by_height(channels, red_shift[0], blue_shift[0])\n",
    "    cropped_channels = align_by_width(channels, red_shift[1], blue_shift[1])\n",
    "    return np.stack(cropped_channels, axis=2), blue_coord, red_coord\n",
    "\n",
    "\n",
    "def align_pyramid_mse(image, green_coord):\n",
    "    channels = horizontally_split(image, 3)\n",
    "    for i in range(3):\n",
    "        channels[i] = delete_borders(channels[i], 0.05)\n",
    "    red_shift = best_shift_pyramid_mse(channels[1], channels[2], (2, 2))\n",
    "    blue_shift = best_shift_pyramid_mse(channels[1], channels[0], (2, 2))\n",
    "    red_coord = (green_coord[0] - red_shift[0] + int(image.shape[0] / 3), green_coord[1] - red_shift[1])\n",
    "    blue_coord = (green_coord[0] - blue_shift[0] - int(image.shape[0] / 3), green_coord[1] - blue_shift[1])\n",
    "    cropped_channels = align_by_height(channels, red_shift[0], blue_shift[0])\n",
    "    cropped_channels = align_by_width(channels, red_shift[1], blue_shift[1])\n",
    "    return np.stack(cropped_channels, axis=2), blue_coord, red_coord"
   ]
  },
  {
   "cell_type": "markdown",
   "metadata": {},
   "source": [
    "**На основе результатов совмещения на открытых данных для итоговой функции совмещения изображений была выбрана метрика среднеквадратического отклонения:**"
   ]
  },
  {
   "cell_type": "code",
   "execution_count": null,
   "metadata": {},
   "outputs": [],
   "source": [
    "def align(image, green_coord):\n",
    "    if image.shape[0] <= 1665 and image.shape[1] <= 555:\n",
    "        return align_cc(image, green_coord)\n",
    "    else:\n",
    "        return align_pyramid_cc(image, green_coord)"
   ]
  },
  {
   "cell_type": "markdown",
   "metadata": {},
   "source": [
    "**Код тестирования алгоритма совмещения на открытых данных (на каждой итерации печатаем размер исходного изображения, чтобы видеть прогресс в работе программы):**"
   ]
  },
  {
   "cell_type": "code",
   "execution_count": null,
   "metadata": {
    "scrolled": true
   },
   "outputs": [
    {
     "name": "stdout",
     "output_type": "stream",
     "text": [
      "(1075, 419)\n",
      "(1024, 398)\n",
      "(1074, 409)\n",
      "(1166, 449)\n",
      "(1153, 445)\n",
      "(1159, 449)\n",
      "(1165, 452)\n",
      "(1064, 412)\n",
      "(1162, 449)\n",
      "(1155, 444)\n",
      "Small image correct answers = 1\n",
      "(9773, 3809)\n",
      "(9763, 3790)\n",
      "(9762, 3722)\n",
      "(9715, 3741)\n",
      "(9607, 3712)\n",
      "(9656, 3741)\n",
      "(9705, 3770)\n",
      "(9676, 3741)\n"
     ]
    }
   ],
   "source": [
    "correct_small = 0\n",
    "for i in range(10):\n",
    "    im = misc.imread(r'public_data/0' + str(i) + '_input/img.png', mode='P')\n",
    "    print(im.shape)\n",
    "    parts = open(r'public_data/0' + str(i) + '_input/g_coord.csv').read().rstrip('\\n').split(',')\n",
    "    g_coord = (int(parts[0]), int(parts[1]))\n",
    "    xx, yy, zz = align(im, g_coord)\n",
    "    with open(r'public_data/0' + str(i) + '_gt/gt.csv') as fhandle:\n",
    "        parts = fhandle.read().rstrip('\\n').split(',')\n",
    "        coords = map(int, parts[1:])\n",
    "        gt_b_row, gt_b_col, _, _, gt_r_row, gt_r_col, diff_max = coords\n",
    "    metric = abs(gt_b_row - yy[0]) + abs(gt_b_col - yy[1]) + \\\n",
    "             abs(gt_r_row - zz[0]) + abs(gt_r_col - zz[1])\n",
    "    if metric <= diff_max:\n",
    "        correct_small += 1\n",
    "    misc.imsave('public_data/0' + str(i) + '_input/image' + str(i) + '.png', xx)\n",
    "print('Small image correct answers = {}'.format(correct_small))\n",
    "\n",
    "\n",
    "correct = 0\n",
    "for i in range(10, 20):\n",
    "    im = misc.imread(r'public_data/' + str(i) + '_input/img.png', mode='P')\n",
    "    print(im.shape)\n",
    "    parts = open(r'public_data/' + str(i) + '_input/g_coord.csv').read().rstrip('\\n').split(',')\n",
    "    g_coord = (int(parts[0]), int(parts[1]))\n",
    "    xx, yy, zz = align(im, g_coord)\n",
    "    with open(r'public_data/' + str(i) + '_gt/gt.csv') as fhandle:\n",
    "        parts = fhandle.read().rstrip('\\n').split(',')\n",
    "        coords = map(int, parts[1:])\n",
    "        gt_b_row, gt_b_col, _, _, gt_r_row, gt_r_col, diff_max = coords\n",
    "    metric = abs(gt_b_row - yy[0]) + abs(gt_b_col - yy[1]) + \\\n",
    "                abs(gt_r_row - zz[0]) + abs(gt_r_col - zz[1])\n",
    "    if metric <= diff_max:\n",
    "        correct += 1\n",
    "    misc.imsave('public_data/' + str(i) + '_input/image' + str(i) + '.png', xx)\n",
    "print('Large image correct answers = {}'.format(correct))"
   ]
  },
  {
   "cell_type": "markdown",
   "metadata": {},
   "source": [
    "**Если считать, что по горизонтали изображения не смещены, можно модифицировать программу и ускорить время её выполнения, но здесь на всякий случай проверяется смещение на один пиксель влево или вправо.**"
   ]
  }
 ],
 "metadata": {
  "kernelspec": {
   "display_name": "Python 3",
   "language": "python",
   "name": "python3"
  },
  "language_info": {
   "codemirror_mode": {
    "name": "ipython",
    "version": 3
   },
   "file_extension": ".py",
   "mimetype": "text/x-python",
   "name": "python",
   "nbconvert_exporter": "python",
   "pygments_lexer": "ipython3",
   "version": "3.5.2"
  }
 },
 "nbformat": 4,
 "nbformat_minor": 2
}

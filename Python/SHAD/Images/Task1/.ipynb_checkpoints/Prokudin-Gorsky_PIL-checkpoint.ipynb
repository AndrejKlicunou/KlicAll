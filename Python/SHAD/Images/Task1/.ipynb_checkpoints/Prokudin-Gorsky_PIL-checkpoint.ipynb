{
 "cells": [
  {
   "cell_type": "code",
   "execution_count": 4,
   "metadata": {},
   "outputs": [],
   "source": [
    "import numpy as np\n",
    "from PIL import Image"
   ]
  },
  {
   "cell_type": "code",
   "execution_count": 21,
   "metadata": {},
   "outputs": [],
   "source": [
    "def horizontally_split(image, n_channels):\n",
    "    #returns list of channels\n",
    "    channels = []\n",
    "    crop_heigth = int(image.size[1] / n_channels)\n",
    "    for i in range(n_channels):\n",
    "        channels.append(image.crop((0, i * crop_heigth, image.size[0], (i + 1) * crop_heigth)))\n",
    "    return channels\n",
    "\n",
    "def crop_borders(image, border_percentage):\n",
    "    width = int(image.size[0])\n",
    "    heigth = int(image.size[1])\n",
    "    box = (int(border_percentage * width), int(border_percentage * heigth),  \\\n",
    "           int((1 - border_percentage) * width), int((1 - border_percentage) * heigth))\n",
    "    return image.crop(box)\n",
    "\n",
    "def MSE(image1, image2):\n",
    "    if image1.size != image2.size:\n",
    "        raise ValueError('Sizes of images must be equal!')\n",
    "    ans = 0\n",
    "    pixels1 = image1.load()\n",
    "    pixels2 = image2.load()\n",
    "    for i in range(image1.size[0]):\n",
    "        for j in range(image1.size[1]):\n",
    "            ans += (pixels1[i, j] - pixels2[i, j]) ** 2\n",
    "    return ans / (image1.size[0] * image1.size[1])\n",
    "\n",
    "def cross_correlation(image1, image2):\n",
    "    if image1.size != image2.size:\n",
    "        raise ValueErroe('Sizes of images must be equal!')\n",
    "    scalar_prod = 0\n",
    "    im1_square_sum = 0\n",
    "    im2_square_sum = 0\n",
    "    pixels1 = image1.load()\n",
    "    pixels2 = image2.load()\n",
    "    for i in range(image1.size[0]):\n",
    "        for j in range(image1.size[1]):\n",
    "            scalar_prod += pixels1[i, j] * pixels2[i, j]\n",
    "            im1_square_sum += pixels1[i, j] ** 2\n",
    "            im2_square_sum += pixels2[i, j] ** 2\n",
    "    return scalar_prod / np.sqrt(float(im1_square_sum * im2_square_sum))\n",
    "\n",
    "def best_shift_MSE(image1, image2, shift_limit):\n",
    "    best_mse = 10 ** 100\n",
    "    best_x_shift = 0\n",
    "    best_y_shift = 0\n",
    "    for i in range(-shift_limit, shift_limit+1):\n",
    "        for j in range(-2, 3):\n",
    "            if i < 0 and j < 0:\n",
    "                mse = MSE(image1.crop((-j, 0, image1.size[0], image1.size[1] + i)), \\\n",
    "                          image2.crop((0, -i, image2.size[0] + j, image2.size[1])))\n",
    "            elif i < 0:\n",
    "                mse = MSE(image1.crop((0, 0, image1.size[0] - j, image1.size[1] + i)), \\\n",
    "                          image2.crop((j, -i, image2.size[0], image2.size[1])))\n",
    "            elif j < 0:\n",
    "                mse = MSE(image1.crop((-j, i, image1.size[0], image1.size[1])), \\\n",
    "                          image2.crop((0, 0, image2.size[0] + j, image2.size[1] - i)))\n",
    "            else:\n",
    "                mse = MSE(image1.crop((0, i, image1.size[0] - j, image1.size[1])), \\\n",
    "                          image2.crop((j, 0, image2.size[0], image2.size[1] - i)))\n",
    "            if mse < best_mse:\n",
    "                best_mse = mse\n",
    "                best_x_shift = j\n",
    "                best_y_shift = i\n",
    "    return (best_x_shift, best_y_shift)\n",
    "    \n",
    "def best_shift_cc(image1, image2, shift_limit):\n",
    "    best_cc = -10 ** 101\n",
    "    best_x_shift = 0\n",
    "    best_y_shift = 0\n",
    "    for i in range(-shift_limit, shift_limit+1):\n",
    "        for j in range(-2, 3):\n",
    "            if i < 0 and j < 0:\n",
    "                cc = cross_correlation(image1.crop((-j, 0, image1.size[0], image1.size[1] + i)), \\\n",
    "                          image2.crop((0, -i, image2.size[0] + j, image2.size[1])))\n",
    "            elif i < 0:\n",
    "                cc = cross_correlation(image1.crop((0, 0, image1.size[0] - j, image1.size[1] + i)), \\\n",
    "                          image2.crop((j, -i, image2.size[0], image2.size[1])))\n",
    "            elif j < 0:\n",
    "                cc = cross_correlation(image1.crop((-j, i, image1.size[0], image1.size[1])), \\\n",
    "                          image2.crop((0, 0, image2.size[0] + j, image2.size[1] - i)))\n",
    "            else:\n",
    "                cc = cross_correlation(image1.crop((0, i, image1.size[0] - j, image1.size[1])), \\\n",
    "                          image2.crop((j, 0, image2.size[0], image2.size[1] - i)))\n",
    "            if cc > best_cc:\n",
    "                best_cc = cc\n",
    "                best_x_shift = j\n",
    "                best_y_shift = i\n",
    "    return (best_x_shift, best_y_shift)\n",
    "    \n",
    "    \n",
    "def align(image):\n",
    "    channels = horizontally_split(image, 3)\n",
    "    for i in range(3):\n",
    "        channels[i] = crop_borders(channels[i], 0.05)\n",
    "    \n",
    "    "
   ]
  },
  {
   "cell_type": "code",
   "execution_count": 18,
   "metadata": {},
   "outputs": [
    {
     "name": "stdout",
     "output_type": "stream",
     "text": [
      "(419, 358)\n",
      "(419, 358)\n",
      "(419, 358)\n",
      "(-1, -3)\n"
     ]
    }
   ],
   "source": [
    "kek = Image.open('img.png')\n",
    "\n",
    "chan = horizontally_split(kek, 3)\n",
    "for i in range(3):\n",
    "    print(chan[i].size)\n",
    "    chan[i] = crop_borders(chan[i], 0.05)\n",
    "kek = best_shift_MSE(chan[1], chan[0], 15)\n",
    "print(kek)"
   ]
  },
  {
   "cell_type": "code",
   "execution_count": 22,
   "metadata": {},
   "outputs": [],
   "source": [
    "kekk = best_shift_cc(chan[1], chan[0], 15)"
   ]
  },
  {
   "cell_type": "code",
   "execution_count": 23,
   "metadata": {},
   "outputs": [
    {
     "name": "stdout",
     "output_type": "stream",
     "text": [
      "(-1, -3)\n"
     ]
    }
   ],
   "source": [
    "print(kekk)"
   ]
  }
 ],
 "metadata": {
  "kernelspec": {
   "display_name": "Python 3",
   "language": "python",
   "name": "python3"
  },
  "language_info": {
   "codemirror_mode": {
    "name": "ipython",
    "version": 3
   },
   "file_extension": ".py",
   "mimetype": "text/x-python",
   "name": "python",
   "nbconvert_exporter": "python",
   "pygments_lexer": "ipython3",
   "version": "3.5.2"
  }
 },
 "nbformat": 4,
 "nbformat_minor": 2
}

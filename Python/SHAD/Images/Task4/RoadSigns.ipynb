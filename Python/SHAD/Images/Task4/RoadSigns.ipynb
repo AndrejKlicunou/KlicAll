{
 "cells": [
  {
   "cell_type": "code",
   "execution_count": 1,
   "metadata": {},
   "outputs": [],
   "source": [
    "import numpy as np\n",
    "from skimage.io import imread\n",
    "from sklearn.svm import LinearSVC\n",
    "from sklearn.model_selection import RandomizedSearchCV\n",
    "from os.path import join\n",
    "from numpy import zeros"
   ]
  },
  {
   "cell_type": "markdown",
   "metadata": {},
   "source": [
    "**Функции, которые находят модуль градиента и его направление (сразу приводим к значению $\\in [0, 180[$):**"
   ]
  },
  {
   "cell_type": "code",
   "execution_count": 2,
   "metadata": {},
   "outputs": [],
   "source": [
    "def brightness(image):\n",
    "    return image[:, :, 0] * 0.299 + \\\n",
    "           image[:, :, 1] * 0.587 + \\\n",
    "           image[:, :, 2] * 0.114\n",
    "\n",
    "\n",
    "def derivative_x(im_bness):\n",
    "    return np.concatenate((im_bness[:1, :], im_bness[:-1, :]), axis=0) - \\\n",
    "           np.concatenate((im_bness[1:, :], im_bness[-1:, :]), axis=0)\n",
    "\n",
    "\n",
    "def derivative_y(im_bness):\n",
    "    return np.concatenate((im_bness[:, :1], im_bness[:, :-1]), axis=1) - \\\n",
    "           np.concatenate((im_bness[:, 1:], im_bness[:, -1:]), axis=1)\n",
    "\n",
    "\n",
    "def gradient_abs_and_dir(im_bness):\n",
    "    der_x = derivative_x(im_bness)\n",
    "    der_y = derivative_y(im_bness)\n",
    "    return np.array(np.sqrt(der_x * der_x + der_y * der_y), dtype='float64'), \\\n",
    "           (np.arctan2(der_y, der_x) * 180 / np.pi) % 180"
   ]
  },
  {
   "cell_type": "markdown",
   "metadata": {},
   "source": [
    "**Метод определения номера корзины для углов, $bin\\_count = 9$:**"
   ]
  },
  {
   "cell_type": "code",
   "execution_count": 3,
   "metadata": {},
   "outputs": [],
   "source": [
    "def basket_number(pos_angle, bin_count):\n",
    "    result = np.zeros(pos_angle.shape, dtype=int)\n",
    "    basket_size = 180 / bin_count\n",
    "    left_border = 0\n",
    "    for j in range(bin_count):\n",
    "        right_border = left_border + basket_size\n",
    "        result[np.logical_and(pos_angle >= left_border, pos_angle < right_border)] = j\n",
    "        left_border += basket_size\n",
    "    return result"
   ]
  },
  {
   "cell_type": "markdown",
   "metadata": {},
   "source": [
    "**Функции построения гистограммы направлений для некоторой ячейки, а также для всего изображения, разбитого на ячейки. Все изображения в функции приводятся к размеру (112, 112, 3), поэтому число ячеек по строкам и столбцам равно 14.**"
   ]
  },
  {
   "cell_type": "code",
   "execution_count": 4,
   "metadata": {},
   "outputs": [],
   "source": [
    "def cell_histogram(basket_num, cell_abs, bin_count):\n",
    "    sums = np.zeros(bin_count)\n",
    "    for i in range(bin_count):\n",
    "        sums[i] += np.sum(cell_abs[basket_num == i])\n",
    "    return sums\n",
    "\n",
    "\n",
    "def full_histogram(basket_num, grad_abs, bin_count):\n",
    "    n_cells = 14\n",
    "    cell_rows = int(basket_num.shape[0] / n_cells)\n",
    "    cell_cols = int(basket_num.shape[1] / n_cells)\n",
    "    height = basket_num.shape[0]\n",
    "    width = basket_num.shape[1]\n",
    "    result = np.zeros((n_cells, n_cells, bin_count))\n",
    "    u_border = 0\n",
    "    for i in range(n_cells):\n",
    "        d_border = u_border + cell_rows\n",
    "        if i == n_cells - 1:\n",
    "            d_border = height\n",
    "        l_border = 0\n",
    "        for j in range(n_cells):\n",
    "            r_border = l_border + cell_cols\n",
    "            if j == n_cells - 1:\n",
    "                r_border = width\n",
    "            result[i, j] = cell_histogram(basket_num[u_border:d_border, l_border:r_border],\n",
    "                                                grad_abs[u_border:d_border, l_border:r_border],\n",
    "                                                bin_count)\n",
    "            l_border += cell_cols\n",
    "        u_border += cell_rows\n",
    "    return result"
   ]
  },
  {
   "cell_type": "markdown",
   "metadata": {},
   "source": [
    "**Аналогично строится метод, возвращающий нормированный вектор гистограмм ячеек блока, который после применён для построения дескриптора изображения. В этом методе блоки  пересекаются пересечений столько, чтобы длина дескриптора была приемлемой в плане расходуемой памяти, но при этом дающая хороший результат.**"
   ]
  },
  {
   "cell_type": "code",
   "execution_count": 5,
   "metadata": {},
   "outputs": [],
   "source": [
    "def block_descriptor(block, eps):\n",
    "    sub_vectors = np.zeros((block.shape[0], block.shape[1] * block.shape[2]))\n",
    "    for i in range(block.shape[0]):\n",
    "        sub_vectors[i] = np.concatenate(block[i, :])\n",
    "    vector = np.concatenate(sub_vectors[:])\n",
    "    return vector / np.sqrt(np.sum(vector * vector) + eps)\n",
    "\n",
    "\n",
    "def descriptor(full_hist, block_shape, eps):\n",
    "    block_rows = block_shape[0]\n",
    "    block_cols = block_shape[1]\n",
    "    b_height = full_hist.shape[0]\n",
    "    b_width = full_hist.shape[1]\n",
    "    result = np.zeros((0,))\n",
    "    for u_border in range(0, b_height-block_rows + 1):\n",
    "        d_border = u_border + block_rows\n",
    "        for l_border in range(0, b_width-block_cols + 1):\n",
    "            r_border = l_border + block_cols\n",
    "            if u_border % 5 != 0 and l_border % 5 != 0:\n",
    "                result = np.concatenate((result,\n",
    "                                         block_descriptor(full_hist[u_border:d_border,\n",
    "                                                          l_border:r_border], eps)))\n",
    "    return result"
   ]
  },
  {
   "cell_type": "markdown",
   "metadata": {},
   "source": [
    "**Итоговая функция extract_hog:**"
   ]
  },
  {
   "cell_type": "code",
   "execution_count": 6,
   "metadata": {},
   "outputs": [],
   "source": [
    "def extract_hog(image):\n",
    "    opt_size = (112, 112, 3)\n",
    "    bin_count = 8\n",
    "    resized = resize(image, opt_size, mode='reflect')\n",
    "    im_bness = brightness(resized)\n",
    "    grad_abs, grad_dir = gradient_abs_and_dir(im_bness)\n",
    "    baskets = basket_number(grad_dir, bin_count)\n",
    "    histogram = full_histogram(baskets, grad_abs, bin_count)\n",
    "    return descriptor(histogram, (2, 2), 1e-100)\n",
    "\n",
    "\n",
    "def fit_and_classify(train_features, train_labels, test_features):\n",
    "    svc = LinearSVC(dual=False, C=3)\n",
    "    svc.fit(train_features, train_labels)\n",
    "    return svc.predict(test_features)"
   ]
  },
  {
   "cell_type": "markdown",
   "metadata": {},
   "source": [
    "**Для подбора оптимальных гиперпараметров был применён рандомизированный поиск, который дал результат: $С = 3$.**"
   ]
  },
  {
   "cell_type": "code",
   "execution_count": 7,
   "metadata": {},
   "outputs": [],
   "source": [
    "def best_params_svm(train_features, train_labels):\n",
    "    svc = LinearSVC()\n",
    "    params = {'C': [0.5, 1., 1.5, 0.2, 0.8, 2., 3.]}\n",
    "    search = RandomizedSearchCV(svc, params, n_iter=4, n_jobs=-1, cv=5, scoring='accuracy')\n",
    "    search.fit(train_features, train_labels)\n",
    "    return search.best_params_\n"
   ]
  }
 ],
 "metadata": {
  "kernelspec": {
   "display_name": "Python 3",
   "language": "python",
   "name": "python3"
  },
  "language_info": {
   "codemirror_mode": {
    "name": "ipython",
    "version": 3
   },
   "file_extension": ".py",
   "mimetype": "text/x-python",
   "name": "python",
   "nbconvert_exporter": "python",
   "pygments_lexer": "ipython3",
   "version": "3.5.2"
  }
 },
 "nbformat": 4,
 "nbformat_minor": 2
}

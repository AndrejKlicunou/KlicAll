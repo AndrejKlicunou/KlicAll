{
 "cells": [
  {
   "cell_type": "markdown",
   "metadata": {},
   "source": [
    "# Natural Language Processing with Deep Learning\n",
    "\n",
    "__This is exactly the same notebook as in `../week10_textconv/.`__\n",
    "\n",
    "__Feel free submit the seminar notebook, just make sure you read the assignments at the end.__\n",
    "\n",
    "Today we're gonna apply the newly learned DL tools for sequence processing to the task of predicting job salary.\n",
    "\n",
    "Special thanks to [Oleg Vasilev](https://github.com/Omrigan/) for the assignment core (orignally written for theano/tensorflow)."
   ]
  },
  {
   "cell_type": "code",
   "execution_count": 1,
   "metadata": {},
   "outputs": [],
   "source": [
    "import numpy as np\n",
    "import pandas as pd\n",
    "import matplotlib.pyplot as plt\n",
    "%matplotlib inline"
   ]
  },
  {
   "cell_type": "markdown",
   "metadata": {},
   "source": [
    "### About the challenge\n",
    "For starters, let's download the data from __[here](https://yadi.sk/d/vVEOWPFY3NruT7)__.\n",
    "\n",
    "You can also get it from the competition [page](https://www.kaggle.com/c/job-salary-prediction/data) (in that case, pick `Train_rev1.*`).\n",
    "\n",
    "\n",
    "Our task is to predict one number, __SalaryNormalized__, in the sense of minimizing __Mean Absolute Error__.\n",
    "\n",
    "<img src=\"https://kaggle2.blob.core.windows.net/competitions/kaggle/3342/media/salary%20prediction%20engine%20v2.png\" width=400px>\n",
    "\n",
    "To do so, our model ca access a number of features:\n",
    "* Free text: __`Title`__ and  __`FullDescription`__\n",
    "* Categorical: __`Category`__, __`Company`__, __`LocationNormalized`__, __`ContractType`__, and __`ContractTime`__.\n",
    "\n",
    "\n",
    "You can read more [in the official description](https://www.kaggle.com/c/job-salary-prediction#description)."
   ]
  },
  {
   "cell_type": "code",
   "execution_count": 2,
   "metadata": {},
   "outputs": [
    {
     "data": {
      "text/html": [
       "<div>\n",
       "<style scoped>\n",
       "    .dataframe tbody tr th:only-of-type {\n",
       "        vertical-align: middle;\n",
       "    }\n",
       "\n",
       "    .dataframe tbody tr th {\n",
       "        vertical-align: top;\n",
       "    }\n",
       "\n",
       "    .dataframe thead th {\n",
       "        text-align: right;\n",
       "    }\n",
       "</style>\n",
       "<table border=\"1\" class=\"dataframe\">\n",
       "  <thead>\n",
       "    <tr style=\"text-align: right;\">\n",
       "      <th></th>\n",
       "      <th>Id</th>\n",
       "      <th>Title</th>\n",
       "      <th>FullDescription</th>\n",
       "      <th>LocationRaw</th>\n",
       "      <th>LocationNormalized</th>\n",
       "      <th>ContractType</th>\n",
       "      <th>ContractTime</th>\n",
       "      <th>Company</th>\n",
       "      <th>Category</th>\n",
       "      <th>SalaryRaw</th>\n",
       "      <th>SalaryNormalized</th>\n",
       "      <th>SourceName</th>\n",
       "      <th>Log1pSalary</th>\n",
       "    </tr>\n",
       "  </thead>\n",
       "  <tbody>\n",
       "    <tr>\n",
       "      <th>27549</th>\n",
       "      <td>67904631</td>\n",
       "      <td>Software Developer  PHP</td>\n",
       "      <td>Aatom are now urgently looking to recruit an e...</td>\n",
       "      <td>Bedford, Bedfordshire</td>\n",
       "      <td>Bedford</td>\n",
       "      <td>NaN</td>\n",
       "      <td>permanent</td>\n",
       "      <td>Aatom Recruitment</td>\n",
       "      <td>IT Jobs</td>\n",
       "      <td>25000 - 35000/annum</td>\n",
       "      <td>30000</td>\n",
       "      <td>cv-library.co.uk</td>\n",
       "      <td>10.308986</td>\n",
       "    </tr>\n",
       "    <tr>\n",
       "      <th>45591</th>\n",
       "      <td>68547252</td>\n",
       "      <td>Business Systems Support</td>\n",
       "      <td>My market leading client is looking for a Busi...</td>\n",
       "      <td>West Bromwich</td>\n",
       "      <td>West Bromwich</td>\n",
       "      <td>full_time</td>\n",
       "      <td>NaN</td>\n",
       "      <td>Experis IT</td>\n",
       "      <td>IT Jobs</td>\n",
       "      <td>30000</td>\n",
       "      <td>30000</td>\n",
       "      <td>careerbuilder.com</td>\n",
       "      <td>10.308986</td>\n",
       "    </tr>\n",
       "    <tr>\n",
       "      <th>94379</th>\n",
       "      <td>69199182</td>\n",
       "      <td>Early Years Manager/ Instructor</td>\n",
       "      <td>MultiActivity Day Camps  part of the Super Cam...</td>\n",
       "      <td>UK</td>\n",
       "      <td>UK</td>\n",
       "      <td>full_time</td>\n",
       "      <td>permanent</td>\n",
       "      <td>Multi Activity</td>\n",
       "      <td>Other/General Jobs</td>\n",
       "      <td>From 251.15 to 350 per week</td>\n",
       "      <td>14427</td>\n",
       "      <td>fish4.co.uk</td>\n",
       "      <td>9.576926</td>\n",
       "    </tr>\n",
       "  </tbody>\n",
       "</table>\n",
       "</div>"
      ],
      "text/plain": [
       "             Id                            Title  \\\n",
       "27549  67904631          Software Developer  PHP   \n",
       "45591  68547252         Business Systems Support   \n",
       "94379  69199182  Early Years Manager/ Instructor   \n",
       "\n",
       "                                         FullDescription  \\\n",
       "27549  Aatom are now urgently looking to recruit an e...   \n",
       "45591  My market leading client is looking for a Busi...   \n",
       "94379  MultiActivity Day Camps  part of the Super Cam...   \n",
       "\n",
       "                 LocationRaw LocationNormalized ContractType ContractTime  \\\n",
       "27549  Bedford, Bedfordshire            Bedford          NaN    permanent   \n",
       "45591          West Bromwich      West Bromwich    full_time          NaN   \n",
       "94379                     UK                 UK    full_time    permanent   \n",
       "\n",
       "                 Company            Category                    SalaryRaw  \\\n",
       "27549  Aatom Recruitment             IT Jobs          25000 - 35000/annum   \n",
       "45591         Experis IT             IT Jobs                        30000   \n",
       "94379     Multi Activity  Other/General Jobs  From 251.15 to 350 per week   \n",
       "\n",
       "       SalaryNormalized         SourceName  Log1pSalary  \n",
       "27549             30000   cv-library.co.uk    10.308986  \n",
       "45591             30000  careerbuilder.com    10.308986  \n",
       "94379             14427        fish4.co.uk     9.576926  "
      ]
     },
     "execution_count": 2,
     "metadata": {},
     "output_type": "execute_result"
    },
    {
     "data": {
      "text/html": [
       "<div>\n",
       "<style scoped>\n",
       "    .dataframe tbody tr th:only-of-type {\n",
       "        vertical-align: middle;\n",
       "    }\n",
       "\n",
       "    .dataframe tbody tr th {\n",
       "        vertical-align: top;\n",
       "    }\n",
       "\n",
       "    .dataframe thead th {\n",
       "        text-align: right;\n",
       "    }\n",
       "</style>\n",
       "<table border=\"1\" class=\"dataframe\">\n",
       "  <thead>\n",
       "    <tr style=\"text-align: right;\">\n",
       "      <th></th>\n",
       "      <th>Id</th>\n",
       "      <th>Title</th>\n",
       "      <th>FullDescription</th>\n",
       "      <th>LocationRaw</th>\n",
       "      <th>LocationNormalized</th>\n",
       "      <th>ContractType</th>\n",
       "      <th>ContractTime</th>\n",
       "      <th>Company</th>\n",
       "      <th>Category</th>\n",
       "      <th>SalaryRaw</th>\n",
       "      <th>SalaryNormalized</th>\n",
       "      <th>SourceName</th>\n",
       "      <th>Log1pSalary</th>\n",
       "    </tr>\n",
       "  </thead>\n",
       "  <tbody>\n",
       "    <tr>\n",
       "      <th>27549</th>\n",
       "      <td>67904631</td>\n",
       "      <td>Software Developer  PHP</td>\n",
       "      <td>Aatom are now urgently looking to recruit an e...</td>\n",
       "      <td>Bedford, Bedfordshire</td>\n",
       "      <td>Bedford</td>\n",
       "      <td>NaN</td>\n",
       "      <td>permanent</td>\n",
       "      <td>Aatom Recruitment</td>\n",
       "      <td>IT Jobs</td>\n",
       "      <td>25000 - 35000/annum</td>\n",
       "      <td>30000</td>\n",
       "      <td>cv-library.co.uk</td>\n",
       "      <td>10.308986</td>\n",
       "    </tr>\n",
       "    <tr>\n",
       "      <th>45591</th>\n",
       "      <td>68547252</td>\n",
       "      <td>Business Systems Support</td>\n",
       "      <td>My market leading client is looking for a Busi...</td>\n",
       "      <td>West Bromwich</td>\n",
       "      <td>West Bromwich</td>\n",
       "      <td>full_time</td>\n",
       "      <td>NaN</td>\n",
       "      <td>Experis IT</td>\n",
       "      <td>IT Jobs</td>\n",
       "      <td>30000</td>\n",
       "      <td>30000</td>\n",
       "      <td>careerbuilder.com</td>\n",
       "      <td>10.308986</td>\n",
       "    </tr>\n",
       "    <tr>\n",
       "      <th>94379</th>\n",
       "      <td>69199182</td>\n",
       "      <td>Early Years Manager/ Instructor</td>\n",
       "      <td>MultiActivity Day Camps  part of the Super Cam...</td>\n",
       "      <td>UK</td>\n",
       "      <td>UK</td>\n",
       "      <td>full_time</td>\n",
       "      <td>permanent</td>\n",
       "      <td>Multi Activity</td>\n",
       "      <td>Other/General Jobs</td>\n",
       "      <td>From 251.15 to 350 per week</td>\n",
       "      <td>14427</td>\n",
       "      <td>fish4.co.uk</td>\n",
       "      <td>9.576926</td>\n",
       "    </tr>\n",
       "  </tbody>\n",
       "</table>\n",
       "</div>"
      ],
      "text/plain": [
       "             Id                            Title  \\\n",
       "27549  67904631          Software Developer  PHP   \n",
       "45591  68547252         Business Systems Support   \n",
       "94379  69199182  Early Years Manager/ Instructor   \n",
       "\n",
       "                                         FullDescription  \\\n",
       "27549  Aatom are now urgently looking to recruit an e...   \n",
       "45591  My market leading client is looking for a Busi...   \n",
       "94379  MultiActivity Day Camps  part of the Super Cam...   \n",
       "\n",
       "                 LocationRaw LocationNormalized ContractType ContractTime  \\\n",
       "27549  Bedford, Bedfordshire            Bedford          NaN    permanent   \n",
       "45591          West Bromwich      West Bromwich    full_time          NaN   \n",
       "94379                     UK                 UK    full_time    permanent   \n",
       "\n",
       "                 Company            Category                    SalaryRaw  \\\n",
       "27549  Aatom Recruitment             IT Jobs          25000 - 35000/annum   \n",
       "45591         Experis IT             IT Jobs                        30000   \n",
       "94379     Multi Activity  Other/General Jobs  From 251.15 to 350 per week   \n",
       "\n",
       "       SalaryNormalized         SourceName  Log1pSalary  \n",
       "27549             30000   cv-library.co.uk    10.308986  \n",
       "45591             30000  careerbuilder.com    10.308986  \n",
       "94379             14427        fish4.co.uk     9.576926  "
      ]
     },
     "execution_count": 2,
     "metadata": {},
     "output_type": "execute_result"
    }
   ],
   "source": [
    "data = pd.read_csv(\"./Train_rev1.csv\", index_col=None)\n",
    "data['Log1pSalary'] = np.log1p(data['SalaryNormalized']).astype('float32')\n",
    "\n",
    "text_columns = [\"Title\", \"FullDescription\"]\n",
    "categorical_columns = [\"Category\", \"Company\", \"LocationNormalized\", \"ContractType\", \"ContractTime\"]\n",
    "target_column = \"Log1pSalary\"\n",
    "data[categorical_columns] = data[categorical_columns].fillna('NaN') # cast nan to string\n",
    "\n",
    "data.sample(3)"
   ]
  },
  {
   "cell_type": "markdown",
   "metadata": {},
   "source": [
    "### The NLP part\n",
    "\n",
    "To even begin training our neural network, we're gonna need to preprocess the text features: tokenize it and build the token vocabularies.\n",
    "\n",
    "Since it is not an NLP course, we're gonna use simple built-in NLTK tokenization."
   ]
  },
  {
   "cell_type": "code",
   "execution_count": 3,
   "metadata": {},
   "outputs": [
    {
     "name": "stdout",
     "output_type": "stream",
     "text": [
      "Before\n",
      "0         Engineering Systems Analyst\n",
      "100000                   HR Assistant\n",
      "200000           Senior EC&I Engineer\n",
      "Name: Title, dtype: object\n",
      "Before\n",
      "0         Engineering Systems Analyst\n",
      "100000                   HR Assistant\n",
      "200000           Senior EC&I Engineer\n",
      "Name: Title, dtype: object\n"
     ]
    }
   ],
   "source": [
    "print(\"Before\")\n",
    "print(data[\"Title\"][::100000])"
   ]
  },
  {
   "cell_type": "code",
   "execution_count": 4,
   "metadata": {},
   "outputs": [],
   "source": [
    "import nltk\n",
    "tokenizer = nltk.tokenize.WordPunctTokenizer()\n",
    "\n",
    "for col in text_columns:\n",
    "    data[col] = data[col].apply(lambda l: ' '.join(tokenizer.tokenize(str(l).lower())))"
   ]
  },
  {
   "cell_type": "markdown",
   "metadata": {},
   "source": [
    "Now we can assume that our text is a space-separated list of tokens:"
   ]
  },
  {
   "cell_type": "code",
   "execution_count": 5,
   "metadata": {},
   "outputs": [
    {
     "name": "stdout",
     "output_type": "stream",
     "text": [
      "After\n",
      "0         engineering systems analyst\n",
      "100000                   hr assistant\n",
      "200000         senior ec & i engineer\n",
      "Name: Title, dtype: object\n",
      "After\n",
      "0         engineering systems analyst\n",
      "100000                   hr assistant\n",
      "200000         senior ec & i engineer\n",
      "Name: Title, dtype: object\n"
     ]
    }
   ],
   "source": [
    "print(\"After\")\n",
    "print(data[\"Title\"][::100000])"
   ]
  },
  {
   "cell_type": "markdown",
   "metadata": {},
   "source": [
    "Not all words are equally useful. Some of them are typos or rare words that are only present a few times. \n",
    "\n",
    "Let's see how many times is each word present in the data so that we can build a \"white list\" of known words."
   ]
  },
  {
   "cell_type": "code",
   "execution_count": 6,
   "metadata": {},
   "outputs": [],
   "source": [
    "from collections import Counter\n",
    "token_counts = Counter()\n",
    "\n",
    "# Count how many times does each token occur in both \"Title\" and \"FullDescription\" fields\n",
    "for col in text_columns:\n",
    "    for item in data[col]:\n",
    "        words = item.split(' ')\n",
    "        token_counts.update(words)"
   ]
  },
  {
   "cell_type": "code",
   "execution_count": 7,
   "metadata": {},
   "outputs": [
    {
     "name": "stdout",
     "output_type": "stream",
     "text": [
      "Total unique tokens : 202704\n",
      "('and', 2657388)\n",
      "('.', 2523216)\n",
      "(',', 2318606)\n",
      "('the', 2080994)\n",
      "('to', 2019884)\n",
      "...\n",
      "('imseniorinfrastructureengineercitrix_job', 1)\n",
      "('carouse', 1)\n",
      "('mbettleyteksystems', 1)\n",
      "Correct!\n",
      "Total unique tokens : 202704\n",
      "('and', 2657388)\n",
      "('.', 2523216)\n",
      "(',', 2318606)\n",
      "('the', 2080994)\n",
      "('to', 2019884)\n",
      "...\n",
      "('imseniorinfrastructureengineercitrix_job', 1)\n",
      "('carouse', 1)\n",
      "('mbettleyteksystems', 1)\n",
      "Correct!\n"
     ]
    }
   ],
   "source": [
    "print(\"Total unique tokens :\", len(token_counts))\n",
    "print('\\n'.join(map(str, token_counts.most_common(n=5))))\n",
    "print('...')\n",
    "print('\\n'.join(map(str, token_counts.most_common()[-3:])))\n",
    "\n",
    "assert token_counts.most_common(1)[0][1] in  range(2600000, 2700000)\n",
    "assert len(token_counts) in range(200000, 210000)\n",
    "print('Correct!')"
   ]
  },
  {
   "cell_type": "code",
   "execution_count": 8,
   "metadata": {},
   "outputs": [
    {
     "data": {
      "text/plain": [
       "Text(0.5,0,'Counts')"
      ]
     },
     "execution_count": 8,
     "metadata": {},
     "output_type": "execute_result"
    },
    {
     "data": {
      "text/plain": [
       "Text(0.5,0,'Counts')"
      ]
     },
     "execution_count": 8,
     "metadata": {},
     "output_type": "execute_result"
    },
    {
     "data": {
      "image/png": "[encoded data removed]",
      "text/plain": [
       "<Figure size 432x288 with 1 Axes>"
      ]
     },
     "metadata": {},
     "output_type": "display_data"
    },
    {
     "data": {
      "image/png": "[encoded data removed]",
      "text/plain": [
       "<Figure size 432x288 with 1 Axes>"
      ]
     },
     "metadata": {},
     "output_type": "display_data"
    }
   ],
   "source": [
    "# Let's see how many words are there for each count\n",
    "\n",
    "_=plt.hist(list(token_counts.values()), range=[0, 10**4], bins=50, log=True)\n",
    "plt.xlabel(\"Counts\")"
   ]
  },
  {
   "cell_type": "markdown",
   "metadata": {},
   "source": [
    "__Task 1.1__ Get a list of all tokens that occur at least 10 times."
   ]
  },
  {
   "cell_type": "code",
   "execution_count": 9,
   "metadata": {},
   "outputs": [],
   "source": [
    "min_count = 10\n",
    "\n",
    "# tokens from token_counts keys that had at least min_count occurrences throughout the dataset\n",
    "tokens = []\n",
    "for key in sorted(token_counts.keys()):\n",
    "    if token_counts[key] >= min_count:\n",
    "        tokens.append(key)\n",
    "\n",
    "# Add a special tokens for unknown and empty words\n",
    "UNK, PAD = \"UNK\", \"PAD\"\n",
    "tokens = [UNK, PAD] + tokens"
   ]
  },
  {
   "cell_type": "code",
   "execution_count": 10,
   "metadata": {},
   "outputs": [
    {
     "name": "stdout",
     "output_type": "stream",
     "text": [
      "Tokens left: 34158\n",
      "Correct!\n",
      "Tokens left: 34158\n",
      "Correct!\n"
     ]
    }
   ],
   "source": [
    "print(\"Tokens left:\", len(tokens))\n",
    "assert type(tokens)==list\n",
    "assert len(tokens) in range(32000,35000)\n",
    "assert 'me' in tokens\n",
    "assert UNK in tokens\n",
    "print(\"Correct!\")"
   ]
  },
  {
   "cell_type": "markdown",
   "metadata": {},
   "source": [
    "__Task 1.2__ Build an inverse token index: a dictionary from token(string) to it's index in `tokens` (int)"
   ]
  },
  {
   "cell_type": "code",
   "execution_count": 11,
   "metadata": {},
   "outputs": [],
   "source": [
    "token_to_id = {tokens[i] : i for i in range(len(tokens))}"
   ]
  },
  {
   "cell_type": "code",
   "execution_count": 12,
   "metadata": {},
   "outputs": [
    {
     "name": "stdout",
     "output_type": "stream",
     "text": [
      "Correct!\n",
      "Correct!\n"
     ]
    }
   ],
   "source": [
    "assert isinstance(token_to_id, dict)\n",
    "assert len(token_to_id) == len(tokens)\n",
    "for tok in tokens:\n",
    "    assert tokens[token_to_id[tok]] == tok\n",
    "\n",
    "print(\"Correct!\")"
   ]
  },
  {
   "cell_type": "markdown",
   "metadata": {},
   "source": [
    "And finally, let's use the vocabulary you've built to map text lines into torch-digestible matrices."
   ]
  },
  {
   "cell_type": "code",
   "execution_count": 13,
   "metadata": {},
   "outputs": [],
   "source": [
    "UNK_IX, PAD_IX = map(token_to_id.get, [UNK, PAD])\n",
    "\n",
    "def as_matrix(sequences, max_len=None):\n",
    "    \"\"\" Convert a list of tokens into a matrix with padding \"\"\"\n",
    "    if isinstance(sequences[0], str):\n",
    "        sequences = list(map(str.split, sequences))\n",
    "        \n",
    "    max_len = min(max(map(len, sequences)), max_len or float('inf'))\n",
    "    \n",
    "    matrix = np.full((len(sequences), max_len), np.int32(PAD_IX))\n",
    "    for i,seq in enumerate(sequences):\n",
    "        row_ix = [token_to_id.get(word, UNK_IX) for word in seq[:max_len]]\n",
    "        matrix[i, :len(row_ix)] = row_ix\n",
    "    \n",
    "    return matrix"
   ]
  },
  {
   "cell_type": "code",
   "execution_count": 14,
   "metadata": {},
   "outputs": [
    {
     "name": "stdout",
     "output_type": "stream",
     "text": [
      "engineering systems analyst\n",
      "hr assistant\n",
      "senior ec & i engineer\n",
      "\n",
      "Matrix:\n",
      "[[10807 30161  2166     1     1]\n",
      " [15020  2844     1     1     1]\n",
      " [27645 10201    16 15215 10804]]\n",
      "engineering systems analyst\n",
      "hr assistant\n",
      "senior ec & i engineer\n",
      "\n",
      "Matrix:\n",
      "[[10807 30161  2166     1     1]\n",
      " [15020  2844     1     1     1]\n",
      " [27645 10201    16 15215 10804]]\n"
     ]
    }
   ],
   "source": [
    "#### print(\"Lines:\")\n",
    "print('\\n'.join(data[\"Title\"][::100000].values), end='\\n\\n')\n",
    "print(\"Matrix:\")\n",
    "print(as_matrix(data[\"Title\"][::100000]))"
   ]
  },
  {
   "cell_type": "markdown",
   "metadata": {},
   "source": [
    "Now let's  encode the categirical data we have.\n",
    "\n",
    "As usual, we shall use one-hot encoding for simplicity. Kudos if you implement tf-idf, target averaging or pseudo-counter-based encoding."
   ]
  },
  {
   "cell_type": "code",
   "execution_count": 15,
   "metadata": {},
   "outputs": [
    {
     "data": {
      "text/plain": [
       "DictVectorizer(dtype=<class 'numpy.float32'>, separator='=', sort=True,\n",
       "        sparse=False)"
      ]
     },
     "execution_count": 15,
     "metadata": {},
     "output_type": "execute_result"
    },
    {
     "data": {
      "text/plain": [
       "DictVectorizer(dtype=<class 'numpy.float32'>, separator='=', sort=True,\n",
       "        sparse=False)"
      ]
     },
     "execution_count": 15,
     "metadata": {},
     "output_type": "execute_result"
    }
   ],
   "source": [
    "from sklearn.feature_extraction import DictVectorizer\n",
    "\n",
    "# we only consider top-1k most frequent companies to minimize memory usage\n",
    "top_companies, top_counts = zip(*Counter(data['Company']).most_common(1000))\n",
    "recognized_companies = set(top_companies)\n",
    "data[\"Company\"] = data[\"Company\"].apply(lambda comp: comp if comp in recognized_companies else \"Other\")\n",
    "\n",
    "categorical_vectorizer = DictVectorizer(dtype=np.float32, sparse=False)\n",
    "categorical_vectorizer.fit(data[categorical_columns].apply(dict, axis=1))"
   ]
  },
  {
   "cell_type": "markdown",
   "metadata": {},
   "source": [
    "### The data science part\n",
    "\n",
    "Once we've learned to tokenize the data, let's design a machine learning experiment.\n",
    "\n",
    "As before, we won't focus too much on validation, opting for a simple train-test split.\n",
    "\n",
    "__To be completely rigorous,__ we've comitted a small crime here: we used the whole data for tokenization and vocabulary building. A more strict way would be to do that part on training set only. You may want to do that and measure the magnitude of changes."
   ]
  },
  {
   "cell_type": "code",
   "execution_count": 16,
   "metadata": {},
   "outputs": [
    {
     "name": "stdout",
     "output_type": "stream",
     "text": [
      "Train size =  220291\n",
      "Validation size =  24477\n",
      "Train size =  220291\n",
      "Validation size =  24477\n"
     ]
    }
   ],
   "source": [
    "from sklearn.model_selection import train_test_split\n",
    "\n",
    "data_train, data_val = train_test_split(data, test_size=0.1, random_state=42)\n",
    "\n",
    "print(\"Train size = \", len(data_train))\n",
    "print(\"Validation size = \", len(data_val))"
   ]
  },
  {
   "cell_type": "code",
   "execution_count": 17,
   "metadata": {},
   "outputs": [],
   "source": [
    "def generate_batch(data, batch_size=None, replace=True, max_len=None):\n",
    "    \"\"\"\n",
    "    Creates a pytorch-friendly dict from the batch data.\n",
    "    :returns: a dict with {'title' : int64[batch, title_max_len]\n",
    "    \"\"\"\n",
    "    if batch_size is not None:\n",
    "        data = data.sample(batch_size, replace=replace)\n",
    "    \n",
    "    batch = {}\n",
    "    for col in text_columns:\n",
    "        batch[col] = as_matrix(data[col].values, max_len)\n",
    "    \n",
    "    batch['Categorical'] = categorical_vectorizer.transform(data[categorical_columns].apply(dict, axis=1))\n",
    "    \n",
    "    if target_column in data.columns:\n",
    "        batch[target_column] = data[target_column].values\n",
    "    \n",
    "    return batch"
   ]
  },
  {
   "cell_type": "code",
   "execution_count": 18,
   "metadata": {},
   "outputs": [],
   "source": [
    "temp_batch = generate_batch(data_train, 3, max_len=10)"
   ]
  },
  {
   "cell_type": "markdown",
   "metadata": {},
   "source": [
    "### Finally, let's talk deep learning\n",
    "\n",
    "Out model consists of three branches:\n",
    "* Title encoder\n",
    "* Description encoder\n",
    "* Categorical features encoder\n",
    "\n",
    "We will then feed all 3 branches into one common network that predicts salary.\n",
    "\n",
    "![scheme](https://github.com/yandexdataschool/Practical_DL/raw/master/homework04/conv_salary_architecture.png)"
   ]
  },
  {
   "cell_type": "markdown",
   "metadata": {},
   "source": [
    "By default, both text vectorizers shall use 1d convolutions, followed by global pooling over time."
   ]
  },
  {
   "cell_type": "code",
   "execution_count": 19,
   "metadata": {},
   "outputs": [],
   "source": [
    "import torch, torch.nn as nn\n",
    "import torch.nn.functional as F\n",
    "from torch.autograd import Variable\n",
    "\n",
    "class GlobalMaxPooling(nn.Module):\n",
    "    def __init__(self, dim=-1):\n",
    "        super(self.__class__, self).__init__()\n",
    "        self.dim = dim\n",
    "        \n",
    "    def forward(self, x):\n",
    "        return x.max(dim=self.dim)[0]\n",
    "    \n",
    "class GlobalAveragePooling(nn.Module):\n",
    "    def __init__(self, dim=-1):\n",
    "        super(self.__class__, self).__init__()\n",
    "        self.dim = dim\n",
    "        \n",
    "    def forward(self, x):\n",
    "        return x.mean(dim=self.dim)\n",
    "\n",
    "class GlobalSoftmaxPooling(nn.Module):\n",
    "    def __init__(self, dim=-1):\n",
    "        super(self.__class__, self).__init__()\n",
    "        self.dim = dim\n",
    "        \n",
    "    def forward(self, x):\n",
    "        return (x * F.softmax(x, dim=self.dim)).sum(dim = self.dim)\n",
    "    \n",
    "class GlobalAttentivePoolingOneLayer(nn.Module):\n",
    "    def __init__(self, dim=-1, out_size=64):\n",
    "        super(self.__class__, self).__init__()\n",
    "        self.dim = dim\n",
    "        self.conv1 = nn.Conv1d(out_size, out_size, kernel_size=3, padding=1)\n",
    "    \n",
    "    def forward(self, x):\n",
    "        pred = self.conv1(x)\n",
    "        return (x * F.softmax(pred, dim=self.dim)).sum(dim = self.dim)\n",
    "\n",
    "class GlobalAttentivePoolingTwoLayer(nn.Module):\n",
    "    def __init__(self, dim=-1, out_size=64):\n",
    "        super(self.__class__, self).__init__()\n",
    "        self.dim = dim\n",
    "        self.conv1 = nn.Conv1d(out_size, out_size, kernel_size=3, padding=1)\n",
    "        self.conv2 = nn.Conv1d(out_size, out_size, kernel_size=3, padding=1)\n",
    "        self.do = nn.Dropout(0.1)\n",
    "    \n",
    "    def forward(self, x):\n",
    "        pred = self.conv1(x)\n",
    "        #pred = self.do(pred)\n",
    "        pred = F.relu(pred)\n",
    "        pred = self.conv2(pred)\n",
    "        return (x * F.softmax(pred, dim=self.dim)).sum(dim = self.dim)"
   ]
  },
  {
   "cell_type": "code",
   "execution_count": 20,
   "metadata": {},
   "outputs": [],
   "source": [
    "class TitleEncoder(nn.Module):\n",
    "    def __init__(self, n_tokens=len(tokens), out_size=64):\n",
    "        \"\"\" \n",
    "        A simple sequential encoder for descriptions.\n",
    "        x -> emb -> conv -> global_max -> relu -> dense\n",
    "        \"\"\"\n",
    "        super(self.__class__, self).__init__()\n",
    "        self.emb = nn.Embedding(n_tokens, 64, padding_idx=PAD_IX)\n",
    "        self.conv1 = nn.Conv1d(64, out_size, kernel_size=3, padding=1)\n",
    "        self.pool1 = GlobalMaxPooling()        \n",
    "        self.dense = nn.Linear(out_size, out_size)\n",
    "\n",
    "    def forward(self, text_ix):\n",
    "        \"\"\"\n",
    "        :param text_ix: int64 Variable of shape [batch_size, max_len]\n",
    "        :returns: float32 Variable of shape [batch_size, out_size]\n",
    "        \"\"\"\n",
    "        h = self.emb(text_ix)\n",
    "\n",
    "        # we transpose from [batch, time, units] to [batch, units, time] to fit Conv1d dim order\n",
    "        h = torch.transpose(h, 1, 2)\n",
    "        \n",
    "        # Apply the layers as defined above. Add some ReLUs before dense.\n",
    "        h = self.conv1(h)\n",
    "        h = self.pool1(h)\n",
    "        h = F.relu(h)\n",
    "        h = self.dense(h)\n",
    "        return h"
   ]
  },
  {
   "cell_type": "code",
   "execution_count": 21,
   "metadata": {},
   "outputs": [
    {
     "name": "stdout",
     "output_type": "stream",
     "text": [
      "Seems fine\n",
      "Seems fine\n"
     ]
    }
   ],
   "source": [
    "title_encoder = TitleEncoder(out_size=64)\n",
    "\n",
    "dummy_x = Variable(torch.LongTensor(generate_batch(data_train, 3)['Title']))\n",
    "dummy_v = title_encoder(dummy_x)\n",
    "\n",
    "assert isinstance(dummy_v, Variable)\n",
    "assert tuple(dummy_v.shape) == (dummy_x.shape[0], 64)\n",
    "\n",
    "del title_encoder\n",
    "print(\"Seems fine\")"
   ]
  },
  {
   "cell_type": "markdown",
   "metadata": {},
   "source": [
    "__Task 2.1__ Create description encoder"
   ]
  },
  {
   "cell_type": "code",
   "execution_count": 22,
   "metadata": {},
   "outputs": [],
   "source": [
    "class DescriptionEncoder(nn.Module):\n",
    "    def __init__(self, n_tokens=len(tokens), out_size=64):\n",
    "        \"\"\" \n",
    "        A simple sequential encoder for descriptions.\n",
    "        x -> emb -> conv -> global_max -> relu -> dense\n",
    "        \"\"\"\n",
    "        super(self.__class__, self).__init__()\n",
    "        self.emb = nn.Embedding(n_tokens, 64, padding_idx=PAD_IX)\n",
    "        self.conv1 = nn.Conv1d(64, out_size, kernel_size=3, padding=1)\n",
    "        self.pool1 = GlobalMaxPooling()        \n",
    "        self.dense = nn.Linear(out_size, out_size)\n",
    "\n",
    "    def forward(self, text_ix):\n",
    "        \"\"\"\n",
    "        :param text_ix: int64 Variable of shape [batch_size, max_len]\n",
    "        :returns: float32 Variable of shape [batch_size, out_size]\n",
    "        \"\"\"\n",
    "        h = self.emb(text_ix)\n",
    "\n",
    "        # we transpose from [batch, time, units] to [batch, units, time] to fit Conv1d dim order\n",
    "        h = torch.transpose(h, 1, 2)\n",
    "        \n",
    "        # Apply the layers as defined above. Add some ReLUs before dense.\n",
    "        h = self.conv1(h)\n",
    "        h = self.pool1(h)\n",
    "        h = F.relu(h)\n",
    "        h = self.dense(h)\n",
    "        return h"
   ]
  },
  {
   "cell_type": "code",
   "execution_count": 23,
   "metadata": {},
   "outputs": [
    {
     "name": "stdout",
     "output_type": "stream",
     "text": [
      "Seems fine tooSeems fine too\n",
      "\n"
     ]
    }
   ],
   "source": [
    "desc_encoder = DescriptionEncoder()\n",
    "\n",
    "dummy_x = Variable(torch.LongTensor(generate_batch(data_train, 3)['FullDescription']))\n",
    "dummy_v = desc_encoder(dummy_x)\n",
    "\n",
    "assert isinstance(dummy_v, Variable)\n",
    "assert tuple(dummy_v.shape) == (dummy_x.shape[0], 64)\n",
    "del desc_encoder\n",
    "print(\"Seems fine too\")"
   ]
  },
  {
   "cell_type": "code",
   "execution_count": 24,
   "metadata": {},
   "outputs": [],
   "source": [
    "class TextEncoder(nn.Module):\n",
    "    def __init__(self, n_tokens=len(tokens), out_title_size=64, out_desc_size=64):\n",
    "        super(self.__class__, self).__init__()\n",
    "        self.emb = nn.Embedding(n_tokens, 64, padding_idx=PAD_IX)\n",
    "        \n",
    "        self.conv_title1 = nn.Conv1d(64, out_title_size, kernel_size=5, padding=2)\n",
    "        self.conv_title2 = nn.Conv1d(64, out_title_size, kernel_size=3, padding=1)\n",
    "        self.conv_title3 = nn.Conv1d(64, out_title_size, kernel_size=3, padding=1)\n",
    "        self.rnn_title = nn.LSTM(64, 2 * out_title_size // 2, batch_first=True, bidirectional=True)\n",
    "        #self.bnorm_title = nn.BatchNorm1d(out_title_size)\n",
    "        self.pool_title1 = GlobalSoftmaxPooling()\n",
    "        self.pool_title2 = GlobalAttentivePoolingTwoLayer(out_size=out_title_size)\n",
    "        self.pool_title3 = GlobalMaxPooling()\n",
    "        self.pool_title4 = GlobalAttentivePoolingOneLayer(out_size=2 * out_title_size)\n",
    "        self.dense_title1 = nn.Linear(5 * out_title_size, out_title_size * 2)\n",
    "        self.do_title = nn.Dropout(0.1)\n",
    "        self.dense_title2 = nn.Linear(out_title_size * 2, out_title_size)\n",
    "        \n",
    "        self.conv_desc1 = nn.Conv1d(64, out_desc_size, kernel_size=3, padding=1)\n",
    "        self.conv_desc2 = nn.Conv1d(64, out_desc_size, kernel_size=3, padding=1)\n",
    "        self.rnn_desc = nn.LSTM(64, 2 * out_desc_size // 2, batch_first=True, bidirectional=True)\n",
    "        #self.bnorm_desc = nn.BatchNorm1d(out_desc_size)\n",
    "        self.pool_desc1 = GlobalSoftmaxPooling()\n",
    "        self.pool_desc2 = GlobalAttentivePoolingTwoLayer(out_size=1 * out_desc_size)\n",
    "        self.pool_desc3 = GlobalAttentivePoolingOneLayer(out_size=2 * out_desc_size)\n",
    "        self.dense_desc1 = nn.Linear(4 * out_desc_size, 3 * out_desc_size // 2)\n",
    "        self.dense_desc2 = nn.Linear(3 * out_desc_size // 2, out_desc_size)\n",
    "        self.do_desc = nn.Dropout(0.1)\n",
    "\n",
    "    def forward(self, title_ix, desc_ix):\n",
    "        \n",
    "        h_title = self.emb(title_ix)\n",
    "        h_title4, _ = self.rnn_title(h_title)\n",
    "        h_title4 = torch.transpose(h_title4, 1, 2)\n",
    "        h_title4 = self.pool_title4(h_title4)\n",
    "        h_title = torch.transpose(h_title, 1, 2)\n",
    "        h_title1 = self.conv_title1(h_title)\n",
    "        h_title1 = self.pool_title1(h_title1)\n",
    "        h_title2 = self.conv_title2(h_title)\n",
    "        h_title2 = self.pool_title2(h_title2)\n",
    "        h_title3 = self.conv_title3(h_title)\n",
    "        h_title3 = self.pool_title3(h_title3)\n",
    "        \n",
    "        #h_title = self.bnorm_title(h_title)\n",
    "        h_title = torch.cat([h_title1, h_title2, h_title3, h_title4], dim=1)\n",
    "        h_title = self.dense_title1(h_title)\n",
    "        #h_title = self.do_title(h_title)\n",
    "        h_title = F.relu(h_title)\n",
    "        h_title = self.dense_title2(h_title)\n",
    "        \n",
    "        h_desc = self.emb(desc_ix)\n",
    "        \n",
    "        h_desc3, _ = self.rnn_desc(h_desc)\n",
    "        h_desc3 = torch.transpose(h_desc3, 1, 2)\n",
    "        h_desc3 = self.pool_desc3(h_desc3)\n",
    "        h_desc = torch.transpose(h_desc, 1, 2)\n",
    "        h_desc1 = self.conv_desc1(h_desc)\n",
    "        h_desc1 = self.pool_desc1(h_desc1)\n",
    "        h_desc2 = self.conv_desc2(h_desc)\n",
    "        h_desc2 = self.pool_desc2(h_desc2)\n",
    "        \n",
    "        h_desc = torch.cat([h_desc1, h_desc2, h_desc3], dim=1)\n",
    "        h_desc = self.dense_desc1(h_desc)\n",
    "        h_desc = F.relu(h_desc)\n",
    "        h_desc = self.dense_desc2(h_desc)\n",
    "        \n",
    "        return h_title, h_desc"
   ]
  },
  {
   "cell_type": "markdown",
   "metadata": {},
   "source": [
    "__ Task 2.2__ Build one network ~~to rule them all~~"
   ]
  },
  {
   "cell_type": "code",
   "execution_count": 25,
   "metadata": {},
   "outputs": [],
   "source": [
    "class FullNetwork(nn.Module):\n",
    "    \"\"\"\n",
    "    This class does all the steps from (title, desc, categorical) features -> predicted target\n",
    "    It unites title & desc encoders you defined above as long as some layers for head and categorical branch.\n",
    "    \"\"\"\n",
    "    \n",
    "    def __init__(self, n_tokens=len(tokens), n_cat_features=len(categorical_vectorizer.vocabulary_)):\n",
    "        super(self.__class__, self).__init__()\n",
    "        \n",
    "        self.text_encoder = TextEncoder(out_title_size=64, out_desc_size=64)\n",
    "        \n",
    "        # define layers for categorical features. A few dense layers would do.\n",
    "        self.cat_lin1 = nn.Linear(n_cat_features, 64)\n",
    "        self.cat_lin2 = nn.Linear(64, 64)\n",
    "        #self.cat_do = nn.Dropout(0.1)\n",
    "        #self.cat_bnorm = nn.BatchNorm1d(64)\n",
    "        # define \"output\" layers that process depend the three encoded vectors into answer\n",
    "        self.all_lin1 = nn.Linear(192, 64)\n",
    "        self.all_lin2 = nn.Linear(64, 1)\n",
    "        self.all_do = nn.Dropout(0.1)\n",
    "        #self.all_bnorm = nn.BatchNorm1d(192)\n",
    "    def forward(self, title_ix, desc_ix, cat_features):\n",
    "        \"\"\"\n",
    "        :param title_ix: int32 Variable [batch, title_len], job titles encoded by as_matrix\n",
    "        :param desc_ix:  int32 Variable [batch, desc_len] , job descriptions encoded by as_matrix\n",
    "        :param cat_features: float32 Variable [batch, n_cat_features]\n",
    "        :returns: float32 Variable 1d [batch], predicted log1p-salary\n",
    "        \"\"\"\n",
    "        \n",
    "        # process each data source with it's respective encoder\n",
    "        title_h, desc_h = self.text_encoder(title_ix, desc_ix)\n",
    "        \n",
    "        # apply categorical encoder\n",
    "        cat_h = self.cat_lin1(cat_features)\n",
    "        #cat_h = self.cat_do(cat_h)\n",
    "        cat_h = F.relu(cat_h)\n",
    "        cat_h = self.cat_lin2(cat_h)\n",
    "        #cat_h = self.cat_bnorm(cat_h)\n",
    "        # concatenate all vectors together...\n",
    "        joint_h = torch.cat([title_h, desc_h, cat_h], dim=1)\n",
    "        \n",
    "        # ... and stack a few more layers at the top\n",
    "        h = self.all_lin1(joint_h)\n",
    "        #h = self.all_do(h)\n",
    "        #h = self.all_bnorm(h)\n",
    "        h = F.relu(h)\n",
    "        # Note 1: do not forget to select first columns, [:, 0], to get to 1d outputs\n",
    "        # Note 2: please do not use output nonlinearities.\n",
    "        \n",
    "        return self.all_lin2(h)[:,0]"
   ]
  },
  {
   "cell_type": "code",
   "execution_count": 26,
   "metadata": {},
   "outputs": [],
   "source": [
    "model = FullNetwork()\n",
    "opt = torch.optim.Adam(model.parameters(), lr=1e-3)"
   ]
  },
  {
   "cell_type": "code",
   "execution_count": 27,
   "metadata": {},
   "outputs": [],
   "source": [
    "# test it on one batch\n",
    "\n",
    "batch = generate_batch(data_train, 32)\n",
    "\n",
    "title_ix = Variable(torch.LongTensor(batch[\"Title\"]))\n",
    "desc_ix = Variable(torch.LongTensor(batch[\"FullDescription\"]))\n",
    "cat_features = Variable(torch.FloatTensor(batch[\"Categorical\"]))\n",
    "reference = Variable(torch.FloatTensor(batch[target_column]))\n",
    "\n",
    "prediction = model(title_ix, desc_ix, cat_features)\n",
    "\n",
    "assert len(prediction.shape) == 1 and prediction.shape[0] == title_ix.shape[0]"
   ]
  },
  {
   "cell_type": "code",
   "execution_count": 28,
   "metadata": {},
   "outputs": [],
   "source": [
    "def compute_loss(reference, prediction):\n",
    "    \"\"\"\n",
    "    Computes objective for minimization.\n",
    "    By deafult we minimize MSE, but you are encouraged to try mix up MSE, MAE, huber loss, etc.\n",
    "    \"\"\"\n",
    "    return torch.mean((prediction - reference) ** 2)\n",
    "\n",
    "def compute_mae(reference, prediction):\n",
    "    \"\"\" Compute MAE on actual salary, assuming your model outputs log1p(salary)\"\"\"\n",
    "    return torch.abs(torch.exp(reference - 1) - torch.exp(prediction - 1)).mean()"
   ]
  },
  {
   "cell_type": "code",
   "execution_count": 29,
   "metadata": {},
   "outputs": [],
   "source": [
    "loss = compute_loss(reference, prediction)\n",
    "dummy_grads = torch.autograd.grad(loss, model.parameters(), retain_graph=True)\n",
    "for grad in dummy_grads:\n",
    "    assert grad is not None and not (grad == 0).all(), \"Some model parameters received zero grads. \" \\\n",
    "                                                       \"Double-check that your model uses all it's layers.\""
   ]
  },
  {
   "cell_type": "markdown",
   "metadata": {},
   "source": [
    "### Let's train it!"
   ]
  },
  {
   "cell_type": "code",
   "execution_count": 30,
   "metadata": {},
   "outputs": [],
   "source": [
    "from tqdm import tnrange\n",
    "def iterate_minibatches(data, batch_size=32, max_len=None,\n",
    "                        max_batches=None, shuffle=True, verbose=True):\n",
    "    indices = np.arange(len(data))\n",
    "    if shuffle:\n",
    "        indices = np.random.permutation(indices)\n",
    "    if max_batches is not None:\n",
    "        indices = indices[: batch_size * max_batches]\n",
    "        \n",
    "    irange = tnrange if verbose else range\n",
    "    \n",
    "    for start in irange(0, len(indices), batch_size):\n",
    "        yield generate_batch(data.iloc[indices[start : start + batch_size]], max_len=max_len)"
   ]
  },
  {
   "cell_type": "code",
   "execution_count": 31,
   "metadata": {},
   "outputs": [],
   "source": [
    "from torch.optim.lr_scheduler import StepLR\n",
    "num_epochs = 90\n",
    "sched1 = StepLR(opt, step_size=60, gamma = 0.1)\n",
    "sched2 = StepLR(opt, step_size=70, gamma = 0.1)\n",
    "sched3 = StepLR(opt, step_size=80, gamma = 0.1)\n",
    "max_len = 100\n",
    "batch_size = 32\n",
    "batches_per_epoch = 150\n",
    "val_batches_limit = 100\n",
    "mae_history_train = []\n",
    "mae_history_val = []\n",
    "loss_history_train = []\n",
    "loss_history_val = []"
   ]
  },
  {
   "cell_type": "code",
   "execution_count": 36,
   "metadata": {},
   "outputs": [
    {
     "data": {
      "image/png": "[encoded data removed]",
      "text/plain": [
       "<Figure size 1008x504 with 1 Axes>"
      ]
     },
     "metadata": {},
     "output_type": "display_data"
    }
   ],
   "source": [
    "from IPython.display import clear_output\n",
    "try:\n",
    "    for epoch_i in range(num_epochs):\n",
    "        sched1.step()\n",
    "        sched2.step()\n",
    "        sched3.step()\n",
    "        print('Training:')\n",
    "        train_loss = train_mae = train_batches = 0    \n",
    "        model.train(True)\n",
    "        for batch in iterate_minibatches(data_train, max_batches=batches_per_epoch):\n",
    "            title_ix = Variable(torch.LongTensor(batch[\"Title\"]))\n",
    "            desc_ix = Variable(torch.LongTensor(batch[\"FullDescription\"]))\n",
    "            cat_features = Variable(torch.FloatTensor(batch[\"Categorical\"]))\n",
    "            reference = Variable(torch.FloatTensor(batch[target_column]))\n",
    "            prediction = model(title_ix, desc_ix, cat_features)\n",
    "\n",
    "            loss = compute_loss(reference, prediction)\n",
    "            loss.backward()\n",
    "            opt.step()\n",
    "            opt.zero_grad()\n",
    "\n",
    "            train_loss += loss.data.numpy()\n",
    "            train_mae += compute_mae(reference, prediction).data.numpy()\n",
    "            train_batches += 1\n",
    "        mae_history_train.append(train_mae / train_batches)\n",
    "        loss_history_train.append(train_loss / train_batches)\n",
    "\n",
    "        print(\"Validation:\")\n",
    "        val_loss = val_mae = val_batches = 0\n",
    "        model.train(False)\n",
    "\n",
    "        for batch in iterate_minibatches(data_val, max_batches=val_batches_limit, shuffle=False):\n",
    "            with torch.no_grad():\n",
    "                title_ix = Variable(torch.LongTensor(batch[\"Title\"]))\n",
    "                desc_ix = Variable(torch.LongTensor(batch[\"FullDescription\"]))\n",
    "                cat_features = Variable(torch.FloatTensor(batch[\"Categorical\"]))\n",
    "                reference = Variable(torch.FloatTensor(batch[target_column]))\n",
    "            prediction = model(title_ix, desc_ix, cat_features)\n",
    "            loss = compute_loss(reference, prediction)\n",
    "\n",
    "            val_loss += loss.data.numpy()\n",
    "            val_mae += compute_mae(reference, prediction).data.numpy()\n",
    "            val_batches += 1\n",
    "        mae_history_val.append(val_mae / val_batches)\n",
    "        loss_history_val.append(val_loss / val_batches)\n",
    "        \n",
    "        clear_output(True)\n",
    "        \n",
    "        plt.figure(figsize=(14, 7))\n",
    "        plt.plot(np.arange(len(loss_history_train)) + 1, loss_history_train, label='loss on training')\n",
    "        plt.plot(np.arange(len(loss_history_val)) + 1, loss_history_val, label='loss on part of validation')\n",
    "        plt.plot(np.arange(len(loss_history_val)) + 1, np.ones(len(loss_history_val)) * 0.07, \n",
    "                 label = 'some baseline (better than loss of basic network)', color = 'darkred')\n",
    "        plt.ylabel('loss')\n",
    "        plt.xlabel('epoch number')\n",
    "        plt.legend()\n",
    "        plt.ylim(0, 0.3)\n",
    "        plt.show()\n",
    "except KeyboardInterrupt:\n",
    "    pass"
   ]
  },
  {
   "cell_type": "code",
   "execution_count": 38,
   "metadata": {},
   "outputs": [
    {
     "data": {
      "image/png": "[encoded data removed]",
      "text/plain": [
       "<Figure size 1008x504 with 1 Axes>"
      ]
     },
     "metadata": {},
     "output_type": "display_data"
    }
   ],
   "source": [
    "plt.figure(figsize=(14, 7))\n",
    "plt.plot(np.arange(len(mae_history_train)) + 1, mae_history_train, label='mae on training')\n",
    "plt.plot(np.arange(len(mae_history_val)) + 1, mae_history_val, label='mae on validation')\n",
    "plt.ylabel('mae')\n",
    "plt.xlabel('epoch number')\n",
    "plt.legend()\n",
    "plt.ylim(2000, 4000)\n",
    "plt.show()"
   ]
  },
  {
   "cell_type": "code",
   "execution_count": 40,
   "metadata": {},
   "outputs": [
    {
     "name": "stdout",
     "output_type": "stream",
     "text": [
      "Final eval:\n"
     ]
    },
    {
     "data": {
      "application/vnd.jupyter.widget-view+json": {
       "model_id": "80fb83237106480691bba2cc32746f94",
       "version_major": 2,
       "version_minor": 0
      },
      "text/plain": [
       "HBox(children=(IntProgress(value=0, max=765), HTML(value='')))"
      ]
     },
     "metadata": {},
     "output_type": "display_data"
    },
    {
     "name": "stdout",
     "output_type": "stream",
     "text": [
      "\n",
      "\tLoss:\t0.05751\n",
      "\tMAE:\t2266.33950\n",
      "\n",
      "\n",
      "\n"
     ]
    }
   ],
   "source": [
    "print(\"Final eval:\")\n",
    "val_loss = val_mae = val_batches = 0\n",
    "model.train(False)\n",
    "\n",
    "for batch in iterate_minibatches(data_val, shuffle=False):\n",
    "    with torch.no_grad():\n",
    "        title_ix = Variable(torch.LongTensor(batch[\"Title\"]))\n",
    "        desc_ix = Variable(torch.LongTensor(batch[\"FullDescription\"]))\n",
    "        cat_features = Variable(torch.FloatTensor(batch[\"Categorical\"]))\n",
    "        reference = Variable(torch.FloatTensor(batch[target_column]))\n",
    "\n",
    "    prediction = model(title_ix, desc_ix, cat_features)\n",
    "    loss = compute_loss(reference, prediction)\n",
    "\n",
    "    val_loss += loss.data.numpy()\n",
    "    val_mae += compute_mae(reference, prediction).data.numpy()\n",
    "    val_batches += 1\n",
    "\n",
    "print(\"\\tLoss:\\t%.5f\" % (val_loss / val_batches))\n",
    "print(\"\\tMAE:\\t%.5f\" % (val_mae / val_batches))\n",
    "print('\\n\\n')"
   ]
  },
  {
   "cell_type": "markdown",
   "metadata": {},
   "source": [
    "### Task 3.2: Actually make it work\n",
    "\n",
    "Your main task is to use some of the tricks you've learned on the network and analyze if you can improve __validation MAE__.\n",
    "\n",
    "Try __at least 3 options__ from the list below for a passing grade. If you're into \n",
    "\n",
    "#### A) CNN architecture\n",
    "\n",
    "All the tricks you know about dense and convolutional neural networks apply here as well.\n",
    "* Dropout. Nuff said.\n",
    "* Batch Norm. This time it's `nn.BatchNorm1d`\n",
    "* Parallel convolution layers. The idea is that you apply several nn.Conv1d to the same embeddings and concatenate output channels.\n",
    "* More layers, more neurons, ya know...\n",
    "\n",
    "\n",
    "#### B) Play with pooling\n",
    "\n",
    "There's more than one way to do max pooling:\n",
    "* Max over time - our `GlobalMaxPooling`\n",
    "* Average over time (excluding PAD)\n",
    "* Softmax-pooling:\n",
    "$$ out_{i, t} = \\sum_t {h_{i,t} \\cdot {{e ^ {h_{i, t}}} \\over \\sum_\\tau e ^ {h_{j, \\tau}} } }$$\n",
    "\n",
    "* Attentive pooling\n",
    "$$ out_{i, t} = \\sum_t {h_{i,t} \\cdot Attn(h_t)}$$\n",
    "\n",
    ", where $$ Attn(h_t) = {{e ^ {NN_{attn}(h_t)}} \\over \\sum_\\tau e ^ {NN_{attn}(h_\\tau)}}  $$\n",
    "and $NN_{attn}$ is a small neural network\n",
    "\n",
    "\n",
    "The optimal score is usually achieved by concatenating several different poolings, including several attentive pooling with different $NN_{attn}$\n",
    "\n",
    "#### C) Fun with embeddings\n",
    "\n",
    "It's not always a good idea to train embeddings from scratch. Here's a few tricks:\n",
    "\n",
    "* Use a pre-trained word2vec from [here](http://ahogrammer.com/2017/01/20/the-list-of-pretrained-word-embeddings/) or [here](http://mccormickml.com/2016/04/12/googles-pretrained-word2vec-model-in-python/).\n",
    "* Start with pre-trained embeddings, then fine-tune them with gradient descent\n",
    "* Use the same embedding matrix in title and desc vectorizer\n",
    "\n",
    "#### D) Going recurrent\n",
    "\n",
    "We've already learned that recurrent networks can do cool stuff in sequence modelling. Turns out, they're not useless for classification as well. With some tricks of course..\n",
    "\n",
    "* Like convolutional layers, LSTM should be pooled into a fixed-size vector with some of the poolings.\n",
    "  * Please bear in mind that while convolution uses [batch, units, time] dim order, \n",
    "    recurrent units are built for [batch, time, unit]. You may need to `torch.transpose`.\n",
    "\n",
    "* Since you know all the text in advance, use bidirectional RNN\n",
    "  * Run one LSTM from left to right\n",
    "  * Run another in parallel from right to left \n",
    "  * Concatenate their output sequences along unit axis (dim=-1)\n",
    "\n",
    "* It might be good idea to mix convolutions and recurrent layers differently for title and description\n",
    "\n",
    "\n",
    "#### E) Optimizing seriously\n",
    "\n",
    "* You don't necessarily need 100 epochs. Use early stopping. If you've never done this before, take a look at [keras](https://github.com/keras-team/keras/blob/master/keras/callbacks.py#L461) for inspiration.\n",
    "  * In short, train until you notice that validation\n",
    "  * Maintain the best-on-validation snapshot via `model.state_dict`\n",
    "  * Plotting learning curves is usually a good idea"
   ]
  },
  {
   "cell_type": "markdown",
   "metadata": {},
   "source": [
    "### A short report\n",
    "\n",
    "Please tell us what you did and how did it work.\n",
    "\n",
    "`<YOUR_TEXT_HERE>`, i guess..."
   ]
  },
  {
   "cell_type": "markdown",
   "metadata": {},
   "source": [
    "# Отчёт.\n",
    "\n",
    "На всех графиках для валидационного множества значения MAE и loss-а считались на первых 100 батчах (достаточно, чтобы видеть примерную картину, но при этом быстрее, чем каждую эпоху прогонять всю валидационную выборку), прошу прощения за опечатку в легенде для MAE. \n",
    "\n",
    "Все финальные значения loss и MAE на валидационном множестве выписывал ручкой на бумажку, ручаюсь за них. Сразу же вставил одноразовое уменьшение lr по расписанию. Только в финальной версии попробовал агрессивный способ, где сеть учится с 4 разными lr.\n",
    "\n",
    "1) В первую очередь я поставил 150 батчей на эпоху (глянул видео семинара и подумал, что надо сделать значение побольше, потом так и оставил). Базовая модель дала в итоге MAE = 2587.67746, loss = 0.07455. \n",
    "\n",
    "2) Сразу попробовал использовать общую матрицу эмбеддингов (TextEncoder) для Title и Description. Это заметно ускорило обучение и дало значения: MAE = 2562.915, loss = 0.07455. Думаю, дело в том, что общая матрица обучается более \"интенсивно\", чем 2 матрицы по отдельности, к тому же матрица эмбеддингов Title будет иметь более скудный \"словарный запас\", что тоже не способствует качественному обучению. Эта идея мне понравилась из остальных больше всего, потому что w2v возвращает векторы фиксированной размерности, да и памяти займёт прилично. А дообучать предобученные эмбеддинги я поленился :), да и показалось, что потихоньку оба варианта начнут сходиться к тому же, да и к тому же в самом конце с общей обучаемой матрицей получился неплохой результат. \n",
    "\n",
    "3) Потом взялся за добавление слоёв, параллельных свёрток, батчнормов и дропаутов. Батч-нормализация почему-то всё портила, loss взлетал, и от неё я сразу отказался (MAE > 3000). Dropout на обучении делал loss и MAE больше, а при .train(False) значения приходили в порядок, но прорыва в повышении качества не было, как и повышения вообще, поэтому я убрал (если смотреть код класса TextEncoder, то там можно увидеть закомменированные слои и их применение). Для обработки категориальных признаков и выходом пулинга я сделал по 2 слоя, между которыми ReLU, вместо одного полносвязного. Этот случай отдельным запуском не проверял, но потом запустил, когда добавил параллельных свёрток для Title и Description (сначала по 2). MAE = 2491.04784, loss = 0.06934. Тут, думается, улучшение качества достигается за счёт различных способов преобразования входной информации параллельными свёртками, которые настраиваются по ходу обучения, ну и учеличение слоёв тоже должно было немного повлиять.\n",
    "\n",
    "4) Реализовал приведённые пулинги (2 attentive - двуслойный и однослойный - вдруг оба пригодятся, большее число слоёв посчитал бессмысленным). Сначала пробовал average, softmax - прорыва в улучшении метрики не было. Но потом, когда взял однослойный attentive pooling для Description - качество выросло до loss=0.064, MAE = 2403.61948. Тут логично, что настраивание весов, с которыми значения суммируются по time, должно положительно влиять на качество.\n",
    "\n",
    "5) В итоговый, который не планировался как итоговый, вариант, добавил для текстовых полей по одной двусторонней однослойной LSTM, для которых применял самый перспективный attentive pooling. Свёртки решил оставить, а также поиграться немного с размером ядра, и на вход линейным слоям приходили конкатенации \"отпулингованных\" выходов и свёрток, и rnn. Пулинги оставил почти все в надежде, что каждый вносит свой вклад в достижение приемлемого качетсва. В результате получились результаты: loss = 0.05751 MAE = 2266.33950. Тут, похоже, всё дело в том, что rnn лучше справляется с обработкой последовательностей. \n",
    "\n",
    "С учётом того, что большинство способ я перепробовал, при этом достиг неплохого улучшения базовой модели, свою задачу я посчитал выполненной. Ещё можно было попробовать БОЛЬШЕ СЛОЁВ ДЛЯ LSTM И ЕЩЁ БОЛЬШЕ НЕЙРОНОВ, но и так сойдет. :)"
   ]
  }
 ],
 "metadata": {
  "anaconda-cloud": {},
  "kernelspec": {
   "display_name": "Python 3",
   "language": "python",
   "name": "python3"
  },
  "language_info": {
   "codemirror_mode": {
    "name": "ipython",
    "version": 3
   },
   "file_extension": ".py",
   "mimetype": "text/x-python",
   "name": "python",
   "nbconvert_exporter": "python",
   "pygments_lexer": "ipython3",
   "version": "3.6.4"
  },
  "widgets": {
   "state": {
    "127e75732de9499a87b8714cded70230": {
     "views": [
      {
       "cell_index": 46
      }
     ]
    },
    "268a8252f2884310bf991a4c128ef997": {
     "views": [
      {
       "cell_index": 49
      }
     ]
    },
    "5079d37cb0644b1d83779cb2347e18fd": {
     "views": [
      {
       "cell_index": 46
      }
     ]
    },
    "fa0eb67a68bf4d4f8a8bc9d004127812": {
     "views": [
      {
       "cell_index": 46
      }
     ]
    }
   },
   "version": "1.2.0"
  }
 },
 "nbformat": 4,
 "nbformat_minor": 2
}

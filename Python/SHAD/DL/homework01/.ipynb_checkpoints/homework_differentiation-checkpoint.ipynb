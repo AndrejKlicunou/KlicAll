{
 "cells": [
  {
   "cell_type": "markdown",
   "metadata": {},
   "source": [
    "# Homework 1: Differentiation"
   ]
  },
  {
   "cell_type": "markdown",
   "metadata": {},
   "source": [
    "Since it easy to google every task please please please try to undestand what's going on. The \"just answer\" thing will be not counted, make sure to present derivation of your solution. It is absolutely OK if you found an answer on web then just exercise in $\\LaTeX$ copying it into here."
   ]
  },
  {
   "cell_type": "markdown",
   "metadata": {},
   "source": [
    "Useful links: \n",
    "[1](http://www.machinelearning.ru/wiki/images/2/2a/Matrix-Gauss.pdf)\n",
    "[2](http://www.atmos.washington.edu/~dennis/MatrixCalculus.pdf)\n",
    "[3](http://cal.cs.illinois.edu/~johannes/research/matrix%20calculus.pdf)\n",
    "[4](http://research.microsoft.com/en-us/um/people/cmbishop/prml/index.htm)"
   ]
  },
  {
   "cell_type": "markdown",
   "metadata": {},
   "source": [
    "## ex. 1"
   ]
  },
  {
   "cell_type": "markdown",
   "metadata": {},
   "source": [
    "$$  \n",
    "y = x^Tx,  \\quad x \\in \\mathbb{R}^N \n",
    "$$"
   ]
  },
  {
   "cell_type": "markdown",
   "metadata": {},
   "source": [
    "$$\n",
    "\\frac{dy}{dx} = \n",
    "$$ "
   ]
  },
  {
   "cell_type": "markdown",
   "metadata": {
    "collapsed": true
   },
   "source": [
    "$$x = (x_1, ..., x_n)^T$$, $$y = x ^ T x = \\sum _{i = 1} ^ n x_i ^ 2 \\Rightarrow \\frac{dy}{dx} = (\\frac{\\partial y}{\\partial x_1}, ..., \\frac{\\partial y}{\\partial x_n})^T = (2x_1, ..., 2x_n)^T = 2x$$."
   ]
  },
  {
   "cell_type": "markdown",
   "metadata": {},
   "source": [
    "## ex. 2"
   ]
  },
  {
   "cell_type": "markdown",
   "metadata": {},
   "source": [
    "$$ y = tr(AB) \\quad A,B \\in \\mathbb{R}^{N \\times N} $$ "
   ]
  },
  {
   "cell_type": "markdown",
   "metadata": {},
   "source": [
    "$$\n",
    "\\frac{dy}{dA} =\n",
    "$$"
   ]
  },
  {
   "cell_type": "markdown",
   "metadata": {
    "collapsed": true
   },
   "source": [
    "$$AB = (c_{ij}), \\hspace{7pt} A = (a_{ij}), \\hspace{7pt} B = (b_{ij})$$\n",
    "$$c_{ij} = \\sum _{k=1} ^ n a_{ik} b_{kj} \\Rightarrow c_{ii} = \\sum _{k=1} ^ n a_{ik} b_{ki}, \\hspace{7pt} i = \\overline{1,n} \\Rightarrow  \\hspace{7pt} y = tr(AB) = \\sum _{i=1} ^ n c_{ii} = \\sum _{i=1} ^n \\sum _{k=1} ^ n a_{ik} b_{ki}$$.\n",
    "$$\\frac{dy}{dA} = (d_{ij}), \\hspace{7pt}d_{ij} = \\frac{\\partial y}{\\partial a_{ij}}, \\hspace{7pt} \\frac{\\partial y}{\\partial a_{ij}} = b_{ji} \\Rightarrow \\frac{dy}{dA} = (b_{ji}) = B^T$$."
   ]
  },
  {
   "cell_type": "markdown",
   "metadata": {},
   "source": [
    "## ex. 3"
   ]
  },
  {
   "cell_type": "markdown",
   "metadata": {},
   "source": [
    "$$  \n",
    "y = x^TAc , \\quad A\\in \\mathbb{R}^{N \\times N}, x\\in \\mathbb{R}^{N}, c\\in \\mathbb{R}^{N} \n",
    "$$"
   ]
  },
  {
   "cell_type": "markdown",
   "metadata": {},
   "source": [
    "$$\n",
    "\\frac{dy}{dx} =\n",
    "$$"
   ]
  },
  {
   "cell_type": "markdown",
   "metadata": {},
   "source": [
    "$$\n",
    "\\frac{dy}{dA} =\n",
    "$$ "
   ]
  },
  {
   "cell_type": "markdown",
   "metadata": {},
   "source": [
    "Hint for the latter (one of the ways): use *ex. 2* result and the fact \n",
    "$$\n",
    "tr(ABC) = tr (CAB)\n",
    "$$"
   ]
  },
  {
   "cell_type": "markdown",
   "metadata": {
    "collapsed": true
   },
   "source": [
    "first way:\n",
    "$$y = \\sum _{i,j=1} ^ n a_{ij}x_ic_j$$.\n",
    "$$\\frac{dy}{dA} = (b_{ij}), \\hspace{7pt} b_{ij} = \\frac{\\partial y}{\\partial a_{ij}} = x_i  c_j \\Rightarrow \\frac{dy}{dA} = xc^T$$\n",
    "$$\\frac{dy}{dx} = (z_i)^T, \\hspace{7pt} z_i = \\frac{\\partial y}{\\partial x_i} = \\sum _{j=1} ^ n a_{ij}c_j$$\n",
    "$$Ac = (\\sum _{j=1} ^ n a_{ij}c_j)^T \\Rightarrow \\frac{dy}{dx} = Ac$$"
   ]
  },
  {
   "cell_type": "markdown",
   "metadata": {},
   "source": [
    "second way:\n",
    "$$tr(x) = x, x \\in \\mathbb{R}, \\hspace{7pt} tr(ABC) = tr(BCA)$$\n",
    "$$y = x^TAc \\in \\mathbb{R} \\Rightarrow y = tr(y) = tr(Acx^T) \\Rightarrow \\frac{dy}{dA} = [ex.2] = (cx^T)^T = xc^T$$\n",
    "\n",
    "$$tr(x) = x = tr(x^T), x \\in \\mathbb{R}, \\hspace{7pt} tr(ABC) = tr(CAB)$$\n",
    "$$y = tr(y^T) = tr(c^TA^Tx) = tr(xc^TA^T) \\Rightarrow \\frac{dy}{dx} = [ex.2] = (c^TA^T)^T = Ac$$"
   ]
  },
  {
   "cell_type": "markdown",
   "metadata": {},
   "source": [
    "## ex. 4"
   ]
  },
  {
   "cell_type": "markdown",
   "metadata": {},
   "source": [
    "Classic matrix factorization example. Given matrix $X$ you need to find $A$, $S$ to approximate $X$. This can be done by simple gradient descent iteratively alternating $A$ and $S$ updates.\n",
    "$$\n",
    "J = || X - AS ||_2^2  , \\quad A\\in \\mathbb{R}^{N \\times R} , \\quad S\\in \\mathbb{R}^{R \\times M}\n",
    "$$\n",
    "$$\n",
    "\\frac{dJ}{dS} = ? \n",
    "$$ "
   ]
  },
  {
   "cell_type": "markdown",
   "metadata": {},
   "source": [
    "### First approach\n",
    "Using ex.2 and the fact:\n",
    "$$\n",
    "|| X ||_2^2 = tr(XX^T) \n",
    "$$ \n",
    "it is easy to derive gradients (you can find it in one of the refs). "
   ]
  },
  {
   "cell_type": "markdown",
   "metadata": {
    "collapsed": true
   },
   "source": [
    "### Second approach\n",
    "You can use *slightly different techniques* if they suits you. Take a look at this derivation:\n",
    "<img src=\"grad.png\">\n",
    "(excerpt from [Handbook of blind source separation, Jutten, page 517](https://books.google.ru/books?id=PTbj03bYH6kC&printsec=frontcover&dq=Handbook+of+Blind+Source+Separation&hl=en&sa=X&ved=0ahUKEwi-q_apiJDLAhULvXIKHVXJDWcQ6AEIHDAA#v=onepage&q=Handbook%20of%20Blind%20Source%20Separation&f=false), open for better picture)."
   ]
  },
  {
   "cell_type": "markdown",
   "metadata": {
    "collapsed": true
   },
   "source": [
    "### Third approach\n",
    "And finally we can use chain rule! **YOUR TURN** to do it.\n",
    "let $ F = AS $ \n",
    "\n",
    "**Find**\n",
    "$$\n",
    "\\frac{dJ}{dF} =  \n",
    "$$ \n",
    "and \n",
    "$$\n",
    "\\frac{dF}{dS} =  \n",
    "$$ \n",
    "(the shape should be $ NM \\times RM )$.\n",
    "\n",
    "Now it is easy do get desired gradients:\n",
    "$$\n",
    "\\frac{dJ}{dS} =  \n",
    "$$ "
   ]
  },
  {
   "cell_type": "markdown",
   "metadata": {},
   "source": [
    "$$\\|X- AS \\|_2^2 = tr((X-AS)(X-AS)^T) = tr((X-AS)(X^T-S^TA^T)) = tr(XX^T - XS^TA^T - ASX^T + ASS^TA^T) = tr(XX^T) - tr(XS^TA^T) - tr(ASX^T) + tr(ASS^TA^T) = [tr(X) = tr(X^T)] = tr(XX^T) - 2tr(ASX^T) + tr(ASS^TA^T).$$\n",
    "\n",
    "$$\\frac{dtr(XX^T)}{dS} = 0$$\n",
    "\n",
    "$$\\frac{dtr(ASX^T)}{dS} = \\frac{dtr(SX^TA)}{DS} = (X^TA)^T = A^TX$$\n",
    "\n",
    "$$\\frac{dtr(ASS^TA^T)}{dS} = [K = AS, Q = S^TA^T] = \\frac{dtr(KS^TA^T)}{dS} + \\frac{dtr(ASQ)}{dS} = A^TAS + A^TAS = 2A^TAS$$\n",
    "\n",
    "$$\\frac{dJ}{dS} = 2A^TAS - 2A^TX = 2A^T(AS-X)$$"
   ]
  },
  {
   "cell_type": "code",
   "execution_count": null,
   "metadata": {
    "collapsed": true
   },
   "outputs": [],
   "source": []
  }
 ],
 "metadata": {
  "kernelspec": {
   "display_name": "Python 3",
   "language": "python",
   "name": "python3"
  },
  "language_info": {
   "codemirror_mode": {
    "name": "ipython",
    "version": 3
   },
   "file_extension": ".py",
   "mimetype": "text/x-python",
   "name": "python",
   "nbconvert_exporter": "python",
   "pygments_lexer": "ipython3",
   "version": "3.5.2"
  }
 },
 "nbformat": 4,
 "nbformat_minor": 1
}

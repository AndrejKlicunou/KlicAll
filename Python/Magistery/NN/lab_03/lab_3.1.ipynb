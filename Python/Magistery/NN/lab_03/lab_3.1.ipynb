{
 "cells": [
  {
   "cell_type": "markdown",
   "metadata": {},
   "source": [
    "# Task 1"
   ]
  },
  {
   "cell_type": "code",
   "execution_count": 6,
   "metadata": {},
   "outputs": [
    {
     "name": "stdout",
     "output_type": "stream",
     "text": [
      "(1, [2, 3, 4])\n",
      "(1, [2, 3], [1, 2, 3])\n",
      "(1, [2, 3], '123')\n",
      "(1, [2, 3, 2, 3])\n"
     ]
    }
   ],
   "source": [
    "a = (1, [2, 3])\n",
    "b = (a[0], a[1] + [4])\n",
    "print(b)\n",
    "c = a + ([1, 2, 3],)\n",
    "print(c)\n",
    "d = a + ('123',)\n",
    "print(d)\n",
    "e = (a[0], a[1] + a[1])\n",
    "print(e)"
   ]
  },
  {
   "cell_type": "markdown",
   "metadata": {},
   "source": [
    "# Task 2"
   ]
  },
  {
   "cell_type": "code",
   "execution_count": 96,
   "metadata": {},
   "outputs": [],
   "source": [
    "def count_common(a, b):\n",
    "    return len(set(a) & set(b))\n",
    "\n",
    "\n",
    "def met_mask(a):\n",
    "    return ['YES' if a.index(a[i]) != i else 'NO' for i in range(len(a))]\n",
    "\n",
    "\n",
    "import numpy as np\n",
    "def generate_input_for_set_manipulations():\n",
    "    with open('input.txt', 'w') as input_fp:\n",
    "        n = np.random.randint(1, 110)\n",
    "        n_seq = np.random.permutation(109)[:n]\n",
    "        m = np.random.randint(1, 110)\n",
    "        m_seq = np.random.permutation(109)[:m]\n",
    "        input_fp.write(f'{n} {m}\\n')\n",
    "        for i in n_seq:\n",
    "            input_fp.write(f'{i}\\n')\n",
    "        for i in m_seq:\n",
    "            input_fp.write(f'{i}\\n')\n",
    "\n",
    "\n",
    "def parse_input_for_set_manipulations():\n",
    "    with open('input.txt', 'r') as input_fp:\n",
    "        lines = input_fp.readlines()\n",
    "        n, m = map(int, lines[0].strip().split(' '))\n",
    "        n_seq = [int(lines[i+1].strip()) for i in range(n)]\n",
    "        m_seq = [int(lines[i+n+1].strip()) for i in range(m)]\n",
    "        return n_seq, m_seq\n",
    "            \n",
    "def set_manipulations(a, b):\n",
    "    return list(sorted(set(a) & set(b))), list(sorted(set(a) - set(b))), list(sorted(set(b) - set(a)))\n",
    "\n",
    "\n",
    "def generate_input_for_number_guessing():\n",
    "    with open('input.txt', 'w') as input_fp:\n",
    "        n = np.random.randint(1, 10 ** 3 + 1)\n",
    "        m = np.random.randint(1, 10 + 1)\n",
    "        input_fp.write(f'{n}\\n')\n",
    "        for i in range(m):\n",
    "            answer_len = np.random.randint(1, 50 + 1)\n",
    "            answer = np.random.permutation(np.arange(1, n+1))[:answer_len]\n",
    "            input_fp.write('{} {}\\n'.format(' '.join(map(str, answer)), np.random.choice(['YES', 'NO'])))\n",
    "\n",
    "\n",
    "def parse_input_for_number_guessing():\n",
    "    with open('input.txt', 'r') as input_fp:\n",
    "        lines = input_fp.readlines()\n",
    "        n = int(lines[0].strip())\n",
    "        answers = [(list(map(int, lines[i].strip().split(' ')[:-1])), \n",
    "                    lines[i].strip().split(' ')[-1]) for i in range(1, len(lines))]\n",
    "        return n, answers\n",
    "    return\n",
    "\n",
    "\n",
    "def guess_number(n, answers):\n",
    "    guess = set(np.arange(1, n+1))\n",
    "    for ans in answers:\n",
    "        if ans[1] == 'YES':\n",
    "            guess = guess & set(ans[0])\n",
    "        elif ans[1] == 'NO':\n",
    "            guess = guess - set(ans[0])\n",
    "    return list(sorted(guess))"
   ]
  },
  {
   "cell_type": "code",
   "execution_count": 11,
   "metadata": {},
   "outputs": [
    {
     "name": "stdout",
     "output_type": "stream",
     "text": [
      "123 23 44 12 33\n",
      "1 2 23 44 1000\n",
      "Common count: 2\n"
     ]
    }
   ],
   "source": [
    "a = list(map(int, input().split(' ')))\n",
    "b = list(map(int, input().split(' ')))\n",
    "print(f'Common count: {count_common(a, b)}')"
   ]
  },
  {
   "cell_type": "code",
   "execution_count": 157,
   "metadata": {},
   "outputs": [
    {
     "name": "stdout",
     "output_type": "stream",
     "text": [
      "213 55 23 55 23 54 213 12222\n",
      "Met elements mask: ['NO', 'NO', 'NO', 'YES', 'YES', 'NO', 'YES', 'NO']\n"
     ]
    }
   ],
   "source": [
    "print('Met elements mask: {}'.format(met_mask(list(map(int, input().split(' '))))))"
   ]
  },
  {
   "cell_type": "code",
   "execution_count": 100,
   "metadata": {},
   "outputs": [
    {
     "name": "stdout",
     "output_type": "stream",
     "text": [
      "Ania colors: [72]\n",
      "\n",
      "Boria colors: [0, 1, 2, 3, 5, 6, 9, 12, 14, 15, 16, 19, 20, 21, 23, 24, 26, 27, 29, 33, 35, 36, 38, 39, 40, 42, 43, 44, 46, 47, 51, 52, 54, 55, 59, 60, 62, 65, 66, 70, 71, 72, 74, 76, 77, 78, 79, 82, 83, 84, 85, 86, 89, 90, 91, 92, 93, 94, 95, 96, 97, 98, 99, 100, 101, 105, 106, 108]\n",
      "\n",
      "Common colors: [72]\n",
      "\n",
      "Ania unique colors: []\n",
      "\n",
      "Boria unique colors: [0, 1, 2, 3, 5, 6, 9, 12, 14, 15, 16, 19, 20, 21, 23, 24, 26, 27, 29, 33, 35, 36, 38, 39, 40, 42, 43, 44, 46, 47, 51, 52, 54, 55, 59, 60, 62, 65, 66, 70, 71, 74, 76, 77, 78, 79, 82, 83, 84, 85, 86, 89, 90, 91, 92, 93, 94, 95, 96, 97, 98, 99, 100, 101, 105, 106, 108]\n",
      "\n"
     ]
    },
    {
     "data": {
      "text/plain": [
       "(1, 68, 1, 0, 67)"
      ]
     },
     "execution_count": 100,
     "metadata": {},
     "output_type": "execute_result"
    }
   ],
   "source": [
    "generate_input_for_set_manipulations()\n",
    "a, b = parse_input_for_set_manipulations()\n",
    "a_and_b, a_minus_b, b_minus_a = set_manipulations(a, b)\n",
    "print(f'Ania colors: {list(sorted(a))}\\n')\n",
    "print(f'Boria colors: {list(sorted(b))}\\n')\n",
    "print(f'Common colors: {a_and_b}\\n')\n",
    "print(f'Ania unique colors: {a_minus_b}\\n')\n",
    "print(f'Boria unique colors: {b_minus_a}\\n')\n",
    "len(a), len(b), len(a_and_b), len(a_minus_b), len(b_minus_a)"
   ]
  },
  {
   "cell_type": "code",
   "execution_count": 48,
   "metadata": {},
   "outputs": [
    {
     "data": {
      "text/plain": [
       "(22, 53, 13, 9, 40)"
      ]
     },
     "execution_count": 48,
     "metadata": {},
     "output_type": "execute_result"
    }
   ],
   "source": []
  },
  {
   "cell_type": "code",
   "execution_count": 98,
   "metadata": {},
   "outputs": [
    {
     "name": "stdout",
     "output_type": "stream",
     "text": [
      "Possible numbers: [2, 19, 21, 24, 25, 31, 37, 43, 57, 59, 84, 98, 108, 110, 127, 130, 133, 143, 149]\n"
     ]
    }
   ],
   "source": [
    "generate_input_for_number_guessing()\n",
    "n, ans = parse_input_for_number_guessing()\n",
    "guess = guess_number(n, ans)\n",
    "print(f'Possible numbers: {guess}')"
   ]
  },
  {
   "cell_type": "markdown",
   "metadata": {},
   "source": [
    "# Task 3"
   ]
  },
  {
   "cell_type": "code",
   "execution_count": 153,
   "metadata": {},
   "outputs": [],
   "source": [
    "def count_entries(words):\n",
    "    return [words[:i].count(words[i]) for i in range(len(words))]\n",
    "\n",
    "def find_in_dict(word):\n",
    "    diction = {}\n",
    "    with open('dict.txt', 'r') as dict_fp:\n",
    "        entries = dict_fp.readlines()\n",
    "        for entry in entries:\n",
    "            diction[entry.strip().split(' ')[0]] = entry.strip().split(' ')[2]\n",
    "            diction[entry.strip().split(' ')[2]] = entry.strip().split(' ')[0]\n",
    "    if word in diction:\n",
    "        return diction[word]\n",
    "    else:\n",
    "        return None\n",
    "    \n",
    "\n",
    "from collections import Counter\n",
    "def parse_words():\n",
    "    with open('input2.txt', 'r') as text_fp:\n",
    "        lines = text_fp.readlines()\n",
    "        n = int(lines[0].strip())\n",
    "        words = []\n",
    "        for i in range(n):\n",
    "            words.extend(list(filter(None, lines[i+1].strip().split(' '))))\n",
    "    return words\n",
    "\n",
    "def most_entries(words):\n",
    "    counts = Counter(words)\n",
    "    most_common_rev = [(-int(item[1]), item[0]) for item in counts.most_common()]\n",
    "    return [(-item[0], item[1]) for item in sorted(most_common_rev)]"
   ]
  },
  {
   "cell_type": "code",
   "execution_count": 108,
   "metadata": {},
   "outputs": [
    {
     "name": "stdout",
     "output_type": "stream",
     "text": [
      "a a a a sdd add \n",
      "Entry number: [0, 1, 2, 3, 0, 0]\n"
     ]
    }
   ],
   "source": [
    "print('Entry number: {}'.format(count_entries(list(filter(None, input().split(' '))))))"
   ]
  },
  {
   "cell_type": "code",
   "execution_count": 129,
   "metadata": {},
   "outputs": [
    {
     "name": "stdout",
     "output_type": "stream",
     "text": [
      "black\n",
      "Synonyme: dark\n"
     ]
    }
   ],
   "source": [
    "print('Synonyme: {}'.format(find_in_dict(input())))"
   ]
  },
  {
   "cell_type": "code",
   "execution_count": 154,
   "metadata": {},
   "outputs": [
    {
     "name": "stdout",
     "output_type": "stream",
     "text": [
      "Most frequent word: of. Number of occurences: 17\n"
     ]
    }
   ],
   "source": [
    "words = parse_words()\n",
    "most = most_entries(words)\n",
    "print(f'Most frequent word: {most[0][1]}. Number of occurences: {most[0][0]}')"
   ]
  },
  {
   "cell_type": "code",
   "execution_count": 155,
   "metadata": {},
   "outputs": [
    {
     "name": "stdout",
     "output_type": "stream",
     "text": [
      "(17, 'of')\n",
      "(14, 'the')\n",
      "(11, 'was')\n",
      "(11, 'were')\n",
      "(9, 'and')\n",
      "(7, 'The')\n",
      "(6, 'age')\n",
      "(6, 'from')\n",
      "(6, 'or')\n",
      "(6, 'town')\n",
      "(4, '18')\n",
      "(4, 'a')\n",
      "(4, 'for')\n",
      "(4, 'had')\n",
      "(4, 'income')\n",
      "(4, 'median')\n",
      "(4, 'population')\n",
      "(3, 'American')\n",
      "(3, 'average')\n",
      "(3, 'females')\n",
      "(3, 'living')\n",
      "(3, 'per')\n",
      "(3, 'races')\n",
      "(3, 'there')\n",
      "(3, 'to')\n",
      "(3, 'with')\n",
      "(3, 'years')\n",
      "(2, '100')\n",
      "(2, '170%')\n",
      "(2, '65')\n",
      "(2, 'Asian')\n",
      "(2, 'For')\n",
      "(2, 'Hispanic')\n",
      "(2, 'Latino')\n",
      "(2, 'Native')\n",
      "(2, 'There')\n",
      "(2, 'White')\n",
      "(2, 'any')\n",
      "(2, 'density')\n",
      "(2, 'every')\n",
      "(2, 'family')\n",
      "(2, 'household')\n",
      "(2, 'households')\n",
      "(2, 'in')\n",
      "(2, 'makeup')\n",
      "(2, 'males')\n",
      "(2, 'mile')\n",
      "(2, 'more')\n",
      "(2, 'older')\n",
      "(2, 'out')\n",
      "(2, 'people')\n",
      "(2, 'race')\n",
      "(2, 'racial')\n",
      "(2, 'size')\n",
      "(2, 'square')\n",
      "(2, 'two')\n",
      "(2, 'under')\n",
      "(2, 'who')\n",
      "(1, '$12153')\n",
      "(1, '$15870')\n",
      "(1, '$20000')\n",
      "(1, '$24329')\n",
      "(1, '$28500')\n",
      "(1, '(1569/km²)')\n",
      "(1, '(3564/km²)')\n",
      "(1, '003%')\n",
      "(1, '028%')\n",
      "(1, '048%')\n",
      "(1, '07%')\n",
      "(1, '1073')\n",
      "(1, '108%')\n",
      "(1, '1272')\n",
      "(1, '15%')\n",
      "(1, '156%')\n",
      "(1, '180%')\n",
      "(1, '190%')\n",
      "(1, '2010')\n",
      "(1, '209%')\n",
      "(1, '237%')\n",
      "(1, '239%')\n",
      "(1, '24')\n",
      "(1, '241')\n",
      "(1, '25')\n",
      "(1, '26%')\n",
      "(1, '265%')\n",
      "(1, '28%')\n",
      "(1, '284%')\n",
      "(1, '2853')\n",
      "(1, '314')\n",
      "(1, '322%')\n",
      "(1, '346%')\n",
      "(1, '348%')\n",
      "(1, '355%')\n",
      "(1, '36')\n",
      "(1, '383%')\n",
      "(1, '4065')\n",
      "(1, '44')\n",
      "(1, '443%')\n",
      "(1, '45')\n",
      "(1, '4742%')\n",
      "(1, '481%')\n",
      "(1, '4818%')\n",
      "(1, '64')\n",
      "(1, '763')\n",
      "(1, '824')\n",
      "(1, '9234')\n",
      "(1, 'About')\n",
      "(1, 'African')\n",
      "(1, 'As')\n",
      "(1, 'Black')\n",
      "(1, 'Census')\n",
      "(1, 'In')\n",
      "(1, 'Islander')\n",
      "(1, 'Males')\n",
      "(1, 'Pacific')\n",
      "(1, 'States')\n",
      "(1, 'United')\n",
      "(1, 'all')\n",
      "(1, 'alone')\n",
      "(1, 'an')\n",
      "(1, 'at')\n",
      "(1, 'capita')\n",
      "(1, 'children')\n",
      "(1, 'couples')\n",
      "(1, 'families')\n",
      "(1, 'female')\n",
      "(1, 'householder')\n",
      "(1, 'housing')\n",
      "(1, 'husband')\n",
      "(1, 'individuals')\n",
      "(1, 'made')\n",
      "(1, 'married')\n",
      "(1, 'no')\n",
      "(1, 'non-families')\n",
      "(1, 'other')\n",
      "(1, 'over')\n",
      "(1, 'present')\n",
      "(1, 'residing')\n",
      "(1, 'someone')\n",
      "(1, 'spread')\n",
      "(1, 'them')\n",
      "(1, 'together')\n",
      "(1, 'units')\n",
      "(1, 'up')\n",
      "(1, 'versus')\n",
      "(1, 'which')\n"
     ]
    }
   ],
   "source": [
    "for m in most:\n",
    "    print(m)"
   ]
  },
  {
   "cell_type": "code",
   "execution_count": null,
   "metadata": {},
   "outputs": [],
   "source": []
  }
 ],
 "metadata": {
  "kernelspec": {
   "display_name": "Python 3",
   "language": "python",
   "name": "python3"
  },
  "language_info": {
   "codemirror_mode": {
    "name": "ipython",
    "version": 3
   },
   "file_extension": ".py",
   "mimetype": "text/x-python",
   "name": "python",
   "nbconvert_exporter": "python",
   "pygments_lexer": "ipython3",
   "version": "3.6.6"
  }
 },
 "nbformat": 4,
 "nbformat_minor": 2
}

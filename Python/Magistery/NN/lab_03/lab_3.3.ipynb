{
 "cells": [
  {
   "cell_type": "markdown",
   "metadata": {},
   "source": [
    "# Task 1"
   ]
  },
  {
   "cell_type": "code",
   "execution_count": 16,
   "metadata": {},
   "outputs": [],
   "source": [
    "def print_group():\n",
    "    with open('group.txt', 'r') as group_fp:\n",
    "        print(group_fp.read())\n",
    "        \n",
    "def print_group_with_number():\n",
    "    with open('group.txt', 'r') as group_fp:\n",
    "        i = 1\n",
    "        for line in group_fp:\n",
    "            print(f'{i}. {line.strip()}')\n",
    "            i += 1\n",
    "            \n",
    "def print_group_with_names():\n",
    "    with open('group_names.txt', 'r') as group_fp:\n",
    "        print(group_fp.read())\n",
    "        \n",
    "def print_group_with_name_first_letter_only():\n",
    "    with open('group_names.txt', 'r') as group_fp:\n",
    "        for name in group_fp:\n",
    "            surname, name = name.strip().split(' ')\n",
    "            print(f'{surname} {name[0]}.')"
   ]
  },
  {
   "cell_type": "code",
   "execution_count": 14,
   "metadata": {},
   "outputs": [
    {
     "name": "stdout",
     "output_type": "stream",
     "text": [
      "Babich\n",
      "Kapeika\n",
      "Klitsunou\n",
      "Matskevich\n",
      "Piasetski\n",
      "Ruskevich\n",
      "Sun\n",
      "\n"
     ]
    }
   ],
   "source": [
    "print_group()"
   ]
  },
  {
   "cell_type": "code",
   "execution_count": 12,
   "metadata": {},
   "outputs": [
    {
     "name": "stdout",
     "output_type": "stream",
     "text": [
      "1. Babich\n",
      "2. Kapeika\n",
      "3. Klitsunou\n",
      "4. Matskevich\n",
      "5. Piasetski\n",
      "6. Ruskevich\n",
      "7. Sun\n"
     ]
    }
   ],
   "source": [
    "print_group_with_number()"
   ]
  },
  {
   "cell_type": "code",
   "execution_count": 15,
   "metadata": {},
   "outputs": [
    {
     "name": "stdout",
     "output_type": "stream",
     "text": [
      "Babich Raman\n",
      "Kapeika Uladzimir\n",
      "Klitsunou Andrei\n",
      "Matskevich Vadzim\n",
      "Piasetski Artsiom\n",
      "Ruskevich Anastasiya\n",
      "Sun Moqi\n",
      "\n"
     ]
    }
   ],
   "source": [
    "print_group_with_names()"
   ]
  },
  {
   "cell_type": "code",
   "execution_count": 17,
   "metadata": {},
   "outputs": [
    {
     "name": "stdout",
     "output_type": "stream",
     "text": [
      "Babich R.\n",
      "Kapeika U.\n",
      "Klitsunou A.\n",
      "Matskevich V.\n",
      "Piasetski A.\n",
      "Ruskevich A.\n",
      "Sun M.\n"
     ]
    }
   ],
   "source": [
    "print_group_with_name_first_letter_only()"
   ]
  },
  {
   "cell_type": "markdown",
   "metadata": {},
   "source": [
    "# Task 2"
   ]
  },
  {
   "cell_type": "code",
   "execution_count": 39,
   "metadata": {},
   "outputs": [
    {
     "name": "stdout",
     "output_type": "stream",
     "text": [
      "Defined varialbes: ['In', 'Out', '_', '_1', '_20', '_31', '__', '___', '__builtin__', '__builtins__', '__doc__', '__loader__', '__name__', '__package__', '__spec__', '_dh', '_i', '_i1', '_i10', '_i11', '_i12', '_i13', '_i14', '_i15', '_i16', '_i17', '_i18', '_i19', '_i2', '_i20', '_i21', '_i22', '_i23', '_i24', '_i25', '_i26', '_i27', '_i28', '_i29', '_i3', '_i30', '_i31', '_i32', '_i33', '_i34', '_i35', '_i36', '_i37', '_i38', '_i39', '_i4', '_i5', '_i6', '_i7', '_i8', '_i9', '_ih', '_ii', '_iii', '_oh', 'a', 'calc_log', 'exit', 'four_random_uniform', 'get_ipython', 'np', 'print_group', 'print_group_with_name_first_letter_only', 'print_group_with_names', 'print_group_with_number', 'print_variables', 'quit']\n"
     ]
    }
   ],
   "source": [
    "from module import calc_log, four_random_uniform\n",
    "\n",
    "print(f'Defined varialbes: {dir()}')"
   ]
  },
  {
   "cell_type": "code",
   "execution_count": 40,
   "metadata": {},
   "outputs": [
    {
     "name": "stdout",
     "output_type": "stream",
     "text": [
      "Log 2 by base 15: 0.2559580248098155\n"
     ]
    }
   ],
   "source": [
    "print(f'Log 2 by base 15: {calc_log(2, 15)}')"
   ]
  },
  {
   "cell_type": "code",
   "execution_count": 41,
   "metadata": {},
   "outputs": [
    {
     "name": "stdout",
     "output_type": "stream",
     "text": [
      "Four random number with standard uniform distribution: [0.91819956 0.09975514 0.82454827 0.79126801]\n"
     ]
    }
   ],
   "source": [
    "print(f'Four random number with standard uniform distribution: {four_random_uniform()}')"
   ]
  },
  {
   "cell_type": "code",
   "execution_count": null,
   "metadata": {},
   "outputs": [],
   "source": []
  }
 ],
 "metadata": {
  "kernelspec": {
   "display_name": "Python 3",
   "language": "python",
   "name": "python3"
  },
  "language_info": {
   "codemirror_mode": {
    "name": "ipython",
    "version": 3
   },
   "file_extension": ".py",
   "mimetype": "text/x-python",
   "name": "python",
   "nbconvert_exporter": "python",
   "pygments_lexer": "ipython3",
   "version": "3.6.6"
  }
 },
 "nbformat": 4,
 "nbformat_minor": 2
}

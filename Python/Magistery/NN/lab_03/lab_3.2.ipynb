{
 "cells": [
  {
   "cell_type": "code",
   "execution_count": 62,
   "metadata": {},
   "outputs": [],
   "source": [
    "import numpy as np\n",
    "def distance(x1, y1, x2, y2):\n",
    "    return np.sqrt((x1 - x2) * (x1 - x2) + (y1 - y2) * (y1 - y2))\n",
    "\n",
    "def power(a, n):\n",
    "    result = 1.0\n",
    "    if n > 0:\n",
    "        for i in range(n):\n",
    "            result *= a\n",
    "    else:\n",
    "        for i in range(-n):\n",
    "            result /= a\n",
    "    return result\n",
    "\n",
    "\n",
    "def capitalize(word):\n",
    "    return word[0].upper() + word[1:]\n",
    "\n",
    "def custom_max(*args):\n",
    "    if len(args) == 0:\n",
    "        return None\n",
    "    result = args[0]\n",
    "    for i in range(1, len(args)):\n",
    "        if args[i] > result:\n",
    "            result = args[i]\n",
    "    return result\n",
    "\n",
    "\n",
    "def distance_handling(x1, y1, x2, y2):\n",
    "    try:\n",
    "        return np.sqrt((x1 - x2) * (x1 - x2) + (y1 - y2) * (y1 - y2))\n",
    "    except AttributeError as e:\n",
    "        print(f'AttributeError: {e}')\n",
    "    except TypeError as e:\n",
    "        print(f'TypeError: {e}')\n",
    "    except Exception as e:\n",
    "        print(f'Exception: {e}')\n",
    "\n"
   ]
  },
  {
   "cell_type": "code",
   "execution_count": 5,
   "metadata": {},
   "outputs": [
    {
     "name": "stdout",
     "output_type": "stream",
     "text": [
      "2.1 22 0.1 20\n",
      "Euclidean distance: 2.8284271247461903\n"
     ]
    }
   ],
   "source": [
    "print('Euclidean distance: {}'.format(distance(*map(float, input().split(' ')))))"
   ]
  },
  {
   "cell_type": "code",
   "execution_count": 15,
   "metadata": {},
   "outputs": [
    {
     "name": "stdout",
     "output_type": "stream",
     "text": [
      "a:0.2\n",
      "n:-2\n",
      "a^n: 25.0\n"
     ]
    }
   ],
   "source": [
    "a = float(input('a:'))\n",
    "n = int(input('n:'))\n",
    "print(f'a^n: {power(a, n)}')"
   ]
  },
  {
   "cell_type": "code",
   "execution_count": 18,
   "metadata": {},
   "outputs": [
    {
     "name": "stdout",
     "output_type": "stream",
     "text": [
      "wqe er ewr df df ekfrp o . wrelp ler .  welpor \n",
      "Capitalized words: ['Wqe', 'Er', 'Ewr', 'Df', 'Df', 'Ekfrp', 'O', '.', 'Wrelp', 'Ler', '.', 'Welpor']\n"
     ]
    }
   ],
   "source": [
    "print('Capitalized words: {}'.format([capitalize(word) for word in list(filter(None, input().split(' ')))]))"
   ]
  },
  {
   "cell_type": "code",
   "execution_count": 30,
   "metadata": {},
   "outputs": [
    {
     "name": "stdout",
     "output_type": "stream",
     "text": [
      "34 3.23 32. 23.32 4 34 \n",
      "Max value: 34.0\n"
     ]
    }
   ],
   "source": [
    "print('Max value: {}'.format(custom_max(*map(float, list(filter(None, input().split(' ')))))))"
   ]
  },
  {
   "cell_type": "code",
   "execution_count": 61,
   "metadata": {},
   "outputs": [
    {
     "name": "stdout",
     "output_type": "stream",
     "text": [
      "AttributeError: 'int' object has no attribute 'sqrt'\n"
     ]
    }
   ],
   "source": [
    "a = distance_handling(1, 100000000000, 1, 1)"
   ]
  }
 ],
 "metadata": {
  "kernelspec": {
   "display_name": "Python 3",
   "language": "python",
   "name": "python3"
  },
  "language_info": {
   "codemirror_mode": {
    "name": "ipython",
    "version": 3
   },
   "file_extension": ".py",
   "mimetype": "text/x-python",
   "name": "python",
   "nbconvert_exporter": "python",
   "pygments_lexer": "ipython3",
   "version": "3.6.6"
  }
 },
 "nbformat": 4,
 "nbformat_minor": 2
}

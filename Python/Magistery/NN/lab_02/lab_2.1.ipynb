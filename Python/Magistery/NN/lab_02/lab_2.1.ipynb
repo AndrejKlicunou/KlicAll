{
 "cells": [
  {
   "cell_type": "markdown",
   "metadata": {},
   "source": [
    "# Task 1"
   ]
  },
  {
   "cell_type": "code",
   "execution_count": 33,
   "metadata": {},
   "outputs": [],
   "source": [
    "def max3(a, b, c):\n",
    "    return max(max(a,b), c)\n",
    "\n",
    "\n",
    "def equal_count(a, b, c):\n",
    "    if a == b and b == c:\n",
    "        return 3\n",
    "    if a == b or b == c or a == c:\n",
    "        return 2\n",
    "    return 0\n",
    "\n",
    "\n",
    "def is_bissextile(year):\n",
    "    if year % 100 != 0 and year % 4 == 0:\n",
    "        return True\n",
    "    if year % 100 == 0 and year % 400 == 0:\n",
    "        return True\n",
    "    return False\n",
    "\n",
    "\n",
    "def is_reachable_by_rook(x1, y1, x2, y2):\n",
    "    return x1 == x2 or y1 == y2"
   ]
  },
  {
   "cell_type": "code",
   "execution_count": 34,
   "metadata": {},
   "outputs": [
    {
     "name": "stdout",
     "output_type": "stream",
     "text": [
      "1 2 3\n",
      "Max number: 3.0\n"
     ]
    }
   ],
   "source": [
    "print('Max number: {}'.format(max3(*map(float, input().split(' ')))))"
   ]
  },
  {
   "cell_type": "code",
   "execution_count": 78,
   "metadata": {},
   "outputs": [
    {
     "name": "stdout",
     "output_type": "stream",
     "text": [
      "12 12 22\n",
      "Equal count: 2\n"
     ]
    }
   ],
   "source": [
    "print('Equal count: {}'.format(equal_count(*map(float, input().split(' ')))))"
   ]
  },
  {
   "cell_type": "code",
   "execution_count": 26,
   "metadata": {},
   "outputs": [
    {
     "name": "stdout",
     "output_type": "stream",
     "text": [
      "2001\n",
      "Is bissextile: False\n"
     ]
    }
   ],
   "source": [
    "print('Is bissextile: {}'.format(is_bissextile(*map(int, input().split(' ')))))"
   ]
  },
  {
   "cell_type": "code",
   "execution_count": 37,
   "metadata": {},
   "outputs": [
    {
     "name": "stdout",
     "output_type": "stream",
     "text": [
      "1 2 2 3\n",
      "Is reachable by chess rook: False\n"
     ]
    }
   ],
   "source": [
    "print('Is reachable by chess rook: {}'.format(is_reachable_by_rook(*map(int, input().split(' ')))))"
   ]
  },
  {
   "cell_type": "markdown",
   "metadata": {},
   "source": [
    "# Task 2"
   ]
  },
  {
   "cell_type": "code",
   "execution_count": 50,
   "metadata": {},
   "outputs": [],
   "source": [
    "def min_divisor(a):\n",
    "    for i in range(2, a + 1):\n",
    "        if a % i == 0:\n",
    "            return i\n",
    "\n",
    "        \n",
    "def run_days(x, y):\n",
    "    dist_sum = 0\n",
    "    n_days = 0\n",
    "    day_dist = x\n",
    "    while dist_sum < y:\n",
    "        dist_sum += day_dist\n",
    "        day_dist *= 1.1\n",
    "        n_days += 1\n",
    "    return n_days\n",
    "\n",
    "\n",
    "def passive_money(x, y, p):\n",
    "    x_cur = x\n",
    "    n_years = 0\n",
    "    while x_cur < y:\n",
    "        x_cur *= (1.0 + p / 100)\n",
    "        x_cur = x_cur * 100 // 1 / 100\n",
    "        n_years += 1\n",
    "    return n_years\n",
    "\n",
    "\n",
    "def get_fibonacci_index(x):\n",
    "    phi_prev = 0\n",
    "    phi_cur = 1\n",
    "    index = 2\n",
    "    while phi_cur < x:\n",
    "        phi_new = phi_prev + phi_cur\n",
    "        phi_prev = phi_cur\n",
    "        phi_cur = phi_new\n",
    "        index += 1\n",
    "    if phi_cur == x:\n",
    "        return index\n",
    "    else:\n",
    "        return -1"
   ]
  },
  {
   "cell_type": "code",
   "execution_count": 42,
   "metadata": {},
   "outputs": [
    {
     "name": "stdout",
     "output_type": "stream",
     "text": [
      "7\n",
      "Min nontrivial divisor: 7\n"
     ]
    }
   ],
   "source": [
    "print('Min nontrivial divisor: {}'.format(min_divisor(*map(int, input().split(' ')))))"
   ]
  },
  {
   "cell_type": "code",
   "execution_count": 44,
   "metadata": {},
   "outputs": [
    {
     "name": "stdout",
     "output_type": "stream",
     "text": [
      "10 100\n",
      "Runnings days: 8\n"
     ]
    }
   ],
   "source": [
    "print('Runnings days: {}'.format(run_days(*map(float, input().split(' ')))))"
   ]
  },
  {
   "cell_type": "code",
   "execution_count": 49,
   "metadata": {},
   "outputs": [
    {
     "name": "stdout",
     "output_type": "stream",
     "text": [
      "8 27 50\n",
      "Years to reach y money: 3\n"
     ]
    }
   ],
   "source": [
    "print('Years to reach y money: {}'.format(passive_money(*map(int, input().split(' ')))))"
   ]
  },
  {
   "cell_type": "code",
   "execution_count": 80,
   "metadata": {},
   "outputs": [
    {
     "name": "stdout",
     "output_type": "stream",
     "text": [
      "7\n",
      "Fibonacci index: -1\n"
     ]
    }
   ],
   "source": [
    "print('Fibonacci index: {}'.format(get_fibonacci_index(*map(int, input().split(' ')))))"
   ]
  },
  {
   "cell_type": "markdown",
   "metadata": {},
   "source": [
    "# Task 3"
   ]
  },
  {
   "cell_type": "code",
   "execution_count": 10,
   "metadata": {},
   "outputs": [],
   "source": [
    "def get_last_digit(x):\n",
    "    return x % 10\n",
    "\n",
    "\n",
    "def get_fractional_part(x):\n",
    "    if '.' not in x:\n",
    "        return \".0\"\n",
    "    parts = x.split('.')\n",
    "    return f'.{parts[1]}'\n",
    "\n",
    "\n",
    "def get_first_after_dot(x):\n",
    "    return int((x * 10 // 1) % 10)\n",
    "\n",
    "\n",
    "def custom_round(x):\n",
    "    if get_fractional_part(x) > 0.5 or abs(get_fractional_part(x) - 0.5) < 1e-10:\n",
    "        return x // 1 + 1\n",
    "    else:\n",
    "        return x // 1"
   ]
  },
  {
   "cell_type": "code",
   "execution_count": 11,
   "metadata": {},
   "outputs": [
    {
     "name": "stdout",
     "output_type": "stream",
     "text": [
      "123\n",
      "Last digit: 3\n"
     ]
    }
   ],
   "source": [
    "print('Last digit: {}'.format(get_last_digit(*map(int, input().split(' ')))))"
   ]
  },
  {
   "cell_type": "code",
   "execution_count": 14,
   "metadata": {},
   "outputs": [
    {
     "name": "stdout",
     "output_type": "stream",
     "text": [
      "2.5151\n",
      "Fractional part: .5151\n"
     ]
    }
   ],
   "source": [
    "print('Fractional part: {}'.format(get_fractional_part(input())))"
   ]
  },
  {
   "cell_type": "code",
   "execution_count": 67,
   "metadata": {},
   "outputs": [
    {
     "name": "stdout",
     "output_type": "stream",
     "text": [
      ".23\n",
      "First digit after dot: 2\n"
     ]
    }
   ],
   "source": [
    "print('First digit after dot: {}'.format(get_first_after_dot(*map(float, input().split(' ')))))"
   ]
  },
  {
   "cell_type": "code",
   "execution_count": 76,
   "metadata": {},
   "outputs": [
    {
     "name": "stdout",
     "output_type": "stream",
     "text": [
      "2.51\n",
      "Rounded number: 3.0\n"
     ]
    }
   ],
   "source": [
    "print('Rounded number: {}'.format(custom_round(*map(float, input().split(' ')))))"
   ]
  }
 ],
 "metadata": {
  "kernelspec": {
   "display_name": "Python 3",
   "language": "python",
   "name": "python3"
  },
  "language_info": {
   "codemirror_mode": {
    "name": "ipython",
    "version": 3
   },
   "file_extension": ".py",
   "mimetype": "text/x-python",
   "name": "python",
   "nbconvert_exporter": "python",
   "pygments_lexer": "ipython3",
   "version": "3.6.6"
  }
 },
 "nbformat": 4,
 "nbformat_minor": 2
}

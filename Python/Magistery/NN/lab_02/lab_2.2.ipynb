{
 "cells": [
  {
   "cell_type": "markdown",
   "metadata": {},
   "source": [
    "# Task 4"
   ]
  },
  {
   "cell_type": "code",
   "execution_count": 8,
   "metadata": {},
   "outputs": [],
   "source": [
    "def count_words(s):\n",
    "    return s.count(' ') + 1\n",
    "\n",
    "def swap_two_words(s):\n",
    "    return ' '.join(reversed(s.split(' ')))\n",
    "\n",
    "def replace_one_numbers_to_words(s):\n",
    "    return s.replace('1', 'one')"
   ]
  },
  {
   "cell_type": "code",
   "execution_count": 3,
   "metadata": {},
   "outputs": [
    {
     "name": "stdout",
     "output_type": "stream",
     "text": [
      "sef e er er\n",
      "Words count: 4\n"
     ]
    }
   ],
   "source": [
    "print('Words count: {}'.format(count_words(input())))"
   ]
  },
  {
   "cell_type": "code",
   "execution_count": 7,
   "metadata": {},
   "outputs": [
    {
     "name": "stdout",
     "output_type": "stream",
     "text": [
      "ewrewre ererewr\n",
      "Reversed two word sequence: ererewr ewrewre\n"
     ]
    }
   ],
   "source": [
    "print('Reversed two word sequence: {}'.format(swap_two_words(input())))"
   ]
  },
  {
   "cell_type": "code",
   "execution_count": 9,
   "metadata": {},
   "outputs": [
    {
     "name": "stdout",
     "output_type": "stream",
     "text": [
      "34111sdflsdfj134 . \n",
      "String after 1 -> one: 34oneoneonesdflsdfjone34 . \n"
     ]
    }
   ],
   "source": [
    "print('String after 1 -> one: {}'.format(replace_one_numbers_to_words(input())))"
   ]
  },
  {
   "cell_type": "markdown",
   "metadata": {},
   "source": [
    "# Task 5"
   ]
  },
  {
   "cell_type": "code",
   "execution_count": 16,
   "metadata": {},
   "outputs": [],
   "source": [
    "def get_by_even_indices(iterable):\n",
    "    return iterable[::2]\n",
    "\n",
    "\n",
    "def get_greater_than_prev(iterable):\n",
    "    result = []\n",
    "    for i in range(len(iterable)):\n",
    "        if i > 0 and iterable[i] > iterable[i-1]:\n",
    "            result.append(iterable[i])\n",
    "    return result\n",
    "\n",
    "\n",
    "def get_hill_count(iterable):\n",
    "    count = 0\n",
    "    for i in range(len(iterable)):\n",
    "        if i > 0 and i < len(iterable) - 1 and iterable[i] > iterable[i-1] and iterable[i] > iterable[i+1]:\n",
    "            count += 1\n",
    "    return count"
   ]
  },
  {
   "cell_type": "code",
   "execution_count": 12,
   "metadata": {},
   "outputs": [
    {
     "name": "stdout",
     "output_type": "stream",
     "text": [
      "22 22 3 4 4 4\n",
      "Items by even indexes: ['22', '3', '4']\n"
     ]
    }
   ],
   "source": [
    "print('Items by even indexes: {}'.format(get_by_even_indices(input().split(' '))))"
   ]
  },
  {
   "cell_type": "code",
   "execution_count": 15,
   "metadata": {},
   "outputs": [
    {
     "name": "stdout",
     "output_type": "stream",
     "text": [
      "12 22 221 2222 2331 22 22 334\n",
      "Greater than previous: [22.0, 221.0, 2222.0, 2331.0, 334.0]\n"
     ]
    }
   ],
   "source": [
    "print('Greater than previous: {}'.format(get_greater_than_prev(list(map(float, input().split(' '))))))"
   ]
  },
  {
   "cell_type": "code",
   "execution_count": 55,
   "metadata": {},
   "outputs": [
    {
     "name": "stdout",
     "output_type": "stream",
     "text": [
      "344 223 11 222 33 2222 2\n",
      "Greater than both neighbors count: 2\n"
     ]
    }
   ],
   "source": [
    "print('Greater than both neighbors count: {}'.format(get_hill_count(list(map(float, input().split(' '))))))"
   ]
  },
  {
   "cell_type": "markdown",
   "metadata": {},
   "source": [
    "# Task 6"
   ]
  },
  {
   "cell_type": "code",
   "execution_count": 51,
   "metadata": {},
   "outputs": [],
   "source": [
    "import numpy as np\n",
    "def count_vowels_and_consonants(s):\n",
    "    n_alphas = list(map(lambda x: x.isalpha(), s.lower())).count(True)\n",
    "    n_vovels = np.sum(list(map(s.lower().count, \"aeiou\")))\n",
    "    return (n_vovels, n_alphas - n_vovels)\n",
    "\n",
    "\n",
    "def extract_sentence_words(sentence):\n",
    "    words = sentence[:len(sentence)-1].split(' ')\n",
    "    for i in range(len(words)):\n",
    "        words[i] = words[i][0].upper() + words[i][1:] + '.'\n",
    "    return words\n",
    "\n",
    "\n",
    "from collections import Counter\n",
    "def count_letters(s):\n",
    "    a = Counter()\n",
    "    s_letters = [char for char in s.lower() if char.isalpha()]\n",
    "    a.update(s_letters)\n",
    "    return a\n",
    "\n",
    "\n",
    "def count_with_equal_begin_and_end(s):\n",
    "    words = s.split(' ')\n",
    "    return list(map(lambda x: len(x) > 0 and x[0] == x[-1], words)).count(True)\n",
    "\n",
    "\n",
    "def zeros_to_end(items):\n",
    "    nonzeros = [item for item in items if item != 0]\n",
    "    zeros = [0 for i in range(len(items) - len(nonzeros))]\n",
    "    return nonzeros + zeros\n",
    "\n",
    "\n",
    "def even_positives(items):\n",
    "    return [items[i] for i in range(0, len(items), 2) if items[i] > 0]"
   ]
  },
  {
   "cell_type": "code",
   "execution_count": 30,
   "metadata": {},
   "outputs": [
    {
     "name": "stdout",
     "output_type": "stream",
     "text": [
      "we\n",
      "Vovels: 1, consonants: 1\n"
     ]
    }
   ],
   "source": [
    "print('Vovels: {}, consonants: {}'.format(*count_vowels_and_consonants(input())))"
   ]
  },
  {
   "cell_type": "code",
   "execution_count": 34,
   "metadata": {},
   "outputs": [
    {
     "name": "stdout",
     "output_type": "stream",
     "text": [
      "dff fd er dffdghs.\n",
      "Sentence wwords: ['Dff.', 'Fd.', 'Er.', 'Dffdghs.']\n"
     ]
    }
   ],
   "source": [
    "print('Sentence words: {}'.format(extract_sentence_words(input())))"
   ]
  },
  {
   "cell_type": "code",
   "execution_count": 38,
   "metadata": {},
   "outputs": [
    {
     "name": "stdout",
     "output_type": "stream",
     "text": [
      "asdf er EE \n",
      "Letter counts: {'a': 1, 's': 1, 'd': 1, 'f': 1, 'e': 3, 'r': 1}\n"
     ]
    }
   ],
   "source": [
    "print('Letter counts: {}'.format(dict(count_letters(input()))))"
   ]
  },
  {
   "cell_type": "code",
   "execution_count": 43,
   "metadata": {},
   "outputs": [
    {
     "name": "stdout",
     "output_type": "stream",
     "text": [
      "ss \n",
      "Sentence words with same character at begin and end: 1\n"
     ]
    }
   ],
   "source": [
    "print('Sentence words with same character at begin and end: {}'.format(count_with_equal_begin_and_end(input())))"
   ]
  },
  {
   "cell_type": "code",
   "execution_count": 50,
   "metadata": {},
   "outputs": [
    {
     "name": "stdout",
     "output_type": "stream",
     "text": [
      "22 100 20 0 22 0 22\n",
      "Rearranged sequence: [22.0, 100.0, 20.0, 22.0, 22.0, 0, 0]\n"
     ]
    }
   ],
   "source": [
    "print('Rearranged sequence: {}'.format(zeros_to_end(list(map(float, input().split(' '))))))"
   ]
  },
  {
   "cell_type": "code",
   "execution_count": 54,
   "metadata": {},
   "outputs": [
    {
     "name": "stdout",
     "output_type": "stream",
     "text": [
      "12 34 3 12 23 -32 -23 -32\n",
      "Positives at odd indexes: [12.0, 3.0, 23.0]\n"
     ]
    }
   ],
   "source": [
    "print('Positives at odd indexes: {}'.format(even_positives(list(map(float, input().split(' '))))))"
   ]
  },
  {
   "cell_type": "code",
   "execution_count": null,
   "metadata": {},
   "outputs": [],
   "source": []
  }
 ],
 "metadata": {
  "kernelspec": {
   "display_name": "Python 3",
   "language": "python",
   "name": "python3"
  },
  "language_info": {
   "codemirror_mode": {
    "name": "ipython",
    "version": 3
   },
   "file_extension": ".py",
   "mimetype": "text/x-python",
   "name": "python",
   "nbconvert_exporter": "python",
   "pygments_lexer": "ipython3",
   "version": "3.6.6"
  }
 },
 "nbformat": 4,
 "nbformat_minor": 2
}

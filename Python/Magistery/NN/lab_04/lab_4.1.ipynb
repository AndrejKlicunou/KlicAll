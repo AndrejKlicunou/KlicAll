{
 "cells": [
  {
   "cell_type": "markdown",
   "metadata": {},
   "source": [
    "# Task 1"
   ]
  },
  {
   "cell_type": "code",
   "execution_count": 17,
   "metadata": {},
   "outputs": [],
   "source": [
    "import numpy as np\n",
    "\n",
    "# Сигмоида \n",
    "def nonlin(x,deriv=False):\n",
    "    if(deriv==True):\n",
    "        return x*(1-x)\n",
    "    return 1/(1+np.exp(-x))\n",
    "    \n",
    "# набор входных данных\n",
    "X = np.array([  [0,0,1],\n",
    "                [0,1,1],\n",
    "                [1,0,1],\n",
    "                [1,1,1] ])\n",
    "    \n",
    "# выходные данные            \n",
    "y = np.array([[0,0,1,1]]).T"
   ]
  },
  {
   "cell_type": "code",
   "execution_count": 18,
   "metadata": {},
   "outputs": [
    {
     "name": "stdout",
     "output_type": "stream",
     "text": [
      "Iter 0 error: [[0.2689864 ]\n",
      " [0.36375058]\n",
      " [0.23762817]\n",
      " [0.3262757 ]]\n",
      "Выходные данные после тренировки:\n",
      "[[0.00966449]\n",
      " [0.00786506]\n",
      " [0.99358898]\n",
      " [0.99211957]]\n",
      "Веса:\n",
      "[[ 9.67299303]\n",
      " [-0.2078435 ]\n",
      " [-4.62963669]]\n"
     ]
    }
   ],
   "source": [
    "np.random.seed(1)\n",
    "\n",
    "# инициализируем веса случайным образом со средним 0\n",
    "syn0 = 2*np.random.random((3,1)) - 1\n",
    "\n",
    "for iterr in range(10000):\n",
    "\n",
    "    # прямое распространение\n",
    "    l0 = X\n",
    "    l1 = nonlin(np.dot(l0,syn0))\n",
    "\n",
    "    # насколько мы ошиблись?\n",
    "    l1_error = y - l1\n",
    "\n",
    "    # перемножим это с наклоном сигмоиды \n",
    "    # на основе значений в l1\n",
    "    l1_delta = l1_error * nonlin(l1,True) # !!!\n",
    "\n",
    "    # обновим веса\n",
    "    syn0 += np.dot(l0.T,l1_delta) # !!!\n",
    "    if iterr == 0:\n",
    "        print(f'Iter 0 error: {l1}')\n",
    "\n",
    "print (\"Выходные данные после тренировки:\")\n",
    "print (l1) \n",
    "print ('Веса:')\n",
    "print (syn0)"
   ]
  },
  {
   "cell_type": "markdown",
   "metadata": {},
   "source": [
    "# Task 2"
   ]
  },
  {
   "cell_type": "code",
   "execution_count": 19,
   "metadata": {},
   "outputs": [
    {
     "name": "stdout",
     "output_type": "stream",
     "text": [
      "Error: 0.4964100319027255\n",
      "Error: 0.008108733936489594\n",
      "Error: 0.004169954545481538\n",
      "Error: 0.0007206333103675717\n",
      "Error: 0.00040233952337516735\n",
      "Error: 0.0002822678476186909\n"
     ]
    }
   ],
   "source": [
    "import numpy as np\n",
    "\n",
    "def nonlin(x,deriv=False):\n",
    "    if(deriv==True):\n",
    "        return nonlin(x)*nonlin(1-x)\n",
    "    return 1/(1+np.exp(-x))\n",
    "    \n",
    "X = np.array([[0,0,1], [0,1,1], [1,0,1], [1,1,1]])\n",
    "                \n",
    "y = np.array([[0], [1], [1], [0]])\n",
    "\n",
    "np.random.seed(1)\n",
    "\n",
    "# случайно инициализируем веса, в среднем - 0\n",
    "syn0 = 2*np.random.random((3,4)) - 1\n",
    "syn1 = 2*np.random.random((4,1)) - 1\n",
    "\n",
    "for j in range(60000):\n",
    "\n",
    "    # проходим вперёд по слоям 0, 1 и 2\n",
    "    l0 = X\n",
    "    l1 = nonlin(np.dot(l0,syn0))\n",
    "    l2 = nonlin(np.dot(l1,syn1))\n",
    "\n",
    "    # как сильно мы ошиблись относительно нужной величины?\n",
    "    l2_error = y - l2\n",
    "    \n",
    "    if (j% 10000) == 0:\n",
    "        print(f\"Error: {np.mean(np.abs(l2_error))}\")\n",
    "        \n",
    "    # в какую сторону нужно двигаться?\n",
    "    # если мы были уверены в предсказании, то сильно менять его не надо\n",
    "    l2_delta = l2_error*nonlin(l2,deriv=True)\n",
    "\n",
    "    # как сильно значения l1 влияют на ошибки в l2?\n",
    "    l1_error = l2_delta.dot(syn1.T)\n",
    "    \n",
    "    # в каком направлении нужно двигаться, чтобы прийти к l1?\n",
    "    # если мы были уверены в предсказании, то сильно менять его не надо\n",
    "    l1_delta = l1_error * nonlin(l1,deriv=True)\n",
    "\n",
    "    syn1 += l1.T.dot(l2_delta)\n",
    "    syn0 += l0.T.dot(l1_delta)\n"
   ]
  },
  {
   "cell_type": "code",
   "execution_count": 20,
   "metadata": {},
   "outputs": [
    {
     "name": "stdout",
     "output_type": "stream",
     "text": [
      "Error: 0.49443028858162374\n",
      "Error: 0.0006174241843869293\n",
      "Error: 0.0002718701248906421\n",
      "Error: 0.0001705929847291696\n",
      "Error: 0.00012310707523764685\n",
      "Error: 9.578481336935629e-05\n"
     ]
    }
   ],
   "source": [
    "import numpy as np\n",
    "\n",
    "def nonlin(x,deriv=False):\n",
    "    if(deriv==True):\n",
    "        return nonlin(x)*nonlin(1-x)\n",
    "    return 1/(1+np.exp(-x))\n",
    "    \n",
    "X = np.array([[0,0,1], [0,1,1], [1,0,1], [1,1,1]])\n",
    "                \n",
    "y = np.array([[0], [1], [1], [0]])\n",
    "\n",
    "np.random.seed(1)\n",
    "\n",
    "# случайно инициализируем веса, в среднем - 0\n",
    "syn0 = 2*np.random.random((3,50)) - 1\n",
    "syn1 = 2*np.random.random((50,1)) - 1\n",
    "\n",
    "for j in range(60000):\n",
    "\n",
    "    # проходим вперёд по слоям 0, 1 и 2\n",
    "    l0 = X\n",
    "    l1 = nonlin(np.dot(l0,syn0))\n",
    "    l2 = nonlin(np.dot(l1,syn1))\n",
    "\n",
    "    # как сильно мы ошиблись относительно нужной величины?\n",
    "    l2_error = y - l2\n",
    "    \n",
    "    if (j% 10000) == 0:\n",
    "        print(f\"Error: {np.mean(np.abs(l2_error))}\")\n",
    "        \n",
    "    # в какую сторону нужно двигаться?\n",
    "    # если мы были уверены в предсказании, то сильно менять его не надо\n",
    "    l2_delta = l2_error*nonlin(l2,deriv=True)\n",
    "\n",
    "    # как сильно значения l1 влияют на ошибки в l2?\n",
    "    l1_error = l2_delta.dot(syn1.T)\n",
    "    \n",
    "    # в каком направлении нужно двигаться, чтобы прийти к l1?\n",
    "    # если мы были уверены в предсказании, то сильно менять его не надо\n",
    "    l1_delta = l1_error * nonlin(l1,deriv=True)\n",
    "\n",
    "    syn1 += l1.T.dot(l2_delta)\n",
    "    syn0 += l0.T.dot(l1_delta)\n"
   ]
  },
  {
   "cell_type": "code",
   "execution_count": 21,
   "metadata": {},
   "outputs": [
    {
     "name": "stdout",
     "output_type": "stream",
     "text": [
      "Error: 0.4977790148509965\n",
      "Error: 6.660601512323774e-05\n",
      "Error: 3.014939158781843e-05\n",
      "Error: 1.9235163867075103e-05\n",
      "Error: 1.4041856409354926e-05\n",
      "Error: 1.1020793646109075e-05\n"
     ]
    }
   ],
   "source": [
    "import numpy as np\n",
    "\n",
    "def nonlin(x,deriv=False):\n",
    "    if(deriv==True):\n",
    "        return nonlin(x)*nonlin(1-x)\n",
    "    return 1/(1+np.exp(-x))\n",
    "    \n",
    "X = np.array([[0,0,1], [0,1,1], [1,0,1], [1,1,1]])\n",
    "                \n",
    "y = np.array([[0], [1], [1], [0]])\n",
    "\n",
    "np.random.seed(1)\n",
    "\n",
    "# случайно инициализируем веса, в среднем - 0\n",
    "syn0 = 2*np.random.random((3,50)) - 1\n",
    "syn1 = 2*np.random.random((50,12)) - 1\n",
    "syn2 = 2*np.random.random((12,1)) - 1\n",
    "\n",
    "for j in range(60000):\n",
    "\n",
    "    # проходим вперёд по слоям 0, 1, 2 и 3\n",
    "    l0 = X\n",
    "    l1 = nonlin(np.dot(l0,syn0))\n",
    "    l2 = nonlin(np.dot(l1,syn1))\n",
    "    l3 = nonlin(np.dot(l2,syn2))\n",
    "\n",
    "    # как сильно мы ошиблись относительно нужной величины?\n",
    "    l3_error = y - l3\n",
    "    \n",
    "    if (j% 10000) == 0:\n",
    "        print(f\"Error: {np.mean(np.abs(l3_error))}\")\n",
    "    \n",
    "    l3_delta = l3_error*nonlin(l3, deriv=True)\n",
    "    l2_error = l3_delta.dot(syn2.T)\n",
    "    \n",
    "    l2_delta = l2_error*nonlin(l2,deriv=True)\n",
    "    l1_error = l2_delta.dot(syn1.T)\n",
    "    \n",
    "    l1_delta = l1_error * nonlin(l1,deriv=True)\n",
    "\n",
    "    syn2 += l2.T.dot(l3_delta)\n",
    "    syn1 += l1.T.dot(l2_delta)\n",
    "    syn0 += l0.T.dot(l1_delta)\n"
   ]
  },
  {
   "cell_type": "code",
   "execution_count": 22,
   "metadata": {},
   "outputs": [
    {
     "name": "stdout",
     "output_type": "stream",
     "text": [
      "Error: 0.5025107256217859\n",
      "Error: 0.0011687697399175617\n",
      "Error: 0.0005350395221742229\n",
      "Error: 0.00034373648734506456\n",
      "Error: 0.0002522370072745968\n",
      "Error: 0.0001987994519724627\n"
     ]
    }
   ],
   "source": [
    "import numpy as np\n",
    "\n",
    "def nonlin(x,deriv=False):\n",
    "    if(deriv==True):\n",
    "        return nonlin(x)*nonlin(1-x)\n",
    "    return 1/(1+np.exp(-x))\n",
    "    \n",
    "X = np.array([[0,0], [0,1], [1,0], [1,1]])\n",
    "                \n",
    "y = np.array([[0], [1], [1], [0]])\n",
    "\n",
    "np.random.seed(1)\n",
    "\n",
    "# случайно инициализируем веса, в среднем - 0\n",
    "syn0 = 2*np.random.random((2,50)) - 1\n",
    "syn1 = 2*np.random.random((50,1)) - 1\n",
    "\n",
    "for j in range(60000):\n",
    "\n",
    "    # проходим вперёд по слоям 0, 1 и 2\n",
    "    l0 = X\n",
    "    l1 = nonlin(np.dot(l0,syn0))\n",
    "    l2 = nonlin(np.dot(l1,syn1))\n",
    "\n",
    "    # как сильно мы ошиблись относительно нужной величины?\n",
    "    l2_error = y - l2\n",
    "    \n",
    "    if (j% 10000) == 0:\n",
    "        print(f\"Error: {np.mean(np.abs(l2_error))}\")\n",
    "        \n",
    "    # в какую сторону нужно двигаться?\n",
    "    # если мы были уверены в предсказании, то сильно менять его не надо\n",
    "    l2_delta = l2_error*nonlin(l2,deriv=True)\n",
    "\n",
    "    # как сильно значения l1 влияют на ошибки в l2?\n",
    "    l1_error = l2_delta.dot(syn1.T)\n",
    "    \n",
    "    # в каком направлении нужно двигаться, чтобы прийти к l1?\n",
    "    # если мы были уверены в предсказании, то сильно менять его не надо\n",
    "    l1_delta = l1_error * nonlin(l1,deriv=True)\n",
    "\n",
    "    syn1 += l1.T.dot(l2_delta)\n",
    "    syn0 += l0.T.dot(l1_delta)\n"
   ]
  },
  {
   "cell_type": "code",
   "execution_count": 23,
   "metadata": {},
   "outputs": [
    {
     "name": "stdout",
     "output_type": "stream",
     "text": [
      "Error: 0.5003932607927754\n",
      "Error: 0.006588727834272645\n",
      "Error: 0.004423255899450219\n",
      "Error: 0.0035183383499715793\n",
      "Error: 0.002995657531998678\n",
      "Error: 0.0026464732201177876\n"
     ]
    }
   ],
   "source": [
    "import numpy as np\n",
    "\n",
    "def nonlin(x,deriv=False):\n",
    "    if(deriv==True):\n",
    "        return x*(1-x)\n",
    "    return 1/(1+np.exp(-x))\n",
    "    \n",
    "X = np.array([[0,0], [0,1], [1,0], [1,1]])\n",
    "                \n",
    "y = np.array([[0], [1], [1], [0]])\n",
    "\n",
    "np.random.seed(1)\n",
    "\n",
    "# случайно инициализируем веса, в среднем - 0\n",
    "syn0 = 2*np.random.random((2,50)) - 1\n",
    "syn1 = 2*np.random.random((50,12)) - 1\n",
    "syn2 = 2*np.random.random((12,1)) - 1\n",
    "\n",
    "for j in range(60000):\n",
    "\n",
    "    # проходим вперёд по слоям 0, 1, 2 и 3\n",
    "    l0 = X\n",
    "    l1 = nonlin(np.dot(l0,syn0))\n",
    "    l2 = nonlin(np.dot(l1,syn1))\n",
    "    l3 = nonlin(np.dot(l2,syn2))\n",
    "\n",
    "    # как сильно мы ошиблись относительно нужной величины?\n",
    "    l3_error = y - l3\n",
    "    \n",
    "    if (j% 10000) == 0:\n",
    "        print(f\"Error: {np.mean(np.abs(l3_error))}\")\n",
    "    \n",
    "    l3_delta = l3_error*nonlin(l3, deriv=True)\n",
    "    l2_error = l3_delta.dot(syn2.T)\n",
    "    \n",
    "    l2_delta = l2_error*nonlin(l2,deriv=True)\n",
    "    l1_error = l2_delta.dot(syn1.T)\n",
    "    \n",
    "    l1_delta = l1_error * nonlin(l1,deriv=True)\n",
    "\n",
    "    syn2 += l2.T.dot(l3_delta)\n",
    "    syn1 += l1.T.dot(l2_delta)\n",
    "    syn0 += l0.T.dot(l1_delta)"
   ]
  },
  {
   "cell_type": "code",
   "execution_count": 24,
   "metadata": {},
   "outputs": [
    {
     "name": "stdout",
     "output_type": "stream",
     "text": [
      "Error: 0.49930067419205515\n",
      "Error: 0.013148193132676768\n",
      "Error: 0.008931091298294348\n",
      "Error: 0.007161194788927789\n",
      "Error: 0.006133924832663916\n",
      "Error: 0.005444626996767308\n"
     ]
    }
   ],
   "source": [
    "X = np.array([ [0,0,1],[0,1,1],[1,0,1],[1,1,1] ])\n",
    "y = np.array([[0,1,1,0]]).T\n",
    "syn0 = 2*np.random.random((3,4)) - 1\n",
    "syn1 = 2*np.random.random((4,1)) - 1\n",
    "for j in range(60000):\n",
    "    l1 = 1/(1+np.exp(-(np.dot(X,syn0))))\n",
    "    l2 = 1/(1+np.exp(-(np.dot(l1,syn1))))\n",
    "    \n",
    "    if (j% 10000) == 0:\n",
    "        print(f\"Error: {np.mean(np.abs(y-l2))}\")\n",
    "    \n",
    "    l2_delta = (y - l2)*(l2*(1-l2))\n",
    "    l1_delta = l2_delta.dot(syn1.T) * (l1 * (1-l1))\n",
    "    syn1 += l1.T.dot(l2_delta)\n",
    "    syn0 += X.T.dot(l1_delta) "
   ]
  },
  {
   "cell_type": "code",
   "execution_count": null,
   "metadata": {},
   "outputs": [],
   "source": []
  }
 ],
 "metadata": {
  "kernelspec": {
   "display_name": "Python 3",
   "language": "python",
   "name": "python3"
  },
  "language_info": {
   "codemirror_mode": {
    "name": "ipython",
    "version": 3
   },
   "file_extension": ".py",
   "mimetype": "text/x-python",
   "name": "python",
   "nbconvert_exporter": "python",
   "pygments_lexer": "ipython3",
   "version": "3.6.6"
  }
 },
 "nbformat": 4,
 "nbformat_minor": 2
}

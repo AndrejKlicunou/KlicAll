{
 "cells": [
  {
   "cell_type": "markdown",
   "metadata": {},
   "source": [
    "# Task 1"
   ]
  },
  {
   "cell_type": "code",
   "execution_count": 1,
   "metadata": {},
   "outputs": [
    {
     "name": "stderr",
     "output_type": "stream",
     "text": [
      "Using TensorFlow backend.\n"
     ]
    }
   ],
   "source": [
    "from keras.models import model_from_json\n",
    "json_filename = \"cifar_nn.json\"\n",
    "with open(json_filename, \"r\") as json_file:\n",
    "    loaded_model_json = json_file.read()\n",
    "cifar_model = model_from_json(loaded_model_json)\n",
    "\n",
    "# Загружаем веса в модель\n",
    "h5_filename = \"cifar_nn.h5\"\n",
    "cifar_model.load_weights(h5_filename)\n",
    "\n",
    "# Перед использованием загруженной нейронной сети необходимо её скомпилировать\n",
    "cifar_model.compile(loss=\"categorical_crossentropy\", optimizer=\"SGD\", \n",
    "              metrics=[\"accuracy\"])\n"
   ]
  },
  {
   "cell_type": "code",
   "execution_count": 2,
   "metadata": {},
   "outputs": [],
   "source": [
    "import numpy as np\n",
    "from skimage.io import imread, imshow\n",
    "from skimage.transform import resize\n",
    "%matplotlib inline"
   ]
  },
  {
   "cell_type": "code",
   "execution_count": 3,
   "metadata": {},
   "outputs": [],
   "source": [
    "cifar_classes_dict = {0: 'airplane', \n",
    "                      1: 'automobile',\n",
    "                      2: 'bird',\n",
    "                      3: 'cat',\n",
    "                      4: 'deer',\n",
    "                      5: 'dog',\n",
    "                      6: 'frog',\n",
    "                      7: 'horse',\n",
    "                      8: 'ship',\n",
    "                      9: 'truck'\n",
    "                     }"
   ]
  },
  {
   "cell_type": "code",
   "execution_count": 18,
   "metadata": {},
   "outputs": [],
   "source": [
    "horse = imread('animals-horse-32414.jpg')\n",
    "horse = resize(horse, (32, 32, 3), anti_aliasing=True, mode='reflect')\n",
    "cat = imread('cat-kot-ryzhiy.jpg')\n",
    "cat = resize(cat, (32, 32, 3), anti_aliasing=True, mode='reflect')\n",
    "bicycle = imread('bicycle.jpg')\n",
    "bicycle = resize(bicycle, (32, 32, 3), anti_aliasing=True, mode='reflect')"
   ]
  },
  {
   "cell_type": "code",
   "execution_count": 19,
   "metadata": {},
   "outputs": [
    {
     "name": "stdout",
     "output_type": "stream",
     "text": [
      "Horse image class: horse\n",
      "Cat image class: cat\n",
      "Bicycle image class: horse\n"
     ]
    }
   ],
   "source": [
    "horse_pred = cifar_model.predict(horse.reshape((1,) + horse.shape))\n",
    "horse_class = np.argmax(horse_pred)\n",
    "print(f'Horse image class: {cifar_classes_dict[horse_class]}')\n",
    "\n",
    "cat_pred = cifar_model.predict(cat.reshape((1,) + cat.shape))\n",
    "cat_class = np.argmax(cat_pred)\n",
    "print(f'Cat image class: {cifar_classes_dict[cat_class]}')\n",
    "\n",
    "bicycle_pred = cifar_model.predict(bicycle.reshape((1,) + bicycle.shape))\n",
    "bicycle_class = np.argmax(bicycle_pred)\n",
    "print(f'Bicycle image class: {cifar_classes_dict[bicycle_class]}')"
   ]
  },
  {
   "cell_type": "code",
   "execution_count": 41,
   "metadata": {},
   "outputs": [],
   "source": [
    "from keras.models import model_from_json\n",
    "json_filename = \"mnist_nn.json\"\n",
    "with open(json_filename, \"r\") as json_file:\n",
    "    loaded_model_json = json_file.read()\n",
    "mnist_model = model_from_json(loaded_model_json)\n",
    "\n",
    "# Загружаем веса в модель\n",
    "h5_filename = \"mnist_nn.h5\"\n",
    "mnist_model.load_weights(h5_filename)\n",
    "\n",
    "# Перед использованием загруженной нейронной сети необходимо её скомпилировать\n",
    "mnist_model.compile(loss=\"categorical_crossentropy\", optimizer=\"adam\", \n",
    "              metrics=[\"accuracy\"])\n"
   ]
  },
  {
   "cell_type": "code",
   "execution_count": 42,
   "metadata": {},
   "outputs": [],
   "source": [
    "six = imread('3_1.png')\n",
    "six = resize(six, (28, 28, 1), anti_aliasing=True, mode='reflect')\n",
    "seven = imread('7py.png')\n",
    "seven = resize(seven, (28, 28, 1), anti_aliasing=True, mode='reflect')"
   ]
  },
  {
   "cell_type": "code",
   "execution_count": 43,
   "metadata": {},
   "outputs": [
    {
     "name": "stdout",
     "output_type": "stream",
     "text": [
      "Six image class: 3\n",
      "Seven image class: 8\n"
     ]
    }
   ],
   "source": [
    "six_pred = mnist_model.predict(six.reshape((1,) + six.shape))\n",
    "print(f'Six image class: {np.argmax(six_pred)}')\n",
    "\n",
    "seven_pred = mnist_model.predict(seven.reshape((1,) + seven.shape))\n",
    "print(f'Seven image class: {np.argmax(seven_pred)}')"
   ]
  },
  {
   "cell_type": "markdown",
   "metadata": {},
   "source": [
    "# Task 2"
   ]
  },
  {
   "cell_type": "code",
   "execution_count": 59,
   "metadata": {},
   "outputs": [
    {
     "name": "stdout",
     "output_type": "stream",
     "text": [
      "Predictions: [[('n03729826', 'matchstick', 0.07637163), ('n01930112', 'nematode', 0.047626916), ('n03666591', 'lighter', 0.030752566), ('n03196217', 'digital_clock', 0.029260468), ('n04286575', 'spotlight', 0.02326101)]]\n",
      "Predictions: [[('n03729826', 'matchstick', 0.0764697), ('n01930112', 'nematode', 0.047653135), ('n03666591', 'lighter', 0.030919764), ('n03196217', 'digital_clock', 0.02941557), ('n04286575', 'spotlight', 0.023745064)]]\n"
     ]
    }
   ],
   "source": [
    "from keras.applications.vgg16 import VGG16\n",
    "from keras.preprocessing import image\n",
    "from keras.applications.vgg16 import preprocess_input, decode_predictions\n",
    "import numpy as np\n",
    "\n",
    "model = VGG16(weights='imagenet')\n",
    "\n",
    "horse = imread('animals-horse-32414.jpg')\n",
    "horse = resize(horse, (224, 224, 3), anti_aliasing=True, mode='reflect')\n",
    "horse = preprocess_input(horse.reshape((1,) + horse.shape))\n",
    "pred = model.predict(horse)\n",
    "\n",
    "print(f'Predictions: {decode_predictions(pred)}')\n",
    "\n",
    "\n",
    "cat = imread('cat-kot-ryzhiy.jpg')\n",
    "cat = resize(cat, (224, 224, 3), anti_aliasing=True, mode='reflect')\n",
    "cat = preprocess_input(cat.reshape((1,) + cat.shape))\n",
    "pred = model.predict(cat)\n",
    "\n",
    "print(f'Predictions: {decode_predictions(pred)}')"
   ]
  },
  {
   "cell_type": "code",
   "execution_count": 8,
   "metadata": {},
   "outputs": [
    {
     "name": "stdout",
     "output_type": "stream",
     "text": [
      "Predictions: [[('n02389026', 'sorrel', 0.9229592), ('n02403003', 'ox', 0.05043958), ('n02129165', 'lion', 0.0033398161), ('n02422699', 'impala', 0.00312463), ('n02110806', 'basenji', 0.00253934)]]\n",
      "Predictions: [[('n02123045', 'tabby', 0.26645583), ('n02123159', 'tiger_cat', 0.19180329), ('n02124075', 'Egyptian_cat', 0.15188742), ('n03223299', 'doormat', 0.104410306), ('n02971356', 'carton', 0.07494681)]]\n"
     ]
    }
   ],
   "source": [
    "from keras.applications.resnet50 import ResNet50\n",
    "from keras.preprocessing import image\n",
    "from keras.applications.resnet50 import preprocess_input, decode_predictions\n",
    "import numpy as np\n",
    "\n",
    "model = ResNet50(weights='imagenet')\n",
    "\n",
    "horse = image.load_img('56ac3fb7d94df7772f4b83c55ea54220.jpg', target_size=(224, 224))\n",
    "horse = image.img_to_array(horse)\n",
    "horse = np.expand_dims(horse, axis=0)\n",
    "from skimage.io import imshow\n",
    "%matplotlib inline\n",
    "horse = preprocess_input(horse)\n",
    "pred = model.predict(horse)\n",
    "\n",
    "print(f'Predictions: {decode_predictions(pred)}')\n",
    "\n",
    "\n",
    "cat = image.load_img('cat-kot-ryzhiy.jpg', target_size=(224, 224))\n",
    "cat = image.img_to_array(cat)\n",
    "cat = np.expand_dims(cat, axis=0)\n",
    "cat = preprocess_input(cat)\n",
    "pred = model.predict(cat)\n",
    "\n",
    "print(f'Predictions: {decode_predictions(pred)}')"
   ]
  },
  {
   "cell_type": "code",
   "execution_count": null,
   "metadata": {},
   "outputs": [],
   "source": [
    "# task 2\n",
    "\n",
    "import dlib\n",
    "from skimage import io\n",
    "from scipy.spatial import distance\n",
    "\n",
    "sp = dlib.shape_predictor('shape_predictor_68_face_landmarks.dat')\n",
    "facerec = dlib.face_recognition_model_v1('dlib_face_recognition_resnet_model_v1.dat')\n",
    "detector = dlib.get_frontal_face_detector()\n",
    "\n",
    "img = io.imread('1.jpeg')\n",
    "win1 = dlib.image_window()\n",
    "win1.clear_overlay()\n",
    "win1.set_image(img)\n",
    "\n",
    "dets = detector(img, 1)\n",
    "for k, d in enumerate(dets):\n",
    "    print(\"Detection {}: Left: {} Top: {} Right: {} Bottom: {}\".format(\n",
    "        k, d.left(), d.top(), d.right(), d.bottom()))\n",
    "    shape = sp(img, d)\n",
    "    win1.clear_overlay()\n",
    "    win1.add_overlay(d)\n",
    "    win1.add_overlay(shape)\n",
    "    \n",
    "face_descriptor1 = facerec.compute_face_descriptor(img, shape)\n",
    "\n",
    "print(face_descriptor1)\n",
    "\n",
    "img = io.imread('6.jpeg')\n",
    "win2 = dlib.image_window()\n",
    "win2.clear_overlay()\n",
    "win2.set_image(img)\n",
    "dets_webcam = detector(img, 1)\n",
    "for k, d in enumerate(dets_webcam):\n",
    "    print(\"Detection {}: Left: {} Top: {} Right: {} Bottom: {}\".format(\n",
    "        k, d.left(), d.top(), d.right(), d.bottom()))\n",
    "    shape = sp(img, d)\n",
    "    win2.clear_overlay()\n",
    "    win2.add_overlay(d)\n",
    "    win2.add_overlay(shape)\n",
    "face_descriptor2 = facerec.compute_face_descriptor(img, shape)\n",
    "\n",
    "a = distance.euclidean(face_descriptor1, face_descriptor2)\n",
    "print(a)"
   ]
  }
 ],
 "metadata": {
  "kernelspec": {
   "display_name": "Python 3",
   "language": "python",
   "name": "python3"
  },
  "language_info": {
   "codemirror_mode": {
    "name": "ipython",
    "version": 3
   },
   "file_extension": ".py",
   "mimetype": "text/x-python",
   "name": "python",
   "nbconvert_exporter": "python",
   "pygments_lexer": "ipython3",
   "version": "3.6.6"
  }
 },
 "nbformat": 4,
 "nbformat_minor": 2
}

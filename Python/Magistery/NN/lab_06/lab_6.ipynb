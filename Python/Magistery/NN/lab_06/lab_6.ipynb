{
 "cells": [
  {
   "cell_type": "code",
   "execution_count": 13,
   "metadata": {},
   "outputs": [
    {
     "name": "stdout",
     "output_type": "stream",
     "text": [
      "_________________________________________________________________\n",
      "Layer (type)                 Output Shape              Param #   \n",
      "=================================================================\n",
      "dense_41 (Dense)             (None, 800)               628000    \n",
      "_________________________________________________________________\n",
      "dense_42 (Dense)             (None, 10)                8010      \n",
      "=================================================================\n",
      "Total params: 636,010\n",
      "Trainable params: 636,010\n",
      "Non-trainable params: 0\n",
      "_________________________________________________________________\n",
      "None\n",
      "Точность работы на тестовых данных : 95.87%\n",
      "0: 0.0\n",
      "1: 0.0\n",
      "2: 0.0\n",
      "3: 0.0\n",
      "4: 0.0\n",
      "5: 100.0\n",
      "6: 0.0\n",
      "7: 0.0\n",
      "8: 0.0\n",
      "9: 0.0\n",
      "result = 5\n"
     ]
    }
   ],
   "source": [
    "# -*- coding: utf-8 -*-\n",
    "\"\"\"\n",
    "Created on Tue Apr 16 11:28:04 2019\n",
    "\n",
    "@author: Stan\n",
    "\"\"\"\n",
    "\n",
    "import numpy\n",
    "from keras.models import model_from_json\n",
    "from keras.datasets import mnist\n",
    "# Утилиты для работы с массивами\n",
    "from keras.utils import np_utils\n",
    "# Пакет для обработки пикчей\n",
    "from PIL import Image\n",
    "\n",
    "# Загружаем данные об архитектуре сети из файла json\n",
    "json_filename = \"mnist_model.json\"\n",
    "with open(json_filename, \"r\") as json_file:\n",
    "    loaded_model_json = json_file.read()\n",
    "\n",
    "# Создаем модель на основе загруженных данных\n",
    "model = model_from_json(loaded_model_json)\n",
    "\n",
    "# Загружаем веса в модель\n",
    "h5_filename = \"mnist_model.h5\"\n",
    "model.load_weights(h5_filename)\n",
    "\n",
    "# Перед использованием загруженной нейронной сети необходимо её скомпилировать\n",
    "model.compile(loss=\"categorical_crossentropy\", optimizer=\"SGD\", \n",
    "              metrics=[\"accuracy\"])\n",
    "\n",
    "# Вывести начальные характеристики нейросети\n",
    "print(model.summary())\n",
    "\n",
    "#%%\n",
    "# Данные для тестирования загруженной нейронной сети\n",
    "_, (x_test, y_test) = mnist.load_data()\n",
    "X_test = x_test.reshape(10000, 784)\n",
    "X_test = X_test.astype('float32')\n",
    "X_test /= 255\n",
    "Y_test = np_utils.to_categorical(y_test, 10)\n",
    "\n",
    "# Оцениваем качество обучения сети на тестовых данных\n",
    "scores = model.evaluate(X_test, Y_test, verbose=0)\n",
    "print(\"Точность работы на тестовых данных : %.2f%%\" % (scores[1] * 100))\n",
    "\n",
    "#%%\n",
    "# Загрузка чёрно-белого изображения 28х28, на котором изображена цифра\n",
    "pic_name = \"3_1.png\"\n",
    "img = Image.open(pic_name)\n",
    "\n",
    "# Преобразование этой картинки в массив нужной размерности согласно её RGB \n",
    "# схеме (белый пиксель - это (255, 255, 255), чёрный - (0, 0, 0)). Для \n",
    "# изображения png размерность этого массива составит (28, 28, 3)\n",
    "arr = numpy.array(img)\n",
    "\n",
    "# Составление нового массива размерности (1, 784) (тут уже 0 - это белый цвет, \n",
    "# 255 - чёрный)\n",
    "img.show()\n",
    "new_arr = numpy.array([\n",
    "        [255 - pixel for row in arr for pixel in row]\n",
    "        ], 'float32')\n",
    "    \n",
    "# Нормировка данных\n",
    "new_arr /= 255\n",
    "\n",
    "# Работа загруженной нейронной сети со сформированным массивом пикселей\n",
    "result = model.predict(new_arr)\n",
    "for i, perc in enumerate(numpy.round(100 * result)[0]):\n",
    "    print(f\"{i}: {perc}\")\n",
    "print(f\"result = {numpy.argmax(result)}\")\n"
   ]
  },
  {
   "cell_type": "code",
   "execution_count": 3,
   "metadata": {},
   "outputs": [],
   "source": [
    "from skimage.io import imshow\n",
    "%matplotlib inline"
   ]
  },
  {
   "cell_type": "code",
   "execution_count": 7,
   "metadata": {},
   "outputs": [
    {
     "data": {
      "text/plain": [
       "(28, 28)"
      ]
     },
     "execution_count": 7,
     "metadata": {},
     "output_type": "execute_result"
    },
    {
     "data": {
      "image/png": "[encoded data removed]",
      "text/plain": [
       "<Figure size 432x288 with 1 Axes>"
      ]
     },
     "metadata": {
      "needs_background": "light"
     },
     "output_type": "display_data"
    }
   ],
   "source": [
    "imshow(arr)\n",
    "arr.shape"
   ]
  },
  {
   "cell_type": "code",
   "execution_count": null,
   "metadata": {},
   "outputs": [],
   "source": []
  }
 ],
 "metadata": {
  "kernelspec": {
   "display_name": "Python 3",
   "language": "python",
   "name": "python3"
  },
  "language_info": {
   "codemirror_mode": {
    "name": "ipython",
    "version": 3
   },
   "file_extension": ".py",
   "mimetype": "text/x-python",
   "name": "python",
   "nbconvert_exporter": "python",
   "pygments_lexer": "ipython3",
   "version": "3.6.6"
  }
 },
 "nbformat": 4,
 "nbformat_minor": 2
}

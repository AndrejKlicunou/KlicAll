{
 "cells": [
  {
   "cell_type": "code",
   "execution_count": 2,
   "metadata": {},
   "outputs": [],
   "source": [
    "from skimage.io import imshow, imshow_collection\n",
    "import numpy as np\n",
    "import matplotlib.pylab as plt\n",
    "from skimage.morphology import binary_dilation, binary_erosion\n",
    "from skimage import data"
   ]
  },
  {
   "cell_type": "code",
   "execution_count": 3,
   "metadata": {},
   "outputs": [
    {
     "name": "stdout",
     "output_type": "stream",
     "text": [
      "Populating the interactive namespace from numpy and matplotlib\n"
     ]
    },
    {
     "name": "stderr",
     "output_type": "stream",
     "text": [
      "/usr/local/lib/python3.5/dist-packages/IPython/core/magics/pylab.py:160: UserWarning: pylab import has clobbered these variables: ['imshow', 'plt']\n",
      "`%matplotlib` prevents importing * from pylab and numpy\n",
      "  \"\\n`%matplotlib` prevents importing * from pylab and numpy\"\n"
     ]
    }
   ],
   "source": [
    "%pylab inline"
   ]
  },
  {
   "cell_type": "code",
   "execution_count": 4,
   "metadata": {},
   "outputs": [
    {
     "data": {
      "text/plain": [
       "<matplotlib.image.AxesImage at 0x7f87420e2438>"
      ]
     },
     "execution_count": 4,
     "metadata": {},
     "output_type": "execute_result"
    },
    {
     "data": {
      "image/png": "[encoded data removed]",
      "text/plain": [
       "<matplotlib.figure.Figure at 0x7f8742f8bfd0>"
      ]
     },
     "metadata": {},
     "output_type": "display_data"
    }
   ],
   "source": [
    "horse = data.horse() == 0\n",
    "imshow(horse)"
   ]
  },
  {
   "cell_type": "code",
   "execution_count": 7,
   "metadata": {},
   "outputs": [],
   "source": [
    "def skeleton(image, structure = None):\n",
    "    skeleton = np.zeros(image.shape)\n",
    "    S_all = []\n",
    "    Y1 = image.copy()\n",
    "    Y2 = binary_erosion(Y1, structure)\n",
    "    while Y2.any():\n",
    "        Y3 = binary_dilation(Y2, structure)\n",
    "        Sn = Y1 ^ Y3\n",
    "        S_all.append(Sn)\n",
    "        skeleton = np.logical_or(skeleton, Sn)\n",
    "        Y1 = Y2.copy()\n",
    "        Y2 = binary_erosion(Y1, structure)\n",
    "    Sn = Y1.copy()\n",
    "    S_all.append(Sn)\n",
    "    skeleton = np.logical_or(skeleton, Sn)\n",
    "    return skeleton, S_all"
   ]
  },
  {
   "cell_type": "code",
   "execution_count": 5,
   "metadata": {},
   "outputs": [],
   "source": [
    "def recover(skeleton, S_all, structure = None):\n",
    "    image = np.zeros(skeleton.shape)\n",
    "    for i in range(len(S_all), 0, -1):\n",
    "        image = np.logical_or(image, S_all[i-1])\n",
    "        image = binary_dilation(image, structure)\n",
    "    return image"
   ]
  },
  {
   "cell_type": "code",
   "execution_count": 8,
   "metadata": {},
   "outputs": [],
   "source": [
    "skel, s = skeleton(horse, np.ones((3,3)))\n",
    "image = recover(skel, s, np.ones((3,3)))"
   ]
  },
  {
   "cell_type": "code",
   "execution_count": 9,
   "metadata": {},
   "outputs": [
    {
     "data": {
      "image/png": "[encoded data removed]",
      "text/plain": [
       "<matplotlib.figure.Figure at 0x7f8742135828>"
      ]
     },
     "metadata": {},
     "output_type": "display_data"
    }
   ],
   "source": [
    "imshow_collection([horse, image])"
   ]
  },
  {
   "cell_type": "code",
   "execution_count": 10,
   "metadata": {},
   "outputs": [],
   "source": [
    "skel, s = skeleton(horse)\n",
    "image = recover(skel, s)"
   ]
  },
  {
   "cell_type": "code",
   "execution_count": 11,
   "metadata": {},
   "outputs": [
    {
     "data": {
      "image/png": "[encoded data removed]",
      "text/plain": [
       "<matplotlib.figure.Figure at 0x7f8742008e48>"
      ]
     },
     "metadata": {},
     "output_type": "display_data"
    }
   ],
   "source": [
    "imshow_collection([skel, image])"
   ]
  }
 ],
 "metadata": {
  "kernelspec": {
   "display_name": "Python 3",
   "language": "python",
   "name": "python3"
  },
  "language_info": {
   "codemirror_mode": {
    "name": "ipython",
    "version": 3
   },
   "file_extension": ".py",
   "mimetype": "text/x-python",
   "name": "python",
   "nbconvert_exporter": "python",
   "pygments_lexer": "ipython3",
   "version": "3.5.2"
  }
 },
 "nbformat": 4,
 "nbformat_minor": 2
}

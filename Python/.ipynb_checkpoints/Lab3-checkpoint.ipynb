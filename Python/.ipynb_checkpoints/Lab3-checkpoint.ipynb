{
 "cells": [
  {
   "cell_type": "code",
   "execution_count": 37,
   "metadata": {},
   "outputs": [],
   "source": [
    "import numpy as np\n",
    "from skimage.morphology import binary_dilation, binary_erosion, binary_closing, binary_opening\n",
    "from skimage.morphology import dilation, erosion, closing, opening"
   ]
  },
  {
   "cell_type": "code",
   "execution_count": 38,
   "metadata": {},
   "outputs": [],
   "source": [
    "def expand__binary_struct(struct, start_struct):\n",
    "    result = np.zeros((struct.shape[0] + 2 * (start_struct.shape[0] // 2), \n",
    "                           struct.shape[1] + 2 * (start_struct.shape[1] // 2))) == 1\n",
    "    result[start_struct.shape[0] // 2:result.shape[0] - start_struct.shape[0] // 2, \\\n",
    "               start_struct.shape[1] // 2:result.shape[1] - start_struct.shape[1] // 2] = struct.copy()\n",
    "    return binary_dilation(result, start_struct)\n",
    "\n",
    "\n",
    "def expand_struct(struct, start_struct):\n",
    "    result = np.zeros((struct.shape[0] + 2 * (start_struct.shape[0] // 2), \n",
    "                           struct.shape[1] + 2 * (start_struct.shape[1] // 2))) == 1\n",
    "    result[start_struct.shape[0] // 2:result.shape[0] - start_struct.shape[0] // 2, \\\n",
    "               start_struct.shape[1] // 2:result.shape[1] - start_struct.shape[1] // 2] = struct.copy()\n",
    "    return dilation(result, start_struct)"
   ]
  },
  {
   "cell_type": "code",
   "execution_count": 41,
   "metadata": {},
   "outputs": [],
   "source": [
    "def binary__spectre(image, struct):\n",
    "    cur_struct = np.zeros((1,1)) == 0\n",
    "    next_struct = struct.copy()\n",
    "    cur_opening = binary_opening(image, cur_struct)\n",
    "    next_opening = binary_opening(image, next_struct)\n",
    "    cur_closing = binary_closing(image, cur_struct)\n",
    "    next_closing = binary_closing(image, next_struct)\n",
    "    neg_spectre = []\n",
    "    pos_spectre = []\n",
    "    temp_neg = np.logical_and(next_closing, cur_closing == 0)\n",
    "    while binary_erosion(image, cur_struct).any() or temp_neg.any():\n",
    "        temp_pos = np.logical_and(cur_opening, next_opening == 0)\n",
    "        neg_sum = np.sum(temp_neg)\n",
    "        if neg_sum > 0:\n",
    "            neg_spectre.append(neg_sum)\n",
    "        pos_sum = np.sum(temp_pos)\n",
    "        if pos_sum > 0:\n",
    "            pos_spectre.append(pos_sum)\n",
    "        cur_struct = next_struct.copy()\n",
    "        next_struct = expand_binary_struct(cur_struct, struct)\n",
    "        cur_opening = next_opening.copy()\n",
    "        next_opening = binary_opening(image, next_struct)\n",
    "        cur_closing = next_closing.copy()\n",
    "        next_closing = binary_closing(image, next_struct)\n",
    "        temp_neg = np.logical_and(next_closing, cur_closing == 0)\n",
    "    return np.arange(-len(neg_spectre), len(pos_spectre)), list(reversed(neg_spectre)) + pos_spectre"
   ]
  },
  {
   "cell_type": "code",
   "execution_count": 47,
   "metadata": {},
   "outputs": [],
   "source": [
    "def spectre(image, struct):\n",
    "    cur_struct = np.zeros((1,1)) == 0\n",
    "    next_struct = struct.copy()\n",
    "    cur_opening = opening(image, cur_struct)\n",
    "    next_opening = opening(image, next_struct)\n",
    "    cur_closing = closing(image, cur_struct)\n",
    "    next_closing = closing(image, next_struct)\n",
    "    temp_pos = cur_opening - next_opening\n",
    "    temp_neg = next_closing - cur_closing\n",
    "    pos_spectre = []\n",
    "    neg_spectre = []\n",
    "    while temp_pos.any() or temp_neg.any():\n",
    "        pos_sum = np.sum(temp_pos)\n",
    "        if pos_sum > 0:\n",
    "            pos_spectre.append(pos_sum)\n",
    "        neg_sum = np.sum(temp_neg)\n",
    "        if neg_sum > 0:\n",
    "            neg_spectre.append(neg_sum)\n",
    "        cur_struct = next_struct.copy()\n",
    "        next_struct = struct_next_rad(cur_struct, struct)\n",
    "        cur_opening = next_opening.copy()\n",
    "        next_opening = opening(image, next_struct)\n",
    "        temp_pos = cur_opening - next_opening\n",
    "        cur_closing = next_closing.copy()\n",
    "        next_closing = closing(image, next_struct)\n",
    "        temp_neg = next_closing - cur_closing\n",
    "    return np.arange(-len(neg_spectre), len(pos_spectre)), list(reversed(neg_spectre)) + pos_spectre"
   ]
  },
  {
   "cell_type": "code",
   "execution_count": 43,
   "metadata": {},
   "outputs": [
    {
     "name": "stdout",
     "output_type": "stream",
     "text": [
      "Populating the interactive namespace from numpy and matplotlib\n"
     ]
    },
    {
     "name": "stderr",
     "output_type": "stream",
     "text": [
      "/usr/local/lib/python3.5/dist-packages/IPython/core/magics/pylab.py:160: UserWarning: pylab import has clobbered these variables: ['plt']\n",
      "`%matplotlib` prevents importing * from pylab and numpy\n",
      "  \"\\n`%matplotlib` prevents importing * from pylab and numpy\"\n"
     ]
    }
   ],
   "source": [
    "from skimage import data\n",
    "import matplotlib.pylab as plt\n",
    "%pylab inline"
   ]
  },
  {
   "cell_type": "code",
   "execution_count": 44,
   "metadata": {},
   "outputs": [],
   "source": [
    "from skimage.morphology import disk\n",
    "struct = disk(1)"
   ]
  },
  {
   "cell_type": "code",
   "execution_count": 45,
   "metadata": {},
   "outputs": [
    {
     "data": {
      "image/png": "[encoded data removed]",
      "text/plain": [
       "<matplotlib.figure.Figure at 0x7f79a6b174e0>"
      ]
     },
     "metadata": {},
     "output_type": "display_data"
    }
   ],
   "source": [
    "x, y = binary_spectre((data.horse() == 0)[::2, ::2], struct)\n",
    "plt.bar(x, y)\n",
    "plt.show()"
   ]
  },
  {
   "cell_type": "code",
   "execution_count": 48,
   "metadata": {},
   "outputs": [
    {
     "data": {
      "image/png": "[encoded data removed]",
      "text/plain": [
       "<matplotlib.figure.Figure at 0x7f79a6cafb00>"
      ]
     },
     "metadata": {},
     "output_type": "display_data"
    }
   ],
   "source": [
    "x, y = spectre(data.clock()[::8, ::8], struct)\n",
    "plt.bar(x, y)\n",
    "plt.show()"
   ]
  }
 ],
 "metadata": {
  "kernelspec": {
   "display_name": "Python 3",
   "language": "python",
   "name": "python3"
  },
  "language_info": {
   "codemirror_mode": {
    "name": "ipython",
    "version": 3
   },
   "file_extension": ".py",
   "mimetype": "text/x-python",
   "name": "python",
   "nbconvert_exporter": "python",
   "pygments_lexer": "ipython3",
   "version": "3.5.2"
  }
 },
 "nbformat": 4,
 "nbformat_minor": 2
}

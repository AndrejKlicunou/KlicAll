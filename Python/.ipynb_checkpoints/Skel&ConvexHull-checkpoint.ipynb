{
 "cells": [
  {
   "cell_type": "code",
   "execution_count": 1,
   "metadata": {},
   "outputs": [],
   "source": [
    "from skimage.io import imread, imshow, imshow_collection, show\n",
    "import numpy as np\n",
    "import matplotlib.pylab as plt\n",
    "from skimage.morphology import binary_dilation, binary_erosion\n",
    "from skimage import data"
   ]
  },
  {
   "cell_type": "code",
   "execution_count": 2,
   "metadata": {},
   "outputs": [
    {
     "name": "stdout",
     "output_type": "stream",
     "text": [
      "Populating the interactive namespace from numpy and matplotlib\n"
     ]
    },
    {
     "name": "stderr",
     "output_type": "stream",
     "text": [
      "/usr/local/lib/python3.5/dist-packages/IPython/core/magics/pylab.py:160: UserWarning: pylab import has clobbered these variables: ['plt', 'imshow', 'imread', 'show']\n",
      "`%matplotlib` prevents importing * from pylab and numpy\n",
      "  \"\\n`%matplotlib` prevents importing * from pylab and numpy\"\n"
     ]
    }
   ],
   "source": [
    "%pylab inline"
   ]
  },
  {
   "cell_type": "code",
   "execution_count": 3,
   "metadata": {},
   "outputs": [],
   "source": [
    "def generate_structure_ch():\n",
    "    A = []\n",
    "    temp1 = np.array([[1, 1, 1], [0, 0, 1], [0, 0, 0]])\n",
    "    for i in range(4):\n",
    "        A.append(np.rot90(temp1, i))\n",
    "    temp1 = np.array([[1, 1, 1], [1, 0, 0], [0, 0, 0]])\n",
    "    for i in range(4):\n",
    "        A.append(np.rot90(temp1, i))\n",
    "    B = np.zeros((3,3))\n",
    "    B[1,1] = 1\n",
    "    return A, B\n",
    "\n",
    "\n",
    "def generate_structure_sk():\n",
    "    A = []\n",
    "    B = []\n",
    "    tempA = np.array([[1, 1, 1], [0, 1, 0], [0, 0, 0]])\n",
    "    tempB = np.array([[0, 0, 0], [0, 0, 0], [1, 1, 1]])\n",
    "    for i in range(4):\n",
    "        A.append(np.rot90(tempA, i))\n",
    "        B.append(np.rot90(tempB, i))\n",
    "    tempA = np.array([[0, 1, 0], [0, 1, 1], [0, 0, 0]])\n",
    "    tempB = np.array([[0, 0, 0], [1, 0, 0], [1, 1, 0]])\n",
    "    for i in range(4):\n",
    "        A.append(np.rot90(tempA, i))\n",
    "        B.append(np.rot90(tempB, i))\n",
    "    return A, B"
   ]
  },
  {
   "cell_type": "code",
   "execution_count": 4,
   "metadata": {},
   "outputs": [],
   "source": [
    "def magic_operator(image, T):\n",
    "    if np.logical_and(T[0], T[1]).any():\n",
    "        raise ValueError('Wrong structure elements!!!')\n",
    "    temp1 = binary_erosion(image, T[0])\n",
    "    temp2 = binary_erosion(image == 0, T[1])\n",
    "    return np.logical_and(temp1, temp2)\n",
    "\n",
    "\n",
    "def thickening(image, T):\n",
    "    return np.logical_or(image, magic_operator(image, T))\n",
    "\n",
    "\n",
    "def thinning(image, T):\n",
    "    return np.logical_xor(image, magic_operator(image, T))"
   ]
  },
  {
   "cell_type": "code",
   "execution_count": 5,
   "metadata": {},
   "outputs": [],
   "source": [
    "def convex_hull_iter(image):\n",
    "    A, B = generate_structure_ch()\n",
    "    hull = image.copy()\n",
    "    for i in range(len(A)):\n",
    "        hull = thickening(hull, tuple([A[i], B]))\n",
    "    return hull\n",
    "\n",
    "\n",
    "def skeleton_iter(image):\n",
    "    A, B = generate_structure_sk()\n",
    "    skel = image.copy()\n",
    "    for i in range(len(A)):\n",
    "        skel = thinning(skel, tuple([A[i], B[i]]))\n",
    "    return skel"
   ]
  },
  {
   "cell_type": "code",
   "execution_count": 6,
   "metadata": {},
   "outputs": [],
   "source": [
    "def convex_hull(image):\n",
    "    hull_prev = convex_hull_iter(image)\n",
    "    hull_next = convex_hull_iter(hull_prev)\n",
    "    while np.logical_xor(hull_prev, hull_next).any():\n",
    "        hull_prev = hull_next.copy()\n",
    "        hull_next = convex_hull_iter(hull_prev)\n",
    "    return hull_next\n",
    "\n",
    "\n",
    "def skeleton(image):\n",
    "    skel_prev = skeleton_iter(image)\n",
    "    skel_next = skeleton_iter(skel_prev)\n",
    "    while np.logical_xor(skel_prev, skel_next).any():\n",
    "        skel_prev = skel_next.copy()\n",
    "        skel_next = skeleton_iter(skel_prev)\n",
    "    return skel_next"
   ]
  },
  {
   "cell_type": "code",
   "execution_count": 15,
   "metadata": {},
   "outputs": [
    {
     "name": "stderr",
     "output_type": "stream",
     "text": [
      "/usr/local/lib/python3.5/dist-packages/skimage/io/_plugins/matplotlib_plugin.py:74: UserWarning: Low image data range; displaying image with stretched contrast.\n",
      "  warn(\"Low image data range; displaying image with \"\n"
     ]
    },
    {
     "data": {
      "image/png": "[encoded data removed]",
      "text/plain": [
       "<matplotlib.figure.Figure at 0x7f957f86e128>"
      ]
     },
     "metadata": {},
     "output_type": "display_data"
    }
   ],
   "source": [
    "horse = data.horse() == 0\n",
    "imshow_collection([convex_hull(horse), skeleton(horse)])"
   ]
  },
  {
   "cell_type": "code",
   "execution_count": 8,
   "metadata": {},
   "outputs": [],
   "source": [
    "def magic_operator_ch(image, T):\n",
    "    if np.logical_and(T[0], T[1]).any():\n",
    "        raise ValueError('Wrong structure elements!!!')\n",
    "    temp1 = binary_erosion(image, T[0])\n",
    "    return np.logical_and(temp1, image == 0)\n",
    "\n",
    "\n",
    "def thickening_ch(image, T):\n",
    "    return np.logical_or(image, magic_operator_ch(image, T))"
   ]
  },
  {
   "cell_type": "code",
   "execution_count": 9,
   "metadata": {},
   "outputs": [],
   "source": [
    "def convex_hull_fast_iter(image):\n",
    "    A, B = generate_structure_ch()\n",
    "    hull = image.copy()\n",
    "    for i in range(len(A)):\n",
    "        hull = thickening_ch(hull, tuple([A[i], B]))\n",
    "    return hull"
   ]
  },
  {
   "cell_type": "code",
   "execution_count": 10,
   "metadata": {},
   "outputs": [],
   "source": [
    "def convex_hull_fast(image):\n",
    "    hull_prev = convex_hull_fast_iter(image)\n",
    "    hull_next = convex_hull_fast_iter(hull_prev)\n",
    "    while np.logical_xor(hull_prev, hull_next).any():\n",
    "        hull_prev = hull_next.copy()\n",
    "        hull_next = convex_hull_fast_iter(hull_prev)\n",
    "    return hull_next"
   ]
  },
  {
   "cell_type": "code",
   "execution_count": 13,
   "metadata": {},
   "outputs": [
    {
     "name": "stderr",
     "output_type": "stream",
     "text": [
      "/usr/local/lib/python3.5/dist-packages/skimage/io/_plugins/matplotlib_plugin.py:74: UserWarning: Low image data range; displaying image with stretched contrast.\n",
      "  warn(\"Low image data range; displaying image with \"\n"
     ]
    },
    {
     "data": {
      "image/png": "[encoded data removed]",
      "text/plain": [
       "<matplotlib.figure.Figure at 0x7f957f8739e8>"
      ]
     },
     "metadata": {},
     "output_type": "display_data"
    }
   ],
   "source": [
    "imshow_collection([convex_hull_fast(horse), skeleton(horse)])"
   ]
  }
 ],
 "metadata": {
  "kernelspec": {
   "display_name": "Python 3",
   "language": "python",
   "name": "python3"
  },
  "language_info": {
   "codemirror_mode": {
    "name": "ipython",
    "version": 3
   },
   "file_extension": ".py",
   "mimetype": "text/x-python",
   "name": "python",
   "nbconvert_exporter": "python",
   "pygments_lexer": "ipython3",
   "version": "3.5.2"
  }
 },
 "nbformat": 4,
 "nbformat_minor": 2
}
